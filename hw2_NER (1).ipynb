{
  "nbformat": 4,
  "nbformat_minor": 0,
  "metadata": {
    "accelerator": "GPU",
    "colab": {
      "name": "hw2-NER.ipynb",
      "provenance": [],
      "machine_shape": "hm"
    },
    "kernelspec": {
      "display_name": "Python 3",
      "language": "python",
      "name": "python3"
    },
    "language_info": {
      "codemirror_mode": {
        "name": "ipython",
        "version": 3
      },
      "file_extension": ".py",
      "mimetype": "text/x-python",
      "name": "python",
      "nbconvert_exporter": "python",
      "pygments_lexer": "ipython3",
      "version": "3.7.4"
    },
    "widgets": {
      "application/vnd.jupyter.widget-state+json": {
        "bfcb4b381db74c31be0adc89dbd12c9b": {
          "model_module": "@jupyter-widgets/controls",
          "model_name": "HBoxModel",
          "model_module_version": "1.5.0",
          "state": {
            "_view_name": "HBoxView",
            "_dom_classes": [],
            "_model_name": "HBoxModel",
            "_view_module": "@jupyter-widgets/controls",
            "_model_module_version": "1.5.0",
            "_view_count": null,
            "_view_module_version": "1.5.0",
            "box_style": "",
            "layout": "IPY_MODEL_6c9d498af1dc4257a3c7225572cd7c90",
            "_model_module": "@jupyter-widgets/controls",
            "children": [
              "IPY_MODEL_69b6f0b6600e42458d0ed9f3d6b00efb",
              "IPY_MODEL_61a97c26c4c145aabb2adaf096925f6c",
              "IPY_MODEL_42123a10ac1044238e4228e95cbdf4cc"
            ]
          }
        },
        "6c9d498af1dc4257a3c7225572cd7c90": {
          "model_module": "@jupyter-widgets/base",
          "model_name": "LayoutModel",
          "model_module_version": "1.2.0",
          "state": {
            "_view_name": "LayoutView",
            "grid_template_rows": null,
            "right": null,
            "justify_content": null,
            "_view_module": "@jupyter-widgets/base",
            "overflow": null,
            "_model_module_version": "1.2.0",
            "_view_count": null,
            "flex_flow": null,
            "width": null,
            "min_width": null,
            "border": null,
            "align_items": null,
            "bottom": null,
            "_model_module": "@jupyter-widgets/base",
            "top": null,
            "grid_column": null,
            "overflow_y": null,
            "overflow_x": null,
            "grid_auto_flow": null,
            "grid_area": null,
            "grid_template_columns": null,
            "flex": null,
            "_model_name": "LayoutModel",
            "justify_items": null,
            "grid_row": null,
            "max_height": null,
            "align_content": null,
            "visibility": null,
            "align_self": null,
            "height": null,
            "min_height": null,
            "padding": null,
            "grid_auto_rows": null,
            "grid_gap": null,
            "max_width": null,
            "order": null,
            "_view_module_version": "1.2.0",
            "grid_template_areas": null,
            "object_position": null,
            "object_fit": null,
            "grid_auto_columns": null,
            "margin": null,
            "display": null,
            "left": null
          }
        },
        "69b6f0b6600e42458d0ed9f3d6b00efb": {
          "model_module": "@jupyter-widgets/controls",
          "model_name": "HTMLModel",
          "model_module_version": "1.5.0",
          "state": {
            "_view_name": "HTMLView",
            "style": "IPY_MODEL_187f91de3ac74da5b77751fc5f4002bc",
            "_dom_classes": [],
            "description": "",
            "_model_name": "HTMLModel",
            "placeholder": "​",
            "_view_module": "@jupyter-widgets/controls",
            "_model_module_version": "1.5.0",
            "value": "100%",
            "_view_count": null,
            "_view_module_version": "1.5.0",
            "description_tooltip": null,
            "_model_module": "@jupyter-widgets/controls",
            "layout": "IPY_MODEL_f681fa2a552b40398e27fdaf7d3053b3"
          }
        },
        "61a97c26c4c145aabb2adaf096925f6c": {
          "model_module": "@jupyter-widgets/controls",
          "model_name": "FloatProgressModel",
          "model_module_version": "1.5.0",
          "state": {
            "_view_name": "ProgressView",
            "style": "IPY_MODEL_f3e1f6a745aa486eb4bc688415d75d8b",
            "_dom_classes": [],
            "description": "",
            "_model_name": "FloatProgressModel",
            "bar_style": "success",
            "max": 100,
            "_view_module": "@jupyter-widgets/controls",
            "_model_module_version": "1.5.0",
            "value": 100,
            "_view_count": null,
            "_view_module_version": "1.5.0",
            "orientation": "horizontal",
            "min": 0,
            "description_tooltip": null,
            "_model_module": "@jupyter-widgets/controls",
            "layout": "IPY_MODEL_f1071c9e45f5454faaf4985d3b05e277"
          }
        },
        "42123a10ac1044238e4228e95cbdf4cc": {
          "model_module": "@jupyter-widgets/controls",
          "model_name": "HTMLModel",
          "model_module_version": "1.5.0",
          "state": {
            "_view_name": "HTMLView",
            "style": "IPY_MODEL_5319b400e9954810b39b428e855d2967",
            "_dom_classes": [],
            "description": "",
            "_model_name": "HTMLModel",
            "placeholder": "​",
            "_view_module": "@jupyter-widgets/controls",
            "_model_module_version": "1.5.0",
            "value": " 100/100 [00:01&lt;00:00, 78.42it/s]",
            "_view_count": null,
            "_view_module_version": "1.5.0",
            "description_tooltip": null,
            "_model_module": "@jupyter-widgets/controls",
            "layout": "IPY_MODEL_1f9daaeef758485db41f3ed9cdca6d0c"
          }
        },
        "187f91de3ac74da5b77751fc5f4002bc": {
          "model_module": "@jupyter-widgets/controls",
          "model_name": "DescriptionStyleModel",
          "model_module_version": "1.5.0",
          "state": {
            "_view_name": "StyleView",
            "_model_name": "DescriptionStyleModel",
            "description_width": "",
            "_view_module": "@jupyter-widgets/base",
            "_model_module_version": "1.5.0",
            "_view_count": null,
            "_view_module_version": "1.2.0",
            "_model_module": "@jupyter-widgets/controls"
          }
        },
        "f681fa2a552b40398e27fdaf7d3053b3": {
          "model_module": "@jupyter-widgets/base",
          "model_name": "LayoutModel",
          "model_module_version": "1.2.0",
          "state": {
            "_view_name": "LayoutView",
            "grid_template_rows": null,
            "right": null,
            "justify_content": null,
            "_view_module": "@jupyter-widgets/base",
            "overflow": null,
            "_model_module_version": "1.2.0",
            "_view_count": null,
            "flex_flow": null,
            "width": null,
            "min_width": null,
            "border": null,
            "align_items": null,
            "bottom": null,
            "_model_module": "@jupyter-widgets/base",
            "top": null,
            "grid_column": null,
            "overflow_y": null,
            "overflow_x": null,
            "grid_auto_flow": null,
            "grid_area": null,
            "grid_template_columns": null,
            "flex": null,
            "_model_name": "LayoutModel",
            "justify_items": null,
            "grid_row": null,
            "max_height": null,
            "align_content": null,
            "visibility": null,
            "align_self": null,
            "height": null,
            "min_height": null,
            "padding": null,
            "grid_auto_rows": null,
            "grid_gap": null,
            "max_width": null,
            "order": null,
            "_view_module_version": "1.2.0",
            "grid_template_areas": null,
            "object_position": null,
            "object_fit": null,
            "grid_auto_columns": null,
            "margin": null,
            "display": null,
            "left": null
          }
        },
        "f3e1f6a745aa486eb4bc688415d75d8b": {
          "model_module": "@jupyter-widgets/controls",
          "model_name": "ProgressStyleModel",
          "model_module_version": "1.5.0",
          "state": {
            "_view_name": "StyleView",
            "_model_name": "ProgressStyleModel",
            "description_width": "",
            "_view_module": "@jupyter-widgets/base",
            "_model_module_version": "1.5.0",
            "_view_count": null,
            "_view_module_version": "1.2.0",
            "bar_color": null,
            "_model_module": "@jupyter-widgets/controls"
          }
        },
        "f1071c9e45f5454faaf4985d3b05e277": {
          "model_module": "@jupyter-widgets/base",
          "model_name": "LayoutModel",
          "model_module_version": "1.2.0",
          "state": {
            "_view_name": "LayoutView",
            "grid_template_rows": null,
            "right": null,
            "justify_content": null,
            "_view_module": "@jupyter-widgets/base",
            "overflow": null,
            "_model_module_version": "1.2.0",
            "_view_count": null,
            "flex_flow": null,
            "width": null,
            "min_width": null,
            "border": null,
            "align_items": null,
            "bottom": null,
            "_model_module": "@jupyter-widgets/base",
            "top": null,
            "grid_column": null,
            "overflow_y": null,
            "overflow_x": null,
            "grid_auto_flow": null,
            "grid_area": null,
            "grid_template_columns": null,
            "flex": null,
            "_model_name": "LayoutModel",
            "justify_items": null,
            "grid_row": null,
            "max_height": null,
            "align_content": null,
            "visibility": null,
            "align_self": null,
            "height": null,
            "min_height": null,
            "padding": null,
            "grid_auto_rows": null,
            "grid_gap": null,
            "max_width": null,
            "order": null,
            "_view_module_version": "1.2.0",
            "grid_template_areas": null,
            "object_position": null,
            "object_fit": null,
            "grid_auto_columns": null,
            "margin": null,
            "display": null,
            "left": null
          }
        },
        "5319b400e9954810b39b428e855d2967": {
          "model_module": "@jupyter-widgets/controls",
          "model_name": "DescriptionStyleModel",
          "model_module_version": "1.5.0",
          "state": {
            "_view_name": "StyleView",
            "_model_name": "DescriptionStyleModel",
            "description_width": "",
            "_view_module": "@jupyter-widgets/base",
            "_model_module_version": "1.5.0",
            "_view_count": null,
            "_view_module_version": "1.2.0",
            "_model_module": "@jupyter-widgets/controls"
          }
        },
        "1f9daaeef758485db41f3ed9cdca6d0c": {
          "model_module": "@jupyter-widgets/base",
          "model_name": "LayoutModel",
          "model_module_version": "1.2.0",
          "state": {
            "_view_name": "LayoutView",
            "grid_template_rows": null,
            "right": null,
            "justify_content": null,
            "_view_module": "@jupyter-widgets/base",
            "overflow": null,
            "_model_module_version": "1.2.0",
            "_view_count": null,
            "flex_flow": null,
            "width": null,
            "min_width": null,
            "border": null,
            "align_items": null,
            "bottom": null,
            "_model_module": "@jupyter-widgets/base",
            "top": null,
            "grid_column": null,
            "overflow_y": null,
            "overflow_x": null,
            "grid_auto_flow": null,
            "grid_area": null,
            "grid_template_columns": null,
            "flex": null,
            "_model_name": "LayoutModel",
            "justify_items": null,
            "grid_row": null,
            "max_height": null,
            "align_content": null,
            "visibility": null,
            "align_self": null,
            "height": null,
            "min_height": null,
            "padding": null,
            "grid_auto_rows": null,
            "grid_gap": null,
            "max_width": null,
            "order": null,
            "_view_module_version": "1.2.0",
            "grid_template_areas": null,
            "object_position": null,
            "object_fit": null,
            "grid_auto_columns": null,
            "margin": null,
            "display": null,
            "left": null
          }
        },
        "8e4780732fa841f1a38c6d48b1f38122": {
          "model_module": "@jupyter-widgets/controls",
          "model_name": "HBoxModel",
          "model_module_version": "1.5.0",
          "state": {
            "_view_name": "HBoxView",
            "_dom_classes": [],
            "_model_name": "HBoxModel",
            "_view_module": "@jupyter-widgets/controls",
            "_model_module_version": "1.5.0",
            "_view_count": null,
            "_view_module_version": "1.5.0",
            "box_style": "",
            "layout": "IPY_MODEL_594f55df9719400a95d6661ba65bdd45",
            "_model_module": "@jupyter-widgets/controls",
            "children": [
              "IPY_MODEL_8a36f4c5ec8d4b90897be22aa5985a64",
              "IPY_MODEL_d9f06fc798f548d98b939011c9fe81f0",
              "IPY_MODEL_a40b2510deba48ffb9742536ba025f41"
            ]
          }
        },
        "594f55df9719400a95d6661ba65bdd45": {
          "model_module": "@jupyter-widgets/base",
          "model_name": "LayoutModel",
          "model_module_version": "1.2.0",
          "state": {
            "_view_name": "LayoutView",
            "grid_template_rows": null,
            "right": null,
            "justify_content": null,
            "_view_module": "@jupyter-widgets/base",
            "overflow": null,
            "_model_module_version": "1.2.0",
            "_view_count": null,
            "flex_flow": null,
            "width": null,
            "min_width": null,
            "border": null,
            "align_items": null,
            "bottom": null,
            "_model_module": "@jupyter-widgets/base",
            "top": null,
            "grid_column": null,
            "overflow_y": null,
            "overflow_x": null,
            "grid_auto_flow": null,
            "grid_area": null,
            "grid_template_columns": null,
            "flex": null,
            "_model_name": "LayoutModel",
            "justify_items": null,
            "grid_row": null,
            "max_height": null,
            "align_content": null,
            "visibility": null,
            "align_self": null,
            "height": null,
            "min_height": null,
            "padding": null,
            "grid_auto_rows": null,
            "grid_gap": null,
            "max_width": null,
            "order": null,
            "_view_module_version": "1.2.0",
            "grid_template_areas": null,
            "object_position": null,
            "object_fit": null,
            "grid_auto_columns": null,
            "margin": null,
            "display": null,
            "left": null
          }
        },
        "8a36f4c5ec8d4b90897be22aa5985a64": {
          "model_module": "@jupyter-widgets/controls",
          "model_name": "HTMLModel",
          "model_module_version": "1.5.0",
          "state": {
            "_view_name": "HTMLView",
            "style": "IPY_MODEL_b5d8969e7d654cd593732154e5ef96a5",
            "_dom_classes": [],
            "description": "",
            "_model_name": "HTMLModel",
            "placeholder": "​",
            "_view_module": "@jupyter-widgets/controls",
            "_model_module_version": "1.5.0",
            "value": "100%",
            "_view_count": null,
            "_view_module_version": "1.5.0",
            "description_tooltip": null,
            "_model_module": "@jupyter-widgets/controls",
            "layout": "IPY_MODEL_abeb67ece75244f0a249361a81bd2aa2"
          }
        },
        "d9f06fc798f548d98b939011c9fe81f0": {
          "model_module": "@jupyter-widgets/controls",
          "model_name": "FloatProgressModel",
          "model_module_version": "1.5.0",
          "state": {
            "_view_name": "ProgressView",
            "style": "IPY_MODEL_302a280182144016881f5c809b40c7ea",
            "_dom_classes": [],
            "description": "",
            "_model_name": "FloatProgressModel",
            "bar_style": "success",
            "max": 100,
            "_view_module": "@jupyter-widgets/controls",
            "_model_module_version": "1.5.0",
            "value": 100,
            "_view_count": null,
            "_view_module_version": "1.5.0",
            "orientation": "horizontal",
            "min": 0,
            "description_tooltip": null,
            "_model_module": "@jupyter-widgets/controls",
            "layout": "IPY_MODEL_c42722b1dd17405a8085f56a753261ee"
          }
        },
        "a40b2510deba48ffb9742536ba025f41": {
          "model_module": "@jupyter-widgets/controls",
          "model_name": "HTMLModel",
          "model_module_version": "1.5.0",
          "state": {
            "_view_name": "HTMLView",
            "style": "IPY_MODEL_e6a6e433713b49de87644ad15976e30a",
            "_dom_classes": [],
            "description": "",
            "_model_name": "HTMLModel",
            "placeholder": "​",
            "_view_module": "@jupyter-widgets/controls",
            "_model_module_version": "1.5.0",
            "value": " 100/100 [00:00&lt;00:00, 127.90it/s]",
            "_view_count": null,
            "_view_module_version": "1.5.0",
            "description_tooltip": null,
            "_model_module": "@jupyter-widgets/controls",
            "layout": "IPY_MODEL_de5cbd1b7e554d09a54828918fa647e3"
          }
        },
        "b5d8969e7d654cd593732154e5ef96a5": {
          "model_module": "@jupyter-widgets/controls",
          "model_name": "DescriptionStyleModel",
          "model_module_version": "1.5.0",
          "state": {
            "_view_name": "StyleView",
            "_model_name": "DescriptionStyleModel",
            "description_width": "",
            "_view_module": "@jupyter-widgets/base",
            "_model_module_version": "1.5.0",
            "_view_count": null,
            "_view_module_version": "1.2.0",
            "_model_module": "@jupyter-widgets/controls"
          }
        },
        "abeb67ece75244f0a249361a81bd2aa2": {
          "model_module": "@jupyter-widgets/base",
          "model_name": "LayoutModel",
          "model_module_version": "1.2.0",
          "state": {
            "_view_name": "LayoutView",
            "grid_template_rows": null,
            "right": null,
            "justify_content": null,
            "_view_module": "@jupyter-widgets/base",
            "overflow": null,
            "_model_module_version": "1.2.0",
            "_view_count": null,
            "flex_flow": null,
            "width": null,
            "min_width": null,
            "border": null,
            "align_items": null,
            "bottom": null,
            "_model_module": "@jupyter-widgets/base",
            "top": null,
            "grid_column": null,
            "overflow_y": null,
            "overflow_x": null,
            "grid_auto_flow": null,
            "grid_area": null,
            "grid_template_columns": null,
            "flex": null,
            "_model_name": "LayoutModel",
            "justify_items": null,
            "grid_row": null,
            "max_height": null,
            "align_content": null,
            "visibility": null,
            "align_self": null,
            "height": null,
            "min_height": null,
            "padding": null,
            "grid_auto_rows": null,
            "grid_gap": null,
            "max_width": null,
            "order": null,
            "_view_module_version": "1.2.0",
            "grid_template_areas": null,
            "object_position": null,
            "object_fit": null,
            "grid_auto_columns": null,
            "margin": null,
            "display": null,
            "left": null
          }
        },
        "302a280182144016881f5c809b40c7ea": {
          "model_module": "@jupyter-widgets/controls",
          "model_name": "ProgressStyleModel",
          "model_module_version": "1.5.0",
          "state": {
            "_view_name": "StyleView",
            "_model_name": "ProgressStyleModel",
            "description_width": "",
            "_view_module": "@jupyter-widgets/base",
            "_model_module_version": "1.5.0",
            "_view_count": null,
            "_view_module_version": "1.2.0",
            "bar_color": null,
            "_model_module": "@jupyter-widgets/controls"
          }
        },
        "c42722b1dd17405a8085f56a753261ee": {
          "model_module": "@jupyter-widgets/base",
          "model_name": "LayoutModel",
          "model_module_version": "1.2.0",
          "state": {
            "_view_name": "LayoutView",
            "grid_template_rows": null,
            "right": null,
            "justify_content": null,
            "_view_module": "@jupyter-widgets/base",
            "overflow": null,
            "_model_module_version": "1.2.0",
            "_view_count": null,
            "flex_flow": null,
            "width": null,
            "min_width": null,
            "border": null,
            "align_items": null,
            "bottom": null,
            "_model_module": "@jupyter-widgets/base",
            "top": null,
            "grid_column": null,
            "overflow_y": null,
            "overflow_x": null,
            "grid_auto_flow": null,
            "grid_area": null,
            "grid_template_columns": null,
            "flex": null,
            "_model_name": "LayoutModel",
            "justify_items": null,
            "grid_row": null,
            "max_height": null,
            "align_content": null,
            "visibility": null,
            "align_self": null,
            "height": null,
            "min_height": null,
            "padding": null,
            "grid_auto_rows": null,
            "grid_gap": null,
            "max_width": null,
            "order": null,
            "_view_module_version": "1.2.0",
            "grid_template_areas": null,
            "object_position": null,
            "object_fit": null,
            "grid_auto_columns": null,
            "margin": null,
            "display": null,
            "left": null
          }
        },
        "e6a6e433713b49de87644ad15976e30a": {
          "model_module": "@jupyter-widgets/controls",
          "model_name": "DescriptionStyleModel",
          "model_module_version": "1.5.0",
          "state": {
            "_view_name": "StyleView",
            "_model_name": "DescriptionStyleModel",
            "description_width": "",
            "_view_module": "@jupyter-widgets/base",
            "_model_module_version": "1.5.0",
            "_view_count": null,
            "_view_module_version": "1.2.0",
            "_model_module": "@jupyter-widgets/controls"
          }
        },
        "de5cbd1b7e554d09a54828918fa647e3": {
          "model_module": "@jupyter-widgets/base",
          "model_name": "LayoutModel",
          "model_module_version": "1.2.0",
          "state": {
            "_view_name": "LayoutView",
            "grid_template_rows": null,
            "right": null,
            "justify_content": null,
            "_view_module": "@jupyter-widgets/base",
            "overflow": null,
            "_model_module_version": "1.2.0",
            "_view_count": null,
            "flex_flow": null,
            "width": null,
            "min_width": null,
            "border": null,
            "align_items": null,
            "bottom": null,
            "_model_module": "@jupyter-widgets/base",
            "top": null,
            "grid_column": null,
            "overflow_y": null,
            "overflow_x": null,
            "grid_auto_flow": null,
            "grid_area": null,
            "grid_template_columns": null,
            "flex": null,
            "_model_name": "LayoutModel",
            "justify_items": null,
            "grid_row": null,
            "max_height": null,
            "align_content": null,
            "visibility": null,
            "align_self": null,
            "height": null,
            "min_height": null,
            "padding": null,
            "grid_auto_rows": null,
            "grid_gap": null,
            "max_width": null,
            "order": null,
            "_view_module_version": "1.2.0",
            "grid_template_areas": null,
            "object_position": null,
            "object_fit": null,
            "grid_auto_columns": null,
            "margin": null,
            "display": null,
            "left": null
          }
        },
        "db74cf341c56464fadf216c96bf88730": {
          "model_module": "@jupyter-widgets/controls",
          "model_name": "HBoxModel",
          "model_module_version": "1.5.0",
          "state": {
            "_view_name": "HBoxView",
            "_dom_classes": [],
            "_model_name": "HBoxModel",
            "_view_module": "@jupyter-widgets/controls",
            "_model_module_version": "1.5.0",
            "_view_count": null,
            "_view_module_version": "1.5.0",
            "box_style": "",
            "layout": "IPY_MODEL_f2994d3bb3514f45856153f768de6318",
            "_model_module": "@jupyter-widgets/controls",
            "children": [
              "IPY_MODEL_a436935ab4db4dd687b0538d40d312e6",
              "IPY_MODEL_c3e9d28f92024e49b3a97355b178d705",
              "IPY_MODEL_66be9c28360342a7a7a064144870c6ba"
            ]
          }
        },
        "f2994d3bb3514f45856153f768de6318": {
          "model_module": "@jupyter-widgets/base",
          "model_name": "LayoutModel",
          "model_module_version": "1.2.0",
          "state": {
            "_view_name": "LayoutView",
            "grid_template_rows": null,
            "right": null,
            "justify_content": null,
            "_view_module": "@jupyter-widgets/base",
            "overflow": null,
            "_model_module_version": "1.2.0",
            "_view_count": null,
            "flex_flow": null,
            "width": null,
            "min_width": null,
            "border": null,
            "align_items": null,
            "bottom": null,
            "_model_module": "@jupyter-widgets/base",
            "top": null,
            "grid_column": null,
            "overflow_y": null,
            "overflow_x": null,
            "grid_auto_flow": null,
            "grid_area": null,
            "grid_template_columns": null,
            "flex": null,
            "_model_name": "LayoutModel",
            "justify_items": null,
            "grid_row": null,
            "max_height": null,
            "align_content": null,
            "visibility": null,
            "align_self": null,
            "height": null,
            "min_height": null,
            "padding": null,
            "grid_auto_rows": null,
            "grid_gap": null,
            "max_width": null,
            "order": null,
            "_view_module_version": "1.2.0",
            "grid_template_areas": null,
            "object_position": null,
            "object_fit": null,
            "grid_auto_columns": null,
            "margin": null,
            "display": null,
            "left": null
          }
        },
        "a436935ab4db4dd687b0538d40d312e6": {
          "model_module": "@jupyter-widgets/controls",
          "model_name": "HTMLModel",
          "model_module_version": "1.5.0",
          "state": {
            "_view_name": "HTMLView",
            "style": "IPY_MODEL_6c465c33f1a94c79adb04b13e8918354",
            "_dom_classes": [],
            "description": "",
            "_model_name": "HTMLModel",
            "placeholder": "​",
            "_view_module": "@jupyter-widgets/controls",
            "_model_module_version": "1.5.0",
            "value": "100%",
            "_view_count": null,
            "_view_module_version": "1.5.0",
            "description_tooltip": null,
            "_model_module": "@jupyter-widgets/controls",
            "layout": "IPY_MODEL_947a07abc00d4b99bc7d14f213c89cfd"
          }
        },
        "c3e9d28f92024e49b3a97355b178d705": {
          "model_module": "@jupyter-widgets/controls",
          "model_name": "FloatProgressModel",
          "model_module_version": "1.5.0",
          "state": {
            "_view_name": "ProgressView",
            "style": "IPY_MODEL_6f3c05d97a944d78b969a5e746ab9306",
            "_dom_classes": [],
            "description": "",
            "_model_name": "FloatProgressModel",
            "bar_style": "success",
            "max": 80,
            "_view_module": "@jupyter-widgets/controls",
            "_model_module_version": "1.5.0",
            "value": 80,
            "_view_count": null,
            "_view_module_version": "1.5.0",
            "orientation": "horizontal",
            "min": 0,
            "description_tooltip": null,
            "_model_module": "@jupyter-widgets/controls",
            "layout": "IPY_MODEL_8573c45f219e4d60855a81c04f6e6b8d"
          }
        },
        "66be9c28360342a7a7a064144870c6ba": {
          "model_module": "@jupyter-widgets/controls",
          "model_name": "HTMLModel",
          "model_module_version": "1.5.0",
          "state": {
            "_view_name": "HTMLView",
            "style": "IPY_MODEL_bdd6b96335564a16b3e6196a0f04ed9d",
            "_dom_classes": [],
            "description": "",
            "_model_name": "HTMLModel",
            "placeholder": "​",
            "_view_module": "@jupyter-widgets/controls",
            "_model_module_version": "1.5.0",
            "value": " 80/80 [00:00&lt;00:00, 264.32it/s]",
            "_view_count": null,
            "_view_module_version": "1.5.0",
            "description_tooltip": null,
            "_model_module": "@jupyter-widgets/controls",
            "layout": "IPY_MODEL_68492e40577b4e23ad0f4cd96ce2865b"
          }
        },
        "6c465c33f1a94c79adb04b13e8918354": {
          "model_module": "@jupyter-widgets/controls",
          "model_name": "DescriptionStyleModel",
          "model_module_version": "1.5.0",
          "state": {
            "_view_name": "StyleView",
            "_model_name": "DescriptionStyleModel",
            "description_width": "",
            "_view_module": "@jupyter-widgets/base",
            "_model_module_version": "1.5.0",
            "_view_count": null,
            "_view_module_version": "1.2.0",
            "_model_module": "@jupyter-widgets/controls"
          }
        },
        "947a07abc00d4b99bc7d14f213c89cfd": {
          "model_module": "@jupyter-widgets/base",
          "model_name": "LayoutModel",
          "model_module_version": "1.2.0",
          "state": {
            "_view_name": "LayoutView",
            "grid_template_rows": null,
            "right": null,
            "justify_content": null,
            "_view_module": "@jupyter-widgets/base",
            "overflow": null,
            "_model_module_version": "1.2.0",
            "_view_count": null,
            "flex_flow": null,
            "width": null,
            "min_width": null,
            "border": null,
            "align_items": null,
            "bottom": null,
            "_model_module": "@jupyter-widgets/base",
            "top": null,
            "grid_column": null,
            "overflow_y": null,
            "overflow_x": null,
            "grid_auto_flow": null,
            "grid_area": null,
            "grid_template_columns": null,
            "flex": null,
            "_model_name": "LayoutModel",
            "justify_items": null,
            "grid_row": null,
            "max_height": null,
            "align_content": null,
            "visibility": null,
            "align_self": null,
            "height": null,
            "min_height": null,
            "padding": null,
            "grid_auto_rows": null,
            "grid_gap": null,
            "max_width": null,
            "order": null,
            "_view_module_version": "1.2.0",
            "grid_template_areas": null,
            "object_position": null,
            "object_fit": null,
            "grid_auto_columns": null,
            "margin": null,
            "display": null,
            "left": null
          }
        },
        "6f3c05d97a944d78b969a5e746ab9306": {
          "model_module": "@jupyter-widgets/controls",
          "model_name": "ProgressStyleModel",
          "model_module_version": "1.5.0",
          "state": {
            "_view_name": "StyleView",
            "_model_name": "ProgressStyleModel",
            "description_width": "",
            "_view_module": "@jupyter-widgets/base",
            "_model_module_version": "1.5.0",
            "_view_count": null,
            "_view_module_version": "1.2.0",
            "bar_color": null,
            "_model_module": "@jupyter-widgets/controls"
          }
        },
        "8573c45f219e4d60855a81c04f6e6b8d": {
          "model_module": "@jupyter-widgets/base",
          "model_name": "LayoutModel",
          "model_module_version": "1.2.0",
          "state": {
            "_view_name": "LayoutView",
            "grid_template_rows": null,
            "right": null,
            "justify_content": null,
            "_view_module": "@jupyter-widgets/base",
            "overflow": null,
            "_model_module_version": "1.2.0",
            "_view_count": null,
            "flex_flow": null,
            "width": null,
            "min_width": null,
            "border": null,
            "align_items": null,
            "bottom": null,
            "_model_module": "@jupyter-widgets/base",
            "top": null,
            "grid_column": null,
            "overflow_y": null,
            "overflow_x": null,
            "grid_auto_flow": null,
            "grid_area": null,
            "grid_template_columns": null,
            "flex": null,
            "_model_name": "LayoutModel",
            "justify_items": null,
            "grid_row": null,
            "max_height": null,
            "align_content": null,
            "visibility": null,
            "align_self": null,
            "height": null,
            "min_height": null,
            "padding": null,
            "grid_auto_rows": null,
            "grid_gap": null,
            "max_width": null,
            "order": null,
            "_view_module_version": "1.2.0",
            "grid_template_areas": null,
            "object_position": null,
            "object_fit": null,
            "grid_auto_columns": null,
            "margin": null,
            "display": null,
            "left": null
          }
        },
        "bdd6b96335564a16b3e6196a0f04ed9d": {
          "model_module": "@jupyter-widgets/controls",
          "model_name": "DescriptionStyleModel",
          "model_module_version": "1.5.0",
          "state": {
            "_view_name": "StyleView",
            "_model_name": "DescriptionStyleModel",
            "description_width": "",
            "_view_module": "@jupyter-widgets/base",
            "_model_module_version": "1.5.0",
            "_view_count": null,
            "_view_module_version": "1.2.0",
            "_model_module": "@jupyter-widgets/controls"
          }
        },
        "68492e40577b4e23ad0f4cd96ce2865b": {
          "model_module": "@jupyter-widgets/base",
          "model_name": "LayoutModel",
          "model_module_version": "1.2.0",
          "state": {
            "_view_name": "LayoutView",
            "grid_template_rows": null,
            "right": null,
            "justify_content": null,
            "_view_module": "@jupyter-widgets/base",
            "overflow": null,
            "_model_module_version": "1.2.0",
            "_view_count": null,
            "flex_flow": null,
            "width": null,
            "min_width": null,
            "border": null,
            "align_items": null,
            "bottom": null,
            "_model_module": "@jupyter-widgets/base",
            "top": null,
            "grid_column": null,
            "overflow_y": null,
            "overflow_x": null,
            "grid_auto_flow": null,
            "grid_area": null,
            "grid_template_columns": null,
            "flex": null,
            "_model_name": "LayoutModel",
            "justify_items": null,
            "grid_row": null,
            "max_height": null,
            "align_content": null,
            "visibility": null,
            "align_self": null,
            "height": null,
            "min_height": null,
            "padding": null,
            "grid_auto_rows": null,
            "grid_gap": null,
            "max_width": null,
            "order": null,
            "_view_module_version": "1.2.0",
            "grid_template_areas": null,
            "object_position": null,
            "object_fit": null,
            "grid_auto_columns": null,
            "margin": null,
            "display": null,
            "left": null
          }
        },
        "4bb3eaee18f443559be3b3b218584456": {
          "model_module": "@jupyter-widgets/controls",
          "model_name": "HBoxModel",
          "model_module_version": "1.5.0",
          "state": {
            "_view_name": "HBoxView",
            "_dom_classes": [],
            "_model_name": "HBoxModel",
            "_view_module": "@jupyter-widgets/controls",
            "_model_module_version": "1.5.0",
            "_view_count": null,
            "_view_module_version": "1.5.0",
            "box_style": "",
            "layout": "IPY_MODEL_13f0aaa9b1e24f2a8e5886f937f757bc",
            "_model_module": "@jupyter-widgets/controls",
            "children": [
              "IPY_MODEL_3b8e0f8c0cca4b21a17ae4987ef2def9",
              "IPY_MODEL_59863a5a34c7418d81e9296e6993a597",
              "IPY_MODEL_c6eb59fa01494261a0964f705321b044"
            ]
          }
        },
        "13f0aaa9b1e24f2a8e5886f937f757bc": {
          "model_module": "@jupyter-widgets/base",
          "model_name": "LayoutModel",
          "model_module_version": "1.2.0",
          "state": {
            "_view_name": "LayoutView",
            "grid_template_rows": null,
            "right": null,
            "justify_content": null,
            "_view_module": "@jupyter-widgets/base",
            "overflow": null,
            "_model_module_version": "1.2.0",
            "_view_count": null,
            "flex_flow": null,
            "width": null,
            "min_width": null,
            "border": null,
            "align_items": null,
            "bottom": null,
            "_model_module": "@jupyter-widgets/base",
            "top": null,
            "grid_column": null,
            "overflow_y": null,
            "overflow_x": null,
            "grid_auto_flow": null,
            "grid_area": null,
            "grid_template_columns": null,
            "flex": null,
            "_model_name": "LayoutModel",
            "justify_items": null,
            "grid_row": null,
            "max_height": null,
            "align_content": null,
            "visibility": null,
            "align_self": null,
            "height": null,
            "min_height": null,
            "padding": null,
            "grid_auto_rows": null,
            "grid_gap": null,
            "max_width": null,
            "order": null,
            "_view_module_version": "1.2.0",
            "grid_template_areas": null,
            "object_position": null,
            "object_fit": null,
            "grid_auto_columns": null,
            "margin": null,
            "display": null,
            "left": null
          }
        },
        "3b8e0f8c0cca4b21a17ae4987ef2def9": {
          "model_module": "@jupyter-widgets/controls",
          "model_name": "HTMLModel",
          "model_module_version": "1.5.0",
          "state": {
            "_view_name": "HTMLView",
            "style": "IPY_MODEL_e1df4e4ecf7145b9871b532b9153ecc6",
            "_dom_classes": [],
            "description": "",
            "_model_name": "HTMLModel",
            "placeholder": "​",
            "_view_module": "@jupyter-widgets/controls",
            "_model_module_version": "1.5.0",
            "value": "100%",
            "_view_count": null,
            "_view_module_version": "1.5.0",
            "description_tooltip": null,
            "_model_module": "@jupyter-widgets/controls",
            "layout": "IPY_MODEL_51e734596928436e84b063883d1d65f8"
          }
        },
        "59863a5a34c7418d81e9296e6993a597": {
          "model_module": "@jupyter-widgets/controls",
          "model_name": "FloatProgressModel",
          "model_module_version": "1.5.0",
          "state": {
            "_view_name": "ProgressView",
            "style": "IPY_MODEL_e27bf8244f0c42dcacdf9f3a3d6a1d13",
            "_dom_classes": [],
            "description": "",
            "_model_name": "FloatProgressModel",
            "bar_style": "success",
            "max": 10,
            "_view_module": "@jupyter-widgets/controls",
            "_model_module_version": "1.5.0",
            "value": 10,
            "_view_count": null,
            "_view_module_version": "1.5.0",
            "orientation": "horizontal",
            "min": 0,
            "description_tooltip": null,
            "_model_module": "@jupyter-widgets/controls",
            "layout": "IPY_MODEL_b8fa03b42a0f47d4b7b77ec9d462b117"
          }
        },
        "c6eb59fa01494261a0964f705321b044": {
          "model_module": "@jupyter-widgets/controls",
          "model_name": "HTMLModel",
          "model_module_version": "1.5.0",
          "state": {
            "_view_name": "HTMLView",
            "style": "IPY_MODEL_045c12eb3d6c48c5bb09ed1a1963730e",
            "_dom_classes": [],
            "description": "",
            "_model_name": "HTMLModel",
            "placeholder": "​",
            "_view_module": "@jupyter-widgets/controls",
            "_model_module_version": "1.5.0",
            "value": " 10/10 [00:00&lt;00:00, 136.37it/s]",
            "_view_count": null,
            "_view_module_version": "1.5.0",
            "description_tooltip": null,
            "_model_module": "@jupyter-widgets/controls",
            "layout": "IPY_MODEL_07105e3e35794fbd9715e29071e45bea"
          }
        },
        "e1df4e4ecf7145b9871b532b9153ecc6": {
          "model_module": "@jupyter-widgets/controls",
          "model_name": "DescriptionStyleModel",
          "model_module_version": "1.5.0",
          "state": {
            "_view_name": "StyleView",
            "_model_name": "DescriptionStyleModel",
            "description_width": "",
            "_view_module": "@jupyter-widgets/base",
            "_model_module_version": "1.5.0",
            "_view_count": null,
            "_view_module_version": "1.2.0",
            "_model_module": "@jupyter-widgets/controls"
          }
        },
        "51e734596928436e84b063883d1d65f8": {
          "model_module": "@jupyter-widgets/base",
          "model_name": "LayoutModel",
          "model_module_version": "1.2.0",
          "state": {
            "_view_name": "LayoutView",
            "grid_template_rows": null,
            "right": null,
            "justify_content": null,
            "_view_module": "@jupyter-widgets/base",
            "overflow": null,
            "_model_module_version": "1.2.0",
            "_view_count": null,
            "flex_flow": null,
            "width": null,
            "min_width": null,
            "border": null,
            "align_items": null,
            "bottom": null,
            "_model_module": "@jupyter-widgets/base",
            "top": null,
            "grid_column": null,
            "overflow_y": null,
            "overflow_x": null,
            "grid_auto_flow": null,
            "grid_area": null,
            "grid_template_columns": null,
            "flex": null,
            "_model_name": "LayoutModel",
            "justify_items": null,
            "grid_row": null,
            "max_height": null,
            "align_content": null,
            "visibility": null,
            "align_self": null,
            "height": null,
            "min_height": null,
            "padding": null,
            "grid_auto_rows": null,
            "grid_gap": null,
            "max_width": null,
            "order": null,
            "_view_module_version": "1.2.0",
            "grid_template_areas": null,
            "object_position": null,
            "object_fit": null,
            "grid_auto_columns": null,
            "margin": null,
            "display": null,
            "left": null
          }
        },
        "e27bf8244f0c42dcacdf9f3a3d6a1d13": {
          "model_module": "@jupyter-widgets/controls",
          "model_name": "ProgressStyleModel",
          "model_module_version": "1.5.0",
          "state": {
            "_view_name": "StyleView",
            "_model_name": "ProgressStyleModel",
            "description_width": "",
            "_view_module": "@jupyter-widgets/base",
            "_model_module_version": "1.5.0",
            "_view_count": null,
            "_view_module_version": "1.2.0",
            "bar_color": null,
            "_model_module": "@jupyter-widgets/controls"
          }
        },
        "b8fa03b42a0f47d4b7b77ec9d462b117": {
          "model_module": "@jupyter-widgets/base",
          "model_name": "LayoutModel",
          "model_module_version": "1.2.0",
          "state": {
            "_view_name": "LayoutView",
            "grid_template_rows": null,
            "right": null,
            "justify_content": null,
            "_view_module": "@jupyter-widgets/base",
            "overflow": null,
            "_model_module_version": "1.2.0",
            "_view_count": null,
            "flex_flow": null,
            "width": null,
            "min_width": null,
            "border": null,
            "align_items": null,
            "bottom": null,
            "_model_module": "@jupyter-widgets/base",
            "top": null,
            "grid_column": null,
            "overflow_y": null,
            "overflow_x": null,
            "grid_auto_flow": null,
            "grid_area": null,
            "grid_template_columns": null,
            "flex": null,
            "_model_name": "LayoutModel",
            "justify_items": null,
            "grid_row": null,
            "max_height": null,
            "align_content": null,
            "visibility": null,
            "align_self": null,
            "height": null,
            "min_height": null,
            "padding": null,
            "grid_auto_rows": null,
            "grid_gap": null,
            "max_width": null,
            "order": null,
            "_view_module_version": "1.2.0",
            "grid_template_areas": null,
            "object_position": null,
            "object_fit": null,
            "grid_auto_columns": null,
            "margin": null,
            "display": null,
            "left": null
          }
        },
        "045c12eb3d6c48c5bb09ed1a1963730e": {
          "model_module": "@jupyter-widgets/controls",
          "model_name": "DescriptionStyleModel",
          "model_module_version": "1.5.0",
          "state": {
            "_view_name": "StyleView",
            "_model_name": "DescriptionStyleModel",
            "description_width": "",
            "_view_module": "@jupyter-widgets/base",
            "_model_module_version": "1.5.0",
            "_view_count": null,
            "_view_module_version": "1.2.0",
            "_model_module": "@jupyter-widgets/controls"
          }
        },
        "07105e3e35794fbd9715e29071e45bea": {
          "model_module": "@jupyter-widgets/base",
          "model_name": "LayoutModel",
          "model_module_version": "1.2.0",
          "state": {
            "_view_name": "LayoutView",
            "grid_template_rows": null,
            "right": null,
            "justify_content": null,
            "_view_module": "@jupyter-widgets/base",
            "overflow": null,
            "_model_module_version": "1.2.0",
            "_view_count": null,
            "flex_flow": null,
            "width": null,
            "min_width": null,
            "border": null,
            "align_items": null,
            "bottom": null,
            "_model_module": "@jupyter-widgets/base",
            "top": null,
            "grid_column": null,
            "overflow_y": null,
            "overflow_x": null,
            "grid_auto_flow": null,
            "grid_area": null,
            "grid_template_columns": null,
            "flex": null,
            "_model_name": "LayoutModel",
            "justify_items": null,
            "grid_row": null,
            "max_height": null,
            "align_content": null,
            "visibility": null,
            "align_self": null,
            "height": null,
            "min_height": null,
            "padding": null,
            "grid_auto_rows": null,
            "grid_gap": null,
            "max_width": null,
            "order": null,
            "_view_module_version": "1.2.0",
            "grid_template_areas": null,
            "object_position": null,
            "object_fit": null,
            "grid_auto_columns": null,
            "margin": null,
            "display": null,
            "left": null
          }
        },
        "40646f585cb54d0685cec5c75b748572": {
          "model_module": "@jupyter-widgets/controls",
          "model_name": "HBoxModel",
          "model_module_version": "1.5.0",
          "state": {
            "_view_name": "HBoxView",
            "_dom_classes": [],
            "_model_name": "HBoxModel",
            "_view_module": "@jupyter-widgets/controls",
            "_model_module_version": "1.5.0",
            "_view_count": null,
            "_view_module_version": "1.5.0",
            "box_style": "",
            "layout": "IPY_MODEL_a3c1f732da2e440d89b57763e389a3b5",
            "_model_module": "@jupyter-widgets/controls",
            "children": [
              "IPY_MODEL_2ed0bf62e99346f8a063215c11ff9d25",
              "IPY_MODEL_10eee5fdecb144f589f107d13f5a7b97",
              "IPY_MODEL_41f6bf5d752c46858ab27db90c876cef"
            ]
          }
        },
        "a3c1f732da2e440d89b57763e389a3b5": {
          "model_module": "@jupyter-widgets/base",
          "model_name": "LayoutModel",
          "model_module_version": "1.2.0",
          "state": {
            "_view_name": "LayoutView",
            "grid_template_rows": null,
            "right": null,
            "justify_content": null,
            "_view_module": "@jupyter-widgets/base",
            "overflow": null,
            "_model_module_version": "1.2.0",
            "_view_count": null,
            "flex_flow": null,
            "width": null,
            "min_width": null,
            "border": null,
            "align_items": null,
            "bottom": null,
            "_model_module": "@jupyter-widgets/base",
            "top": null,
            "grid_column": null,
            "overflow_y": null,
            "overflow_x": null,
            "grid_auto_flow": null,
            "grid_area": null,
            "grid_template_columns": null,
            "flex": null,
            "_model_name": "LayoutModel",
            "justify_items": null,
            "grid_row": null,
            "max_height": null,
            "align_content": null,
            "visibility": null,
            "align_self": null,
            "height": null,
            "min_height": null,
            "padding": null,
            "grid_auto_rows": null,
            "grid_gap": null,
            "max_width": null,
            "order": null,
            "_view_module_version": "1.2.0",
            "grid_template_areas": null,
            "object_position": null,
            "object_fit": null,
            "grid_auto_columns": null,
            "margin": null,
            "display": null,
            "left": null
          }
        },
        "2ed0bf62e99346f8a063215c11ff9d25": {
          "model_module": "@jupyter-widgets/controls",
          "model_name": "HTMLModel",
          "model_module_version": "1.5.0",
          "state": {
            "_view_name": "HTMLView",
            "style": "IPY_MODEL_663392cbce2c41bfbb1f2e7fdef466f9",
            "_dom_classes": [],
            "description": "",
            "_model_name": "HTMLModel",
            "placeholder": "​",
            "_view_module": "@jupyter-widgets/controls",
            "_model_module_version": "1.5.0",
            "value": "100%",
            "_view_count": null,
            "_view_module_version": "1.5.0",
            "description_tooltip": null,
            "_model_module": "@jupyter-widgets/controls",
            "layout": "IPY_MODEL_716ee798776c4826ac8e43eedca69ffb"
          }
        },
        "10eee5fdecb144f589f107d13f5a7b97": {
          "model_module": "@jupyter-widgets/controls",
          "model_name": "FloatProgressModel",
          "model_module_version": "1.5.0",
          "state": {
            "_view_name": "ProgressView",
            "style": "IPY_MODEL_32077e8c74324ecab7aa5e196cd888b3",
            "_dom_classes": [],
            "description": "",
            "_model_name": "FloatProgressModel",
            "bar_style": "success",
            "max": 10,
            "_view_module": "@jupyter-widgets/controls",
            "_model_module_version": "1.5.0",
            "value": 10,
            "_view_count": null,
            "_view_module_version": "1.5.0",
            "orientation": "horizontal",
            "min": 0,
            "description_tooltip": null,
            "_model_module": "@jupyter-widgets/controls",
            "layout": "IPY_MODEL_f0e4719856b24bf2bbf7d72fed474c96"
          }
        },
        "41f6bf5d752c46858ab27db90c876cef": {
          "model_module": "@jupyter-widgets/controls",
          "model_name": "HTMLModel",
          "model_module_version": "1.5.0",
          "state": {
            "_view_name": "HTMLView",
            "style": "IPY_MODEL_06195abf8f2740d7b508001275033670",
            "_dom_classes": [],
            "description": "",
            "_model_name": "HTMLModel",
            "placeholder": "​",
            "_view_module": "@jupyter-widgets/controls",
            "_model_module_version": "1.5.0",
            "value": " 10/10 [00:00&lt;00:00, 153.67it/s]",
            "_view_count": null,
            "_view_module_version": "1.5.0",
            "description_tooltip": null,
            "_model_module": "@jupyter-widgets/controls",
            "layout": "IPY_MODEL_fee8e056e1a7478e9d1ff364f2684172"
          }
        },
        "663392cbce2c41bfbb1f2e7fdef466f9": {
          "model_module": "@jupyter-widgets/controls",
          "model_name": "DescriptionStyleModel",
          "model_module_version": "1.5.0",
          "state": {
            "_view_name": "StyleView",
            "_model_name": "DescriptionStyleModel",
            "description_width": "",
            "_view_module": "@jupyter-widgets/base",
            "_model_module_version": "1.5.0",
            "_view_count": null,
            "_view_module_version": "1.2.0",
            "_model_module": "@jupyter-widgets/controls"
          }
        },
        "716ee798776c4826ac8e43eedca69ffb": {
          "model_module": "@jupyter-widgets/base",
          "model_name": "LayoutModel",
          "model_module_version": "1.2.0",
          "state": {
            "_view_name": "LayoutView",
            "grid_template_rows": null,
            "right": null,
            "justify_content": null,
            "_view_module": "@jupyter-widgets/base",
            "overflow": null,
            "_model_module_version": "1.2.0",
            "_view_count": null,
            "flex_flow": null,
            "width": null,
            "min_width": null,
            "border": null,
            "align_items": null,
            "bottom": null,
            "_model_module": "@jupyter-widgets/base",
            "top": null,
            "grid_column": null,
            "overflow_y": null,
            "overflow_x": null,
            "grid_auto_flow": null,
            "grid_area": null,
            "grid_template_columns": null,
            "flex": null,
            "_model_name": "LayoutModel",
            "justify_items": null,
            "grid_row": null,
            "max_height": null,
            "align_content": null,
            "visibility": null,
            "align_self": null,
            "height": null,
            "min_height": null,
            "padding": null,
            "grid_auto_rows": null,
            "grid_gap": null,
            "max_width": null,
            "order": null,
            "_view_module_version": "1.2.0",
            "grid_template_areas": null,
            "object_position": null,
            "object_fit": null,
            "grid_auto_columns": null,
            "margin": null,
            "display": null,
            "left": null
          }
        },
        "32077e8c74324ecab7aa5e196cd888b3": {
          "model_module": "@jupyter-widgets/controls",
          "model_name": "ProgressStyleModel",
          "model_module_version": "1.5.0",
          "state": {
            "_view_name": "StyleView",
            "_model_name": "ProgressStyleModel",
            "description_width": "",
            "_view_module": "@jupyter-widgets/base",
            "_model_module_version": "1.5.0",
            "_view_count": null,
            "_view_module_version": "1.2.0",
            "bar_color": null,
            "_model_module": "@jupyter-widgets/controls"
          }
        },
        "f0e4719856b24bf2bbf7d72fed474c96": {
          "model_module": "@jupyter-widgets/base",
          "model_name": "LayoutModel",
          "model_module_version": "1.2.0",
          "state": {
            "_view_name": "LayoutView",
            "grid_template_rows": null,
            "right": null,
            "justify_content": null,
            "_view_module": "@jupyter-widgets/base",
            "overflow": null,
            "_model_module_version": "1.2.0",
            "_view_count": null,
            "flex_flow": null,
            "width": null,
            "min_width": null,
            "border": null,
            "align_items": null,
            "bottom": null,
            "_model_module": "@jupyter-widgets/base",
            "top": null,
            "grid_column": null,
            "overflow_y": null,
            "overflow_x": null,
            "grid_auto_flow": null,
            "grid_area": null,
            "grid_template_columns": null,
            "flex": null,
            "_model_name": "LayoutModel",
            "justify_items": null,
            "grid_row": null,
            "max_height": null,
            "align_content": null,
            "visibility": null,
            "align_self": null,
            "height": null,
            "min_height": null,
            "padding": null,
            "grid_auto_rows": null,
            "grid_gap": null,
            "max_width": null,
            "order": null,
            "_view_module_version": "1.2.0",
            "grid_template_areas": null,
            "object_position": null,
            "object_fit": null,
            "grid_auto_columns": null,
            "margin": null,
            "display": null,
            "left": null
          }
        },
        "06195abf8f2740d7b508001275033670": {
          "model_module": "@jupyter-widgets/controls",
          "model_name": "DescriptionStyleModel",
          "model_module_version": "1.5.0",
          "state": {
            "_view_name": "StyleView",
            "_model_name": "DescriptionStyleModel",
            "description_width": "",
            "_view_module": "@jupyter-widgets/base",
            "_model_module_version": "1.5.0",
            "_view_count": null,
            "_view_module_version": "1.2.0",
            "_model_module": "@jupyter-widgets/controls"
          }
        },
        "fee8e056e1a7478e9d1ff364f2684172": {
          "model_module": "@jupyter-widgets/base",
          "model_name": "LayoutModel",
          "model_module_version": "1.2.0",
          "state": {
            "_view_name": "LayoutView",
            "grid_template_rows": null,
            "right": null,
            "justify_content": null,
            "_view_module": "@jupyter-widgets/base",
            "overflow": null,
            "_model_module_version": "1.2.0",
            "_view_count": null,
            "flex_flow": null,
            "width": null,
            "min_width": null,
            "border": null,
            "align_items": null,
            "bottom": null,
            "_model_module": "@jupyter-widgets/base",
            "top": null,
            "grid_column": null,
            "overflow_y": null,
            "overflow_x": null,
            "grid_auto_flow": null,
            "grid_area": null,
            "grid_template_columns": null,
            "flex": null,
            "_model_name": "LayoutModel",
            "justify_items": null,
            "grid_row": null,
            "max_height": null,
            "align_content": null,
            "visibility": null,
            "align_self": null,
            "height": null,
            "min_height": null,
            "padding": null,
            "grid_auto_rows": null,
            "grid_gap": null,
            "max_width": null,
            "order": null,
            "_view_module_version": "1.2.0",
            "grid_template_areas": null,
            "object_position": null,
            "object_fit": null,
            "grid_auto_columns": null,
            "margin": null,
            "display": null,
            "left": null
          }
        },
        "de8485d0e86243bcacec9eced20946a1": {
          "model_module": "@jupyter-widgets/controls",
          "model_name": "HBoxModel",
          "model_module_version": "1.5.0",
          "state": {
            "_view_name": "HBoxView",
            "_dom_classes": [],
            "_model_name": "HBoxModel",
            "_view_module": "@jupyter-widgets/controls",
            "_model_module_version": "1.5.0",
            "_view_count": null,
            "_view_module_version": "1.5.0",
            "box_style": "",
            "layout": "IPY_MODEL_ba97f1d38d7744849f4e396264192188",
            "_model_module": "@jupyter-widgets/controls",
            "children": [
              "IPY_MODEL_5a9d6311e581428f99bffd84fe0acf15",
              "IPY_MODEL_3c6a1de6f7144a97952143a99d826612",
              "IPY_MODEL_60f173db5214421dba5c328ee102dc75"
            ]
          }
        },
        "ba97f1d38d7744849f4e396264192188": {
          "model_module": "@jupyter-widgets/base",
          "model_name": "LayoutModel",
          "model_module_version": "1.2.0",
          "state": {
            "_view_name": "LayoutView",
            "grid_template_rows": null,
            "right": null,
            "justify_content": null,
            "_view_module": "@jupyter-widgets/base",
            "overflow": null,
            "_model_module_version": "1.2.0",
            "_view_count": null,
            "flex_flow": null,
            "width": null,
            "min_width": null,
            "border": null,
            "align_items": null,
            "bottom": null,
            "_model_module": "@jupyter-widgets/base",
            "top": null,
            "grid_column": null,
            "overflow_y": null,
            "overflow_x": null,
            "grid_auto_flow": null,
            "grid_area": null,
            "grid_template_columns": null,
            "flex": null,
            "_model_name": "LayoutModel",
            "justify_items": null,
            "grid_row": null,
            "max_height": null,
            "align_content": null,
            "visibility": null,
            "align_self": null,
            "height": null,
            "min_height": null,
            "padding": null,
            "grid_auto_rows": null,
            "grid_gap": null,
            "max_width": null,
            "order": null,
            "_view_module_version": "1.2.0",
            "grid_template_areas": null,
            "object_position": null,
            "object_fit": null,
            "grid_auto_columns": null,
            "margin": null,
            "display": null,
            "left": null
          }
        },
        "5a9d6311e581428f99bffd84fe0acf15": {
          "model_module": "@jupyter-widgets/controls",
          "model_name": "HTMLModel",
          "model_module_version": "1.5.0",
          "state": {
            "_view_name": "HTMLView",
            "style": "IPY_MODEL_a155c5bb8d3543ee876a2b7b9d89db8a",
            "_dom_classes": [],
            "description": "",
            "_model_name": "HTMLModel",
            "placeholder": "​",
            "_view_module": "@jupyter-widgets/controls",
            "_model_module_version": "1.5.0",
            "value": "100%",
            "_view_count": null,
            "_view_module_version": "1.5.0",
            "description_tooltip": null,
            "_model_module": "@jupyter-widgets/controls",
            "layout": "IPY_MODEL_ae04a8d5331f4313b6066c5e356f06e2"
          }
        },
        "3c6a1de6f7144a97952143a99d826612": {
          "model_module": "@jupyter-widgets/controls",
          "model_name": "FloatProgressModel",
          "model_module_version": "1.5.0",
          "state": {
            "_view_name": "ProgressView",
            "style": "IPY_MODEL_ca9952ac833b4d848b6e41e372423915",
            "_dom_classes": [],
            "description": "",
            "_model_name": "FloatProgressModel",
            "bar_style": "success",
            "max": 2605,
            "_view_module": "@jupyter-widgets/controls",
            "_model_module_version": "1.5.0",
            "value": 2605,
            "_view_count": null,
            "_view_module_version": "1.5.0",
            "orientation": "horizontal",
            "min": 0,
            "description_tooltip": null,
            "_model_module": "@jupyter-widgets/controls",
            "layout": "IPY_MODEL_0dabd2352eea4dc8a81b058b016e4996"
          }
        },
        "60f173db5214421dba5c328ee102dc75": {
          "model_module": "@jupyter-widgets/controls",
          "model_name": "HTMLModel",
          "model_module_version": "1.5.0",
          "state": {
            "_view_name": "HTMLView",
            "style": "IPY_MODEL_4649ab1ec04843f08e87394aa9391e2e",
            "_dom_classes": [],
            "description": "",
            "_model_name": "HTMLModel",
            "placeholder": "​",
            "_view_module": "@jupyter-widgets/controls",
            "_model_module_version": "1.5.0",
            "value": " 2605/2605 [00:00&lt;00:00, 41420.71it/s]",
            "_view_count": null,
            "_view_module_version": "1.5.0",
            "description_tooltip": null,
            "_model_module": "@jupyter-widgets/controls",
            "layout": "IPY_MODEL_e4bf8df794bb41c9b0cfad257906a0b1"
          }
        },
        "a155c5bb8d3543ee876a2b7b9d89db8a": {
          "model_module": "@jupyter-widgets/controls",
          "model_name": "DescriptionStyleModel",
          "model_module_version": "1.5.0",
          "state": {
            "_view_name": "StyleView",
            "_model_name": "DescriptionStyleModel",
            "description_width": "",
            "_view_module": "@jupyter-widgets/base",
            "_model_module_version": "1.5.0",
            "_view_count": null,
            "_view_module_version": "1.2.0",
            "_model_module": "@jupyter-widgets/controls"
          }
        },
        "ae04a8d5331f4313b6066c5e356f06e2": {
          "model_module": "@jupyter-widgets/base",
          "model_name": "LayoutModel",
          "model_module_version": "1.2.0",
          "state": {
            "_view_name": "LayoutView",
            "grid_template_rows": null,
            "right": null,
            "justify_content": null,
            "_view_module": "@jupyter-widgets/base",
            "overflow": null,
            "_model_module_version": "1.2.0",
            "_view_count": null,
            "flex_flow": null,
            "width": null,
            "min_width": null,
            "border": null,
            "align_items": null,
            "bottom": null,
            "_model_module": "@jupyter-widgets/base",
            "top": null,
            "grid_column": null,
            "overflow_y": null,
            "overflow_x": null,
            "grid_auto_flow": null,
            "grid_area": null,
            "grid_template_columns": null,
            "flex": null,
            "_model_name": "LayoutModel",
            "justify_items": null,
            "grid_row": null,
            "max_height": null,
            "align_content": null,
            "visibility": null,
            "align_self": null,
            "height": null,
            "min_height": null,
            "padding": null,
            "grid_auto_rows": null,
            "grid_gap": null,
            "max_width": null,
            "order": null,
            "_view_module_version": "1.2.0",
            "grid_template_areas": null,
            "object_position": null,
            "object_fit": null,
            "grid_auto_columns": null,
            "margin": null,
            "display": null,
            "left": null
          }
        },
        "ca9952ac833b4d848b6e41e372423915": {
          "model_module": "@jupyter-widgets/controls",
          "model_name": "ProgressStyleModel",
          "model_module_version": "1.5.0",
          "state": {
            "_view_name": "StyleView",
            "_model_name": "ProgressStyleModel",
            "description_width": "",
            "_view_module": "@jupyter-widgets/base",
            "_model_module_version": "1.5.0",
            "_view_count": null,
            "_view_module_version": "1.2.0",
            "bar_color": null,
            "_model_module": "@jupyter-widgets/controls"
          }
        },
        "0dabd2352eea4dc8a81b058b016e4996": {
          "model_module": "@jupyter-widgets/base",
          "model_name": "LayoutModel",
          "model_module_version": "1.2.0",
          "state": {
            "_view_name": "LayoutView",
            "grid_template_rows": null,
            "right": null,
            "justify_content": null,
            "_view_module": "@jupyter-widgets/base",
            "overflow": null,
            "_model_module_version": "1.2.0",
            "_view_count": null,
            "flex_flow": null,
            "width": null,
            "min_width": null,
            "border": null,
            "align_items": null,
            "bottom": null,
            "_model_module": "@jupyter-widgets/base",
            "top": null,
            "grid_column": null,
            "overflow_y": null,
            "overflow_x": null,
            "grid_auto_flow": null,
            "grid_area": null,
            "grid_template_columns": null,
            "flex": null,
            "_model_name": "LayoutModel",
            "justify_items": null,
            "grid_row": null,
            "max_height": null,
            "align_content": null,
            "visibility": null,
            "align_self": null,
            "height": null,
            "min_height": null,
            "padding": null,
            "grid_auto_rows": null,
            "grid_gap": null,
            "max_width": null,
            "order": null,
            "_view_module_version": "1.2.0",
            "grid_template_areas": null,
            "object_position": null,
            "object_fit": null,
            "grid_auto_columns": null,
            "margin": null,
            "display": null,
            "left": null
          }
        },
        "4649ab1ec04843f08e87394aa9391e2e": {
          "model_module": "@jupyter-widgets/controls",
          "model_name": "DescriptionStyleModel",
          "model_module_version": "1.5.0",
          "state": {
            "_view_name": "StyleView",
            "_model_name": "DescriptionStyleModel",
            "description_width": "",
            "_view_module": "@jupyter-widgets/base",
            "_model_module_version": "1.5.0",
            "_view_count": null,
            "_view_module_version": "1.2.0",
            "_model_module": "@jupyter-widgets/controls"
          }
        },
        "e4bf8df794bb41c9b0cfad257906a0b1": {
          "model_module": "@jupyter-widgets/base",
          "model_name": "LayoutModel",
          "model_module_version": "1.2.0",
          "state": {
            "_view_name": "LayoutView",
            "grid_template_rows": null,
            "right": null,
            "justify_content": null,
            "_view_module": "@jupyter-widgets/base",
            "overflow": null,
            "_model_module_version": "1.2.0",
            "_view_count": null,
            "flex_flow": null,
            "width": null,
            "min_width": null,
            "border": null,
            "align_items": null,
            "bottom": null,
            "_model_module": "@jupyter-widgets/base",
            "top": null,
            "grid_column": null,
            "overflow_y": null,
            "overflow_x": null,
            "grid_auto_flow": null,
            "grid_area": null,
            "grid_template_columns": null,
            "flex": null,
            "_model_name": "LayoutModel",
            "justify_items": null,
            "grid_row": null,
            "max_height": null,
            "align_content": null,
            "visibility": null,
            "align_self": null,
            "height": null,
            "min_height": null,
            "padding": null,
            "grid_auto_rows": null,
            "grid_gap": null,
            "max_width": null,
            "order": null,
            "_view_module_version": "1.2.0",
            "grid_template_areas": null,
            "object_position": null,
            "object_fit": null,
            "grid_auto_columns": null,
            "margin": null,
            "display": null,
            "left": null
          }
        },
        "c99ca75009bf4360b53c4c24dcef3a76": {
          "model_module": "@jupyter-widgets/controls",
          "model_name": "HBoxModel",
          "model_module_version": "1.5.0",
          "state": {
            "_view_name": "HBoxView",
            "_dom_classes": [],
            "_model_name": "HBoxModel",
            "_view_module": "@jupyter-widgets/controls",
            "_model_module_version": "1.5.0",
            "_view_count": null,
            "_view_module_version": "1.5.0",
            "box_style": "",
            "layout": "IPY_MODEL_f8d67bca0e714a25b0c084a4f04a933a",
            "_model_module": "@jupyter-widgets/controls",
            "children": [
              "IPY_MODEL_74ff673393af4ef892d5743cb081dea7",
              "IPY_MODEL_c84151903895439b87e7defed865fbd4",
              "IPY_MODEL_6e78ee098d9349a3b0568fda943d5dbb"
            ]
          }
        },
        "f8d67bca0e714a25b0c084a4f04a933a": {
          "model_module": "@jupyter-widgets/base",
          "model_name": "LayoutModel",
          "model_module_version": "1.2.0",
          "state": {
            "_view_name": "LayoutView",
            "grid_template_rows": null,
            "right": null,
            "justify_content": null,
            "_view_module": "@jupyter-widgets/base",
            "overflow": null,
            "_model_module_version": "1.2.0",
            "_view_count": null,
            "flex_flow": null,
            "width": null,
            "min_width": null,
            "border": null,
            "align_items": null,
            "bottom": null,
            "_model_module": "@jupyter-widgets/base",
            "top": null,
            "grid_column": null,
            "overflow_y": null,
            "overflow_x": null,
            "grid_auto_flow": null,
            "grid_area": null,
            "grid_template_columns": null,
            "flex": null,
            "_model_name": "LayoutModel",
            "justify_items": null,
            "grid_row": null,
            "max_height": null,
            "align_content": null,
            "visibility": null,
            "align_self": null,
            "height": null,
            "min_height": null,
            "padding": null,
            "grid_auto_rows": null,
            "grid_gap": null,
            "max_width": null,
            "order": null,
            "_view_module_version": "1.2.0",
            "grid_template_areas": null,
            "object_position": null,
            "object_fit": null,
            "grid_auto_columns": null,
            "margin": null,
            "display": null,
            "left": null
          }
        },
        "74ff673393af4ef892d5743cb081dea7": {
          "model_module": "@jupyter-widgets/controls",
          "model_name": "HTMLModel",
          "model_module_version": "1.5.0",
          "state": {
            "_view_name": "HTMLView",
            "style": "IPY_MODEL_b4467e477cc047f4a37a234d78393e6b",
            "_dom_classes": [],
            "description": "",
            "_model_name": "HTMLModel",
            "placeholder": "​",
            "_view_module": "@jupyter-widgets/controls",
            "_model_module_version": "1.5.0",
            "value": "100%",
            "_view_count": null,
            "_view_module_version": "1.5.0",
            "description_tooltip": null,
            "_model_module": "@jupyter-widgets/controls",
            "layout": "IPY_MODEL_9d3b7e9aa41e4bfe9b03694851738518"
          }
        },
        "c84151903895439b87e7defed865fbd4": {
          "model_module": "@jupyter-widgets/controls",
          "model_name": "FloatProgressModel",
          "model_module_version": "1.5.0",
          "state": {
            "_view_name": "ProgressView",
            "style": "IPY_MODEL_3714728ed98c4df8bb18bced3d3eb2ae",
            "_dom_classes": [],
            "description": "",
            "_model_name": "FloatProgressModel",
            "bar_style": "success",
            "max": 2605,
            "_view_module": "@jupyter-widgets/controls",
            "_model_module_version": "1.5.0",
            "value": 2605,
            "_view_count": null,
            "_view_module_version": "1.5.0",
            "orientation": "horizontal",
            "min": 0,
            "description_tooltip": null,
            "_model_module": "@jupyter-widgets/controls",
            "layout": "IPY_MODEL_d3662d925a3346519e174a2f9de9b423"
          }
        },
        "6e78ee098d9349a3b0568fda943d5dbb": {
          "model_module": "@jupyter-widgets/controls",
          "model_name": "HTMLModel",
          "model_module_version": "1.5.0",
          "state": {
            "_view_name": "HTMLView",
            "style": "IPY_MODEL_e4194fc566ce48c1a660ae5d93430fb1",
            "_dom_classes": [],
            "description": "",
            "_model_name": "HTMLModel",
            "placeholder": "​",
            "_view_module": "@jupyter-widgets/controls",
            "_model_module_version": "1.5.0",
            "value": " 2605/2605 [00:00&lt;00:00, 41441.29it/s]",
            "_view_count": null,
            "_view_module_version": "1.5.0",
            "description_tooltip": null,
            "_model_module": "@jupyter-widgets/controls",
            "layout": "IPY_MODEL_e35c0ce2c2bd4ea896f72f237cb18bd7"
          }
        },
        "b4467e477cc047f4a37a234d78393e6b": {
          "model_module": "@jupyter-widgets/controls",
          "model_name": "DescriptionStyleModel",
          "model_module_version": "1.5.0",
          "state": {
            "_view_name": "StyleView",
            "_model_name": "DescriptionStyleModel",
            "description_width": "",
            "_view_module": "@jupyter-widgets/base",
            "_model_module_version": "1.5.0",
            "_view_count": null,
            "_view_module_version": "1.2.0",
            "_model_module": "@jupyter-widgets/controls"
          }
        },
        "9d3b7e9aa41e4bfe9b03694851738518": {
          "model_module": "@jupyter-widgets/base",
          "model_name": "LayoutModel",
          "model_module_version": "1.2.0",
          "state": {
            "_view_name": "LayoutView",
            "grid_template_rows": null,
            "right": null,
            "justify_content": null,
            "_view_module": "@jupyter-widgets/base",
            "overflow": null,
            "_model_module_version": "1.2.0",
            "_view_count": null,
            "flex_flow": null,
            "width": null,
            "min_width": null,
            "border": null,
            "align_items": null,
            "bottom": null,
            "_model_module": "@jupyter-widgets/base",
            "top": null,
            "grid_column": null,
            "overflow_y": null,
            "overflow_x": null,
            "grid_auto_flow": null,
            "grid_area": null,
            "grid_template_columns": null,
            "flex": null,
            "_model_name": "LayoutModel",
            "justify_items": null,
            "grid_row": null,
            "max_height": null,
            "align_content": null,
            "visibility": null,
            "align_self": null,
            "height": null,
            "min_height": null,
            "padding": null,
            "grid_auto_rows": null,
            "grid_gap": null,
            "max_width": null,
            "order": null,
            "_view_module_version": "1.2.0",
            "grid_template_areas": null,
            "object_position": null,
            "object_fit": null,
            "grid_auto_columns": null,
            "margin": null,
            "display": null,
            "left": null
          }
        },
        "3714728ed98c4df8bb18bced3d3eb2ae": {
          "model_module": "@jupyter-widgets/controls",
          "model_name": "ProgressStyleModel",
          "model_module_version": "1.5.0",
          "state": {
            "_view_name": "StyleView",
            "_model_name": "ProgressStyleModel",
            "description_width": "",
            "_view_module": "@jupyter-widgets/base",
            "_model_module_version": "1.5.0",
            "_view_count": null,
            "_view_module_version": "1.2.0",
            "bar_color": null,
            "_model_module": "@jupyter-widgets/controls"
          }
        },
        "d3662d925a3346519e174a2f9de9b423": {
          "model_module": "@jupyter-widgets/base",
          "model_name": "LayoutModel",
          "model_module_version": "1.2.0",
          "state": {
            "_view_name": "LayoutView",
            "grid_template_rows": null,
            "right": null,
            "justify_content": null,
            "_view_module": "@jupyter-widgets/base",
            "overflow": null,
            "_model_module_version": "1.2.0",
            "_view_count": null,
            "flex_flow": null,
            "width": null,
            "min_width": null,
            "border": null,
            "align_items": null,
            "bottom": null,
            "_model_module": "@jupyter-widgets/base",
            "top": null,
            "grid_column": null,
            "overflow_y": null,
            "overflow_x": null,
            "grid_auto_flow": null,
            "grid_area": null,
            "grid_template_columns": null,
            "flex": null,
            "_model_name": "LayoutModel",
            "justify_items": null,
            "grid_row": null,
            "max_height": null,
            "align_content": null,
            "visibility": null,
            "align_self": null,
            "height": null,
            "min_height": null,
            "padding": null,
            "grid_auto_rows": null,
            "grid_gap": null,
            "max_width": null,
            "order": null,
            "_view_module_version": "1.2.0",
            "grid_template_areas": null,
            "object_position": null,
            "object_fit": null,
            "grid_auto_columns": null,
            "margin": null,
            "display": null,
            "left": null
          }
        },
        "e4194fc566ce48c1a660ae5d93430fb1": {
          "model_module": "@jupyter-widgets/controls",
          "model_name": "DescriptionStyleModel",
          "model_module_version": "1.5.0",
          "state": {
            "_view_name": "StyleView",
            "_model_name": "DescriptionStyleModel",
            "description_width": "",
            "_view_module": "@jupyter-widgets/base",
            "_model_module_version": "1.5.0",
            "_view_count": null,
            "_view_module_version": "1.2.0",
            "_model_module": "@jupyter-widgets/controls"
          }
        },
        "e35c0ce2c2bd4ea896f72f237cb18bd7": {
          "model_module": "@jupyter-widgets/base",
          "model_name": "LayoutModel",
          "model_module_version": "1.2.0",
          "state": {
            "_view_name": "LayoutView",
            "grid_template_rows": null,
            "right": null,
            "justify_content": null,
            "_view_module": "@jupyter-widgets/base",
            "overflow": null,
            "_model_module_version": "1.2.0",
            "_view_count": null,
            "flex_flow": null,
            "width": null,
            "min_width": null,
            "border": null,
            "align_items": null,
            "bottom": null,
            "_model_module": "@jupyter-widgets/base",
            "top": null,
            "grid_column": null,
            "overflow_y": null,
            "overflow_x": null,
            "grid_auto_flow": null,
            "grid_area": null,
            "grid_template_columns": null,
            "flex": null,
            "_model_name": "LayoutModel",
            "justify_items": null,
            "grid_row": null,
            "max_height": null,
            "align_content": null,
            "visibility": null,
            "align_self": null,
            "height": null,
            "min_height": null,
            "padding": null,
            "grid_auto_rows": null,
            "grid_gap": null,
            "max_width": null,
            "order": null,
            "_view_module_version": "1.2.0",
            "grid_template_areas": null,
            "object_position": null,
            "object_fit": null,
            "grid_auto_columns": null,
            "margin": null,
            "display": null,
            "left": null
          }
        }
      }
    }
  },
  "cells": [
    {
      "cell_type": "markdown",
      "metadata": {
        "id": "-EhgZJ2n72Wt"
      },
      "source": [
        "#### Домашнее задание 2\n",
        "## Named Entety Recognition and Event Extraction from Literary Fiction\n",
        "\n",
        "deadline: 14 ноября 2021, 23:59\n",
        "\n",
        "В этом домашнем задании вы будете работать с корпусом LitBank. Корпус собран из популярных художественных произведений на английском языке и содержит разметку по именованным сущностям и событиям. Объем корпуса таков: 100 текстов по примерно 2000 слов каждый. \n",
        "\n",
        "Корпус описан в статьях:\n",
        "* David Bamman, Sejal Popat, Sheng Shen, An Annotated Dataset of Literary Entities http://people.ischool.berkeley.edu/~dbamman/pubs/pdf/naacl2019_literary_entities.pdf\n",
        "* Matthew Sims, Jong Ho Park, David Bamman, Literary Event Detection,  http://people.ischool.berkeley.edu/~dbamman/pubs/pdf/acl2019_literary_events.pdf\n",
        "\n",
        "Корпус доступен в репозитории проекта:  https://github.com/dbamman/litbank\n",
        "\n",
        "Статья и код, использованный для извлечения именованных сущностей: \n",
        "* Meizhi Ju, Makoto Miwa and Sophia Ananiadou, A Neural Layered Model for Nested Named Entity Recognition, https://github.com/meizhiju/layered-bilstm-crf\n",
        "\n",
        "Структура корпуса устроена так. \n",
        "Первый уровень: \n",
        "* entities -- разметка по сущностям\n",
        "* events -- разметка по сущностям\n",
        "\n",
        "\n",
        "В корпусе используются 6 типов именованных сущностей: PER, LOC, ORG, FAC, GPE, VEH (имена, локации, организации, помещения, топонимы, средства перемещния), допускаются вложенные сущности. \n",
        "\n",
        "События выражается одним словом - *триггером*, которое может быть глагом, прилагательным и существительным. В корпусе описаны события, которые действительно происходят и не имеют гипотетического характера. \n",
        "Пример: she *walked* rapidly and resolutely, здесь *walked* -- триггер события. Типы событий не заданы. \n",
        "\n",
        "\n",
        "\n",
        "Второй уровень:\n",
        "* brat -- рабочие файлы инструмента разметки brat, ann-файлы содержат разметку, txt-файлы – сырые тексты \n",
        "* tsv -- tsv-файлы содержат разметку в IOB формате,\n",
        "\n",
        "\n",
        "В статье и репозитории вы найдете идеи, которые помогут вам выполнить домашнее задание. Их стоит воспринимать как руководство к действию, и не стоит их копировать и переиспользовать. Обученные модели использовать не нужно, код для их обучения можно использовать как подсказку. \n",
        "\n",
        "## ПРАВИЛА\n",
        "\n",
        "1. Домашнее задание можно выполнять в группе до 3-х человек.\n",
        "2. Домашнее задание сдается через github classrom, зайти через ссылку-инвайт.\n",
        "3. Домашнее задание оформляется в виде отчета либо в .pdf файле, либо ipython-тетрадке. \n",
        "4. Отчет должен содержать: нумерацию заданий и пунктов, которые вы выполнили, код решения, и понятное пошаговое описание того, что вы сделали. Отчет должен быть написан в академическом стиле, без излишнего использования сленга и с соблюдением норм русского языка.\n",
        "5. Не стоит копировать фрагменты лекций, статей и Википедии в ваш отчет.\n",
        "6. Отчеты, состоящие исключительно из кода, не будут проверены и будут автоматически оценены нулевой оценкой.\n",
        "7. Плагиат и любое недобросоветсное цитирование приводит к обнуление оценки. \n",
        "\n",
        "\n",
        "## Часть 1. [2 балла] Эксплоративный анализ \n",
        "1. Найдите топ 10 (по частоте) именованных сущностей каждого из 6 типов.\n",
        "2. Найдите топ 10 (по частоте) частотных триггеров событий. \n",
        "3. Кластеризуйте все уникальные триггеры событий, используя эмбеддинги слов и любой алгоритм кластеризации (например, агломеративный иерархический алгоритм кластеризации) и попробуйте проинтерпретировать кластеры: есть ли очевидные типы событий? \n",
        "\n",
        "[бонус] Визуализируйте полученные кластеры с помощью TSNE или UMAP\n",
        "\n",
        "[бонус] Постройте тематическую модель по корпусу и сравните кластеры тригеров и выделенные темы: есть ли схожие паттерны в тематической модели и в стурктуре кластеров?\n",
        "\n",
        "В следующих частях домашнего задания вам понадобится train-test-dev разбиение. Авторы статей предлагают следующую структуру разбиения: обучающее множество – 80 книг, валидационное – 10 книг, тестовое – 10 книг. Предложения из одного источника не должны попадать в разные сегменты разбиения. \n",
        "\n",
        "\n",
        "## Часть 2. [3 балла] Извлечение именованных сущностей\n",
        "1. Обучите стандартную модель для извлечения именованных сущностей, CNN-BiLSTM-CRF, для извлечения именованных *низкоуровневых именованных сущностей*, т.е. для самых коротких из вложенных сущностей. \n",
        "Модель устроена так: сверточная сеть на символах + эмбеддинги слов + двунаправленная LSTM сеть (модель последовательности) + CRF (глобальная нормализация).\n",
        "2. Замените часть модели на символах и словах (CNN + эмбеддинги словах) на ELMo и / или BERT. Должна получиться модель ELMo / BERT + BiLSTM + CRF. \n",
        "3. Замените модель последовательности (BiLSTM) на другой слой, например, на Transformer. Должна получиться модель CNN  + Transformer + CRF. \n",
        "\n",
        "[бонус] Дообучите BERT для извлечения именованных сущностей.\n",
        "\n",
        "[бонус] Используйте модель для извлечения вложенных именованных сущностей [Ju et al., 2018]\n",
        "\n",
        "[бонус] Модифицируйте модель для извлечения вложенных именованных сущностей [Ju et al., 2018]: вместо эмбеддингов слов используйте ELMo и/или BERT. \n",
        "\n",
        "## Часть 3. [2 балла] Извлечение событий \n",
        "\n",
        "1. Используйте BiLSTM на эмбеддингах слов для извлечения триггеров событий. \n",
        "\n",
        "2. Замените часть модели на  словах  на ELMo и/или BERT.  Должна получиться модель ELMo / BERT + BiLSTM.\n",
        "\n",
        "[бонус] Предобучите BiLSTM как языковую модель. Дообучите ее для извлечения триггеров. \n",
        "\n",
        "[бонус] Дообучите BERT для извлечения триггеров событий. \n",
        "\n",
        "## Часть 4. [2 балла] Одновременное извлечение именованных сущностей и событий \n",
        "1. Обучите модель для совместного извлечения именованных сущностей и триггеров событий. У модели должен быть общий энкодер (например, CNN + BiLSMT, ELMo + BiLSTM, BERT + BiLSTM) и два декодера: один отвечает за извлечение именнованных сущностей, другой отвечает за извлечение триггеров событий.\n",
        "\n",
        "[бонус] Добавьте в модель механизм внимания, так, как это покажется вам разумным.\n",
        "\n",
        "[бонус] Визуализируйте карты механизма внимания. \n",
        "\n",
        "## Часть 5. [1 балл] Итоги\n",
        "Напишите краткое резюме проделанной работы. Сравните результаты всех разработанных моделей. Что помогло вам в выполнении работы, чего не хватало?"
      ]
    },
    {
      "cell_type": "code",
      "metadata": {
        "colab": {
          "base_uri": "https://localhost:8080/",
          "height": 0
        },
        "id": "ATHgUJv2KuLu",
        "outputId": "dcd667b3-b557-4133-9826-f0e0fbe8bd93"
      },
      "source": [
        "from google.colab import drive\n",
        "drive.mount('/content/drive')"
      ],
      "execution_count": 1,
      "outputs": [
        {
          "output_type": "stream",
          "name": "stdout",
          "text": [
            "Mounted at /content/drive\n"
          ]
        }
      ]
    },
    {
      "cell_type": "code",
      "metadata": {
        "colab": {
          "base_uri": "https://localhost:8080/",
          "height": 0
        },
        "id": "8lQt6at872Wx",
        "outputId": "fcd19a7b-4685-41a2-acbd-854fe88af13d"
      },
      "source": [
        "!git clone https://github.com/dbamman/litbank.git"
      ],
      "execution_count": 5,
      "outputs": [
        {
          "output_type": "stream",
          "name": "stdout",
          "text": [
            "Cloning into 'litbank'...\n",
            "remote: Enumerating objects: 1179, done.\u001b[K\n",
            "remote: Counting objects: 100% (123/123), done.\u001b[K\n",
            "remote: Compressing objects: 100% (118/118), done.\u001b[K\n",
            "remote: Total 1179 (delta 12), reused 104 (delta 5), pack-reused 1056\u001b[K\n",
            "Receiving objects: 100% (1179/1179), 40.71 MiB | 33.24 MiB/s, done.\n",
            "Resolving deltas: 100% (129/129), done.\n"
          ]
        }
      ]
    },
    {
      "cell_type": "code",
      "metadata": {
        "colab": {
          "base_uri": "https://localhost:8080/",
          "height": 0
        },
        "id": "A-myyqOcV5h5",
        "outputId": "11c7c969-829d-4c20-8071-75c8b6175dce"
      },
      "source": [
        "!pip install fasttext\n",
        "import fasttext\n",
        "import os\n",
        "import pandas as pd\n",
        "from tqdm.auto import tqdm\n",
        "from collections import defaultdict, Counter\n",
        "import plotly.express as px\n",
        "from sklearn.manifold import TSNE\n",
        "from yellowbrick.cluster import KElbowVisualizer\n",
        "from sklearn.cluster import KMeans, AgglomerativeClustering\n",
        "import matplotlib.pyplot as plt\n",
        "from sklearn.cluster import KMeans"
      ],
      "execution_count": 2,
      "outputs": [
        {
          "output_type": "stream",
          "name": "stdout",
          "text": [
            "Collecting fasttext\n",
            "  Downloading fasttext-0.9.2.tar.gz (68 kB)\n",
            "\u001b[?25l\r\u001b[K     |████▊                           | 10 kB 37.2 MB/s eta 0:00:01\r\u001b[K     |█████████▌                      | 20 kB 29.6 MB/s eta 0:00:01\r\u001b[K     |██████████████▎                 | 30 kB 19.5 MB/s eta 0:00:01\r\u001b[K     |███████████████████             | 40 kB 16.4 MB/s eta 0:00:01\r\u001b[K     |███████████████████████▉        | 51 kB 9.7 MB/s eta 0:00:01\r\u001b[K     |████████████████████████████▋   | 61 kB 9.4 MB/s eta 0:00:01\r\u001b[K     |████████████████████████████████| 68 kB 5.0 MB/s \n",
            "\u001b[?25hCollecting pybind11>=2.2\n",
            "  Using cached pybind11-2.8.1-py2.py3-none-any.whl (208 kB)\n",
            "Requirement already satisfied: setuptools>=0.7.0 in /usr/local/lib/python3.7/dist-packages (from fasttext) (57.4.0)\n",
            "Requirement already satisfied: numpy in /usr/local/lib/python3.7/dist-packages (from fasttext) (1.19.5)\n",
            "Building wheels for collected packages: fasttext\n",
            "  Building wheel for fasttext (setup.py) ... \u001b[?25l\u001b[?25hdone\n",
            "  Created wheel for fasttext: filename=fasttext-0.9.2-cp37-cp37m-linux_x86_64.whl size=3124096 sha256=3998d72211434910c3681b61140241d230a3d91cedc6440376e3a9889453067f\n",
            "  Stored in directory: /root/.cache/pip/wheels/4e/ca/bf/b020d2be95f7641801a6597a29c8f4f19e38f9c02a345bab9b\n",
            "Successfully built fasttext\n",
            "Installing collected packages: pybind11, fasttext\n",
            "Successfully installed fasttext-0.9.2 pybind11-2.8.1\n"
          ]
        }
      ]
    },
    {
      "cell_type": "code",
      "metadata": {
        "id": "IvXI-TgIWKJT"
      },
      "source": [
        "!cp /content/drive/MyDrive/cc.en.300.bin /content/cc.en.300.bin"
      ],
      "execution_count": 3,
      "outputs": []
    },
    {
      "cell_type": "markdown",
      "metadata": {
        "id": "f5eDc4dMJRJB"
      },
      "source": [
        "## Часть 1"
      ]
    },
    {
      "cell_type": "markdown",
      "metadata": {
        "id": "JhEoU9GnJY3w"
      },
      "source": [
        "### Найдите топ 10 (по частоте) именованных сущностей каждого из 6 типов."
      ]
    },
    {
      "cell_type": "code",
      "metadata": {
        "id": "nh1PhSft9U4K"
      },
      "source": [
        "root = '/content/litbank/entities/brat'\n",
        "files = sorted(list(os.walk(root))[0][-1])\n",
        "files = [f for f in files if f.endswith('ann')]"
      ],
      "execution_count": 6,
      "outputs": []
    },
    {
      "cell_type": "code",
      "metadata": {
        "colab": {
          "base_uri": "https://localhost:8080/",
          "height": 451,
          "referenced_widgets": [
            "bfcb4b381db74c31be0adc89dbd12c9b",
            "6c9d498af1dc4257a3c7225572cd7c90",
            "69b6f0b6600e42458d0ed9f3d6b00efb",
            "61a97c26c4c145aabb2adaf096925f6c",
            "42123a10ac1044238e4228e95cbdf4cc",
            "187f91de3ac74da5b77751fc5f4002bc",
            "f681fa2a552b40398e27fdaf7d3053b3",
            "f3e1f6a745aa486eb4bc688415d75d8b",
            "f1071c9e45f5454faaf4985d3b05e277",
            "5319b400e9954810b39b428e855d2967",
            "1f9daaeef758485db41f3ed9cdca6d0c"
          ]
        },
        "id": "hAWWCU3l96TM",
        "outputId": "f6646828-82b0-4204-8dab-f82102f76f8b"
      },
      "source": [
        "ent = defaultdict(Counter)\n",
        "for file in tqdm(files):\n",
        "    data = pd.read_csv(os.path.join(root, file), sep='\\t', header = None, quoting=3)\n",
        "    data[1] = data[1].apply(lambda x: x.split(' ')[0])\n",
        "    for i, row in data.iterrows():\n",
        "        ent[row[1]][row[2]] += 1\n",
        "data"
      ],
      "execution_count": 7,
      "outputs": [
        {
          "output_type": "display_data",
          "data": {
            "application/vnd.jupyter.widget-view+json": {
              "model_id": "bfcb4b381db74c31be0adc89dbd12c9b",
              "version_minor": 0,
              "version_major": 2
            },
            "text/plain": [
              "  0%|          | 0/100 [00:00<?, ?it/s]"
            ]
          },
          "metadata": {}
        },
        {
          "output_type": "execute_result",
          "data": {
            "text/html": [
              "<div>\n",
              "<style scoped>\n",
              "    .dataframe tbody tr th:only-of-type {\n",
              "        vertical-align: middle;\n",
              "    }\n",
              "\n",
              "    .dataframe tbody tr th {\n",
              "        vertical-align: top;\n",
              "    }\n",
              "\n",
              "    .dataframe thead th {\n",
              "        text-align: right;\n",
              "    }\n",
              "</style>\n",
              "<table border=\"1\" class=\"dataframe\">\n",
              "  <thead>\n",
              "    <tr style=\"text-align: right;\">\n",
              "      <th></th>\n",
              "      <th>0</th>\n",
              "      <th>1</th>\n",
              "      <th>2</th>\n",
              "    </tr>\n",
              "  </thead>\n",
              "  <tbody>\n",
              "    <tr>\n",
              "      <th>0</th>\n",
              "      <td>T1</td>\n",
              "      <td>PER</td>\n",
              "      <td>Anthony Patch</td>\n",
              "    </tr>\n",
              "    <tr>\n",
              "      <th>1</th>\n",
              "      <td>T3</td>\n",
              "      <td>PER</td>\n",
              "      <td>intelligent men</td>\n",
              "    </tr>\n",
              "    <tr>\n",
              "      <th>2</th>\n",
              "      <td>T7</td>\n",
              "      <td>PER</td>\n",
              "      <td>a man</td>\n",
              "    </tr>\n",
              "    <tr>\n",
              "      <th>3</th>\n",
              "      <td>T8</td>\n",
              "      <td>PER</td>\n",
              "      <td>the crusaders</td>\n",
              "    </tr>\n",
              "    <tr>\n",
              "      <th>4</th>\n",
              "      <td>T9</td>\n",
              "      <td>PER</td>\n",
              "      <td>Anthony</td>\n",
              "    </tr>\n",
              "    <tr>\n",
              "      <th>...</th>\n",
              "      <td>...</td>\n",
              "      <td>...</td>\n",
              "      <td>...</td>\n",
              "    </tr>\n",
              "    <tr>\n",
              "      <th>166</th>\n",
              "      <td>T162</td>\n",
              "      <td>LOC</td>\n",
              "      <td>the world</td>\n",
              "    </tr>\n",
              "    <tr>\n",
              "      <th>167</th>\n",
              "      <td>T168</td>\n",
              "      <td>PER</td>\n",
              "      <td>the world</td>\n",
              "    </tr>\n",
              "    <tr>\n",
              "      <th>168</th>\n",
              "      <td>T169</td>\n",
              "      <td>PER</td>\n",
              "      <td>any one who interrupted him at play</td>\n",
              "    </tr>\n",
              "    <tr>\n",
              "      <th>169</th>\n",
              "      <td>T170</td>\n",
              "      <td>PER</td>\n",
              "      <td>every one who came into his bedroom</td>\n",
              "    </tr>\n",
              "    <tr>\n",
              "      <th>170</th>\n",
              "      <td>T171</td>\n",
              "      <td>GPE</td>\n",
              "      <td>there</td>\n",
              "    </tr>\n",
              "  </tbody>\n",
              "</table>\n",
              "<p>171 rows × 3 columns</p>\n",
              "</div>"
            ],
            "text/plain": [
              "        0    1                                    2\n",
              "0      T1  PER                        Anthony Patch\n",
              "1      T3  PER                      intelligent men\n",
              "2      T7  PER                                a man\n",
              "3      T8  PER                        the crusaders\n",
              "4      T9  PER                              Anthony\n",
              "..    ...  ...                                  ...\n",
              "166  T162  LOC                            the world\n",
              "167  T168  PER                            the world\n",
              "168  T169  PER  any one who interrupted him at play\n",
              "169  T170  PER  every one who came into his bedroom\n",
              "170  T171  GPE                                there\n",
              "\n",
              "[171 rows x 3 columns]"
            ]
          },
          "metadata": {},
          "execution_count": 7
        }
      ]
    },
    {
      "cell_type": "code",
      "metadata": {
        "colab": {
          "base_uri": "https://localhost:8080/",
          "height": 0
        },
        "id": "pfrHB6GOGvhR",
        "outputId": "1a14cf9f-11f7-4e6b-c594-42686b275e27"
      },
      "source": [
        "for key in ent.keys():\n",
        "    print(key)\n",
        "    print(*ent[key].most_common(10), sep='\\n')\n",
        "    print('----')"
      ],
      "execution_count": 8,
      "outputs": [
        {
          "output_type": "stream",
          "name": "stdout",
          "text": [
            "FAC\n",
            "('home', 65)\n",
            "('the house', 52)\n",
            "('here', 39)\n",
            "('there', 39)\n",
            "('the room', 34)\n",
            "('the garden', 23)\n",
            "('the street', 14)\n",
            "('the hall', 13)\n",
            "('the road', 13)\n",
            "('the place', 12)\n",
            "----\n",
            "LOC\n",
            "('the world', 72)\n",
            "('the sea', 27)\n",
            "('the river', 22)\n",
            "('the country', 20)\n",
            "('there', 18)\n",
            "('the earth', 16)\n",
            "('sea', 16)\n",
            "('the valley', 13)\n",
            "('this world', 12)\n",
            "('the woods', 9)\n",
            "----\n",
            "GPE\n",
            "('London', 40)\n",
            "('England', 32)\n",
            "('there', 21)\n",
            "('the town', 21)\n",
            "('New York', 16)\n",
            "('town', 14)\n",
            "('France', 14)\n",
            "('Europe', 12)\n",
            "('the country', 10)\n",
            "('Rome', 10)\n",
            "----\n",
            "VEH\n",
            "('the ship', 11)\n",
            "('the car', 9)\n",
            "('the train', 6)\n",
            "('the boat', 4)\n",
            "('boats', 4)\n",
            "('the carriage', 3)\n",
            "('ships', 3)\n",
            "('a carriage', 3)\n",
            "('the waggon', 3)\n",
            "('the coach', 3)\n",
            "----\n",
            "PER\n",
            "('Mr.', 148)\n",
            "('Miss', 133)\n",
            "('Mrs.', 132)\n",
            "('sir', 50)\n",
            "('Sir', 45)\n",
            "('men', 40)\n",
            "('my mother', 40)\n",
            "('Cameron', 38)\n",
            "('his wife', 37)\n",
            "('Mr', 37)\n",
            "----\n",
            "ORG\n",
            "('the army', 7)\n",
            "('the Church', 4)\n",
            "('the Committee of Public Safety', 4)\n",
            "('the Colonial Office', 4)\n",
            "('college', 3)\n",
            "('Harvard', 3)\n",
            "('Carston , Waite and Co.', 2)\n",
            "('the hospital', 2)\n",
            "('the C.C.H.', 2)\n",
            "(\"the Bank of Leichardt 's Land\", 2)\n",
            "----\n"
          ]
        }
      ]
    },
    {
      "cell_type": "markdown",
      "metadata": {
        "id": "_CLtAq4HJfD4"
      },
      "source": [
        "### Найдите топ 10 (по частоте) частотных триггеров событий."
      ]
    },
    {
      "cell_type": "code",
      "metadata": {
        "id": "wlyVRybaJzjb"
      },
      "source": [
        "root = '/content/litbank/events/brat'\n",
        "files = sorted(list(os.walk(root))[0][-1])\n",
        "files = [f for f in files if f.endswith('ann')]\n",
        "events = Counter()"
      ],
      "execution_count": 9,
      "outputs": []
    },
    {
      "cell_type": "code",
      "metadata": {
        "colab": {
          "base_uri": "https://localhost:8080/",
          "height": 49,
          "referenced_widgets": [
            "8e4780732fa841f1a38c6d48b1f38122",
            "594f55df9719400a95d6661ba65bdd45",
            "8a36f4c5ec8d4b90897be22aa5985a64",
            "d9f06fc798f548d98b939011c9fe81f0",
            "a40b2510deba48ffb9742536ba025f41",
            "b5d8969e7d654cd593732154e5ef96a5",
            "abeb67ece75244f0a249361a81bd2aa2",
            "302a280182144016881f5c809b40c7ea",
            "c42722b1dd17405a8085f56a753261ee",
            "e6a6e433713b49de87644ad15976e30a",
            "de5cbd1b7e554d09a54828918fa647e3"
          ]
        },
        "id": "uozqdpVhJx7f",
        "outputId": "8c10b398-9aad-43ca-bf42-91caccbc3e2b"
      },
      "source": [
        "for file in tqdm(files):\n",
        "    try:\n",
        "        data = pd.read_csv(os.path.join(root, file), sep='\\t', header = None, quoting=3)\n",
        "    except pd.errors.EmptyDataError:\n",
        "        continue\n",
        "    data[1] = data[1].apply(lambda x: x.split(' ')[0])\n",
        "    for i, row in data.iterrows():\n",
        "        events[row[2]] += 1"
      ],
      "execution_count": 10,
      "outputs": [
        {
          "output_type": "display_data",
          "data": {
            "application/vnd.jupyter.widget-view+json": {
              "model_id": "8e4780732fa841f1a38c6d48b1f38122",
              "version_minor": 0,
              "version_major": 2
            },
            "text/plain": [
              "  0%|          | 0/100 [00:00<?, ?it/s]"
            ]
          },
          "metadata": {}
        }
      ]
    },
    {
      "cell_type": "code",
      "metadata": {
        "colab": {
          "base_uri": "https://localhost:8080/",
          "height": 0
        },
        "id": "jP3xlrn7KKkm",
        "outputId": "463f9cdd-0ddb-4de6-dd87-f6107f2930f7"
      },
      "source": [
        "print(*events.most_common(10), sep='\\n')"
      ],
      "execution_count": 11,
      "outputs": [
        {
          "output_type": "stream",
          "name": "stdout",
          "text": [
            "('said', 464)\n",
            "('came', 95)\n",
            "('looked', 92)\n",
            "('went', 92)\n",
            "('asked', 69)\n",
            "('heard', 63)\n",
            "('saw', 59)\n",
            "('cried', 59)\n",
            "('took', 56)\n",
            "('turned', 55)\n"
          ]
        }
      ]
    },
    {
      "cell_type": "markdown",
      "metadata": {
        "id": "ZQbTZZjeLBQS"
      },
      "source": [
        "### Кластеризуйте все уникальные триггеры событий, используя эмбеддинги слов и любой алгоритм кластеризации (например, агломеративный иерархический алгоритм кластеризации) и попробуйте проинтерпретировать кластеры: есть ли очевидные типы событий?"
      ]
    },
    {
      "cell_type": "code",
      "metadata": {
        "colab": {
          "base_uri": "https://localhost:8080/",
          "height": 0
        },
        "id": "lpGpjRX_GrXu",
        "outputId": "bb58036e-2cad-4538-bc8f-044bd1e0221b"
      },
      "source": [
        "root = '/content/litbank/events/tsv'\n",
        "files = sorted(list(os.walk(root))[0][-1])\n",
        "len(files)"
      ],
      "execution_count": 12,
      "outputs": [
        {
          "output_type": "execute_result",
          "data": {
            "text/plain": [
              "100"
            ]
          },
          "metadata": {},
          "execution_count": 12
        }
      ]
    },
    {
      "cell_type": "code",
      "metadata": {
        "id": "i04gNK8HGtbu"
      },
      "source": [
        "train_files, test_files, dev_files = files[:80], files[80:90], files[90:]"
      ],
      "execution_count": 13,
      "outputs": []
    },
    {
      "cell_type": "code",
      "metadata": {
        "colab": {
          "base_uri": "https://localhost:8080/",
          "height": 113,
          "referenced_widgets": [
            "db74cf341c56464fadf216c96bf88730",
            "f2994d3bb3514f45856153f768de6318",
            "a436935ab4db4dd687b0538d40d312e6",
            "c3e9d28f92024e49b3a97355b178d705",
            "66be9c28360342a7a7a064144870c6ba",
            "6c465c33f1a94c79adb04b13e8918354",
            "947a07abc00d4b99bc7d14f213c89cfd",
            "6f3c05d97a944d78b969a5e746ab9306",
            "8573c45f219e4d60855a81c04f6e6b8d",
            "bdd6b96335564a16b3e6196a0f04ed9d",
            "68492e40577b4e23ad0f4cd96ce2865b",
            "4bb3eaee18f443559be3b3b218584456",
            "13f0aaa9b1e24f2a8e5886f937f757bc",
            "3b8e0f8c0cca4b21a17ae4987ef2def9",
            "59863a5a34c7418d81e9296e6993a597",
            "c6eb59fa01494261a0964f705321b044",
            "e1df4e4ecf7145b9871b532b9153ecc6",
            "51e734596928436e84b063883d1d65f8",
            "e27bf8244f0c42dcacdf9f3a3d6a1d13",
            "b8fa03b42a0f47d4b7b77ec9d462b117",
            "045c12eb3d6c48c5bb09ed1a1963730e",
            "07105e3e35794fbd9715e29071e45bea",
            "40646f585cb54d0685cec5c75b748572",
            "a3c1f732da2e440d89b57763e389a3b5",
            "2ed0bf62e99346f8a063215c11ff9d25",
            "10eee5fdecb144f589f107d13f5a7b97",
            "41f6bf5d752c46858ab27db90c876cef",
            "663392cbce2c41bfbb1f2e7fdef466f9",
            "716ee798776c4826ac8e43eedca69ffb",
            "32077e8c74324ecab7aa5e196cd888b3",
            "f0e4719856b24bf2bbf7d72fed474c96",
            "06195abf8f2740d7b508001275033670",
            "fee8e056e1a7478e9d1ff364f2684172"
          ]
        },
        "id": "pCwCkDEMGu5Z",
        "outputId": "8dbe3374-4d2f-4fac-b76e-a9ce538f0597"
      },
      "source": [
        "from string import punctuation\n",
        "def get_sents(path):\n",
        "    df = pd.read_csv(path, sep='\\t', quoting=3, header=None)\n",
        "    words = list(df[0])\n",
        "    labels = list(df[1])\n",
        "    assert len(words) == len(labels), 'Что-то не так'\n",
        "    sentences = [[]]\n",
        "    labels_sent = [[]]\n",
        "    for i in range(len(words)):\n",
        "        if words[i] not in ['.', '!', '?', '...', '']:\n",
        "            if words[i] in punctuation:\n",
        "                continue\n",
        "            sentences[-1].append(words[i].lower())\n",
        "            labels_sent[-1].append(labels[i])\n",
        "        elif sentences[-1] != []:\n",
        "            sentences.append([])\n",
        "            labels_sent.append([])\n",
        "    return sentences, labels_sent\n",
        "\n",
        "def prepare_sents(root, files, verbose=True):\n",
        "    sents, labels = [], []\n",
        "    for f in tqdm(files, disable=not verbose):\n",
        "        path = os.path.join(root, f)\n",
        "        s, l = get_sents(path)\n",
        "        if s[-1] == []:\n",
        "            s = s[:-1]\n",
        "            l = l[:-1]\n",
        "        sents += s\n",
        "        labels += l\n",
        "    return sents, labels\n",
        "\n",
        "sents_train, labels_train = prepare_sents(root, train_files)\n",
        "sents_dev, labels_dev = prepare_sents(root, dev_files)\n",
        "sents_test, labels_test = prepare_sents(root, test_files)"
      ],
      "execution_count": 14,
      "outputs": [
        {
          "output_type": "display_data",
          "data": {
            "application/vnd.jupyter.widget-view+json": {
              "model_id": "db74cf341c56464fadf216c96bf88730",
              "version_minor": 0,
              "version_major": 2
            },
            "text/plain": [
              "  0%|          | 0/80 [00:00<?, ?it/s]"
            ]
          },
          "metadata": {}
        },
        {
          "output_type": "display_data",
          "data": {
            "application/vnd.jupyter.widget-view+json": {
              "model_id": "4bb3eaee18f443559be3b3b218584456",
              "version_minor": 0,
              "version_major": 2
            },
            "text/plain": [
              "  0%|          | 0/10 [00:00<?, ?it/s]"
            ]
          },
          "metadata": {}
        },
        {
          "output_type": "display_data",
          "data": {
            "application/vnd.jupyter.widget-view+json": {
              "model_id": "40646f585cb54d0685cec5c75b748572",
              "version_minor": 0,
              "version_major": 2
            },
            "text/plain": [
              "  0%|          | 0/10 [00:00<?, ?it/s]"
            ]
          },
          "metadata": {}
        }
      ]
    },
    {
      "cell_type": "code",
      "metadata": {
        "id": "UB-qpK0iGwaC"
      },
      "source": [
        "sents_all = sents_train + sents_dev + sents_test"
      ],
      "execution_count": 16,
      "outputs": []
    },
    {
      "cell_type": "code",
      "metadata": {
        "id": "zMddmCfCGyWa"
      },
      "source": [
        "with open('clean_text.txt', 'w') as f:\n",
        "    for s in sents_all:\n",
        "        f.write(' '.join(s))\n",
        "        f.write('\\n')"
      ],
      "execution_count": 17,
      "outputs": []
    },
    {
      "cell_type": "code",
      "metadata": {
        "id": "RK6Ht0QoGz-B"
      },
      "source": [
        "# С предобученной моделью кластеризация выглядела не очень, поэтому попробовал обучить свою\n",
        "ft_model = fasttext.train_unsupervised('clean_text.txt', minn=3, maxn=6, dim=100, epoch=10)"
      ],
      "execution_count": 38,
      "outputs": []
    },
    {
      "cell_type": "code",
      "metadata": {
        "colab": {
          "base_uri": "https://localhost:8080/",
          "height": 0
        },
        "id": "C8_uFdliLDyH",
        "outputId": "754aa922-d5bf-4886-a915-a74abd14360f"
      },
      "source": [
        "unique_events = list(events.keys())\n",
        "unique_events[:5]"
      ],
      "execution_count": 39,
      "outputs": [
        {
          "output_type": "execute_result",
          "data": {
            "text/plain": [
              "['Smoke', 'drizzle', 'jostling', 'losing', 'slipping']"
            ]
          },
          "metadata": {},
          "execution_count": 39
        }
      ]
    },
    {
      "cell_type": "code",
      "metadata": {
        "id": "wtyuARNKk0wr"
      },
      "source": [
        "import numpy as np\n",
        "embeds = np.zeros((len(unique_events), 100))"
      ],
      "execution_count": 40,
      "outputs": []
    },
    {
      "cell_type": "code",
      "metadata": {
        "colab": {
          "base_uri": "https://localhost:8080/",
          "height": 49,
          "referenced_widgets": [
            "de8485d0e86243bcacec9eced20946a1",
            "ba97f1d38d7744849f4e396264192188",
            "5a9d6311e581428f99bffd84fe0acf15",
            "3c6a1de6f7144a97952143a99d826612",
            "60f173db5214421dba5c328ee102dc75",
            "a155c5bb8d3543ee876a2b7b9d89db8a",
            "ae04a8d5331f4313b6066c5e356f06e2",
            "ca9952ac833b4d848b6e41e372423915",
            "0dabd2352eea4dc8a81b058b016e4996",
            "4649ab1ec04843f08e87394aa9391e2e",
            "e4bf8df794bb41c9b0cfad257906a0b1"
          ]
        },
        "id": "dUE5eQKxlMr0",
        "outputId": "42a301bf-d9dc-45dd-ec1a-e36111245f39"
      },
      "source": [
        "for i in tqdm(range(len(unique_events))):\n",
        "    embeds[i] = ft_model.get_word_vector(unique_events[i].lower())"
      ],
      "execution_count": 41,
      "outputs": [
        {
          "output_type": "display_data",
          "data": {
            "application/vnd.jupyter.widget-view+json": {
              "model_id": "de8485d0e86243bcacec9eced20946a1",
              "version_minor": 0,
              "version_major": 2
            },
            "text/plain": [
              "  0%|          | 0/2605 [00:00<?, ?it/s]"
            ]
          },
          "metadata": {}
        }
      ]
    },
    {
      "cell_type": "code",
      "metadata": {
        "colab": {
          "base_uri": "https://localhost:8080/",
          "height": 393
        },
        "id": "Y0rMKjQ1bq_o",
        "outputId": "bd3a05eb-1b84-4268-da0b-e9c0b4e878fb"
      },
      "source": [
        "model = KMeans()\n",
        "visualizer = KElbowVisualizer(model, k=(1, 20))\n",
        "\n",
        "visualizer.fit(embeds)\n",
        "visualizer.show()"
      ],
      "execution_count": 42,
      "outputs": [
        {
          "output_type": "display_data",
          "data": {
            "image/png": "[encoded data removed]",
            "text/plain": [
              "<Figure size 576x396 with 2 Axes>"
            ]
          },
          "metadata": {}
        },
        {
          "output_type": "execute_result",
          "data": {
            "text/plain": [
              "<matplotlib.axes._subplots.AxesSubplot at 0x7f2e7f18a790>"
            ]
          },
          "metadata": {},
          "execution_count": 42
        }
      ]
    },
    {
      "cell_type": "code",
      "metadata": {
        "id": "SHVr6FysUVXP"
      },
      "source": [
        "kmeans = KMeans(n_clusters = 3).fit(embeds)\n",
        "centroids = kmeans.cluster_centers_\n",
        "pred_clusters = kmeans.predict(embeds)"
      ],
      "execution_count": 48,
      "outputs": []
    },
    {
      "cell_type": "code",
      "metadata": {
        "id": "tNV2ZpcmEDPm"
      },
      "source": [
        "# Для интрепретации вывожу топ 10 действй, наиболее близких к центру каждого кластера"
      ],
      "execution_count": null,
      "outputs": []
    },
    {
      "cell_type": "code",
      "metadata": {
        "id": "aPtG5HzkfGlo"
      },
      "source": [
        "dist_to_center = np.sum((embeds - centroids[pred_clusters]) ** 2, axis=1)"
      ],
      "execution_count": 49,
      "outputs": []
    },
    {
      "cell_type": "code",
      "metadata": {
        "colab": {
          "base_uri": "https://localhost:8080/",
          "height": 0
        },
        "id": "wvuW6OhTfRRt",
        "outputId": "19ccbe48-ad05-479f-8795-cd6d9f564458"
      },
      "source": [
        "unique_events = np.array(unique_events)\n",
        "for i in range(4):\n",
        "    print(f'Cluster #{i+1}')\n",
        "    idxs = np.where(pred_clusters == i)[0]\n",
        "    nearest_idxs = np.argsort(dist_to_center[idxs])[:10]\n",
        "    idxs = idxs[nearest_idxs]\n",
        "    print(unique_events[idxs])\n",
        "    print('----')"
      ],
      "execution_count": 50,
      "outputs": [
        {
          "output_type": "stream",
          "name": "stdout",
          "text": [
            "Cluster #1\n",
            "['carnage' 'tokens' 'escape' 'cholera' 'reproach' 'alert' 'dumb' 'crime'\n",
            " 'spoilt' 'poise']\n",
            "----\n",
            "Cluster #2\n",
            "['settling' 'groping' 'arguing' 'sweating' 'snorting' 'carving' 'drooping'\n",
            " 'limping' 'puffing' 'applying']\n",
            "----\n",
            "Cluster #3\n",
            "['scanned' 'swayed' 'rattled' 'asserted' 'faltered' 'seized' 'pricked'\n",
            " 'executed' 'harkened' 'mumbled']\n",
            "----\n",
            "Cluster #4\n",
            "[]\n",
            "----\n"
          ]
        }
      ]
    },
    {
      "cell_type": "markdown",
      "metadata": {
        "id": "-B_ymTPrgjU6"
      },
      "source": [
        "### [бонус] Визуализируйте полученные кластеры с помощью TSNE или UMAP"
      ]
    },
    {
      "cell_type": "code",
      "metadata": {
        "colab": {
          "base_uri": "https://localhost:8080/",
          "height": 0
        },
        "id": "5P-bdO03glSR",
        "outputId": "32445722-3306-4917-9e8d-f926c38de1f3"
      },
      "source": [
        "%%time\n",
        "tsne = TSNE(n_components=2, random_state=42)\n",
        "embed_tsne = tsne.fit_transform(embeds)"
      ],
      "execution_count": 51,
      "outputs": [
        {
          "output_type": "stream",
          "name": "stderr",
          "text": [
            "/usr/local/lib/python3.7/dist-packages/sklearn/manifold/_t_sne.py:783: FutureWarning:\n",
            "\n",
            "The default initialization in TSNE will change from 'random' to 'pca' in 1.2.\n",
            "\n",
            "/usr/local/lib/python3.7/dist-packages/sklearn/manifold/_t_sne.py:793: FutureWarning:\n",
            "\n",
            "The default learning rate in TSNE will change from 200.0 to 'auto' in 1.2.\n",
            "\n"
          ]
        },
        {
          "output_type": "stream",
          "name": "stdout",
          "text": [
            "CPU times: user 44.2 s, sys: 416 ms, total: 44.7 s\n",
            "Wall time: 11.4 s\n"
          ]
        }
      ]
    },
    {
      "cell_type": "code",
      "metadata": {
        "colab": {
          "base_uri": "https://localhost:8080/",
          "height": 542
        },
        "id": "rZ3nSIfvg_mX",
        "outputId": "1359401f-db0a-4693-e8cf-8ac3d0444b91"
      },
      "source": [
        "fig = px.scatter(x=embed_tsne[:,0], y=embed_tsne[:,1], text=unique_events, color=pred_clusters)\n",
        "fig.update_traces(textfont_size=2)\n",
        "fig.show()"
      ],
      "execution_count": 52,
      "outputs": [
        {
          "output_type": "display_data",
          "data": {
            "text/html": [
              "<html>\n",
              "<head><meta charset=\"utf-8\" /></head>\n",
              "<body>\n",
              "    <div>\n",
              "            <script src=\"https://cdnjs.cloudflare.com/ajax/libs/mathjax/2.7.5/MathJax.js?config=TeX-AMS-MML_SVG\"></script><script type=\"text/javascript\">if (window.MathJax) {MathJax.Hub.Config({SVG: {font: \"STIX-Web\"}});}</script>\n",
              "                <script type=\"text/javascript\">window.PlotlyConfig = {MathJaxConfig: 'local'};</script>\n",
              "        <script src=\"https://cdn.plot.ly/plotly-latest.min.js\"></script>    \n",
              "            <div id=\"f61222d0-4925-40e4-ba78-f34f2510dbd6\" class=\"plotly-graph-div\" style=\"height:525px; width:100%;\"></div>\n",
              "            <script type=\"text/javascript\">\n",
              "                \n",
              "                    window.PLOTLYENV=window.PLOTLYENV || {};\n",
              "                    \n",
              "                if (document.getElementById(\"f61222d0-4925-40e4-ba78-f34f2510dbd6\")) {\n",
              "                    Plotly.newPlot(\n",
              "                        'f61222d0-4925-40e4-ba78-f34f2510dbd6',\n",
              "                        [{\"hoverlabel\": {\"namelength\": 0}, \"hovertemplate\": \"x=%{x}<br>y=%{y}<br>text=%{text}<br>color=%{marker.color}\", \"legendgroup\": \"\", \"marker\": {\"color\": [0, 0, 1, 1, 1, 1, 0, 1, 1, 0, 0, 0, 0, 1, 1, 1, 1, 1, 1, 0, 1, 2, 0, 2, 0, 2, 1, 1, 1, 2, 1, 0, 0, 0, 0, 0, 2, 2, 1, 2, 2, 0, 0, 0, 1, 0, 0, 2, 2, 0, 0, 2, 1, 2, 0, 1, 0, 2, 0, 0, 2, 0, 0, 2, 2, 0, 0, 2, 0, 2, 1, 2, 2, 2, 0, 2, 0, 2, 0, 2, 2, 0, 0, 0, 2, 0, 0, 2, 2, 0, 0, 0, 0, 0, 0, 0, 0, 2, 0, 2, 2, 1, 1, 0, 0, 0, 0, 0, 2, 0, 0, 0, 0, 0, 0, 1, 0, 0, 2, 0, 0, 0, 1, 2, 0, 0, 2, 0, 2, 0, 0, 0, 0, 0, 0, 0, 0, 0, 0, 0, 2, 2, 0, 1, 0, 0, 0, 0, 2, 0, 0, 0, 0, 1, 0, 2, 1, 1, 2, 0, 0, 0, 0, 1, 0, 2, 2, 0, 0, 2, 0, 2, 2, 0, 0, 0, 1, 0, 2, 1, 2, 1, 2, 1, 0, 1, 0, 2, 0, 1, 2, 2, 1, 2, 2, 0, 0, 1, 0, 1, 2, 2, 0, 2, 0, 2, 0, 0, 0, 0, 0, 2, 0, 2, 0, 2, 0, 2, 1, 0, 2, 0, 0, 0, 1, 2, 0, 0, 0, 2, 0, 0, 2, 2, 0, 2, 0, 2, 2, 0, 2, 2, 0, 2, 0, 0, 1, 1, 0, 1, 2, 2, 0, 2, 1, 2, 0, 1, 2, 1, 0, 2, 0, 0, 0, 2, 0, 0, 1, 0, 0, 0, 0, 0, 0, 0, 0, 0, 2, 0, 2, 0, 0, 0, 0, 2, 2, 0, 1, 1, 1, 1, 1, 2, 2, 2, 2, 1, 0, 2, 1, 0, 0, 2, 2, 1, 2, 1, 0, 2, 0, 1, 2, 1, 1, 0, 0, 2, 1, 2, 2, 2, 0, 0, 2, 0, 0, 0, 0, 2, 2, 1, 0, 1, 0, 2, 2, 0, 2, 2, 2, 2, 2, 0, 2, 2, 1, 0, 2, 0, 2, 2, 2, 1, 2, 0, 2, 0, 2, 2, 0, 0, 1, 1, 2, 1, 2, 0, 2, 2, 0, 2, 2, 2, 2, 2, 2, 0, 2, 0, 2, 2, 1, 1, 0, 2, 0, 2, 2, 0, 1, 0, 2, 0, 0, 0, 0, 0, 0, 0, 0, 0, 0, 2, 0, 1, 1, 2, 0, 2, 0, 0, 1, 2, 2, 2, 0, 1, 0, 1, 1, 2, 2, 1, 2, 0, 2, 0, 0, 0, 0, 2, 0, 2, 2, 2, 2, 1, 0, 2, 2, 2, 0, 1, 1, 2, 2, 2, 0, 0, 2, 0, 2, 0, 1, 2, 1, 0, 2, 2, 2, 0, 2, 2, 1, 2, 1, 2, 0, 0, 0, 2, 1, 2, 2, 2, 2, 0, 1, 0, 0, 0, 0, 1, 1, 1, 1, 2, 2, 1, 0, 0, 0, 0, 0, 2, 2, 0, 1, 0, 2, 0, 2, 2, 2, 0, 0, 0, 1, 1, 1, 0, 2, 1, 0, 0, 2, 0, 0, 2, 2, 2, 2, 1, 1, 0, 2, 0, 2, 2, 2, 1, 0, 2, 0, 0, 0, 1, 2, 0, 0, 1, 2, 0, 0, 2, 2, 1, 2, 2, 2, 1, 2, 2, 1, 0, 0, 0, 1, 0, 0, 2, 2, 0, 1, 0, 2, 0, 1, 0, 2, 1, 2, 1, 2, 2, 0, 1, 0, 1, 2, 2, 1, 0, 1, 2, 0, 0, 0, 0, 0, 1, 1, 2, 0, 0, 0, 0, 1, 1, 0, 2, 0, 0, 0, 2, 2, 2, 0, 0, 2, 0, 0, 2, 2, 2, 0, 1, 2, 2, 2, 2, 0, 1, 0, 2, 0, 0, 0, 0, 0, 0, 2, 0, 2, 2, 0, 2, 2, 1, 2, 0, 0, 0, 0, 1, 2, 2, 2, 2, 1, 1, 0, 1, 1, 1, 2, 0, 0, 2, 2, 2, 0, 2, 2, 0, 0, 0, 0, 0, 2, 1, 1, 1, 0, 1, 0, 0, 0, 0, 1, 0, 0, 1, 2, 2, 2, 1, 2, 2, 1, 0, 2, 2, 0, 0, 0, 1, 2, 2, 1, 2, 1, 1, 1, 0, 2, 2, 2, 0, 1, 0, 2, 0, 0, 0, 2, 2, 1, 2, 1, 0, 2, 2, 1, 1, 2, 1, 1, 2, 2, 2, 2, 0, 1, 1, 0, 0, 0, 1, 1, 0, 1, 2, 2, 2, 0, 1, 0, 2, 2, 2, 0, 1, 0, 2, 2, 1, 2, 1, 1, 0, 2, 0, 1, 0, 2, 1, 2, 0, 1, 2, 0, 0, 1, 1, 0, 2, 1, 2, 0, 0, 1, 0, 2, 2, 2, 0, 0, 1, 0, 1, 1, 1, 1, 2, 2, 2, 1, 1, 0, 2, 0, 2, 1, 0, 0, 2, 2, 1, 2, 2, 2, 2, 0, 0, 0, 2, 0, 0, 0, 0, 0, 1, 2, 0, 0, 0, 1, 0, 0, 2, 2, 2, 1, 0, 0, 2, 0, 0, 0, 0, 0, 0, 2, 0, 0, 1, 0, 1, 0, 2, 2, 0, 0, 0, 0, 2, 2, 2, 2, 2, 2, 2, 2, 2, 2, 2, 2, 2, 0, 0, 2, 0, 2, 0, 1, 2, 0, 2, 2, 1, 0, 2, 0, 2, 0, 0, 0, 0, 2, 2, 0, 0, 0, 0, 1, 0, 1, 1, 0, 1, 1, 0, 2, 0, 0, 0, 0, 0, 1, 0, 2, 1, 0, 2, 2, 0, 0, 0, 2, 0, 2, 2, 2, 2, 2, 1, 1, 2, 2, 0, 0, 1, 2, 2, 2, 1, 2, 2, 0, 0, 1, 2, 2, 0, 2, 2, 0, 1, 2, 0, 2, 0, 2, 2, 0, 1, 0, 0, 1, 0, 0, 0, 1, 0, 0, 0, 0, 2, 2, 0, 0, 0, 0, 0, 2, 0, 2, 2, 0, 0, 1, 1, 0, 1, 0, 0, 0, 0, 2, 2, 2, 1, 2, 0, 2, 0, 2, 2, 0, 2, 1, 2, 0, 2, 2, 0, 0, 1, 0, 2, 1, 2, 0, 0, 1, 2, 1, 2, 2, 0, 0, 2, 0, 0, 2, 0, 1, 1, 2, 2, 2, 0, 2, 2, 1, 1, 2, 2, 0, 0, 2, 2, 1, 1, 2, 0, 0, 0, 1, 0, 0, 1, 1, 0, 0, 0, 1, 2, 0, 1, 0, 0, 0, 2, 2, 1, 2, 0, 2, 2, 0, 0, 1, 1, 2, 2, 0, 2, 2, 0, 1, 2, 2, 0, 0, 1, 2, 2, 2, 1, 0, 0, 2, 1, 0, 0, 2, 0, 1, 1, 2, 2, 1, 0, 2, 0, 2, 2, 0, 1, 1, 1, 0, 1, 0, 0, 2, 2, 0, 1, 0, 2, 1, 1, 0, 1, 1, 0, 0, 2, 0, 1, 2, 1, 1, 1, 1, 0, 1, 2, 2, 2, 2, 1, 2, 2, 2, 2, 0, 0, 2, 1, 2, 1, 1, 0, 1, 0, 1, 0, 0, 2, 0, 0, 0, 0, 0, 2, 2, 0, 0, 0, 0, 0, 2, 1, 0, 0, 0, 0, 0, 2, 1, 0, 1, 0, 2, 0, 0, 2, 2, 0, 0, 2, 0, 0, 0, 0, 2, 2, 2, 0, 0, 0, 1, 2, 0, 2, 2, 0, 2, 1, 0, 2, 0, 2, 0, 1, 2, 2, 2, 2, 0, 0, 0, 2, 1, 0, 2, 2, 2, 0, 1, 1, 2, 1, 2, 0, 2, 2, 2, 2, 2, 2, 2, 1, 2, 0, 2, 0, 2, 1, 2, 2, 2, 2, 2, 2, 1, 0, 1, 0, 0, 2, 2, 2, 0, 0, 0, 0, 0, 1, 0, 1, 1, 2, 0, 1, 1, 2, 0, 0, 1, 0, 0, 1, 2, 0, 2, 2, 0, 0, 1, 0, 0, 1, 2, 0, 0, 0, 0, 2, 0, 0, 0, 0, 2, 1, 2, 0, 2, 1, 0, 1, 0, 2, 0, 0, 2, 2, 0, 0, 2, 2, 1, 1, 0, 1, 0, 0, 0, 0, 2, 0, 0, 0, 2, 1, 0, 2, 1, 2, 1, 0, 1, 0, 0, 0, 1, 0, 2, 2, 0, 2, 0, 2, 0, 0, 2, 0, 0, 0, 1, 1, 2, 0, 0, 1, 0, 2, 2, 1, 1, 1, 1, 2, 2, 0, 1, 0, 2, 0, 2, 2, 1, 0, 0, 2, 0, 0, 1, 0, 1, 2, 2, 1, 0, 0, 0, 0, 2, 0, 0, 1, 2, 0, 2, 2, 2, 0, 0, 2, 2, 0, 2, 2, 2, 1, 0, 1, 0, 2, 2, 0, 1, 2, 1, 2, 0, 0, 2, 0, 2, 0, 0, 2, 2, 1, 2, 0, 1, 0, 0, 2, 1, 0, 2, 1, 0, 1, 1, 0, 1, 1, 0, 0, 0, 0, 1, 1, 0, 0, 0, 2, 0, 1, 0, 0, 1, 2, 0, 0, 0, 0, 2, 0, 0, 0, 0, 1, 0, 0, 0, 1, 1, 1, 1, 0, 0, 2, 0, 0, 0, 2, 1, 1, 2, 0, 1, 1, 1, 1, 2, 0, 1, 2, 0, 0, 2, 0, 0, 1, 0, 0, 0, 0, 0, 0, 1, 0, 0, 2, 2, 0, 2, 2, 2, 1, 0, 0, 2, 0, 0, 1, 0, 0, 0, 1, 0, 0, 1, 0, 0, 0, 0, 0, 2, 1, 0, 0, 0, 2, 2, 1, 1, 1, 0, 1, 0, 0, 0, 0, 0, 0, 0, 1, 2, 2, 0, 0, 2, 1, 2, 1, 2, 0, 2, 0, 2, 0, 1, 2, 2, 2, 2, 2, 2, 0, 1, 2, 2, 2, 2, 0, 0, 2, 2, 2, 2, 0, 2, 2, 0, 0, 2, 2, 0, 0, 0, 0, 1, 2, 0, 0, 2, 1, 2, 1, 0, 2, 0, 1, 0, 0, 2, 1, 0, 0, 0, 1, 1, 1, 1, 1, 2, 0, 1, 2, 0, 0, 0, 0, 0, 0, 0, 0, 0, 2, 0, 1, 0, 1, 0, 2, 2, 2, 0, 0, 2, 0, 2, 0, 2, 0, 1, 2, 0, 2, 0, 0, 0, 2, 0, 0, 1, 0, 2, 2, 0, 0, 2, 2, 0, 2, 0, 2, 2, 0, 0, 2, 0, 0, 0, 0, 2, 0, 0, 2, 1, 2, 0, 0, 0, 0, 0, 0, 0, 2, 0, 0, 0, 1, 0, 0, 2, 0, 0, 1, 0, 0, 0, 0, 1, 0, 0, 1, 1, 2, 0, 1, 1, 2, 0, 0, 2, 2, 0, 1, 1, 2, 2, 2, 0, 0, 2, 2, 0, 2, 0, 2, 2, 2, 2, 2, 2, 0, 0, 2, 2, 2, 0, 0, 0, 0, 2, 2, 2, 1, 2, 0, 0, 0, 0, 0, 1, 1, 0, 1, 0, 0, 0, 0, 0, 0, 2, 2, 0, 0, 2, 0, 0, 2, 2, 0, 0, 0, 0, 0, 2, 0, 0, 1, 0, 0, 0, 0, 1, 0, 0, 1, 1, 1, 2, 0, 1, 0, 0, 0, 2, 2, 2, 0, 0, 1, 1, 2, 2, 0, 0, 0, 0, 0, 0, 2, 0, 0, 0, 2, 0, 0, 0, 1, 0, 0, 2, 2, 2, 0, 1, 0, 0, 2, 2, 2, 2, 1, 0, 2, 1, 1, 0, 1, 1, 1, 2, 1, 0, 0, 0, 2, 1, 1, 2, 1, 2, 1, 0, 2, 0, 2, 1, 0, 2, 2, 0, 2, 1, 0, 0, 0, 0, 0, 0, 2, 2, 0, 0, 0, 1, 0, 0, 0, 0, 0, 0, 0, 2, 0, 2, 2, 2, 0, 2, 1, 2, 0, 0, 1, 2, 0, 0, 1, 1, 1, 2, 2, 2, 2, 2, 2, 0, 1, 2, 2, 1, 2, 0, 1, 1, 0, 2, 1, 2, 1, 2, 1, 0, 0, 0, 0, 0, 2, 2, 2, 1, 2, 2, 1, 0, 1, 0, 1, 1, 0, 0, 0, 0, 2, 0, 2, 2, 1, 0, 0, 2, 1, 0, 0, 2, 1, 0, 2, 0, 0, 0, 0, 0, 0, 0, 0, 0, 0, 2, 1, 0, 1, 2, 0, 0, 2, 0, 0, 0, 0, 0, 1, 2, 2, 1, 0, 0, 2, 0, 0, 2, 2, 0, 0, 0, 0, 1, 1, 2, 2, 1, 0, 1, 0, 2, 1, 0, 2, 0, 0, 0, 0, 1, 0, 0, 2, 0, 1, 0, 2, 0, 0, 2, 2, 2, 2, 1, 2, 0, 2, 1, 0, 2, 1, 1, 0, 0, 1, 0, 2, 2, 0, 0, 2, 0, 0, 2, 0, 0, 1, 2, 0, 0, 0, 2, 2, 2, 2, 1, 1, 2, 1, 1, 2, 2, 2, 2, 2, 2, 2, 1, 1, 1, 0, 1, 2, 1, 1, 2, 0, 2, 1, 2, 0, 1, 1, 0, 2, 2, 0, 0, 2, 2, 1, 0, 0, 2, 1, 0, 2, 2, 0, 1, 2, 0, 1, 0, 0, 0, 2, 0, 2, 0, 1, 0, 0, 0, 0, 0, 1, 1, 2, 1, 2, 0, 2, 2, 0, 2, 0, 2, 0, 0, 0, 0, 0, 0, 1, 1, 0, 1, 0, 0, 0, 0, 0, 2, 0, 0, 2, 1, 0, 2, 0, 0, 0, 1, 0, 1, 0, 0, 0, 0, 2, 0, 1, 1, 1, 2, 1, 0, 1, 1, 0, 2, 0, 2, 2, 2, 1, 0, 1, 0, 2, 1, 0, 2, 1, 0, 2, 0, 2, 0, 2, 0, 0, 1, 0, 2, 2, 2, 1, 2, 0, 2, 2, 1, 0, 2, 1, 0, 0, 2, 2, 2, 0, 2, 1, 0, 0, 2, 2, 0, 0, 1, 1, 0, 2, 1, 0, 0, 2, 2, 2, 2, 0, 0, 1, 0, 0, 0, 1, 2, 0, 0, 2, 2, 0, 1, 0, 0, 0, 2, 2, 2, 2, 2, 0, 2, 2, 0, 0, 0, 0, 0, 0, 2, 1, 2, 1, 1, 1, 0, 0, 0, 2, 0, 1, 2, 2, 2, 1, 0, 0, 0, 0, 0, 0, 1, 2, 0, 0, 1, 1, 1, 0, 0, 2, 1, 0, 1, 2, 0, 1, 1, 0, 2, 0, 1, 2, 1, 0, 2, 1, 2, 2, 1, 0, 1, 0, 2, 0, 1, 0, 0, 0, 0, 0, 2, 2, 1, 2, 2, 0, 0, 1, 1, 2, 1, 0, 2, 2, 0, 0, 0, 0, 2, 0, 0, 0, 0, 0, 0, 2, 0, 0, 2, 2, 0, 2, 2, 2, 2, 1, 1, 2, 1, 2, 0, 2, 2, 0, 1, 0, 0, 1, 2, 0, 1, 1, 1, 1, 0, 2, 0, 2, 2, 0, 2, 0, 0, 0, 2, 2, 0, 0, 0, 2, 0, 0, 0, 0, 0, 0, 0, 2, 0, 2, 0, 2, 0, 0, 0, 0, 2, 2, 2, 0, 0, 2, 0, 0, 2, 0, 0, 1, 0, 0, 0, 0, 0, 2, 0, 0, 0, 0, 0, 2, 0, 1, 0, 1, 2, 0, 2, 0, 2, 2, 0, 0, 0, 0, 0, 1, 1, 0, 0, 2, 0, 2, 2, 2, 0, 0, 0, 0, 0, 2, 0, 2, 0, 2, 2, 0, 2, 0, 1, 2, 2, 2, 1, 0, 0, 0, 1, 0, 1, 0, 0, 0, 0, 0, 1, 1, 2, 2, 2, 0, 0, 1, 1, 1, 0, 0, 0, 2, 2, 1, 2, 1, 0, 2, 1, 1, 2, 0, 0, 2, 2, 2, 0, 1, 2, 2, 0, 1, 2, 0, 0, 0, 2, 0, 0, 0, 2, 0, 2, 0, 2, 1, 2, 2, 1, 1, 1, 2, 0, 1, 1, 0, 1, 0, 1, 2, 2, 1, 1, 1, 1, 1, 0, 0, 0, 2, 1, 2, 1, 2, 0, 0, 0, 2, 0, 2, 1, 1, 1, 2, 2], \"coloraxis\": \"coloraxis\", \"symbol\": \"circle\"}, \"mode\": \"markers+text\", \"name\": \"\", \"showlegend\": false, \"text\": [\"Smoke\", \"drizzle\", \"jostling\", \"losing\", \"slipping\", \"sliding\", \"deposits\", \"sticking\", \"accumulating\", \"Fog\", \"fog\", \"flows\", \"rolls\", \"creeping\", \"hovering\", \"drooping\", \"wheezing\", \"pinching\", \"peeping\", \"Gas\", \"looming\", \"lighted\", \"gas\", \"addressed\", \"contemplation\", \"engaged\", \"tripping\", \"groping\", \"running\", \"mentioned\", \"yawning\", \"come\", \"plants\", \"keeps\", \"drones\", \"blew\", \"observed\", \"handled\", \"correcting\", \"tickled\", \"acquired\", \"infection\", \"see\", \"pretence\", \"lowering\", \"temper\", \"born\", \"married\", \"died\", \"issue\", \"still-born\", \"improved\", \"adding\", \"Married\", \"birth\", \"inserting\", \"lost\", \"settled\", \"death\", \"introduction\", \"forced\", \"excursions\", \"found\", \"confirmed\", \"invited\", \"seen\", \"encouraged\", \"expected\", \"tidings\", \"purchased\", \"uniting\", \"summoned\", \"retired\", \"entered\", \"brought\", \"welded\", \"resolved\", \"provisioned\", \"precautions\", \"provided\", \"entertained\", \"ball\", \"masquerade\", \"held\", \"illumined\", \"appearances\", \"fire\", \"projected\", \"streamed\", \"look\", \"f\\u00eate\", \"revel\", \"dreams\", \"glare\", \"glitter\", \"piquancy\", \"phantasm\", \"unsuited\", \"fancies\", \"stalked\", \"writhed\", \"taking\", \"causing\", \"strikes\", \"voice\", \"echoes\", \"chime\", \"die\", \"endured\", \"laughter\", \"depart\", \"floats\", \"swells\", \"writhe\", \"stream\", \"waning\", \"appals\", \"peal\", \"indulged\", \"gaieties\", \"reaches\", \"beat\", \"sounding\", \"ceased\", \"music\", \"evolutions\", \"quieted\", \"cessation\", \"revelled\", \"rumour\", \"presence\", \"buzz\", \"murmur\", \"disapprobation\", \"surprise\", \"terror\", \"horror\", \"disgust\", \"made\", \"assume\", \"looked\", \"smiled\", \"vows\", \"chiming\", \"disconcert\", \"tremulousness\", \"meditation\", \"told\", \"painted\", \"pause\", \"performance\", \"harken\", \"sound\", \"rang\", \"pale\", \"passed\", \"swung\", \"clang\", \"constrained\", \"stiff-frozen\", \"strokes\", \"aware\", \"pestilence\", \"walking\", \"nod\", \"inclined\", \"came\", \"met\", \"rode\", \"hummed\", \"said\", \"halted\", \"turned\", \"reply\", \"hesitation\", \"discovery\", \"hunting\", \"give\", \"concluded\", \"smacking\", \"explained\", \"tracing\", \"asked\", \"Concluding\", \"doubts\", \"retailing\", \"gone\", \"walked\", \"sat\", \"depositing\", \"appeared\", \"pursued\", \"seeing\", \"quickened\", \"frowned\", \"order\", \"call\", \"telling\", \"announcement\", \"declining\", \"stretched\", \"contemplated\", \"continued\", \"been\", \"put\", \"produced\", \"estimate\", \"investigations\", \"admit\", \"record\", \"add\", \"conferred\", \"abrogation\", \"received\", \"hint\", \"insisted\", \"fervid\", \"assured\", \"gesticulating\", \"thrust\", \"intimated\", \"submission\", \"appeal\", \"saw\", \"resolving\", \"presented\", \"declare\", \"act\", \"advent\", \"deemed\", \"favor\", \"sent\", \"handed\", \"awakened\", \"crosser\", \"stammered\", \"passion\", \"kicked\", \"repeated\", \"slunk\", \"hurried\", \"wandered\", \"play\", \"pretended\", \"stuck\", \"angry\", \"muttering\", \"grinding\", \"heard\", \"talking\", \"stared\", \"lifted\", \"say\", \"answered\", \"wrung\", \"cried\", \"party\", \"wailing\", \"clutched\", \"shivering\", \"grew\", \"gasped\", \"ran\", \"cholera\", \"ill\", \"wailed\", \"dead\", \"run\", \"dying\", \"hid\", \"panic\", \"forgotten\", \"slept\", \"sounds\", \"crept\", \"ate\", \"drank\", \"drowsy\", \"went\", \"shut\", \"frightened\", \"cries\", \"sleepy\", \"lay\", \"wails\", \"carried\", \"wondered\", \"noise\", \"hurrying\", \"waiting\", \"rustling\", \"gliding\", \"watching\", \"slipped\", \"watched\", \"talked\", \"opened\", \"frowning\", \"hungry\", \"startled\", \"drawing\", \"thought\", \"asleep\", \"wakened\", \"exclaimed\", \"turning\", \"stayed\", \"saying\", \"footsteps\", \"neglected\", \"struck\", \"sinking\", \"lined\", \"awaiting\", \"clung\", \"start\", \"turn\", \"noticed\", \"looking\", \"muttered\", \"flushed\", \"lowered\", \"proud\", \"took\", \"closed\", \"lain\", \"list\", \"answer\", \"command\", \"greeted\", \"blocked\", \"blocking\", \"unpopular\", \"assenting\", \"anxiety\", \"pounced\", \"declared\", \"persuade\", \"ordered\", \"chuckled\", \"sighed\", \"nodded\", \"hinted\", \"assure\", \"interrupted\", \"led\", \"catching\", \"conversation\", \"murmured\", \"rose\", \"collected\", \"ensconced\", \"added\", \"rousing\", \"poured\", \"bite\", \"helped\", \"left\", \"Promoted\", \"promoted\", \"check\", \"row\", \"meeting\", \"affecting\", \"Reproved\", \"visiting\", \"resumed\", \"success\", \"inquired\", \"confessed\", \"resume\", \"intervened\", \"combed\", \"wounded\", \"demobbed\", \"appealed\", \"launched\", \"chosen\", \"happened\", \"Armistice\", \"tired\", \"peeped\", \"reading\", \"considering\", \"hear\", \"occurred\", \"TOOK\", \"started\", \"flashed\", \"pop\", \"falling\", \"wonder\", \"tried\", \"disappointment\", \"fell\", \"fall\", \"fallen\", \"got\", \"began\", \"spoke\", \"hope\", \"wish\", \"dream\", \"jumped\", \"sight\", \"trying\", \"wondering\", \"fitted\", \"knelt\", \"longed\", \"think\", \"taste\", \"finding\", \"finished\", \"brightened\", \"waited\", \"Adverb\", \"dozing\", \"nervous\", \"Coming\", \"gossiping\", \"returned\", \"pulled\", \"sprang\", \"introduced\", \"drove\", \"followed\", \"measure\", \"glances\", \"disapproval\", \"inspection\", \"sifted\", \"caught\", \"drew\", \"leaned\", \"regarded\", \"smoked\", \"fanning\", \"hot\", \"bellowed\", \"glance\", \"examined\", \"lift\", \"irritating\", \"tickling\", \"sneered\", \"sprinkled\", \"slurred\", \"civility\", \"stare\", \"pronounced\", \"curl\", \"bent\", \"undid\", \"revealing\", \"straightened\", \"ignoring\", \"swore\", \"discovered\", \"scratched\", \"ripped\", \"shook\", \"mounted\", \"disturbed\", \"jingling\", \"discussed\", \"eyeing\", \"stated\", \"gamble\", \"tribute\", \"reminds\", \"remarked\", \"Ambling\", \"laughed\", \"fleered\", \"jerked\", \"agreed\", \"joke\", \"blazing\", \"offense\", \"take\", \"go\", \"remember\", \"plodding\", \"following\", \"whistling\", \"breaking\", \"rapped\", \"called\", \"lingering\", \"says\", \"threw\", \"set\", \"learn\", \"taken\", \"promised\", \"crossed\", \"dinner\", \"observing\", \"pipe\", \"supposed\", \"talk\", \"flapped\", \"stopped\", \"glared\", \"oath\", \"spoken\", \"described\", \"hearing\", \"speaking\", \"pouring\", \"leapt\", \"played\", \"flung\", \"amusement\", \"awkwardness\", \"increased\", \"mist\", \"walk\", \"thickened\", \"reached\", \"suspended\", \"joined\", \"leaning\", \"remarking\", \"broke\", \"cursed\", \"exchanged\", \"glanced\", \"replied\", \"stirred\", \"compressing\", \"danger\", \"reddened\", \"remark\", \"speculation\", \"hits\", \"lying\", \"depicted\", \"written\", \"read\", \"displaying\", \"decided\", \"built\", \"control\", \"attended\", \"checked\", \"dealing\", \"demanded\", \"interposed\", \"announced\", \"rejecting\", \"silenced\", \"detected\", \"controlling\", \"consolation\", \"increase\", \"wind\", \"wandering\", \"clouds\", \"rain\", \"dispensed\", \"possessed\", \"care\", \"gathering\", \"drawn\", \"studied\", \"cloud\", \"sweeping\", \"blast\", \"formed\", \"surveying\", \"paused\", \"calling\", \"wished\", \"trembled\", \"idea\", \"seating\", \"gesture\", \"thrusting\", \"mused\", \"tottered\", \"regaining\", \"impudence\", \"answering\", \"fetched\", \"did\", \"poise\", \"stand\", \"cry\", \"hit\", \"striking\", \"cutting\", \"bled\", \"pain\", \"climax\", \"feelings\", \"sharp\", \"glancing\", \"pinning\", \"newly-risen\", \"retreated\", \"defeat\", \"blows\", \"erection\", \"vanished\", \"emerged\", \"accepted\", \"promise\", \"shrunken\", \"listened\", \"verbiage\", \"resentment\", \"coined\", \"juggled\", \"poised\", \"regard\", \"wrapping\", \"disputed\", \"tossed\", \"raised\", \"disappeared\", \"gave\", \"crashing\", \"gulps\", \"outlined\", \"speech\", \"silent\", \"thoughtful\", \"sensation\", \"sickness\", \"off\", \"buttered\", \"smile\", \"folded\", \"drawled\", \"glint\", \"donned\", \"teased\", \"writing\", \"washed\", \"temptation\", \"shower\", \"enjoy\", \"answers\", \"completing\", \"recorded\", \"travelled\", \"effaced\", \"astonished\", \"Looking\", \"opening\", \"rush\", \"entering\", \"beginning\", \"coming\", \"vowed\", \"delight\", \"breath\", \"consented\", \"blossomed\", \"varnished\", \"burst\", \"flowered\", \"delighted\", \"let\", \"invitation\", \"flatter\", \"abuse\", \"visit\", \"disclosed\", \"Observing\", \"scolding\", \"coughing\", \"tear\", \"adjusting\", \"paid\", \"astonishment\", \"joy\", \"raptures\", \"trimming\", \"sorry\", \"afraid\", \"feeding\", \"growled\", \"seized\", \"pleaded\", \"staring\", \"pointed\", \"emptied\", \"licking\", \"shake\", \"expressed\", \"tilted\", \"question\", \"dip\", \"roll\", \"keeping\", \"faltered\", \"hugged\", \"clasping\", \"limped\", \"picking\", \"going\", \"hugging\", \"impression\", \"soaked\", \"smothered\", \"lamed\", \"cut\", \"stung\", \"torn\", \"gained\", \"sinister\", \"sullen\", \"arose\", \"wheeled\", \"melted\", \"murmuring\", \"dropped\", \"listening\", \"split\", \"whispered\", \"stepped\", \"closing\", \"hung\", \"harkened\", \"starting\", \"fearing\", \"fluttered\", \"danced\", \"hesitated\", \"impelled\", \"power\", \"shrinking\", \"song\", \"fear\", \"note\", \"smoke\", \"shouting\", \"peering\", \"flew\", \"dancing\", \"twined\", \"twirled\", \"flickered\", \"motion\", \"sang\", \"forgot\", \"dazzled\", \"bewildered\", \"fascinated\", \"whirl\", \"panting\", \"awoke\", \"peered\", \"blurred\", \"crowding\", \"fled\", \"stumbling\", \"feeling\", \"voices\", \"toiled\", \"haste\", \"struggling\", \"sank\", \"exhausted\", \"trembling\", \"drifted\", \"sleep\", \"sifting\", \"remembered\", \"bethought\", \"vision\", \"waving\", \"flying\", \"determination\", \"gazed\", \"dreaming\", \"abstracted\", \"alert\", \"quizzical\", \"laughing\", \"challenged\", \"bridled\", \"scoffed\", \"asserted\", \"scornful\", \"soft\", \"waking\", \"daydream\", \"noting\", \"glinting\", \"fumbling\", \"Untying\", \"clapped\", \"bounded\", \"flitted\", \"swaying\", \"dripping\", \"draught\", \"touched\", \"shock\", \"rained\", \"brightening\", \"still\", \"mischief\", \"hopped\", \"nestled\", \"pointing\", \"admitted\", \"faded\", \"crouched\", \"puzzled\", \"supper\", \"warmth\", \"cheer\", \"fared\", \"address\", \"refuse\", \"misinterpreted\", \"request\", \"difference\", \"storming\", \"concerned\", \"assault\", \"event\", \"believe\", \"treating\", \"wrangle\", \"sally\", \"separated\", \"forded\", \"planted\", \"fighting\", \"orders\", \"excesses\", \"loaded\", \"plunder\", \"confusion\", \"conquest\", \"frenzy\", \"slaughter\", \"riot\", \"disgraced\", \"jests\", \"catchwords\", \"plundering\", \"break\", \"yelling\", \"dread\", \"crowded\", \"rushed\", \"attendance\", \"throng\", \"proclamation\", \"words\", \"shouted\", \"stripped\", \"escaped\", \"Preserved\", \"removed\", \"transported\", \"worshipped\", \"completed\", \"breathed\", \"commanded\", \"bowed\", \"predicted\", \"polluted\", \"broken\", \"sacrilege\", \"perished\", \"possession\", \"placed\", \"won\", \"STORMING\", \"Extracted\", \"revert\", \"stored\", \"entrusted\", \"wedding\", \"sit\", \"recalled\", \"marriage\", \"chatted\", \"maintain\", \"exertions\", \"flow\", \"ideas\", \"hoped\", \"animated\", \"inquiries\", \"grief\", \"loss\", \"adverb\", \"repeating\", \"exclamation\", \"Seating\", \"quitting\", \"withdrew\", \"playing\", \"bustling\", \"directions\", \"crinkled\", \"mass\", \"croquet\", \"lit\", \"drag\", \"gaze\", \"advancing\", \"approach\", \"seated\", \"facing\", \"plunge\", \"surveyed\", \"reminded\", \"given\", \"understanding\", \"laugh\", \"sparkled\", \"adventure\", \"realized\", \"yawned\", \"proposed\", \"instructed\", \"prepared\", \"holding\", \"lifting\", \"descended\", \"shrugged\", \"felt\", \"understood\", \"nodding\", \"wanted\", \"kissed\", \"rolled\", \"saving\", \"gathered\", \"reflected\", \"fan\", \"puffs\", \"performing\", \"strolled\", \"amused\", \"entrance\", \"undressed\", \"piled\", \"utterances\", \"leaving\", \"assumed\", \"recommending\", \"submitted\", \"imitation\", \"watered\", \"tears\", \"catastrophe\", \"settling\", \"accident\", \"circumstance\", \"returning\", \"journey\", \"desire\", \"pass\", \"pacing\", \"work\", \"risen\", \"problem\", \"shown\", \"waved\", \"indicated\", \"fancy\", \"observe\", \"deduce\", \"changed\", \"fail\", \"rubbed\", \"tell\", \"scraped\", \"caused\", \"remove\", \"deduction\", \"lighting\", \"throwing\", \"wrote\", \"endeavouring\", \"comes\", \"out\", \"outburst\", \"plumes\", \"covered\", \"ended\", \"signalised\", \"differing\", \"connected\", \"thunders\", \"wagged\", \"sunset\", \"preferred\", \"sauntered\", \"leave\", \"gratified\", \"preparing\", \"attracted\", \"cavalcade\", \"blushed\", \"recollected\", \"blush\", \"recollection\", \"beholding\", \"emotion\", \"witnessed\", \"driving\", \"proceed\", \"determined\", \"designs\", \"Arriving\", \"dismounted\", \"sending\", \"proceeded\", \"illuminated\", \"composure\", \"intention\", \"open\", \"overtook\", \"compliments\", \"begged\", \"ingratiate\", \"parting\", \"marrying\", \"arrived\", \"enquired\", \"tapped\", \"bid\", \"rivetted\", \"fixed\", \"painting\", \"shaking\", \"offered\", \"wiped\", \"cast\", \"drop\", \"blotted\", \"discoloured\", \"addressing\", \"thinking\", \"hushed\", \"odour\", \"scent\", \"perfume\", \"smoking\", \"catch\", \"effect\", \"shouldering\", \"circling\", \"insistence\", \"roar\", \"disappearance\", \"tossing\", \"elevated\", \"whorls\", \"strolling\", \"insist\", \"expression\", \"speak\", \"abducted\", \"discharged\", \"approaching\", \"pressed\", \"shudder\", \"darkened\", \"showed\", \"protest\", \"accents\", \"rising\", \"feigning\", \"protested\", \"belied\", \"sigh\", \"supported\", \"assisted\", \"desirable\", \"leading\", \"declined\", \"proffered\", \"bit\", \"aloof\", \"making\", \"picked\", \"lurked\", \"cluttered\", \"clutching\", \"seizure\", \"listen\", \"moved\", \"filtering\", \"place\", \"chord\", \"roamed\", \"thrill\", \"shattering\", \"regarding\", \"offended\", \"resented\", \"eating\", \"irritability\", \"anticipated\", \"shot\", \"grunted\", \"celebrated\", \"victory\", \"putting\", \"sniffing\", \"Smoking\", \"helplessness\", \"recoiling\", \"researches\", \"draft\", \"infuriated\", \"cleared\", \"mount\", \"tapping\", \"approval\", \"arranged\", \"whirring\", \"rippling\", \"breeze\", \"working\", \"Reaching\", \"partial\", \"begun\", \"swayed\", \"pretend\", \"alluding\", \"learned\", \"waxing\", \"smelling\", \"knocking\", \"learning\", \"breakfast\", \"drinking\", \"served\", \"selected\", \"buried\", \"poked\", \"pronouncing\", \"perceived\", \"counted\", \"rejoined\", \"thanked\", \"compliment\", \"astride\", \"attacked\", \"straightening\", \"converted\", \"springing\", \"kicking\", \"jump\", \"scattering\", \"acquaintance\", \"standing\", \"observation\", \"bought\", \"responded\", \"write\", \"claim\", \"betook\", \"attention\", \"gratification\", \"escorted\", \"inherited\", \"sale\", \"lamentations\", \"sold\", \"step\", \"appearance\", \"commenced\", \"bidding\", \"hold\", \"breathless\", \"visitation\", \"shaken\", \"consequence\", \"scattered\", \"appearing\", \"present\", \"asking\", \"grimace\", \"faced\", \"groan\", \"reproach\", \"charmed\", \"adjured\", \"inference\", \"fix\", \"quitted\", \"handshook\", \"communicative\", \"had\", \"wonders\", \"committed\", \"departed\", \"professed\", \"apparition\", \"kick\", \"episode\", \"organizing\", \"imagined\", \"arrive\", \"chinked\", \"doubled\", \"affirmative\", \"tightened\", \"shutting\", \"rage\", \"grappled\", \"twist\", \"struggled\", \"fury\", \"lolling\", \"ebbed\", \"glazed\", \"flagged\", \"jolted\", \"shriek\", \"anger\", \"quick\", \"choked\", \"hiding\", \"struggle\", \"grumbled\", \"calculated\", \"attempted\", \"thrown\", \"filing\", \"nursing\", \"rattled\", \"expecting\", \"twisted\", \"growl\", \"stormed\", \"raged\", \"assailed\", \"allowed\", \"carted\", \"trucked\", \"deposited\", \"mauling\", \"headed\", \"deposition\", \"cheated\", \"fever\", \"trekked\", \"spending\", \"overcharged\", \"weighed\", \"transhipped\", \"excited\", \"suspected\", \"ascertained\", \"referring\", \"mistake\", \"anticipating\", \"trip\", \"excitement\", \"burned\", \"cleansed\", \"erected\", \"shrank\", \"contact\", \"wakes\", \"fair\", \"whine\", \"rushing\", \"stood\", \"tooting\", \"braying\", \"quivered\", \"wrong\", \"whining\", \"wizzening\", \"trudged\", \"pistol-shots\", \"cracks\", \"screeching\", \"shouts\", \"screeches\", \"gazing\", \"killed\", \"spent\", \"lamented\", \"smelled\", \"change\", \"rest\", \"drifting\", \"flood\", \"haze\", \"toying\", \"satisfied\", \"shone\", \"sombre\", \"appear\", \"stir\", \"boarded\", \"regret\", \"thoughts\", \"kiss\", \"touch\", \"clacked\", \"passing\", \"replaced\", \"conjectures\", \"termed\", \"pulling\", \"conscious\", \"fidgetting\", \"intuition\", \"prevailed\", \"agreeable\", \"sprung\", \"marked\", \"aroused\", \"clew\", \"ache\", \"affected\", \"realised\", \"smiling\", \"mingling\", \"interest\", \"growing\", \"amazement\", \"offer\", \"decline\", \"acknowledge\", \"planned\", \"dash\", \"ask\", \"flutter\", \"reassured\", \"studying\", \"witticism\", \"dragged\", \"whimpering\", \"tucked\", \"deploring\", \"escapade\", \"longing\", \"fought\", \"objections\", \"woke\", \"gong\", \"racket\", \"dressed\", \"explored\", \"sought\", \"plunged\", \"persuasive\", \"hypnotized\", \"aghas\", \"consider\", \"clashed\", \"intend\", \"snowy\", \"sunny\", \"sparkling\", \"grumbling\", \"tiptoed\", \"accept\", \"return\", \"receiving\", \"deliberate\", \"drowned\", \"shivered\", \"crying\", \"wringing\", \"mewing\", \"clinging\", \"chased\", \"stooped\", \"wipe\", \"projecting\", \"tease\", \"mewed\", \"unwound\", \"tied\", \"bared\", \"blowing\", \"severity\", \"predicament\", \"darted\", \"ascent\", \"colder\", \"tearing\", \"tearful\", \"tying\", \"stabbed\", \"saddened\", \"laying\", \"do\", \"meant\", \"generosity\", \"peevish\", \"wrangled\", \"guise\", \"leant\", \"repressing\", \"shocked\", \"sympathized\", \"repressed\", \"persisted\", \"thumped\", \"displeasure\", \"toy\", \"censured\", \"mumbled\", \"decision\", \"reversed\", \"parted\", \"revealed\", \"apologizing\", \"lateness\", \"exclaiming\", \"expect\", \"forward\", \"beckoned\", \"glad\", \"filling\", \"appointed\", \"enjoying\", \"informed\", \"advice\", \"bow\", \"whinnied\", \"box\", \"trotted\", \"chase\", \"frost\", \"pricked\", \"cantered\", \"galloping\", \"snorted\", \"away\", \"barking\", \"straight\", \"fright\", \"leaped\", \"dashing\", \"end\", \"whipped\", \"bleeding\", \"down\", \"groaning\", \"getting\", \"raise\", \"riding\", \"bang\", \"imprisonment\", \"swear\", \"deaths\", \"send\", \"hissing\", \"clenching\", \"drive\", \"spoilt\", \"puzzle\", \"reported\", \"INCIDENT\", \"bearing\", \"beheld\", \"standstill\", \"hopping\", \"untied\", \"survey\", \"glow\", \"lustre\", \"reflection\", \"deed\", \"smiles\", \"conjecture\", \"actions\", \"steps\", \"descending\", \"espial\", \"dispute\", \"reverie\", \"stepping\", \"handing\", \"gaining\", \"retreating\", \"indifference\", \"trail\", \"exhorted\", \"prayer\", \"weep\", \"cower\", \"sprawled\", \"lengthening\", \"spurring\", \"flogged\", \"emerge\", \"unbarring\", \"fastening\", \"wishing\", \"Locking\", \"refilled\", \"ridden\", \"flocking\", \"encountered\", \"tilt\", \"busy\", \"warranted\", \"testify\", \"grant\", \"rowing\", \"errand\", \"pace\", \"dissatisfaction\", \"exchange\", \"recount\", \"stroke\", \"ladling\", \"puff\", \"spat\", \"crammed\", \"desired\", \"confess\", \"approached\", \"persuaded\", \"annoyed\", \"discovering\", \"toil\", \"beckon\", \"sounded\", \"miss\", \"excel\", \"pushing\", \"pleasure\", \"apply\", \"laid\", \"carrying\", \"conclusions\", \"suggest\", \"supposing\", \"conclusion\", \"presentation\", \"vanishes\", \"emerges\", \"inferences\", \"paced\", \"ring\", \"beg\", \"occupation\", \"becomes\", \"mastered\", \"earned\", \"stretching\", \"practising\", \"sneezing\", \"stop\", \"clicketing\", \"exercises\", \"goes\", \"reappears\", \"inflict\", \"amuse\", \"watch\", \"keep\", \"setting\", \"knocked\", \"pushed\", \"hush\", \"expedition\", \"wasted\", \"stopping\", \"liked\", \"insisting\", \"ruined\", \"restoration\", \"prevented\", \"disengaged\", \"adapted\", \"excuse\", \"dropping\", \"interested\", \"blazed\", \"judged\", \"urged\", \"suggested\", \"breakfasted\", \"word\", \"marking\", \"skirted\", \"advanced\", \"hunted\", \"squatted\", \"investigate\", \"Look\", \"scrambled\", \"foamed\", \"boiled\", \"searched\", \"lunch\", \"pumped\", \"assembled\", \"settlement\", \"borne\", \"occupied\", \"fastened\", \"sentence\", \"scandal\", \"warrant\", \"shame\", \"Stretching\", \"repelled\", \"action\", \"bore\", \"winked\", \"judging\", \"glided\", \"disappearing\", \"blight\", \"pierced\", \"yelp\", \"twittering\", \"calls\", \"afterglow\", \"flooded\", \"flaring\", \"swept\", \"moan\", \"strode\", \"fading\", \"brewing\", \"trotting\", \"Peering\", \"moving\", \"deadened\", \"loom\", \"clinking\", \"jingled\", \"curses\", \"thuds\", \"strain\", \"heaves\", \"Rustlings\", \"footstep\", \"wave\", \"became\", \"crash\", \"attested\", \"click\", \"sputtering\", \"efforts\", \"crackling\", \"flame\", \"shuffled\", \"glittered\", \"queried\", \"heerd\", \"comin\", \"moaned\", \"raindrops\", \"pattered\", \"Silence\", \"cracked\", \"query\", \"showing\", \"backed\", \"Sent\", \"ejaculated\", \"hoof-beats\", \"Left\", \"glimpse\", \"visited\", \"search\", \"find\", \"howling\", \"drink\", \"refused\", \"mixed\", \"follow\", \"questions\", \"implored\", \"dried\", \"happy\", \"cuddled\", \"sob\", \"sobbed\", \"guessed\", \"pulse\", \"ready\", \"deprived\", \"anxious\", \"opportunity\", \"bade\", \"permission\", \"enjoyed\", \"funeral\", \"luncheon\", \"raced\", \"lurking\", \"landed\", \"agreement\", \"display\", \"affectionate\", \"expressions\", \"know\", \"fragrance\", \"pride\", \"confronted\", \"storm\", \"opposition\", \"outbreak\", \"palpitating\", \"invisible\", \"jet\", \"compared\", \"eruption\", \"vigil\", \"vibrating\", \"activity\", \"flash\", \"projection\", \"streamer\", \"swimming\", \"gleam\", \"blaze\", \"flaming\", \"jetting\", \"established\", \"dapple\", \"intoxicating\", \"whispering\", \"heightened\", \"heat-haze\", \"sun-sparkles\", \"transplanted\", \"plucked\", \"substitution\", \"suffering\", \"typing\", \"inserted\", \"altered\", \"appended\", \"snap\", \"whimperings\", \"tramped\", \"planked\", \"re-addressing\", \"recognised\", \"tore\", \"inspected\", \"tackled\", \"despatched\", \"scented\", \"sorted\", \"phrased\", \"absent\", \"sadness\", \"re-entered\", \"revolved\", \"enlightened\", \"situation\", \"resolutions\", \"outbreaks\", \"apparent\", \"sketched\", \"solaced\", \"rehearsed\", \"forgetting\", \"sped\", \"sorrow\", \"inspiration\", \"reversal\", \"hopes\", \"arrival\", \"weeping\", \"reposing\", \"troublesome\", \"lessening\", \"ceremony\", \"crisis\", \"heaviness\", \"indignation\", \"tea-service\", \"overthrow\", \"suffered\", \"dismissed\", \"wept\", \"mingle\", \"lessened\", \"eat\", \"grievance\", \"avenged\", \"swallowed\", \"draw\", \"embarrassment\", \"figurative usage\", \"recollect\", \"exploit\", \"bewitched\", \"battle\", \"mention\", \"swarming\", \"charge\", \"thud\", \"kept\", \"runs\", \"fluttering\", \"driven\", \"scrimmage\", \"flashing\", \"rubbing\", \"stamping\", \"dodged\", \"shoulder\", \"sitting\", \"smell\", \"taught\", \"cold\", \"chilled\", \"confused\", \"worked\", \"nap\", \"brood\", \"brooding\", \"dining\", \"objected\", \"contented\", \"mots\", \"staid\", \"overheard\", \"whisper\", \"presentiment\", \"engagement\", \"coaxed\", \"exertion\", \"bark\", \"pity\", \"exhibited\", \"bidden\", \"quietly\", \"newly-seen\", \"sleeping\", \"sobs\", \"familiar\", \"intoned\", \"Halted\", \"blessed\", \"crosses\", \"gurgling\", \"whistle\", \"whistles\", \"skipped\", \"propped\", \"dipped\", \"lathered\", \"Ceasing\", \"shave\", \"shaved\", \"raving\", \"moaning\", \"pull\", \"stirring\", \"Leaning\", \"clearing\", \"fretted\", \"giving\", \"kills\", \"Laughter\", \"asks\", \"pinched\", \"Laughing\", \"Drawing\", \"linked\", \"clacking\", \"Parried\", \"begging\", \"postpone\", \"prompted\", \"feel\", \"disembarked\", \"nearing\", \"stolen\", \"invoked\", \"consorted\", \"evasion\", \"winced\", \"touching\", \"delay\", \"Recognition\", \"enquiry\", \"wound\", \"rejoinder\", \"qualification\", \"shirked\", \"muffled\", \"forsaken\", \"protection\", \"appointment\", \"presenting\", \"preparation\", \"impulse\", \"sense\", \"response\", \"comparison\", \"recognition\", \"case\", \"deserted\", \"madness\", \"snapped\", \"compromised\", \"forged\", \"fragrant\", \"showered\", \"chirping\", \"down-spirited\", \"chirp\", \"scrape\", \"engaging\", \"rented\", \"pool\", \"tattoo\", \"Hearing\", \"echoing\", \"snapping\", \"coughed\", \"contracted\", \"threatened\", \"controlled\", \"shoveled\", \"whistled\", \"cough\", \"producing\", \"soothed\", \"cosseted\", \"breathing\", \"dusted\", \"breaths\", \"bending\", \"swinging\", \"brisker\", \"Surprised\", \"sowing\", \"spoiled\", \"knitting\", \"twitched\", \"jaunting\", \"headache\", \"dumb\", \"tea\", \"jolt\", \"distinguish\", \"registered\", \"traversed\", \"recognized\", \"rung\", \"sentenced\", \"pardoned\", \"serving\", \"misdemeanor\", \"Leaving\", \"paces\", \"Retracing\", \"varnishing\", \"task\", \"effusion\", \"air\", \"gravity\", \"quoted\", \"remarks\", \"retraced\", \"converged\", \"seeking\", \"light\", \"punishment\", \"hovered\", \"flickering\", \"campfire\", \"reflections\", \"fanned\", \"paling\", \"sparks\", \"echoed\", \"clink\", \"pads\", \"reach\", \"move\", \"halt\", \"vigi\", \"preparations\", \"movements\", \"grateful\", \"solitude\", \"traveled\", \"digging\", \"crack\", \"halting\", \"packed\", \"slaps\", \"march\", \"camped\", \"travel\", \"reserve\", \"respond\", \"realization\", \"dug\", \"bring\", \"grasped\", \"amazed\", \"pitying\", \"curious\", \"quiver\", \"astounded\", \"force\", \"seep\", \"complied\", \"filled\", \"moist\", \"dark\", \"sniff\", \"agree\", \"examining\", \"complaining\", \"advised\", \"softened\", \"pecking\", \"lecture\", \"stroking\", \"snow\", \"crackled\", \"lecturing\", \"counsel\", \"expostulated\", \"persuasions\", \"discourse\", \"resolution\", \"concern\", \"prompting\", \"rise\", \"sick\", \"terrified\", \"reflect\", \"abandoning\", \"entreaties\", \"reproached\", \"blow\", \"snowfall\", \"staggered\", \"stamped\", \"brisked\", \"surprised\", \"melting\", \"dripped\", \"advances\", \"whisked\", \"mixing\", \"stabs\", \"cooked\", \"delaying\", \"gaping\", \"rigid\", \"recover\", \"messing\", \"done\", \"unfolded\", \"extended\", \"Talkin '\", \"tangent\", \"smouldered\", \"eaten\", \"drunk\", \"warmed\", \"explanation\", \"acknowledgment\", \"snatching\", \"upsettled\", \"animation\", \"ARRIVAL\", \"fortune\", \"embarrassed\", \"INTRODUCED\", \"reposed\", \"dumped\", \"Getting\", \"flourishing\", \"directed\", \"hitching\", \"singing\", \"dined\", \"lingered\", \"dawdled\", \"scanned\", \"thrilled\", \"mantled\", \"suffused\", \"wooing\", \"flitting\", \"confusing\", \"guess\", \"leaping\", \"pictured\", \"blinking\", \"meditating\", \"bellied\", \"wistfulness\", \"flared\", \"fleeing\", \"arched\", \"love\", \"giggling\", \"Trailing\", \"indignant\", \"glowed\", \"rammed\", \"rid\", \"yawn\", \"patted\", \"stroked\", \"fidgeting\", \"bell\", \"apologize\", \"averred\", \"mole-catching\", \"fit\", \"cured\", \"uncurled\", \"up\", \"packing\", \"extracted\", \"inscription\", \"blushing\", \"tipsify\", \"imputes\", \"tells\", \"detained\", \"apprehend\", \"bequeathed\", \"abandon\", \"applying\", \"aims\", \"discontinued\", \"perplexity\", \"uneasiness\", \"remorse\", \"detaining\", \"complying\", \"infatuated\", \"conjuring\", \"recommended\", \"instigation\", \"endeavoured\", \"enraged\", \"unkindness\", \"Disappointed\", \"burnt\", \"denied\", \"anguish\", \"illness\", \"recovery\", \"remind\", \"foresee\", \"elopement\", \"surging\", \"seething\", \"carnage\", \"allowing\", \"slip\", \"escape\", \"aghast\", \"howl\", \"blunder\", \"located\", \"departure\", \"glimpses\", \"topped\", \"arming\", \"suspense\", \"strapped\", \"darkness\", \"await\", \"trot\", \"pursuing\", \"positive\", \"hoping\", \"report\", \"shots\", \"consternation\", \"dismay\", \"riveted\", \"narration\", \"charging\", \"shooting\", \"whooping\", \"convinced\", \"routing\", \"apprehension\", \"Riding\", \"grasping\", \"BIRTH\", \"condescended\", \"provision\", \"named\", \"adhered\", \"premised\", \"burying\", \"chuses\", \"Going\", \"dreary\", \"beamed\", \"placing\", \"BORN\", \"ushered\", \"gasping\", \"struggles\", \"sneezed\", \"advertise\", \"imposed\", \"proof\", \"rustled\", \"warm\", \"rub\", \"tasting\", \"perspective\", \"imprinted\", \"shuddered\", \"chafed\", \"pausing\", \"applied\", \"dress\", \"badged\", \"ticketed\", \"retiring\", \"tremble\", \"adopted\", \"arguing\", \"encouragement\", \"debate\", \"opposed\", \"advocated\", \"clamored\", \"bids\", \"bustled\", \"disdaining\", \"comments\", \"discussions\", \"crawled\", \"wreathed\", \"rebellion\", \"winds\", \"clangoring\", \"rejoicing\", \"shiver\", \"enlisted\", \"milking\", \"silence\", \"milk\", \"disappointed\", \"primed\", \"destroyed\", \"peeled\", \"plan\", \"fill\", \"beating\", \"ecstasy\", \"trails\", \"discouraged\", \"punching\", \"resurrected\", \"seize\", \"arrest\", \"whirled\", \"snatched\", \"through\", \"stealing\", \"Said\", \"scare\", \"suspicion\", \"flattered\", \"forestalled\", \"vexed\", \"overlooked\", \"missed\", \"forgive\", \"miscarried\", \"stumbled\", \"strike\", \"advertised\", \"withdrawn\", \"raffle\", \"pay\", \"separation\", \"affronted\", \"desponding\", \"welcomed\", \"foreboding\", \"glowing\", \"pressing\", \"frown\", \"begin\", \"withdraw\", \"sheltered\", \"express\", \"wincing\", \"uttered\", \"preceded\", \"soliloquised\", \"relieving\", \"conjectured\", \"ejaculation\", \"admire\", \"distinguished\", \"chatter\", \"clatter\", \"squealing\", \"haunted\", \"bestow\", \"decamp\", \"attempting\", \"sneaking\", \"watering\", \"caress\", \"gnarl\", \"provoked\", \"checking\", \"punch\", \"striding\", \"dived\", \"guardianship\", \"imagining\", \"winking\", \"faces\", \"irritated\", \"interpose\", \"proceeding\", \"issued\", \"parrying\", \"demand\", \"climbed\", \"yelping\", \"used\", \"subsided\", \"heaving\", \"treatment\", \"restoring\", \"doubt\", \"overwhelmed\", \"tempest\", \"a-bothering\", \"ease\", \"mad\", \"tiresome\", \"lonesome\", \"shivers\", \"down-hearted\", \"scared\", \"crawling\", \"flipped\", \"shriveled\", \"licks\", \"Says\", \"tiptoeing\", \"stooping\", \"scrouched\", \"itching\", \"itch\", \"itched\", \"reckoned\", \"breathe\", \"snore\", \"comfortable\", \"build\", \"executed\", \"prophecy\", \"grasp\", \"operations\", \"hard\", \"brackish\", \"execution\", \"wrested\", \"trodden\", \"crime\", \"blasted\", \"unearthed\", \"commissioned\", \"elated\", \"appalled\", \"sailed\", \"chartered\", \"scouring\", \"washing\", \"tripped\", \"overturning\", \"drenched\", \"oaths\", \"regained\", \"felled\", \"snarl\", \"crushing\", \"white\", \"mutiny\", \"firing\", \"lodged\", \"Words\", \"assisting\", \"limping\", \"wounding\", \"glowering\", \"breakdown\", \"bored\", \"consumption\", \"sampled\", \"pleased\", \"tipsy\", \"essayed\", \"exaltation\", \"reaction\", \"incident\", \"rejoiced\", \"hunched\", \"dreamy\", \"bound\", \"operation\", \"curled\", \"KISS\", \"gives\", \"shipwrecked\", \"swims\", \"sail\", \"voyage\", \"inform\", \"spied\", \"shift\", \"rowed\", \"computation\", \"trusted\", \"overset\", \"flurry\", \"swam\", \"tide\", \"abated\", \"awaked\", \"roared\", \"hurt\", \"falls\", \"ventured\", \"wrench\", \"bind\", \"loosened\", \"shout\", \"flight\", \"striving\", \"volley\", \"design\", \"knew\", \"oration\", \"support\", \"acted\", \"threatenings\", \"promises\", \"demands\", \"signify\", \"learnt\", \"supplied\", \"sign\", \"slung\", \"signs\", \"warning\", \"tempted\", \"remembrance\", \"interpreted\", \"imaginations\", \"considered\", \"treated\", \"posture\", \"show\", \"blisters\", \"tokens\", \"repetitions\", \"relaxing\", \"conjecturing\", \"torrent\", \"violence\", \"daubed\", \"smart\", \"disposed\", \"mingled\", \"consulted\", \"passage\", \"over\", \"marks\", \"Gets\", \"commencement\", \"dispelled\", \"agitation\", \"dedicated\", \"own\", \"entreated\", \"hired\", \"complaints\", \"acquainted\", \"secure\", \"confessing\", \"abandoned\", \"bestowed\", \"solicited\", \"undertaking\", \"enterprise\", \"enthusiasm\", \"stifles\", \"puffing\", \"detect\", \"dragging\", \"chirps\", \"drags\", \"notion\", \"float\", \"choose\", \"steadying\", \"inclining\", \"pacified\", \"groped\", \"kindled\", \"glimmer\", \"trod\", \"Placing\", \"skinning\", \"munching\", \"smells\", \"vapor\", \"gloom\", \"unnerved\", \"pondered\", \"acting\", \"reined\", \"thrilling\", \"experiment\", \"uplifted\", \"Shaking\", \"Noticing\", \"conducted\", \"heighten\", \"sentiments\", \"accosted\", \"doubted\", \"awed\", \"deepen\", \"speculating\", \"routed\", \"saved\", \"disaster\", \"admonishing\", \"diminished\", \"spread\", \"certainty\", \"objects\", \"shelved\", \"discussion\", \"premise\", \"duel\", \"smuggled\", \"chill\", \"ascended\", \"curiosity\", \"clinched\", \"declaring\", \"propitiated\", \"plodded\", \"cheering\", \"rebuking\", \"ascending\", \"collared\", \"whack\", \"directing\", \"ploughing\", \"account\", \"pretending\", \"summons\", \"bursting\", \"inhabited\", \"shrieked\", \"carving\", \"snorting\", \"choking\", \"screaming\", \"demolishing\", \"discuss\", \"misadventure\", \"explosion\", \"warned\", \"letting\", \"stampeded\", \"rolling\", \"obtained\", \"confession\", \"tales\", \"wrought\", \"charged\", \"attack\", \"christened\", \"sweating\", \"grunting\", \"purchasing\", \"graduated\", \"dallied\"], \"textfont\": {\"size\": 2}, \"type\": \"scattergl\", \"x\": [14.278534889221191, -6.033304691314697, 50.05412292480469, 57.08445358276367, 49.423797607421875, 60.7256965637207, -19.983827590942383, 56.067073822021484, 42.81789016723633, 20.210227966308594, 20.210186004638672, 15.367188453674316, 15.420282363891602, 61.15506362915039, 50.88004684448242, 52.67490005493164, 46.288002014160156, 59.178829193115234, 61.90543746948242, 15.15359878540039, 63.160614013671875, 10.880288124084473, 15.153643608093262, -11.493221282958984, -53.01854705810547, -28.10309600830078, 51.099884033203125, 58.22257614135742, 62.82990264892578, -33.41048812866211, 56.45915603637695, -11.46501350402832, -29.757221221923828, -10.608330726623535, 4.703676700592041, 18.063411712646484, -23.294885635375977, 14.158291816711426, 45.21217346191406, 6.715672016143799, -31.195587158203125, -54.950401306152344, -9.434473037719727, -41.94449996948242, 58.0505485534668, -36.344364166259766, -29.306884765625, -37.11161804199219, -10.201519966125488, -29.98486328125, -8.678247451782227, -21.85239028930664, 60.99969482421875, -37.111629486083984, -40.20283889770508, 43.335262298583984, -23.99860191345215, -24.41206932067871, -22.143287658691406, -48.99205017089844, -20.436424255371094, -40.34200668334961, -3.268364906311035, -24.940732955932617, -18.856508255004883, -19.848669052124023, -29.203155517578125, -26.345788955688477, -24.383148193359375, -0.38422641158103943, 59.0693473815918, -9.333466529846191, -16.42736053466797, -3.277435779571533, -16.91973304748535, 0.6187160015106201, -28.473329544067383, -29.77469253540039, -39.547271728515625, -33.18604278564453, -28.81967544555664, 5.649363994598389, -9.691190719604492, -3.786310911178589, -2.2233564853668213, -42.339935302734375, 10.80492877960205, -23.99430274963379, 21.229236602783203, 6.952415466308594, -11.800599098205566, -19.06102752685547, -6.984580039978027, 8.442357063293457, -4.215672016143799, -10.826635360717773, -14.980195999145508, -18.050426483154297, -26.41476821899414, 19.949054718017578, -24.38478660583496, 71.09191131591797, 54.875709533691406, 3.007159948348999, -3.892641305923462, 4.967958927154541, -7.366695880889893, -8.96195125579834, -10.10608196258545, -23.13714027404785, -39.68500900268555, 3.1141343116760254, 3.219970941543579, -29.852933883666992, 20.819469451904297, 71.2425308227539, -27.719776153564453, -39.49563217163086, -21.228269577026367, -24.3293514251709, 9.687936782836914, -4.86165714263916, 36.94694137573242, -26.5266056060791, -25.5909481048584, -39.04841995239258, -5.585865497589111, -52.62596130371094, -10.890024185180664, -10.487311363220215, -49.753482818603516, -9.962332725524902, 5.143835544586182, -47.702003479003906, -24.479299545288086, -1.8014349937438965, 12.342172622680664, -11.765403747558594, -16.780656814575195, -12.764132499694824, 17.591650009155273, 13.98310375213623, 3.2194607257843018, 61.34944534301758, -31.445234298706055, -23.139680862426758, -49.54426956176758, -9.168057441711426, -22.34617042541504, -3.426992416381836, -40.304771423339844, -5.44773006439209, -3.0171310901641846, 52.75753402709961, 18.128705978393555, -6.836813449859619, 48.51630783081055, 49.153175354003906, -28.55368423461914, -7.424877166748047, 2.978102684020996, -30.282285690307617, -31.224292755126953, 68.4883041381836, -20.61052894592285, -20.296283721923828, 3.5995936393737793, -9.149934768676758, 14.396955490112305, -12.700495719909668, -7.416590213775635, -1.651664137840271, -1.3188072443008423, -23.12653350830078, -49.42861557006836, -29.522375106811523, 55.49278259277344, -23.457359313964844, -29.855724334716797, 59.23756790161133, -22.932287216186523, 63.65019989013672, -6.913401126861572, 39.804264068603516, -15.619230270385742, 43.74654769897461, -7.6837263107299805, 20.729536056518555, 10.789158821105957, 45.49915313720703, -9.75326156616211, -12.290501594543457, 57.25212478637695, 9.27367115020752, 8.790122032165527, -24.999582290649414, -20.20606231689453, 61.658939361572266, -33.143192291259766, 46.210060119628906, 20.061525344848633, -24.003515243530273, -23.74829864501953, -25.244266510009766, 9.286972999572754, -29.90007972717285, -30.060335159301758, -38.68723678588867, -10.177855491638184, -27.66312599182129, -22.02431297302246, -30.42786979675293, -51.14715576171875, -30.719865798950195, -28.39224624633789, -27.667177200317383, -13.325733184814453, -19.987361907958984, 42.02944564819336, 10.881282806396484, -32.3003044128418, -51.86014175415039, -41.66930389404297, 10.828688621520996, 42.17851638793945, -37.261226654052734, -19.26289176940918, -45.63043975830078, -28.21693992614746, -9.39065170288086, -26.182357788085938, -39.70755386352539, 2.1452176570892334, -5.115432262420654, 7.082822322845459, 4.734291076660156, -56.713924407958984, 14.725776672363281, -26.14240264892578, -7.219838619232178, 0.22989583015441895, -8.860595703125, -17.751020431518555, -31.96518898010254, 9.298813819885254, -11.246821403503418, 43.842811584472656, 38.09652328491211, -2.7680554389953613, 68.00064849853516, 20.400007247924805, 13.546096801757812, -12.213172912597656, -6.946751594543457, 43.585914611816406, -8.20823860168457, -33.259708404541016, 65.68798065185547, 15.398645401000977, 50.81719970703125, 15.776435852050781, 12.723918914794922, 15.259050369262695, -10.952085494995117, -8.790851593017578, -3.674530267715454, -21.858510971069336, 4.018721103668213, 70.95967102050781, 6.395157814025879, -9.965633392333984, -21.263031005859375, 10.819969177246094, 7.534876823425293, 11.589126586914062, -35.68361282348633, 11.131697654724121, 3.4339654445648193, 3.8119800090789795, 11.198551177978516, -14.796319961547852, -23.25800323486328, 2.326770544052124, 13.878752708435059, -1.5249625444412231, 0.3242114186286926, -14.879914283752441, 1.1397716999053955, 63.968021392822266, 68.4230728149414, 51.47166442871094, 60.641483306884766, 61.395626068115234, 17.640928268432617, 16.93006706237793, -5.443580627441406, 20.94083595275879, 60.485172271728516, -5.336934566497803, 16.433589935302734, 69.12064361572266, -18.846500396728516, 10.158611297607422, -4.905123233795166, -13.348453521728516, 68.27972412109375, -4.85944128036499, 69.93802642822266, 8.995931625366211, -22.38528060913086, -3.408329725265503, 61.96567153930664, 2.966787815093994, 53.625858306884766, 48.41726303100586, 3.5733726024627686, -2.962369680404663, 11.835673332214355, 70.15061950683594, 6.3061723709106445, 14.820130348205566, 9.623467445373535, -38.147850036621094, 7.024623394012451, 14.14998722076416, 9.769214630126953, 7.325462818145752, -7.766862869262695, -31.934284210205078, 9.26917552947998, 17.569307327270508, 64.53267669677734, -18.875164031982422, 43.37604522705078, -18.867069244384766, -16.107324600219727, -18.1471004486084, -23.114688873291016, -6.567264080047607, 4.4660234451293945, -9.370369911193848, -1.2219454050064087, -22.024391174316406, -20.011348724365234, -26.139760971069336, -4.459178447723389, 60.87289047241211, -47.553871154785156, -11.451879501342773, 14.382081031799316, -6.433009147644043, -18.51533317565918, -11.543713569641113, 60.248931884765625, -14.565512657165527, -0.522320032119751, -9.43113899230957, 5.209522247314453, -29.672321319580078, -29.672300338745117, 13.226186752319336, 16.65191078186035, 56.0466423034668, 40.6712760925293, -21.975072860717773, 52.72621154785156, -29.093185424804688, -38.46845245361328, -17.283967971801758, -34.77985763549805, -29.15635871887207, -22.751224517822266, -14.612077713012695, -7.236705303192139, -4.256484508514404, 4.400770664215088, 15.772052764892578, -26.097002029418945, -26.54483413696289, -18.21483039855957, -7.27288818359375, 12.31986141204834, 50.705772399902344, 37.32958221435547, -13.572894096374512, -25.983644485473633, 7.024623870849609, 20.20930290222168, 11.077749252319336, -10.851222038269043, 63.82670593261719, -11.490962028503418, -8.089212417602539, -26.86644744873047, 11.413446426391602, 4.563849449157715, 9.867453575134277, -4.294859409332275, 4.31032133102417, -4.4410247802734375, -16.81761932373047, -18.90667152404785, -6.805324077606201, 16.00270652770996, -1.0336670875549316, 69.14276123046875, 44.71702194213867, -7.45933198928833, -11.575584411621094, -14.249195098876953, -9.745182037353516, -27.169336318969727, 51.66766357421875, -12.189844131469727, -2.610440492630005, -13.357324600219727, -10.199545860290527, 65.46902465820312, -26.16861915588379, 70.8670425415039, 44.49375534057617, -13.9990873336792, 20.364234924316406, 48.252010345458984, -29.018980026245117, 4.603119850158691, -10.831415176391602, -37.98904800415039, -28.830795288085938, -30.8632869720459, -52.59112548828125, -1.4880388975143433, -15.968040466308594, 9.29732894897461, 19.43450164794922, -25.64788055419922, 19.83376121520996, 59.68912124633789, -0.3722568452358246, -10.736377716064453, -2.0725626945495605, -9.572586059570312, 1.1003049612045288, 45.204315185546875, 49.54463577270508, 8.489498138427734, 0.7625051736831665, -0.6152219772338867, -38.07483673095703, 4.298429489135742, -26.93309783935547, 15.064620971679688, 16.346920013427734, -20.5612735748291, 51.41865158081055, 11.164793968200684, 44.93899917602539, 2.1055831909179688, -5.55138635635376, -11.280942916870117, 18.284412384033203, 11.57470703125, 15.58764934539795, -21.2630615234375, 61.32439422607422, -6.416871547698975, 61.85353088378906, -24.095829010009766, -9.869449615478516, -9.20335578918457, -21.326175689697266, -17.75539207458496, 57.112213134765625, 16.267770767211914, 8.816274642944336, 12.76587963104248, -26.057918548583984, -7.23585844039917, 64.08213806152344, -18.685422897338867, -10.124706268310547, -4.484117031097412, -12.94149112701416, 46.6820068359375, 45.057106018066406, 51.549686431884766, 55.7969970703125, 18.74079132080078, -14.351295471191406, 60.36149597167969, -12.404674530029297, 10.659784317016602, 8.653013229370117, -15.48630142211914, -19.83669662475586, -33.873291015625, 11.778432846069336, -4.843681335449219, 39.421714782714844, 10.203369140625, -28.7921142578125, -13.613268852233887, 12.251934051513672, 19.97443962097168, 5.283816337585449, 13.196453094482422, -21.93501091003418, -28.833721160888672, 58.80583190917969, 54.363529205322266, 49.09002685546875, -1.291772484779358, -17.982505798339844, 48.68328857421875, -27.218326568603516, -22.646942138671875, -30.662063598632812, 14.8511323928833, 0.6667413711547852, 6.716531753540039, -4.811999797821045, -22.315855026245117, -15.550904273986816, 67.89824676513672, 41.820552825927734, 10.078754425048828, 1.819785237312317, -0.18360042572021484, -0.6968640089035034, -7.323644638061523, 4.4695725440979, 36.436058044433594, -31.457775115966797, 0.4377449154853821, -25.372251510620117, -52.364532470703125, -28.544971466064453, 71.9984130859375, -19.364913940429688, -26.104124069213867, -14.27391529083252, 44.850379943847656, -19.45166778564453, 17.005765914916992, -30.427488327026367, -33.37561798095703, 15.543030738830566, 61.04520797729492, -11.967435836791992, -27.74205207824707, -16.439083099365234, 46.095726013183594, 11.65829849243164, -21.269853591918945, 40.47639465332031, -52.29764938354492, -37.455177307128906, 12.470711708068848, 40.6179084777832, 19.595985412597656, 14.654197692871094, -21.154926300048828, -33.870933532714844, -18.700891494750977, 47.43023681640625, 15.561822891235352, 0.11452857404947281, 19.19077491760254, 58.93090057373047, 10.058562278747559, -30.769214630126953, 47.80841827392578, -1.7265692949295044, 61.53875732421875, -19.470136642456055, 8.355599403381348, -24.159242630004883, 71.44157409667969, -34.22687530517578, 52.73783874511719, -7.938222885131836, -4.442531108856201, 45.138580322265625, -40.61991882324219, 44.18394470214844, 15.890291213989258, -21.933259963989258, -24.980422973632812, 4.025737762451172, -2.106896162033081, 0.33797428011894226, 55.68425369262695, 68.46630096435547, -3.3309502601623535, 10.955718040466309, -6.698397636413574, -36.5816650390625, 11.1730318069458, 62.82733154296875, 60.38423538208008, -13.367950439453125, -24.10240364074707, -13.688395500183105, 16.031763076782227, -54.120880126953125, -11.69014835357666, -12.246161460876465, -25.935388565063477, -38.10395812988281, -5.894043922424316, 10.891606330871582, -14.70714282989502, -40.61063766479492, -20.681394577026367, 3.739122152328491, -9.479272842407227, -27.697242736816406, 42.880550384521484, -15.984063148498535, -8.268030166625977, 1.2204604148864746, -21.42877769470215, -6.176234722137451, 58.98611068725586, -10.562053680419922, -0.48333388566970825, -27.249317169189453, -0.050625525414943695, -19.78517723083496, -50.127845764160156, -29.928422927856445, 7.838304042816162, -4.836883068084717, 1.8854910135269165, 3.3291513919830322, 9.402206420898438, 11.227468490600586, -6.856875419616699, -19.63315773010254, 47.390419006347656, 10.70295524597168, -51.383968353271484, 2.9564006328582764, -17.40190887451172, -8.205459594726562, 42.624046325683594, -26.61319923400879, -12.065741539001465, 7.898859977722168, -9.901371002197266, 70.15055084228516, 68.93536376953125, 11.289429664611816, 38.346771240234375, 46.36369705200195, 70.86743927001953, -9.851831436157227, -20.603012084960938, 14.067391395568848, -34.51039123535156, -0.021968355402350426, -21.281564712524414, -10.328920364379883, 9.854057312011719, -26.607580184936523, -7.281295299530029, -50.797569274902344, -25.637746810913086, -13.80848217010498, -16.898900985717773, -5.111435890197754, 39.42284393310547, 50.68915939331055, 58.99359130859375, 7.947456359863281, 47.61838912963867, -5.207170486450195, -32.783424377441406, -11.524523735046387, -28.896106719970703, 51.61079788208008, -18.424102783203125, -9.22311782836914, 55.743499755859375, 7.627962112426758, 0.4689466953277588, 5.06039571762085, 70.80184936523438, -22.355846405029297, 5.703286647796631, 66.79248809814453, 2.341046094894409, -35.58864974975586, -2.4466543197631836, -29.09921646118164, -3.914034843444824, 16.659029006958008, 58.01081848144531, -12.305872917175293, 2.55657696723938, 46.11030197143555, 10.870777130126953, 67.1692886352539, 70.67081451416016, 55.20602035522461, -57.04568099975586, 12.453618049621582, -2.660585403442383, 2.2280566692352295, 13.87580680847168, 49.2437629699707, 6.547084808349609, -21.65381622314453, -23.769451141357422, 15.595437049865723, 4.431097984313965, 1.3418786525726318, -12.249131202697754, 49.80746078491211, 19.459877014160156, 50.352622985839844, 12.052299499511719, -17.622764587402344, 19.907861709594727, 63.929847717285156, 49.13136672973633, 1.2350022792816162, 69.89884948730469, 59.9915657043457, 6.222067356109619, -9.29304313659668, -16.69471549987793, -12.821988105773926, -42.02399826049805, 49.695438385009766, 50.44581604003906, -14.264223098754883, -27.719675064086914, 14.278526306152344, 57.623046875, 60.81460189819336, 18.163267135620117, 61.26063919067383, -6.186596393585205, 3.9673380851745605, 6.594598293304443, -55.018733978271484, 53.96751403808594, -20.85753059387207, 4.4403910636901855, 6.450685501098633, -20.116907119750977, -7.275674343109131, 60.176822662353516, -9.153427124023438, 7.133641242980957, 3.4516286849975586, 51.62062072753906, 6.862229347229004, 49.893104553222656, 40.08039093017578, 4.514401912689209, 1.4580198526382446, -0.6917738914489746, 53.6888542175293, 12.487958908081055, -6.3592915534973145, 51.529624938964844, 12.17939567565918, 9.893832206726074, 66.7218017578125, -15.1830415725708, -18.597368240356445, -56.32112503051758, 62.288658142089844, 66.97018432617188, -47.6961784362793, 19.437387466430664, 55.6901741027832, -21.317169189453125, -18.025222778320312, -18.620384216308594, 63.004390716552734, -3.166654109954834, 3.9174957275390625, -5.471640586853027, -14.250853538513184, -17.394329071044922, 19.39292335510254, 71.03128051757812, -8.260773658752441, 69.34459686279297, 56.33906936645508, 49.65278244018555, 55.929508209228516, 9.630972862243652, -7.0580034255981445, -1.0228991508483887, 63.202178955078125, 52.01095199584961, -16.55852508544922, 16.516170501708984, 10.712461471557617, -6.230254650115967, 48.52595520019531, -0.3507765233516693, -2.840883731842041, 17.07184600830078, -18.20963478088379, 55.23624801635742, -18.085601806640625, 4.2976155281066895, 15.909794807434082, 4.916962146759033, -4.826658725738525, 10.772934913635254, 5.922625541687012, -12.298360824584961, -34.10057067871094, -19.84740447998047, -24.080957412719727, -19.22439956665039, -41.624900817871094, 54.36265563964844, -32.8143196105957, -13.569167137145996, -39.89238357543945, -21.098766326904297, 57.81724166870117, -17.98381805419922, -23.892255783081055, -28.11913299560547, -8.85409164428711, -1.3680168390274048, 55.02790069580078, -30.84246063232422, -29.286134719848633, 3.680449962615967, -0.012157388031482697, -53.5442008972168, -29.34435272216797, -15.409220695495605, -23.327251434326172, -15.54757022857666, -5.308459281921387, -22.339458465576172, -8.798161506652832, 41.28993606567383, -3.907700538635254, 59.464515686035156, -6.5814948081970215, -7.909841060638428, 14.127022743225098, -40.121925354003906, 47.756229400634766, -50.94472122192383, -14.504161834716797, 10.642574310302734, 20.21413230895996, 5.498186111450195, -29.25391960144043, -8.487931251525879, -7.507715225219727, -0.1908135712146759, -23.72884178161621, 6.6498308181762695, -25.692691802978516, 3.52583909034729, -18.693099975585938, -14.636820793151855, 14.511834144592285, -8.851686477661133, -31.967693328857422, -52.24007034301758, -10.187217712402344, -29.07346534729004, 54.362552642822266, -28.59417152404785, -19.195287704467773, 20.44913673400879, -22.686479568481445, 54.62985610961914, -5.979177474975586, -13.962170600891113, -33.66606140136719, -19.226396560668945, -32.29210662841797, -41.08039474487305, 15.703717231750488, -25.357297897338867, -9.044351577758789, -22.153331756591797, -25.113840103149414, -25.642980575561523, -24.437875747680664, -10.199485778808594, 43.96477508544922, -52.54491424560547, 71.44195556640625, 66.92874145507812, -12.057605743408203, 44.99305725097656, 51.536136627197266, -32.812015533447266, 6.376316547393799, 17.007089614868164, 7.986529350280762, 11.52135181427002, 2.0033938884735107, 17.83130645751953, 51.67119216918945, -27.230188369750977, -5.131416320800781, 66.63182830810547, -13.20776081085205, -4.649785995483398, -21.924747467041016, -38.15544128417969, 37.42036056518555, 0.6613492965698242, 2.5247535705566406, -18.736730575561523, -22.147077560424805, 2.299171209335327, -30.762096405029297, -20.91524887084961, -19.447460174560547, 63.3301887512207, 68.45075225830078, -24.812164306640625, 5.463037014007568, -19.68030548095703, -22.640300750732422, 55.03752899169922, -18.837799072265625, 1.893654227256775, 17.450666427612305, 61.9837532043457, -3.28397536277771, -23.072843551635742, -32.9913330078125, -3.6259541511535645, 38.38004684448242, 13.376363754272461, -17.72194480895996, -34.84031677246094, -11.014626502990723, 16.180896759033203, -30.658342361450195, 57.33108901977539, -15.702227592468262, 37.73881149291992, -17.277267456054688, -50.873199462890625, 12.518091201782227, -2.5049874782562256, -11.064032554626465, 52.69502639770508, -28.583559036254883, -41.798648834228516, 47.56321334838867, -11.987244606018066, -36.21360397338867, -4.524407863616943, 66.73110961914062, -21.971004486083984, -7.336623191833496, -30.329870223999023, 2.7852652072906494, -16.984403610229492, -23.283689498901367, -17.03184700012207, -22.77953338623047, -28.401748657226562, -0.2112254649400711, -17.669309616088867, 6.221822261810303, -11.237509727478027, 8.306807518005371, -10.622305870056152, -3.435979127883911, -50.75259780883789, 69.38258361816406, 54.88518524169922, -24.035268783569336, 41.969608306884766, -13.717625617980957, 7.327674388885498, -7.833197593688965, -23.228662490844727, 7.802268028259277, -16.383846282958984, -5.323337554931641, 41.60744094848633, -31.26506233215332, -25.421478271484375, 17.786073684692383, 14.443754196166992, -23.236492156982422, 6.29978609085083, -9.42340087890625, -1.3851577043533325, 39.520355224609375, -27.697811126708984, -9.528566360473633, 14.725598335266113, -18.353958129882812, 10.333293914794922, -51.39944839477539, 49.26434326171875, -54.5953483581543, -34.17150115966797, 56.65525436401367, -26.833919525146484, -30.32833480834961, -37.10769271850586, 48.69740295410156, -0.000438539165770635, 50.88780212402344, -23.635669708251953, -3.2227227687835693, -20.420230865478516, -55.46937561035156, 4.786733627319336, 0.7422839403152466, -31.018312454223633, -11.626605033874512, -28.730600357055664, 59.494781494140625, 47.00536346435547, -30.970256805419922, -16.875791549682617, 0.2543465793132782, -5.562449932098389, 1.186841368675232, 7.122720241546631, 55.20053482055664, 63.85788345336914, -7.818309307098389, -0.8209455013275146, 10.11506462097168, 9.592754364013672, -0.4310930371284485, -10.884282112121582, 36.55857849121094, 75.52649688720703, 1.3550944328308105, -8.65532112121582, -34.63519287109375, -29.271411895751953, 68.83130645751953, 4.12613582611084, -47.23160934448242, 49.962005615234375, 52.15782928466797, -33.99882888793945, 8.088909149169922, -41.265525817871094, 55.76707458496094, -15.857199668884277, -19.69704246520996, 53.36579132080078, -30.105018615722656, -57.022705078125, -22.50636100769043, -17.70402717590332, -20.626060485839844, 49.652069091796875, -36.074440002441406, 4.433137893676758, 7.659847736358643, 7.873848915100098, -38.31338882446289, -39.04106521606445, 61.64439392089844, 47.99645233154297, -26.5184383392334, -20.09625244140625, -1.0178704261779785, -26.98961639404297, -27.212753295898438, -36.0965461730957, 58.24100875854492, -19.19115447998047, -33.405433654785156, 0.8318220376968384, 2.0671913623809814, 63.760398864746094, 15.420333862304688, 12.635848999023438, 5.931615352630615, 55.8055534362793, -17.55237579345703, -0.3340742588043213, -4.206442832946777, 44.8466911315918, -14.483263969421387, -8.235818862915039, 2.1599843502044678, -0.2530839741230011, 41.28436279296875, 38.78473663330078, -18.11404800415039, -37.23041915893555, 69.59288024902344, -29.842496871948242, -27.421018600463867, 10.713460922241211, 0.06928378343582153, -21.0815486907959, -18.3128662109375, 67.52079010009766, 47.60340881347656, 68.83162689208984, -22.47553062438965, 42.76224136352539, 4.742341995239258, 1.2916009426116943, -22.877037048339844, 11.217945098876953, 11.027304649353027, 51.98044967651367, -30.18445587158203, -20.266027450561523, 47.105987548828125, 48.45660400390625, 13.76836109161377, 56.82086944580078, 56.254215240478516, -36.84015655517578, -8.610657691955566, 0.28490614891052246, -24.053966522216797, 46.63399887084961, -20.54330062866211, 64.94769287109375, 58.87346267700195, 64.53567504882812, 46.367855072021484, -0.6053191423416138, 61.577430725097656, -18.229236602783203, -23.314769744873047, -11.522343635559082, -7.496767520904541, 40.85684585571289, -31.343830108642578, -21.76767349243164, -18.814640045166016, -14.858380317687988, -33.75078582763672, -0.880571186542511, 11.369363784790039, 49.74913787841797, -28.466026306152344, 58.83685302734375, 66.69047546386719, 3.8294668197631836, 41.21571731567383, -41.566471099853516, 52.147403717041016, -49.017086029052734, -17.59724235534668, -26.871976852416992, -27.814735412597656, -14.52163028717041, -9.031996726989746, -55.06132888793945, -51.30455017089844, -16.968433380126953, -32.551856994628906, -26.616966247558594, -42.95850372314453, -24.773345947265625, 6.5026679039001465, -41.883209228515625, -25.85369300842285, 55.100677490234375, 2.4031577110290527, -10.927674293518066, -49.60175704956055, -3.7322025299072266, -43.02536392211914, -2.9225330352783203, 36.667999267578125, -41.133968353271484, 69.6347427368164, -10.48005485534668, 1.3305890560150146, 9.506598472595215, -17.550922393798828, -29.55397605895996, -2.0254786014556885, -41.46125030517578, 0.6968421339988708, -17.89760971069336, 2.7378740310668945, -19.05689239501953, -25.251419067382812, -17.57832145690918, -25.264850616455078, -18.328866958618164, -34.37844467163086, -53.276580810546875, 1.2545580863952637, -10.063501358032227, 43.79257583618164, -30.35190200805664, -25.977333068847656, 16.025148391723633, 0.4296795129776001, -19.28520965576172, -2.5826427936553955, 67.32649230957031, -26.3890380859375, 5.683143615722656, -10.636489868164062, -3.9120049476623535, -25.70418930053711, 60.418174743652344, 6.718897342681885, 18.491554260253906, 13.558014869689941, -12.733841896057129, -8.686036109924316, -31.399641036987305, 0.6359963417053223, -6.0374369621276855, 62.15907287597656, -9.30960464477539, 2.304271697998047, -27.77133560180664, -22.1004695892334, 6.656984329223633, 66.11583709716797, 57.336265563964844, 0.09165146201848984, 43.96110153198242, -11.692294120788574, 3.22880482673645, -4.442901134490967, -9.01147174835205, 3.8450310230255127, -21.128067016601562, -2.212387800216675, -12.606046676635742, -17.65863609313965, 59.27405548095703, 10.55920696258545, -49.51079559326172, 2.388244390487671, -17.332361221313477, 7.644463539123535, 49.609676361083984, -0.827156662940979, -8.256903648376465, 1.1737147569656372, -22.20770835876465, -21.610321044921875, -24.098806381225586, 42.58976364135742, -10.773807525634766, 43.177886962890625, -10.109906196594238, -33.55052947998047, -1.3204014301300049, 7.6380767822265625, -22.003822326660156, -8.316936492919922, -31.545621871948242, 2.6670336723327637, 8.05921745300293, 2.081481456756592, 60.10222625732422, 12.756120681762695, 67.35094451904297, 63.48190689086914, 3.114264488220215, -11.67250919342041, 65.59690856933594, 52.15776443481445, -15.537137985229492, -10.19797420501709, 7.0731658935546875, 47.616432189941406, 5.529051780700684, 3.742068290710449, 66.33013153076172, -16.652923583984375, -29.02355194091797, -22.339847564697266, 3.37037992477417, -12.57413101196289, -37.84858703613281, 65.59737396240234, 10.88182544708252, 2.8068690299987793, 68.87548065185547, -10.903069496154785, 11.399024963378906, 7.561334609985352, -40.055519104003906, 6.742882251739502, -0.06256434321403503, -29.654815673828125, -19.07770538330078, -4.289536476135254, 0.5168463587760925, 15.763483047485352, 56.20494842529297, -22.011459350585938, -34.440677642822266, -31.854738235473633, 63.984127044677734, -33.50740051269531, 51.77690124511719, -52.088417053222656, -5.691473007202148, -36.06223678588867, 47.59303665161133, 2.733421802520752, 0.9617314338684082, 9.938284873962402, 7.359280109405518, -34.062355041503906, -22.261669158935547, 59.87540054321289, 61.76132583618164, -41.31974792480469, 57.919769287109375, -32.138145446777344, -25.559642791748047, -19.326181411743164, -9.732438087463379, -0.6285309195518494, -25.206201553344727, -10.550594329833984, -23.72836685180664, -23.285165786743164, 50.92537307739258, -12.17125129699707, 14.96226978302002, 39.021366119384766, 14.867501258850098, 43.54471206665039, -13.365495681762695, 55.814781188964844, -17.8983211517334, -45.14645767211914, -6.68241024017334, 51.52668380737305, 12.680004119873047, -9.849126815795898, -16.73021125793457, -17.807931900024414, 6.337947845458984, -22.53664779663086, 3.229163646697998, -14.473358154296875, -44.21853256225586, 1.3156235218048096, -26.165159225463867, -5.819639205932617, 14.236905097961426, 50.82912826538086, 48.75713348388672, 5.314000606536865, -22.883926391601562, -33.254791259765625, 39.02525329589844, -30.317564010620117, 10.457674026489258, 6.254666328430176, 68.85692596435547, 62.01955795288086, 64.11732482910156, 64.59967803955078, -17.574508666992188, 18.627012252807617, -0.8559564352035522, 41.855186462402344, -20.879737854003906, -11.402542114257812, -4.459836006164551, 7.247295379638672, 5.666133403778076, 63.06043243408203, -42.03325653076172, -32.99227523803711, -2.779025077819824, -34.1300163269043, 0.9969503879547119, 58.791011810302734, 3.3176960945129395, 71.30968475341797, 8.307799339294434, 8.433059692382812, 69.0846176147461, -12.087928771972656, -20.59933090209961, -29.892723083496094, -13.506576538085938, 0.21759141981601715, -12.845796585083008, 5.1482720375061035, 36.520206451416016, 15.501373291015625, -10.256311416625977, -35.25895309448242, -31.635093688964844, 5.925933361053467, -37.947265625, -1.7953556776046753, -9.550973892211914, 0.6251458525657654, -53.76180648803711, -19.17460060119629, -3.1596436500549316, 10.648502349853516, 44.383419036865234, -38.965702056884766, 40.40342712402344, -25.63822364807129, 7.9285197257995605, -12.771170616149902, -8.22934341430664, 64.6478500366211, -33.941349029541016, 45.10243225097656, -32.015987396240234, -24.842784881591797, 14.681557655334473, -11.91994857788086, 13.048013687133789, -18.002178192138672, -29.70487403869629, 9.868060111999512, 1.8475185632705688, -4.439448356628418, 43.957698822021484, -11.911158561706543, -0.3150787055492401, 64.713623046875, 19.572662353515625, -1.0251531600952148, 13.383509635925293, 74.40315246582031, -1.2205857038497925, 14.316027641296387, 50.212745666503906, 8.374002456665039, 63.6233024597168, 68.98863220214844, 1.3404453992843628, 65.19456481933594, 52.65952682495117, -31.567779541015625, -1.356793999671936, -22.1566219329834, -16.949966430664062, 54.30073547363281, 54.642860412597656, 3.91957688331604, -12.160898208618164, -10.349650382995605, -26.326868057250977, -34.451148986816406, 60.21718978881836, -9.792956352233887, -0.6133341193199158, 55.50691223144531, -12.658988952636719, -11.406274795532227, 17.17752456665039, 7.607217788696289, -54.49946212768555, -12.592658042907715, 3.1286885738372803, -34.66923141479492, -52.24810791015625, 13.13924789428711, 36.56293487548828, -29.891782760620117, -14.364959716796875, -28.759445190429688, 49.77194595336914, 59.778045654296875, 65.14917755126953, 44.988792419433594, -41.740333557128906, 14.038311958312988, -17.05171775817871, -13.08080005645752, -1.7616294622421265, -26.296062469482422, 3.8713860511779785, 45.525394439697266, 52.340389251708984, 5.753652095794678, -11.231183052062988, 44.483158111572266, 53.75701141357422, 75.30119323730469, 67.80243682861328, -13.52209758758545, -2.497022867202759, 65.70083618164062, -13.771628379821777, 3.6426055431365967, -9.784061431884766, -15.989943504333496, -15.176939010620117, -23.979677200317383, 66.04295349121094, -23.997465133666992, 12.368321418762207, -50.4106330871582, -13.642436027526855, -36.929786682128906, 0.6892713308334351, 57.61732864379883, 0.3394940495491028, 12.251119613647461, 5.1084513664245605, -32.552650451660156, -34.165069580078125, 7.570717811584473, -30.159391403198242, -17.604049682617188, 36.45441818237305, -1.6409621238708496, -6.933768272399902, -7.8318891525268555, -24.386777877807617, -30.601585388183594, 60.57073211669922, -37.93833541870117, -35.015419006347656, 0.09912239760160446, 62.92619705200195, -40.762664794921875, -11.966105461120605, 43.71403884887695, -52.76007843017578, -50.26865005493164, -24.62584114074707, -23.956134796142578, -42.697994232177734, -2.066176414489746, 72.24348449707031, -12.760475158691406, -49.48040771484375, -25.9440975189209, -3.9764204025268555, -20.324419021606445, 54.61507797241211, 40.4333610534668, 47.466636657714844, 3.6158509254455566, 49.44287109375, -25.19364356994629, -23.2008113861084, -23.46993064880371, -20.29281997680664, -19.425954818725586, 12.018758773803711, -9.932005882263184, 71.73747253417969, 15.883389472961426, 14.93996810913086, -6.290239334106445, -48.249603271484375, -3.3118865489959717, 49.94641876220703, -18.78078269958496, 41.542381286621094, -22.17425537109375, -51.47742462158203, -22.347763061523438, -29.271686553955078, -15.229256629943848, -25.48734474182129, 52.86860656738281, -36.16012954711914, 17.739347457885742, -12.171875953674316, -6.5518574714660645, -10.249796867370605, 3.4988934993743896, -6.8155717849731445, 60.843360900878906, 14.237258911132812, 11.282553672790527, -2.7117726802825928, -16.654714584350586, -15.226967811584473, 6.952424049377441, -4.415282249450684, -17.059797286987305, 2.6226565837860107, 16.194658279418945, -2.820317029953003, 13.699030876159668, -3.877192497253418, -27.121028900146484, -18.496402740478516, -30.03667640686035, 8.668350219726562, -41.5353889465332, -12.684303283691406, -24.48142433166504, -18.536495208740234, 54.61565399169922, -13.608057975769043, -55.145362854003906, -4.858966827392578, 13.85315227508545, 55.99282455444336, 3.7161855697631836, 36.579681396484375, 20.41793441772461, 10.083433151245117, -8.450913429260254, 42.571624755859375, -22.408432006835938, -7.907938003540039, 8.680440902709961, 60.303260803222656, 16.447938919067383, -8.157366752624512, 11.913259506225586, 61.82706832885742, 64.91413879394531, 66.35826110839844, 60.814640045166016, 63.76627731323242, -14.488344192504883, 13.362388610839844, 58.0154914855957, -7.074004173278809, 4.463639259338379, 6.817538261413574, 14.813164710998535, 5.0808610916137695, -24.7396240234375, 8.718840599060059, -9.083152770996094, -29.787147521972656, -0.3548448979854584, -21.702783584594727, 4.7826924324035645, 42.84450149536133, -20.392309188842773, 49.12375259399414, 11.750411987304688, 9.483755111694336, 9.463653564453125, -14.718655586242676, 2.0483527183532715, -3.8623414039611816, 1.8176707029342651, -6.427728176116943, -3.838681221008301, 14.67684555053711, 15.6825590133667, -17.153688430786133, 58.772823333740234, 18.277624130249023, -39.70747375488281, -22.449655532836914, -10.008564949035645, 5.209522247314453, 7.674249172210693, -18.89603614807129, 6.670978546142578, -16.360511779785156, 55.615440368652344, -0.12688736617565155, -21.48343849182129, -9.67076587677002, -3.384916067123413, -28.638200759887695, -9.503514289855957, -8.049298286437988, -36.179405212402344, 6.310628890991211, -13.405904769897461, 6.29068660736084, -19.07131004333496, -6.372995853424072, -13.970427513122559, -30.410921096801758, -20.98577880859375, -37.19430160522461, 3.7645955085754395, -51.525516510009766, -26.40157699584961, -27.16927719116211, -1.9679975509643555, -7.77039098739624, 56.53416061401367, -6.749282360076904, -33.73394012451172, -14.260767936706543, -45.19207000732422, -45.778289794921875, -12.533480644226074, -30.585296630859375, -33.51185607910156, -14.422126770019531, -9.568942070007324, -54.669349670410156, -3.872746229171753, 43.40411376953125, -30.603309631347656, 3.6373047828674316, -18.27391815185547, -52.69703674316406, -13.514217376708984, 51.7548713684082, -37.853118896484375, 12.971538543701172, -55.60280990600586, 12.353124618530273, 47.680702209472656, 17.840463638305664, 17.369382858276367, 62.50381851196289, 67.66996765136719, -26.10018539428711, -27.988632202148438, 42.942440032958984, 39.01396560668945, -2.404290199279785, -8.148500442504883, -6.2647385597229, -2.7906744480133057, 13.829825401306152, -50.5821533203125, 38.863929748535156, 63.05323791503906, -16.604082107543945, -14.23361587524414, -26.43291473388672, -7.090938568115234, -25.152587890625, 12.39505672454834, 3.808257818222046, 36.54535675048828, -18.1038818359375, 7.092220306396484, -22.833646774291992, 6.640560150146484, -2.3018150329589844, -22.856456756591797, -14.70211124420166, -19.20764923095703, -28.11603355407715, -35.22139358520508, -15.838829040527344, -21.8245792388916, -2.2898082733154297, -51.29166030883789, -40.53562545776367, -10.372892379760742, -35.22050476074219, 15.94473934173584, -1.1673731803894043, -7.113663196563721, 44.726219177246094, -3.4511895179748535, -5.484879493713379, -50.68387222290039, -28.90238380432129, -24.855806350708008, -35.081260681152344, 59.30904006958008, 42.34955978393555, -20.018922805786133, 53.84662628173828, -11.660456657409668, -8.520462989807129, -31.081342697143555, -52.81856918334961, -15.76464557647705, 0.1826103925704956, -23.539491653442383, -6.510290145874023, 8.192647933959961, 34.248931884765625, -15.539302825927734, -8.777212142944336, -30.440765380859375, -10.955973625183105, -0.9381729960441589, -0.041287101805210114, -14.257633209228516, -11.431217193603516, -29.062768936157227, -11.539460182189941, 15.13308048248291, -1.7644323110580444, -55.55979537963867, 49.577552795410156, -32.66718292236328, -12.178887367248535, -2.839885950088501, -22.42774772644043, 43.15345001220703, 8.541563987731934, -14.443723678588867, 58.74800491333008, 54.0391960144043, 54.32056427001953, -4.351605415344238, 10.293713569641113, 69.1375503540039, 4.135133743286133, -18.598495483398438, 8.741748809814453, -0.503544807434082, -21.748647689819336, -14.468825340270996, -12.858892440795898, 17.832481384277344, 59.33953857421875, 71.49684143066406, -21.71912956237793, -34.15906524658203, 5.2270050048828125, 5.368070602416992, 10.150586128234863, -25.565269470214844, -40.62428283691406, -34.060977935791016, 2.6972811222076416, -52.071285247802734, 14.571596145629883, -39.0193977355957, -19.714025497436523, -2.526639938354492, -3.8695499897003174, -13.259556770324707, 58.35859680175781, -14.261232376098633, -41.50577926635742, -15.010852813720703, -1.6516644954681396, -10.59386920928955, 5.884148597717285, 48.08306121826172, 5.327857971191406, 5.65274715423584, 17.715740203857422, 6.315449237823486, 19.083721160888672, -3.3645994663238525, 56.32534408569336, -18.097002029418945, -11.200261116027832, 61.941959381103516, 65.26543426513672, 13.476555824279785, 52.46247100830078, 67.89839172363281, 57.66046905517578, -14.849299430847168, 59.45648956298828, -11.333958625793457, -23.137128829956055, -11.545480728149414, 15.00168514251709, 63.004390716552734, 69.12057495117188, 16.00406837463379, 59.383670806884766, -12.777453422546387, 56.656883239746094, -16.409826278686523, -29.22860336303711, -14.790185928344727, 2.7852213382720947, 58.96121597290039, 8.231078147888184, -1.6513681411743164, -32.32118606567383, -52.69392776489258, -8.749326705932617, 59.394474029541016, -20.19230079650879, -51.92744827270508, -15.723995208740234, -2.1896493434906006, -12.92646312713623, -50.59377670288086, 7.807158946990967, 10.943370819091797, -11.795408248901367, -53.90280532836914, -26.973159790039062, 38.93245315551758, -53.33467102050781, -14.358213424682617, -45.22890090942383, -34.59974670410156, -17.38520622253418, -51.92752456665039, -32.53866958618164, -18.520767211914062, -36.10980224609375, 12.760124206542969, -19.566267013549805, -20.105188369750977, -17.101720809936523, 8.815296173095703, 48.43540954589844, -7.237760066986084, -7.963120460510254, -0.40316057205200195, 45.80065155029297, -26.207820892333984, 3.9420948028564453, -15.008596420288086, 58.805694580078125, 54.349605560302734, 43.450035095214844, -15.963951110839844, -31.58866310119629, -5.221503257751465, -13.051960945129395, 9.15592098236084, 4.645563125610352, -21.529949188232422, 47.954132080078125, -2.5281124114990234, -16.689807891845703, 59.43223571777344, -16.43086814880371, 12.929383277893066, 52.04472732543945, 64.27378845214844, -3.9173226356506348, -7.634191989898682, 64.11051177978516, 1.3732705116271973, 66.80640411376953, 15.308611869812012, 53.06598663330078, 2.098752498626709, -10.969841003417969, -6.441641807556152, -12.07068920135498, -24.197742462158203, -13.257621765136719, -19.820388793945312, -11.466009140014648, 50.48005294799805, -34.01624298095703, -14.25601863861084, 38.90951156616211, -14.443897247314453, 57.33182907104492, 6.311588764190674, 49.109619140625, 40.836875915527344, -11.15014934539795, -52.202880859375, 8.4987211227417, -28.930803298950195, -16.740421295166016, -25.64842414855957, -17.55270004272461, -28.853158950805664, 57.43724822998047, 20.33977508544922, -33.11750793457031, 7.35421085357666, 44.060546875, 12.374395370483398, -43.860939025878906, -10.885473251342773, 66.30469512939453, 6.918004035949707, 2.4055168628692627, 10.623095512390137, 3.3381216526031494, -35.37995529174805, -3.927564859390259, -6.21978759765625, -13.51632308959961, -43.034488677978516, -28.231943130493164, -20.397809982299805, -26.374046325683594, -11.672971725463867, 55.27628707885742, 4.9903244972229, 65.65100860595703, 18.01129150390625, -5.240823268890381, -25.92847442626953, 18.121150970458984, -21.601675033569336, -35.37002182006836, -37.06772232055664, -48.593727111816406, -15.955077171325684, 71.8271713256836, 13.130988121032715, 4.168920040130615, 55.73141098022461, -27.88806915283203, -17.071022033691406, -1.8904750347137451, -38.146240234375, -7.896133899688721, -12.797032356262207, 0.3171883821487427, -6.968564987182617, 17.776315689086914, -6.605213165283203, -17.486371994018555, 49.93247985839844, 43.674163818359375, -19.335771560668945, 10.615966796875, 61.961727142333984, -34.410152435302734, 56.5477180480957, 15.999358177185059, 5.81611442565918, 38.69612121582031, -27.553085327148438, -22.966257095336914, -39.348167419433594, -17.455669403076172, -48.140254974365234, -42.142608642578125, 40.5665397644043, -26.156831741333008, -0.2793024480342865, -7.603824615478516, -28.10380744934082, 44.562252044677734, -30.53632164001465, -2.2281346321105957, 17.238496780395508, -5.812736988067627, 12.406540870666504, 17.563249588012695, 14.833246231079102, -7.634225845336914, 57.91498947143555, 18.465484619140625, -28.810466766357422, 13.393369674682617, 63.34650421142578, -3.8797521591186523, 12.580397605895996, 44.91227340698242, 63.961326599121094, -11.22067642211914, -28.525239944458008, 40.09526062011719, -14.101175308227539, 2.247141122817993, -32.632240295410156, -14.192422866821289, -33.41385269165039, 12.127481460571289, -21.890966415405273, -12.42696475982666, 10.634535789489746, -47.820430755615234, -14.369762420654297, 56.56608581542969, -7.2824835777282715, -52.970951080322266, -35.08183288574219, -40.54916000366211, 0.04098834842443466, -29.01899528503418, -33.07282638549805, 11.165742874145508, 68.9843978881836, 41.5577507019043, -5.06563138961792, 60.07365417480469, 62.911563873291016, -11.900084495544434, 9.821625709533691, 4.093236923217773, -0.17938290536403656, 1.2586935758590698, -11.02151107788086, -21.762203216552734, 65.2954330444336, 67.36442565917969, 39.83362579345703, -18.71074676513672, 56.06242752075195, -13.943408012390137, 57.96946716308594, 45.32869338989258, -6.499450206756592, -22.342838287353516, 4.796396732330322, 54.57789611816406, 15.991923332214355, -21.63201141357422, 48.421836853027344, 63.65732192993164, -33.72431564331055, 7.05352258682251, 3.3595924377441406, -0.8244612216949463, -6.065695285797119, -11.422282218933105, 16.676326751708984, 51.81777572631836, 2.349998712539673, 3.633312463760376, -15.141276359558105, 44.43231964111328, -6.320095539093018, 2.870025634765625, 9.654558181762695, 7.987196922302246, 67.4699478149414, -28.594144821166992, -51.835365295410156, 59.6486701965332, -10.544543266296387, -24.018278121948242, -11.09106159210205, -24.30632209777832, -12.880598068237305, -0.7767470479011536, -15.568450927734375, 52.54231643676758, -7.641531944274902, -23.869348526000977, -29.59859848022461, -38.83860397338867, -20.513906478881836, 45.314144134521484, 47.150508880615234, -22.626001358032227, 40.74607467651367, -30.892953872680664, -51.88107681274414, -23.703697204589844, -16.645437240600586, -35.75876998901367, -33.207401275634766, -2.628474712371826, -14.653457641601562, -13.525594711303711, -31.09778594970703, -28.757869720458984, -20.967464447021484, 7.18588399887085, -33.57374954223633, 58.9566650390625, 75.50215148925781, -15.612709999084473, 53.343055725097656, 6.315605640411377, -14.708696365356445, -6.769999980926514, -8.980316162109375, 0.20472858846187592, -12.892847061157227, -40.76826858520508, 5.318495273590088, 19.52277183532715, 62.03444290161133, -19.88190460205078, 20.54744529724121, 16.15159797668457, -7.593520164489746, -10.86747932434082, 51.5140266418457, -20.81515121459961, 59.41283416748047, -30.55927848815918, 5.663923740386963, -52.98398208618164, -14.100696563720703, 0.22891373932361603, -53.643653869628906, 40.01972198486328, 57.718040466308594, 43.14514923095703, -32.552146911621094, 67.10521697998047, -38.27830505371094, 65.194580078125, 51.274749755859375, -40.20258712768555, -26.150510787963867, -49.460662841796875, -26.02366065979004, -3.553297996520996, -19.583984375, 64.54557037353516, -24.09665870666504, 70.67029571533203, -8.51457691192627, -1.9522428512573242, 62.0313835144043, -29.306884765625, -3.3922572135925293, 55.80695724487305, 1.3820544481277466, 5.851554870605469, -19.235515594482422, -33.153446197509766, -33.0283203125, 2.737825393676758, 11.417092323303223, -8.545778274536133, 59.41012954711914, -36.76158905029297, -19.557321548461914, 9.201355934143066, -10.464156150817871, 57.06964111328125, -5.687691688537598, -32.409088134765625, -4.2135419845581055, 5.965890884399414, 41.76878356933594, 4.916078090667725, -14.83152961730957, 54.22355651855469, -32.11542510986328, -29.812793731689453, 7.0954389572143555, -6.304030418395996, 1.341225266456604, 4.474926948547363, 2.6997201442718506, 44.6005859375, -43.71040725708008, -39.09700012207031, 6.445311546325684, -0.7820411920547485, -50.17121124267578, 11.771081924438477, 43.306095123291016, 44.51333236694336, -16.84764862060547, 0.2821776270866394, 65.04297637939453, 14.676630020141602, -10.397130966186523, -33.20741653442383, -17.690370559692383, -28.66853141784668, 2.99705171585083, -28.671783447265625, -8.739204406738281, 57.495880126953125, -12.4227933883667, 8.579584121704102, -29.532630920410156, 58.58526611328125, -23.712146759033203, -12.344810485839844, -34.884864807128906, 4.792799949645996, 15.479461669921875, 11.065987586975098, 56.006900787353516, -7.41658878326416, -12.96188735961914, -18.50597381591797, -3.184481620788574, -2.616497278213501, 2.62457275390625, 11.171923637390137, -13.685614585876465, -22.195436477661133, -10.238743782043457, 3.786273717880249, 4.901584625244141, -23.426549911499023, -10.936333656311035, -9.69139575958252, -17.009761810302734, -53.54963302612305, 2.3464081287384033, 38.14313507080078, -24.75426483154297, 43.12823486328125, 63.26789855957031, 35.87397003173828, 16.51630973815918, -16.573583602905273, -12.877134323120117, 0.5258433818817139, -45.60182189941406, 64.7370376586914, -4.109313488006592, -17.915054321289062, -4.650935173034668, 40.56055450439453, -25.629926681518555, -50.340911865234375, -5.503256320953369, -12.328717231750488, -26.040576934814453, -25.84760284423828, 48.368343353271484, -0.0694972574710846, -24.79962158203125, -11.5421781539917, 42.523250579833984, 54.89108657836914, 60.75813293457031, -34.5437126159668, -9.885746002197266, -18.823320388793945, 59.959449768066406, -2.8312828540802, 55.64665603637695, -17.080780029296875, -14.852299690246582, 42.75349807739258, 65.15608215332031, -29.441959381103516, -23.777353286743164, -34.67329025268555, 39.36100387573242, -15.596070289611816, 56.82807159423828, -26.51803970336914, 4.357260704040527, 54.19948959350586, -9.609323501586914, -12.739692687988281, 59.47959899902344, -33.223289489746094, 40.82573318481445, -26.971527099609375, 3.10479474067688, -18.466888427734375, 41.774200439453125, -20.473169326782227, -24.358182907104492, -20.745901107788086, -20.102767944335938, -27.498437881469727, 3.714362144470215, -8.618420600891113, 48.689208984375, 17.503332138061523, 1.6665756702423096, -1.498003363609314, -12.404675483703613, 44.832435607910156, 53.60667037963867, 14.601472854614258, 61.28399658203125, 6.5201897621154785, 15.874990463256836, -12.888313293457031, 12.822093963623047, 2.330347776412964, -21.34878921508789, 17.085519790649414, -14.319938659667969, -16.155744552612305, -4.1130571365356445, -43.96053695678711, -7.7975311279296875, -7.979170322418213, -52.820823669433594, -20.3002986907959, -6.705467224121094, -7.766615867614746, 8.45839786529541, -1.7163141965866089, -29.89472007751465, -18.453514099121094, 4.903381824493408, -3.6557493209838867, -19.392120361328125, 48.834259033203125, 74.45320892333984, 18.121326446533203, 45.695613861083984, 3.1337084770202637, -6.55436372756958, -24.513647079467773, -0.6450141668319702, -6.643935203552246, 59.169715881347656, 19.26549530029297, -5.830770015716553, 63.41880416870117, 2.1222662925720215, -14.50416088104248, 42.96428298950195, 58.43858337402344, 36.90076446533203, 57.96554946899414, 0.886811375617981, 4.525170803070068, -50.70695877075195, 5.238131046295166, -23.41621971130371, -9.389245986938477, -19.678491592407227, -51.113563537597656, -50.83082580566406, -34.45132064819336, -5.157911777496338, 10.215500831604004, -6.8066792488098145, -2.384629964828491, -53.71713638305664, 20.828453063964844, -4.289535999298096, -26.59520149230957, 3.761744976043701, -5.168785095214844, -1.7732641696929932, -26.74339485168457, -39.67498016357422, -9.983667373657227, 2.756310224533081, 3.530616044998169, -49.74351501464844, -25.228227615356445, 3.4801712036132812, -8.578840255737305, 12.336617469787598, 9.303232192993164, -16.880590438842773, -3.3625645637512207, 4.655029773712158, -11.404024124145508, 6.446348190307617, -21.38450813293457, -33.85307693481445, -14.748639106750488, 8.455462455749512, 7.281485557556152, 20.421411514282227, 55.58736038208008, -4.27089262008667, -35.45465850830078, -22.978498458862305, -54.26886749267578, -31.113567352294922, -26.19232749938965, -24.304405212402344, -25.885704040527344, -25.40850257873535, -14.952742576599121, -17.9243106842041, -12.819253921508789, -22.94988250732422, 47.989646911621094, -36.55317687988281, 67.83900451660156, -15.570377349853516, -40.326385498046875, -26.912155151367188, -42.500282287597656, -34.00307846069336, -23.500024795532227, -35.10664749145508, -1.0671770572662354, -31.05341911315918, -20.43973159790039, -40.56907272338867, 43.75983810424805, 37.356361389160156, -32.65941619873047, -31.17129135131836, -17.51605796813965, -28.54772186279297, -30.66915512084961, -7.080276012420654, -32.65169143676758, 12.934520721435547, 5.649785995483398, -26.27923583984375, -9.933914184570312, -35.63492965698242, -12.079046249389648, -50.357200622558594, -13.319918632507324, -32.193458557128906, -23.88035011291504, -5.404147148132324, -29.005931854248047, -36.172691345214844, -36.847904205322266, 37.95494842529297, -6.3787736892700195, -29.998790740966797, -22.716556549072266, 43.4425163269043, -32.80690383911133, -14.678570747375488, 4.651534557342529, 54.76419448852539, -32.17687225341797, 52.049278259277344, -7.946194648742676, -4.841924667358398, -54.954307556152344, 2.2943313121795654, -21.221040725708008, 50.086631774902344, 45.83388137817383, 6.083179950714111, 9.902154922485352, -2.8621773719787598, -2.5524866580963135, -13.208660125732422, 62.0307502746582, 59.769805908203125, 58.684165954589844, 3.8147130012512207, -10.543536186218262, 17.1192569732666, -17.94185447692871, -14.67162799835205, 65.09529876708984, -21.818435668945312, 52.10911178588867, -39.122501373291016, 3.3915607929229736, 63.85783004760742, 53.82895278930664, -32.443572998046875, -5.495707988739014, -38.76921844482422, -25.51018714904785, -17.20614242553711, -5.054288387298584, -5.597221374511719, 40.4661979675293, -2.197880268096924, -17.553363800048828, -25.49901580810547, 40.9388542175293, -8.749940872192383, 14.773425102233887, -42.452701568603516, -27.627731323242188, -8.580607414245605, -51.155181884765625, -26.167463302612305, -16.81887435913086, 4.116387367248535, -10.376707077026367, -17.52312469482422, -28.252538681030273, 15.165108680725098, 41.89247512817383, -23.410289764404297, 3.388151168823242, 58.81045913696289, 49.40203857421875, 38.5169563293457, 9.69367790222168, -1.2951527833938599, 61.936668395996094, 59.37564468383789, -29.288766860961914, 38.286563873291016, -20.89681053161621, 54.14699172973633, -31.454208374023438, 6.3468918800354, 54.184200286865234, 52.68560028076172, 63.05364990234375, 51.60953140258789, 40.850406646728516, -14.780412673950195, -19.730182647705078, -49.297969818115234, -8.253328323364258, 68.13336181640625, 12.847335815429688, 65.24394989013672, -24.068523406982422, -55.99766159057617, -24.396629333496094, -18.283845901489258, -29.207399368286133, -2.644792318344116, -11.26594352722168, 56.607933044433594, 53.29307556152344, 44.055904388427734, 0.029441168531775475, -6.10584831237793], \"xaxis\": \"x\", \"y\": [25.40757179260254, 45.94011688232422, 8.33917236328125, -12.431905746459961, 3.052936315536499, 1.4349559545516968, 37.69831466674805, 11.958914756774902, -6.724907875061035, 36.34684753417969, 36.346622467041016, 33.29885482788086, 33.253822326660156, 8.016934394836426, 1.917136549949646, 7.361479759216309, 7.548568248748779, 14.44131851196289, 5.810719966888428, 36.78510284423828, -8.210472106933594, -55.95329284667969, 36.78459167480469, -35.821388244628906, 13.629528045654297, -20.48932647705078, -3.335556745529175, 0.5832749009132385, 8.347821235656738, -28.428199768066406, -0.19998648762702942, 9.627113342285156, 44.3638801574707, 13.165559768676758, 47.17344665527344, 34.7427864074707, -20.319480895996094, -43.01367950439453, 2.049201488494873, -33.1595573425293, -26.991064071655273, 10.485589981079102, 9.621475219726562, 11.700889587402344, 7.594015121459961, 20.06581687927246, 18.208881378173828, -39.82830047607422, -57.466495513916016, 22.002155303955078, 43.211639404296875, -31.814706802368164, -12.19650650024414, -39.82674026489258, 24.17798614501953, -10.192283630371094, 44.498294830322266, -26.799955368041992, 20.844581604003906, 12.993817329406738, -40.824771881103516, 21.3428897857666, 40.6208381652832, -30.643281936645508, -49.02033233642578, -8.503578186035156, -23.163780212402344, -23.73550033569336, 40.30400085449219, -28.638755798339844, -10.554300308227539, -26.16254425048828, -44.219512939453125, -48.84806823730469, 22.668312072753906, -43.45217514038086, -20.160676956176758, -35.55865478515625, 18.553606033325195, -36.81069564819336, -37.24974060058594, 38.24073028564453, 43.194297790527344, 29.202024459838867, -30.17635154724121, 30.141324996948242, 22.701852798461914, -48.416568756103516, -47.79465866088867, 14.685418128967285, 46.33326721191406, 28.800132751464844, 29.474653244018555, 37.91815185546875, 31.85196876525879, 46.158687591552734, 44.06978225708008, -32.85456085205078, 46.59640121459961, -41.20553970336914, -25.04585838317871, -10.401747703552246, -11.550376892089844, 46.11518478393555, 17.488935470581055, 46.52594757080078, 32.634342193603516, 11.51602840423584, -39.51962661743164, 24.878049850463867, 23.086702346801758, 42.450889587402344, 37.281734466552734, 14.73222541809082, 37.44064712524414, -7.115004062652588, 38.55081558227539, 27.52722930908203, -35.41097640991211, 46.477561950683594, 43.69231033325195, 20.96425437927246, -1.1060066223144531, -21.249357223510742, 38.899688720703125, 19.150733947753906, -42.173866271972656, 8.252985000610352, -33.489444732666016, 19.115320205688477, 7.302364349365234, 47.59538269042969, 19.263025283813477, 12.822336196899414, 33.29916000366211, 33.90702819824219, 38.46969223022461, 31.319305419921875, 31.91248893737793, 25.217559814453125, -41.54726028442383, -38.90700912475586, 43.197959899902344, 0.4723092019557953, 15.821096420288086, 35.79716110229492, 10.325093269348145, 15.882929801940918, -50.77775573730469, 20.05145835876465, 19.98311996459961, 36.204769134521484, 40.92212677001953, 18.474130630493164, 36.82191848754883, -52.064937591552734, 18.497264862060547, 17.482593536376953, -34.78484344482422, 47.054378509521484, 45.66512680053711, -21.951942443847656, 34.346981048583984, 2.9585962295532227, 34.843345642089844, -39.94757080078125, -15.885822296142578, 16.88016700744629, 31.739391326904297, -38.110965728759766, 3.65457820892334, -52.42401123046875, -58.14552688598633, 12.024773597717285, 10.818281173706055, 26.52332305908203, -7.815171718597412, 6.956686973571777, -28.81770133972168, 12.566740989685059, -17.360637664794922, 7.548344612121582, 0.5318530797958374, -9.272114753723145, 31.365543365478516, 0.1739058494567871, 12.465301513671875, -43.358360290527344, 22.886232376098633, -4.897027492523193, -41.57806396484375, -20.976566314697266, -10.574043273925781, -37.06523132324219, -50.45230484008789, 26.83411407470703, 12.040224075317383, -6.160153865814209, 29.115196228027344, 1.9355758428573608, -48.332481384277344, -39.678245544433594, -16.155620574951172, -10.908910751342773, 19.107666015625, -39.64360427856445, 16.505168914794922, 19.805469512939453, 15.332117080688477, 13.566842079162598, 11.640189170837402, -27.137895584106445, 15.690685272216797, -42.092166900634766, 34.89345932006836, -31.2042236328125, 22.661758422851562, -18.57599639892578, -7.280758380889893, 35.76707458496094, -36.27096939086914, 18.11878204345703, 30.138452529907227, 16.005287170410156, -8.800619125366211, -28.4288330078125, 10.580305099487305, 9.537389755249023, 10.029825210571289, -38.42243576049805, 22.46600914001465, 6.283371925354004, -59.159217834472656, -52.28926086425781, 35.27667999267578, -36.26408386230469, 15.139116287231445, -37.46085739135742, -24.91421890258789, 46.33778762817383, -45.90590286254883, -39.86276626586914, 16.37083625793457, -28.363283157348633, 21.692779541015625, 13.527451515197754, 0.8368967175483704, -1.4782038927078247, 22.305709838867188, -10.599319458007812, -41.0339241027832, -52.92499542236328, 5.423951625823975, 0.6885232925415039, 8.881714820861816, -59.97169494628906, 36.68023681640625, 2.3445780277252197, -47.84882354736328, 3.634406805038452, 39.12327194213867, -50.98047637939453, 35.3124885559082, 31.23296356201172, 19.9545841217041, -53.99943923950195, 21.167987823486328, 14.750127792358398, -10.343938827514648, 31.333721160888672, 41.6924934387207, 10.383536338806152, 34.00080871582031, 45.54535675048828, 34.408355712890625, 24.73699188232422, 31.265050888061523, 35.49190902709961, -14.854714393615723, 20.1829776763916, -16.238056182861328, 48.32272720336914, 17.543617248535156, 34.295310974121094, 26.27617835998535, -51.328914642333984, -20.526992797851562, 21.19410514831543, -4.052659034729004, -6.213475704193115, 9.548014640808105, 1.5079485177993774, 15.332499504089355, -53.576908111572266, -48.16810989379883, -36.16735076904297, -43.46957015991211, 8.065956115722656, 37.521663665771484, -40.27354049682617, 4.771376132965088, 21.598751068115234, 20.60274314880371, -52.49908447265625, -28.200267791748047, -3.8245689868927, -37.7218017578125, -12.861806869506836, 36.22170639038086, -37.42292785644531, 28.243927001953125, -2.809063196182251, -54.067440032958984, -5.749268531799316, 17.981008529663086, 12.945489883422852, 25.392475128173828, -33.80504608154297, 0.9978007078170776, -37.59318923950195, -51.863563537597656, -45.57961654663086, 22.72530746459961, 22.715866088867188, -54.186519622802734, 39.37089920043945, 37.68876266479492, 5.116845607757568, 22.236495971679688, -51.97969055175781, -50.680931091308594, 10.573497772216797, 38.106788635253906, -11.545977592468262, 37.40067672729492, -44.749107360839844, -20.521039962768555, 9.288616180419922, -42.49516677856445, -29.565956115722656, -19.953880310058594, -38.075748443603516, -51.48995590209961, 6.936967849731445, -27.383529663085938, -59.452369689941406, 15.572166442871094, 10.35219669342041, -18.06996726989746, 24.216367721557617, -45.629234313964844, -29.39911651611328, -49.2486457824707, -5.943754196166992, -43.891319274902344, 35.470726013183594, -20.082992553710938, 25.354196548461914, -41.207210540771484, -41.20677185058594, 27.574602127075195, 28.90607452392578, -8.149530410766602, -11.321094512939453, -30.529905319213867, -8.75480842590332, -28.926467895507812, 14.747098922729492, -22.1216983795166, -34.0205192565918, 14.84156322479248, -38.66970443725586, -38.40459442138672, -46.48379135131836, -24.450220108032227, -46.98039627075195, -46.57624816894531, 42.32224655151367, -19.93688201904297, 32.746376037597656, -57.41364288330078, -49.910640716552734, -11.888879776000977, -10.452577590942383, 11.59514045715332, -21.91132926940918, 22.715862274169922, -41.81066131591797, -53.137088775634766, 18.533872604370117, 13.595198631286621, 11.29312801361084, -59.43031692504883, 8.627487182617188, 25.239423751831055, 16.2916316986084, 34.61660385131836, 10.230709075927734, 20.697181701660156, 14.443960189819336, 10.421918869018555, 6.284640312194824, 29.48747444152832, -43.573795318603516, 12.505910873413086, -10.428433418273926, -9.781225204467773, -55.12379455566406, 36.16693115234375, -21.19554328918457, 4.765909194946289, 20.643901824951172, -12.529546737670898, -20.43421745300293, -18.881484985351562, -51.4564208984375, 24.71695899963379, -6.7382001876831055, 22.6395263671875, -11.244192123413086, -3.5133321285247803, -51.423770904541016, -53.55247497558594, 18.632694244384766, -30.32654571533203, 34.667747497558594, -43.99992370605469, 31.433767318725586, 40.39870834350586, 27.121978759765625, 12.252429962158203, -52.17692565917969, 22.497222900390625, 28.682239532470703, -54.84284973144531, -39.685760498046875, -52.394962310791016, -1.1045105457305908, 25.24776268005371, -33.180912017822266, -11.868988037109375, -33.674468994140625, 19.0843563079834, -4.169867992401123, 9.15489673614502, -46.02077102661133, -28.847450256347656, -37.28399658203125, 27.408721923828125, 13.894296646118164, -32.00151062011719, 25.358291625976562, -29.86595344543457, 35.04412841796875, 11.095317840576172, 15.354238510131836, -8.155450820922852, 41.2122802734375, -31.806726455688477, -19.62457847595215, -53.16537094116211, 20.26173973083496, -55.55968475341797, -27.514713287353516, 1.9133528470993042, -28.81904411315918, 1.7878532409667969, -46.67197036743164, 37.936180114746094, 26.381383895874023, 27.58294677734375, -23.3446044921875, 2.582156181335449, -36.308753967285156, -46.120460510253906, -35.56708908081055, -19.218795776367188, 15.303561210632324, 10.910929679870605, 36.2795524597168, 10.715044021606445, 10.098901748657227, 13.293194770812988, -1.6828701496124268, -2.50675892829895, 10.821928977966309, -5.42416524887085, -55.601078033447266, -30.001590728759766, 3.238161563873291, 6.7989678382873535, 36.68465042114258, 32.50123596191406, 11.79652214050293, -10.314801216125488, -39.30513000488281, -53.417274475097656, 7.476888656616211, -7.003651142120361, 22.300676345825195, -24.859786987304688, 7.3120436668396, -50.625, -50.90963363647461, -55.80420684814453, 39.933685302734375, -9.447369575500488, -25.778236389160156, -6.8981499671936035, -14.2860107421875, -10.07751178741455, 27.88271141052246, -20.6182918548584, 18.245710372924805, 10.2039794921875, 34.15800857543945, -36.38994216918945, 41.57252883911133, 24.714313507080078, -45.07744598388672, -51.25763702392578, -25.634851455688477, -46.57114028930664, 8.682777404785156, -11.191327095031738, 28.45716667175293, -58.10844802856445, -24.715044021606445, -57.65275573730469, 2.918433427810669, -36.70590591430664, -8.029393196105957, 24.73784065246582, -38.15959167480469, 14.423192024230957, 7.829746723175049, 42.144168853759766, -7.6289496421813965, -33.08634567260742, 12.999792098999023, 9.550719261169434, -10.942649841308594, -24.520954132080078, 40.84737777709961, 13.697945594787598, -31.738746643066406, -41.89521026611328, -5.075775146484375, -35.3317756652832, -36.54679870605469, -26.044750213623047, -4.583195209503174, -51.71283721923828, -38.448944091796875, 2.9704267978668213, 9.368669509887695, 17.304729461669922, 46.05888366699219, -3.6630187034606934, 36.01542282104492, 30.069684982299805, -26.631669998168945, -37.385841369628906, 11.29711627960205, 5.413553714752197, 37.6768684387207, -34.908077239990234, 35.70998001098633, 8.032614707946777, 42.80879592895508, -39.83232879638672, -4.386099815368652, -56.366214752197266, -6.372303009033203, -17.943374633789062, -40.42670440673828, 10.554474830627441, -3.936497211456299, 17.447057723999023, 14.58798599243164, -57.461883544921875, -43.61008834838867, 0.6544462442398071, 19.905078887939453, -14.120695114135742, -47.84894561767578, 4.279552936553955, 33.223262786865234, 14.266170501708984, 23.69572639465332, 17.116043090820312, 12.359972953796387, -1.3922724723815918, -60.131622314453125, 39.91153335571289, 45.49528121948242, 17.75465965270996, 27.489961624145508, 11.669504165649414, -1.496216058731079, 45.5616340637207, -36.43535232543945, 41.65871810913086, 33.343257904052734, 12.939519882202148, -37.73814392089844, -22.23421859741211, -24.70078468322754, 15.604036331176758, 36.561031341552734, -42.442745208740234, 39.27587127685547, 9.888713836669922, -46.80624771118164, -30.31874656677246, -51.86515808105469, 13.638880729675293, -3.73128080368042, -32.59946823120117, -52.03287887573242, -58.29537582397461, -27.72993278503418, -15.52363109588623, 18.107908248901367, 47.35589599609375, -31.71143341064453, 37.257991790771484, -18.732654571533203, 23.616395950317383, 9.306221961975098, 38.78893280029297, 21.296228408813477, -43.163429260253906, 20.963706970214844, -52.09117889404297, -39.17023468017578, 39.98444366455078, -55.137229919433594, -18.38043785095215, -14.397845268249512, -53.56816482543945, 12.282645225524902, 24.089935302734375, 8.245805740356445, 5.946327209472656, 2.1393516063690186, -34.820194244384766, -29.72501564025879, -29.31958770751953, -26.485158920288086, 0.9977553486824036, -7.016077518463135, 29.484487533569336, -0.9114329814910889, -9.151652336120605, -11.243982315063477, -51.24369812011719, 23.722047805786133, 39.42766189575195, -28.626428604125977, -22.989028930664062, -31.78289031982422, 32.217647552490234, -45.43205642700195, -32.794158935546875, 7.760889530181885, 8.931160926818848, 26.280466079711914, 24.358434677124023, 9.814908027648926, -30.919265747070312, -7.003654479980469, 4.948943138122559, 19.88422203063965, 18.995647430419922, -4.311871528625488, 18.816919326782227, 28.462068557739258, 17.59210777282715, 44.99982452392578, -1.4613468647003174, 7.321341514587402, 5.553014278411865, -10.84817123413086, -39.726104736328125, -39.56752395629883, -46.51982879638672, -3.53499436378479, -50.73912048339844, -41.55713653564453, -1.193446159362793, 19.15827751159668, -34.587100982666016, -54.93290710449219, 5.610673904418945, 26.30731964111328, 28.478515625, -9.601863861083984, -41.307003021240234, -40.11469650268555, -0.700451672077179, -48.34803009033203, -0.5928732752799988, -13.653843879699707, 0.12676194310188293, 12.862947463989258, -35.83958435058594, -40.09613037109375, -53.069061279296875, 23.932504653930664, 17.865713119506836, 35.49504852294922, -46.21465301513672, 25.262638092041016, 38.84279251098633, 39.10506057739258, -37.20744323730469, -50.14775848388672, -0.5051640272140503, -52.5401725769043, 12.695211410522461, 33.85573196411133, -25.414794921875, -51.11136245727539, 8.026110649108887, 20.11798858642578, -38.83372497558594, -3.8912887573242188, 3.900176525115967, -37.767093658447266, -51.512672424316406, -38.61722946166992, -31.41893768310547, 22.061969757080078, 7.705570220947266, 17.032739639282227, 12.525388717651367, 33.11963653564453, 25.407291412353516, 14.42431926727295, 6.3643059730529785, 34.97588348388672, 3.0389530658721924, -49.891204833984375, -31.992528915405273, -34.04876708984375, 15.685944557189941, 16.608388900756836, 10.425660133361816, -29.084232330322266, -48.50240707397461, -36.13151931762695, 50.11051559448242, -9.411242485046387, 24.374345779418945, -55.292579650878906, -40.042579650878906, 4.223305702209473, -57.58485794067383, 11.31563949584961, -12.966363906860352, 48.84428024291992, -49.71674346923828, 35.38903045654297, 12.003393173217773, 30.91019058227539, -24.41478729248047, 12.917287826538086, -53.15937423706055, 19.924692153930664, 0.6148764491081238, -20.217178344726562, 21.431583404541016, 14.873494148254395, -11.969785690307617, 4.389877796173096, 10.959274291992188, -54.64169692993164, 4.600369930267334, -34.01396560668945, 30.142812728881836, 36.90266036987305, 17.796537399291992, -29.239517211914062, -42.64467239379883, -26.234867095947266, -39.63928985595703, 38.151119232177734, 33.57734680175781, -9.309510231018066, 42.32884216308594, -9.417913436889648, 2.5389785766601562, 8.277326583862305, -7.427457809448242, -49.4818000793457, -46.67045974731445, -42.51993942260742, -5.580615043640137, -1.7317100763320923, 22.442413330078125, -44.785282135009766, 25.972307205200195, -49.87995529174805, 13.024978637695312, 44.831085205078125, 30.81361198425293, -52.13236999511719, -41.589439392089844, 2.6636979579925537, -19.462337493896484, -51.81406784057617, -50.127017974853516, -29.28508186340332, 31.450149536132812, 32.839298248291016, 28.862844467163086, -55.798561096191406, 21.442081451416016, 7.497788906097412, -29.023000717163086, 8.86017894744873, 19.070743560791016, 5.469695568084717, -30.137531280517578, 25.15369987487793, 10.068100929260254, 8.421985626220703, -0.910435676574707, 36.9492073059082, 30.207218170166016, -40.0312385559082, -45.76282501220703, -48.358604431152344, -6.991521835327148, 41.08221435546875, 45.09721755981445, -40.23485565185547, 39.23181915283203, 14.433372497558594, 13.299272537231445, 46.64310836791992, 24.964786529541016, 38.62353515625, -26.502370834350586, 44.98423385620117, 45.37660598754883, -1.1577919721603394, 25.41170310974121, 10.196133613586426, 28.916946411132812, -45.6766471862793, -52.540283203125, 19.499156951904297, 19.436386108398438, 14.436236381530762, 18.4848575592041, -35.023555755615234, -48.82374572753906, -39.50556182861328, -35.83707046508789, -45.59785842895508, -24.90248680114746, -25.867656707763672, -41.29722213745117, -46.92365264892578, -39.55488586425781, -52.78156280517578, -31.185993194580078, -36.05491256713867, 39.00059509277344, 44.794063568115234, -38.09370803833008, 6.273895263671875, -40.237483978271484, 20.412992477416992, 5.469802379608154, -38.07936477661133, 28.525136947631836, -46.771018981933594, -35.387733459472656, -8.800190925598145, 8.613615036010742, -30.186376571655273, 7.366373538970947, -42.30341339111328, 35.42524337768555, 16.285947799682617, 28.969518661499023, 15.856513977050781, -53.9937629699707, -35.87861251831055, 46.06474685668945, 37.05354690551758, 9.005699157714844, 24.717098236083984, -12.042766571044922, 15.28071403503418, -3.9364614486694336, -4.098787784576416, 44.05045700073242, -13.79308032989502, 9.075587272644043, 34.08662414550781, -32.375648498535156, 35.10304260253906, 36.26644515991211, 21.32209014892578, 29.21624183654785, 33.46554183959961, 12.769819259643555, 37.52125549316406, -49.893009185791016, 7.471357345581055, 32.973026275634766, -26.12653160095215, -23.216039657592773, 13.263956069946289, -10.123351097106934, 14.683326721191406, -33.130523681640625, 15.776047706604004, -21.878515243530273, -48.40776443481445, -38.57487106323242, -33.97028350830078, -23.62103843688965, 1.6049836874008179, 5.360281467437744, -44.89209747314453, -31.587156295776367, 24.45364761352539, 7.716030120849609, -10.480789184570312, -16.430923461914062, -58.89595413208008, -50.7730827331543, -12.158987998962402, -40.99794387817383, -49.6802978515625, 17.757648468017578, 44.78291702270508, -4.00764274597168, -45.455806732177734, -18.51947593688965, 34.26509475708008, -36.863346099853516, -52.94124221801758, 42.894073486328125, -2.469322681427002, -25.13668441772461, -5.64194917678833, -24.286945343017578, 9.410566329956055, -54.127986907958984, -16.369665145874023, 46.81599807739258, -1.4126300811767578, 10.736045837402344, 13.992257118225098, -12.548650741577148, 17.586116790771484, 13.792935371398926, 27.226070404052734, 6.977032661437988, 17.173717498779297, 35.19708251953125, 15.79837703704834, 23.75518035888672, -50.90288543701172, -40.5583381652832, 17.832674026489258, 5.6539387702941895, 14.836857795715332, -24.675222396850586, 13.109265327453613, -28.33012580871582, 6.478829383850098, -40.10470199584961, -50.87434387207031, 37.67756271362305, 12.21247386932373, 6.284666061401367, 16.12407684326172, 23.21034049987793, -8.35545825958252, 16.21002769470215, 16.6258544921875, 41.976139068603516, 47.4918327331543, -54.91731643676758, -49.73956298828125, -25.20503807067871, -3.3799819946289062, -32.23609924316406, 44.71727752685547, -49.26874542236328, 34.95176696777344, -17.977806091308594, -37.21027374267578, 13.386824607849121, -26.28489875793457, -8.018350601196289, -38.5218620300293, 46.46174621582031, -51.931251525878906, -36.74229431152344, 28.0012149810791, 16.42217445373535, 5.244107723236084, 14.791006088256836, -35.437294006347656, 5.235098838806152, -27.98430824279785, -27.718759536743164, 16.9307804107666, -9.238109588623047, -32.40387725830078, -12.123259544372559, -39.99274826049805, -29.57766342163086, 15.907602310180664, 10.196927070617676, -13.198776245117188, 28.543020248413086, 37.438934326171875, -21.082338333129883, 30.498428344726562, -10.96217155456543, -14.49793529510498, -42.961570739746094, -22.40735626220703, -55.36212921142578, 19.93598747253418, -33.76337432861328, -53.293243408203125, 2.645242929458618, -1.1293072700500488, -42.66949462890625, -55.44020080566406, 44.3670768737793, 21.03744888305664, -42.52140426635742, -25.866382598876953, -7.627074718475342, 2.9492242336273193, -51.77390670776367, 40.0225830078125, 33.539329528808594, 31.765304565429688, 0.25008636713027954, 19.944812774658203, 18.222042083740234, 14.554706573486328, 9.541312217712402, 14.191896438598633, 36.20772171020508, 29.90869903564453, -10.918792724609375, -35.68489074707031, 40.0523681640625, 15.894169807434082, 21.500883102416992, 12.635927200317383, 4.506184101104736, -33.061798095703125, -26.45908546447754, 15.630585670471191, -34.929420471191406, 27.956933975219727, -49.14319610595703, -42.898033142089844, 23.68853187561035, 16.23307228088379, -14.08786678314209, -0.23850005865097046, -35.26285171508789, -20.3290958404541, 14.05910873413086, -27.037790298461914, -31.121688842773438, 13.086125373840332, -3.2074735164642334, -39.8627815246582, -33.49392318725586, 16.602054595947266, 31.313955307006836, -13.001534461975098, -38.778343200683594, -35.60997009277344, -37.770660400390625, 15.336812019348145, 41.41861343383789, 20.28560447692871, -55.42387771606445, -0.7595378756523132, 29.92730712890625, 21.86611557006836, -43.39849090576172, 44.11204147338867, -0.01882614567875862, -4.672242641448975, -32.0249137878418, -28.43897819519043, -10.628658294677734, 31.85725212097168, -26.815183639526367, 26.024492263793945, -48.62098693847656, -32.7874870300293, 9.338813781738281, -5.616794109344482, 8.078789710998535, 0.25008684396743774, 35.23237228393555, 0.609097421169281, 42.88990020751953, 30.349149703979492, -33.655513763427734, -45.41478729248047, 40.63816833496094, -11.128655433654785, 32.102901458740234, -35.9205322265625, -1.0826365947723389, 9.028225898742676, 37.1248893737793, -12.261282920837402, 8.03219985961914, 23.722396850585938, 12.524054527282715, -39.6796875, 7.969455242156982, -1.5958728790283203, -17.34283447265625, -8.055121421813965, 10.9946928024292, -3.252835750579834, -10.147281646728516, 24.67612075805664, -3.860853672027588, -50.17055892944336, -46.93812942504883, -46.055477142333984, -57.25570297241211, 1.8011378049850464, -39.366973876953125, -49.45847702026367, -32.62802505493164, -18.832849502563477, 31.25751304626465, 29.00213050842285, -38.49995422363281, 13.246914863586426, -28.171762466430664, 4.643860340118408, -1.2544625997543335, 20.287033081054688, 0.6296901106834412, 13.911627769470215, 4.604588031768799, 13.524565696716309, 22.383548736572266, -34.61872863769531, 6.173804759979248, 31.70823860168457, 24.384807586669922, 11.117021560668945, 16.711380004882812, -30.441726684570312, -37.0605583190918, 37.61260223388672, 20.470003128051758, 37.33065414428711, 20.636423110961914, 30.072933197021484, -35.95441818237305, -10.583230018615723, 16.51670265197754, 39.18267059326172, 9.18537425994873, 36.493377685546875, 12.337779998779297, -46.9087028503418, -3.5403926372528076, 8.958312034606934, -11.813977241516113, 38.798423767089844, -59.438819885253906, 38.040164947509766, 32.34260559082031, -32.540340423583984, -37.40187454223633, 17.46438217163086, 42.842288970947266, -19.538652420043945, 26.457155227661133, 38.3270149230957, -10.911876678466797, 17.21419906616211, -27.240360260009766, -42.844539642333984, -34.82963562011719, 10.412480354309082, 15.204864501953125, 48.64232635498047, 7.12204647064209, -36.38777160644531, 19.378488540649414, -36.0831298828125, -41.138916015625, 38.270286560058594, -18.969404220581055, -2.821335554122925, 33.20425796508789, -46.0090217590332, 33.24441909790039, -33.368263244628906, 20.46731948852539, 11.686884880065918, -27.84081268310547, -52.507774353027344, -46.638511657714844, -50.27638244628906, 48.57756423950195, 24.770000457763672, 14.886024475097656, -55.198875427246094, -13.111063003540039, 29.844751358032227, -31.619098663330078, -37.301151275634766, -39.183589935302734, 41.598060607910156, 5.823240756988525, -5.015730381011963, -40.76148986816406, -11.981100082397461, -42.778873443603516, 39.32498550415039, -33.592689514160156, -53.10917282104492, -35.05304718017578, -40.09998321533203, -54.44917678833008, -19.878665924072266, -35.66536331176758, 1.4220589399337769, -47.54177474975586, 11.725533485412598, -52.879947662353516, 26.748144149780273, -32.0499267578125, -11.04941177368164, -22.693557739257812, -30.483810424804688, -26.524600982666016, -44.8426399230957, -37.53120040893555, -33.7757568359375, -9.391910552978516, 18.22090721130371, -7.971203327178955, 12.427311897277832, 31.870006561279297, -57.44270324707031, -39.23671340942383, -46.962249755859375, 37.96061706542969, 13.404397964477539, 47.443058013916016, 26.4685001373291, 36.974952697753906, 16.91244125366211, 32.75337600708008, -2.075596570968628, -5.224707126617432, -46.02892303466797, 13.448071479797363, 6.952173709869385, -4.645011901855469, -21.25068473815918, 46.223663330078125, 36.63346481323242, 11.30003547668457, 40.372196197509766, 43.326847076416016, 6.496434211730957, -18.114200592041016, -19.824201583862305, -47.83515167236328, -43.04024124145508, 19.99210548400879, 24.876224517822266, 9.534551620483398, 38.54891586303711, 27.128978729248047, -10.307304382324219, -22.9742431640625, 26.95641326904297, 39.54515075683594, 30.886497497558594, 37.490665435791016, -34.295654296875, 22.11280059814453, 22.866384506225586, 17.676864624023438, 19.29313850402832, -42.553550720214844, 7.570269584655762, -18.43440055847168, 18.385583877563477, -35.10291290283203, 13.518646240234375, 12.803854942321777, -5.2013840675354, 11.772844314575195, -26.423141479492188, 12.723126411437988, 17.915197372436523, -44.069862365722656, -42.23015594482422, 35.38411331176758, 30.386423110961914, -31.77745819091797, -22.013580322265625, 13.639113426208496, 3.3911046981811523, 13.408336639404297, 17.894506454467773, 30.174991607666016, 23.982336044311523, 30.218374252319336, 27.164093017578125, -40.55032730102539, 36.5175895690918, 6.262281894683838, 26.16387939453125, -21.469802856445312, -2.6091394424438477, 46.17205810546875, -44.631309509277344, -5.101816177368164, -37.92780303955078, -5.821036338806152, 38.897212982177734, 4.724304676055908, 22.452423095703125, 13.946202278137207, 15.82534408569336, 16.763551712036133, 28.90732192993164, -36.64422607421875, -21.617883682250977, 22.474323272705078, -39.53545379638672, 18.254905700683594, -25.910768508911133, 47.113956451416016, 12.089800834655762, -43.98603820800781, 7.2950520515441895, 45.74318313598633, 35.53292465209961, 10.283646583557129, 10.137079238891602, -29.010826110839844, 8.523907661437988, 7.166500091552734, -3.837294340133667, 16.278383255004883, -48.41276168823242, -48.645050048828125, -10.75426197052002, -10.890116691589355, -9.522242546081543, 5.553586483001709, -44.27896499633789, -47.6489143371582, 27.86214828491211, 1.0336878299713135, 7.205673694610596, -49.9317741394043, 40.9443244934082, -57.91446304321289, -56.35515213012695, 6.711978435516357, 21.8994140625, 30.370386123657227, -51.89925765991211, 32.796138763427734, 38.30669403076172, -5.4459099769592285, 38.131317138671875, -9.602476119995117, -31.967082977294922, -36.750205993652344, -12.270330429077148, 5.010186195373535, 5.533667087554932, 30.850826263427734, 38.9766731262207, -29.369659423828125, 30.320859909057617, 32.80654525756836, -8.295682907104492, -42.93075180053711, -23.369873046875, -34.688507080078125, -34.14685821533203, -40.54853439331055, 31.34123420715332, 24.525461196899414, -28.716632843017578, -39.9679069519043, 15.142291069030762, -26.10485076904297, -51.80287170410156, -50.76334762573242, 10.233763694763184, 22.4357852935791, 3.3823232650756836, 7.134212493896484, 30.34889793395996, -20.272058486938477, 4.934700012207031, -4.700758457183838, -25.222766876220703, -11.44347858428955, -33.60065841674805, 11.874002456665039, 25.65971565246582, -22.52886962890625, 27.85785675048828, -19.47243309020996, 20.25185775756836, 43.68206787109375, -41.856651306152344, -44.086544036865234, 5.817233085632324, -42.71354293823242, 23.198078155517578, 1.7865129709243774, 29.743730545043945, 12.658291816711426, -50.14072036743164, 1.409604549407959, 41.36404037475586, -50.79334259033203, 2.845616340637207, 22.519567489624023, 9.702791213989258, -12.697303771972656, 20.930532455444336, -9.307297706604004, 15.965165138244629, 30.72842788696289, 21.539100646972656, 20.38688850402832, 6.849051475524902, -12.296700477600098, 14.770350456237793, 34.29247283935547, 36.20650863647461, 45.71848678588867, -25.079927444458008, 29.570411682128906, 5.870084285736084, 36.43409729003906, 44.44459915161133, -9.181707382202148, -47.30010986328125, 25.93259620666504, 31.42456817626953, 39.224037170410156, 14.330012321472168, -55.72713088989258, 47.14376449584961, 17.278074264526367, 6.624295711517334, 31.06324577331543, -1.62832772731781, 31.25925064086914, 35.4826545715332, 25.212976455688477, -2.7870945930480957, 2.854588031768799, 3.0946202278137207, -3.861395835876465, 19.09779167175293, 34.14252471923828, -30.245912551879883, 26.43751335144043, 26.153217315673828, 31.723129272460938, -32.809425354003906, 4.045050621032715, 1.883843183517456, -33.735870361328125, 26.295682907104492, -1.4862130880355835, 7.842669486999512, 2.0509097576141357, 3.6878201961517334, -29.37264633178711, 36.422096252441406, 9.998723983764648, -34.219871520996094, 29.330869674682617, 33.19257354736328, -39.08599853515625, 44.60853958129883, 31.22770118713379, 5.202668190002441, 20.11086654663086, 35.58238220214844, 17.533340454101562, 30.880722045898438, 22.470796585083008, 17.6339054107666, 2.69385027885437, 20.184656143188477, 37.6479377746582, -33.261329650878906, -28.128877639770508, 12.758066177368164, -49.84107208251953, -26.924110412597656, -25.540264129638672, -4.358859062194824, 25.32093620300293, 17.15812110900879, -46.046817779541016, 12.459977149963379, 21.818798065185547, 16.735477447509766, 31.453893661499023, 30.71312141418457, 33.68960952758789, -4.211575984954834, 16.810274124145508, 31.289932250976562, -10.664356231689453, 13.957467079162598, 7.829784870147705, 45.69607925415039, 46.550926208496094, 23.54702377319336, -55.68363952636719, -8.635334968566895, 6.454514503479004, 8.749650001525879, 45.21472930908203, -47.671478271484375, -17.48383140563965, 17.90233039855957, -10.277654647827148, 8.726943016052246, 12.901467323303223, 11.5867338180542, 45.84635925292969, 49.44987487792969, 18.380714416503906, 36.55258560180664, 10.13263988494873, 30.74941062927246, 10.217775344848633, -4.962613105773926, -38.829681396484375, -53.360206604003906, 19.362642288208008, 11.724883079528809, -51.3204231262207, -2.694395065307617, -17.003868103027344, -9.96388053894043, -45.69679260253906, 8.550312042236328, -38.05213928222656, -22.54084014892578, -36.584861755371094, 16.596084594726562, 7.851438999176025, -30.839614868164062, -55.10543441772461, -19.250408172607422, -55.223934173583984, -26.69379997253418, -15.640756607055664, 14.377533912658691, -14.558003425598145, -52.90205383300781, -39.62759780883789, -50.64457702636719, -35.451080322265625, 39.30201721191406, 14.685665130615234, -26.171960830688477, -42.83591842651367, -49.48887252807617, -48.671142578125, 31.614700317382812, -50.28022384643555, -26.839311599731445, 16.359020233154297, 30.47820281982422, -43.663326263427734, -49.6278190612793, 10.482687950134277, 33.42082977294922, 32.11259078979492, 32.530391693115234, 17.902359008789062, -28.8795108795166, 8.2673978805542, 37.88584518432617, -38.488250732421875, -8.37149429321289, -51.760597229003906, -4.37151575088501, 29.542545318603516, -38.841758728027344, 49.267356872558594, 0.45781955122947693, 46.192256927490234, 40.210330963134766, -51.03297424316406, 3.9211647510528564, 37.82905960083008, 36.29408645629883, 32.6955451965332, -12.854045867919922, 2.427290678024292, -4.422115802764893, 6.364214897155762, 4.053031921386719, -39.09099578857422, 37.90909194946289, 10.799712181091309, -33.53773880004883, 47.62002182006836, 44.857791900634766, 30.132444381713867, 47.71166229248047, 40.08667755126953, 36.05886459350586, 13.67415714263916, -34.10860824584961, 29.325410842895508, -38.95988464355469, 18.72832679748535, 0.5327211618423462, 38.85210037231445, 10.37193489074707, 38.536399841308594, -40.37714385986328, -47.09456253051758, -28.50063705444336, 27.787656784057617, 23.688867568969727, -49.84499740600586, 45.64189910888672, -47.25873947143555, 44.56468963623047, -41.4818000793457, 31.106292724609375, 19.810016632080078, -43.46149826049805, 6.28335428237915, -33.116180419921875, 46.84274673461914, 25.354198455810547, 39.15977096557617, -48.81022262573242, 35.315406799316406, 13.135560989379883, -3.611222743988037, 15.760199546813965, -16.933528900146484, -39.53749084472656, 33.55424499511719, 6.223092555999756, -28.617578506469727, -59.34909439086914, 14.771273612976074, -41.76169967651367, 22.730484008789062, -28.314224243164062, -21.11520004272461, 23.631074905395508, 9.54835033416748, -43.1677131652832, 33.15712356567383, 27.29857063293457, 21.611295700073242, 13.375873565673828, -21.689462661743164, 18.455928802490234, 33.55112075805664, -55.99165344238281, -4.64565896987915, -47.280696868896484, 27.338272094726562, 35.444149017333984, 12.6121187210083, 15.731618881225586, 5.159578800201416, 32.818084716796875, 35.48614501953125, -33.921241760253906, 29.714107513427734, 16.345905303955078, 27.04326057434082, 6.646254539489746, 34.918235778808594, 17.94641876220703, -39.548362731933594, 18.060100555419922, 39.47167205810547, 6.7665839195251465, 17.44329261779785, 36.6686897277832, 14.18199634552002, 45.0578727722168, 7.536301136016846, 33.635986328125, 31.9376163482666, 4.697852611541748, -6.3293070793151855, -36.91599655151367, 38.07596969604492, 6.899230003356934, -5.368869781494141, -19.147592544555664, 47.21540832519531, 43.376243591308594, -25.46404266357422, -36.956268310546875, 15.791187286376953, -10.564413070678711, -9.945552825927734, -39.627132415771484, -46.39961242675781, -21.643918991088867, 48.200679779052734, 39.9094352722168, -49.39026641845703, -38.36674499511719, -6.487452030181885, -29.08072853088379, 33.552101135253906, -37.71103286743164, -32.85725021362305, -33.08583068847656, -47.11119842529297, -43.92740249633789, -25.142562866210938, 9.461284637451172, 20.869972229003906, -33.64811325073242, -29.788860321044922, -19.212989807128906, 11.487451553344727, 16.09273910522461, 31.23744010925293, 29.144506454467773, -48.13622283935547, -38.273887634277344, -27.806699752807617, -12.615585327148438, -60.07964324951172, 21.864269256591797, 14.795736312866211, 25.365262985229492, 47.53403854370117, 24.914386749267578, -0.7479045391082764, -10.264497756958008, 9.550481796264648, -9.036480903625488, 42.11091995239258, 23.59718894958496, 38.49064636230469, 10.681235313415527, 42.11823272705078, 29.310726165771484, -20.439960479736328, -28.451356887817383, 42.05836868286133, -6.21174955368042, -31.678119659423828, 6.500553131103516, 32.96400451660156, -26.802738189697266, -31.8203067779541, 17.24880599975586, 40.12067794799805, 42.14929962158203, 33.28257369995117, 24.047548294067383, -46.976680755615234, 33.36274337768555, 9.802767753601074, 2.4938578605651855, 21.91313934326172, 34.21826934814453, 27.096391677856445, 44.88720703125, 1.2790380716323853, 41.79440689086914, 38.532779693603516, 17.27206802368164, -4.016201972961426, 10.146519660949707, -38.385826110839844, 25.613204956054688, -1.9059131145477295, 18.41096305847168, 21.11741065979004, 32.30411148071289, -45.44810104370117, -19.874147415161133, -22.921024322509766, 48.254371643066406, 38.955265045166016, 6.998190402984619, -6.415277004241943, -47.98619842529297, -27.383852005004883, 37.04438018798828, 20.428932189941406, 33.15849685668945, 23.98492431640625, 9.80591869354248, 27.122177124023438, -36.292396545410156, 9.8645601272583, 32.060150146484375, 27.36818504333496, -32.511802673339844, 36.39720153808594, 14.55426025390625, 46.06740951538086, 13.293255805969238, 42.862030029296875, 23.530139923095703, -40.592952728271484, -52.423980712890625, -37.118961334228516, 46.725406646728516, 8.517786026000977, 31.721660614013672, 44.74998092651367, -53.0815315246582, -50.67848587036133, -54.42908477783203, -40.938846588134766, -10.799731254577637, 18.314311981201172, -38.845481872558594, -12.2942533493042, 2.463177442550659, 23.141836166381836, 1.378446102142334, 8.682775497436523, 8.040140151977539, -45.620941162109375, -13.566439628601074, 20.12041473388672, 24.878055572509766, 11.98405647277832, -49.26504898071289, 17.796537399291992, 4.771402835845947, -36.098445892333984, 12.440105438232422, -46.37931823730469, -9.003274917602539, 44.240013122558594, -40.58107376098633, 12.0750732421875, -25.523019790649414, 4.649066925048828, 35.237030029296875, -38.289459228515625, -30.169309616088867, 17.071414947509766, -53.56867218017578, 16.340078353881836, 16.325735092163086, 13.983476638793945, 44.135807037353516, 41.042808532714844, 26.004600524902344, 15.496589660644531, -33.72037124633789, -42.246578216552734, 40.32147979736328, 11.348830223083496, 8.740537643432617, -8.903903007507324, 11.051636695861816, 24.76519775390625, 9.453106880187988, 14.343864440917969, 33.783451080322266, 13.983427047729492, 10.85881519317627, -37.58820343017578, 20.372602462768555, -50.18792724609375, -28.471914291381836, -20.665685653686523, 36.244876861572266, -42.90860366821289, 2.1712632179260254, -24.56864356994629, 50.80083084106445, 29.136611938476562, -8.410743713378906, -50.63749694824219, 36.30894470214844, 43.3415641784668, -6.898300647735596, -4.5391998291015625, -4.063272476196289, -24.448240280151367, -32.22096633911133, -30.93130874633789, -30.965662002563477, -41.0462760925293, -43.471439361572266, 6.993497848510742, 4.442569255828857, -40.022342681884766, -34.641944885253906, 19.851667404174805, -48.07298278808594, 40.60036087036133, -12.842748641967773, 5.159734725952148, 32.43172073364258, -36.0739860534668, -9.820014953613281, -39.820640563964844, -4.228054523468018, -47.83309555053711, -5.6757893562316895, 28.301340103149414, 31.766590118408203, 7.925129413604736, 25.777755737304688, 39.72157287597656, -33.819828033447266, -26.281478881835938, -32.41965103149414, 17.353559494018555, -26.89581871032715, -39.466209411621094, -1.6921876668930054, 44.37773895263672, -2.4696145057678223, 47.14058303833008, 4.805202007293701, 7.822815418243408, 14.589521408081055, 17.96088409423828, 26.641498565673828, 37.52537155151367, -48.43974304199219, 14.805068016052246, -28.49293327331543, -28.082529067993164, -9.872515678405762, 29.55802345275879, 28.82143783569336, -54.2415771484375, 6.257282733917236, 33.3466911315918, 17.887989044189453, -48.37913131713867, 6.1912689208984375, 44.09514236450195, -39.07907485961914, 28.701148986816406, 42.705989837646484, 37.08069610595703, 10.518071174621582, 33.36072540283203, 47.61344909667969, 20.19558334350586, 39.214962005615234, 26.00659942626953, 37.284122467041016, -29.92658805847168, -0.6942025423049927, 19.1096248626709, -5.244381904602051, -43.15523147583008, 43.10403060913086, 28.869367599487305, -54.778053283691406, 19.037275314331055, 15.730430603027344, 22.654335021972656, 10.437265396118164, 40.253971099853516, -11.201667785644531, -46.9719123840332, -39.342716217041016, -4.654158592224121, 36.03232192993164, 27.134891510009766, -32.65632247924805, 21.34296989440918, 29.198991775512695, -27.670499801635742, -46.20934295654297, 41.099884033203125, 31.31446075439453, 46.41044998168945, 8.833540916442871, 4.804677963256836, 2.176988363265991, -22.38241195678711, -42.771148681640625, -0.0261244997382164, 17.90651512145996, 13.139504432678223, 29.76222801208496, -32.81122589111328, -3.0381407737731934, 20.564857482910156, -33.03744125366211, 15.010580062866211, 12.227801322937012, 10.971494674682617, 14.27908992767334, -2.859980583190918, 34.17605209350586, 14.65912914276123, -25.59579849243164, 35.04803466796875, 5.682783126831055, 43.06435012817383, -34.15535354614258, 31.513025283813477, 47.5657958984375, -44.95341873168945, -55.331459045410156, -40.70035934448242, -36.07398986816406, -8.408432006835938, -51.90869140625, 41.328758239746094, -36.73286819458008, -9.218962669372559, 47.5444450378418, -38.563453674316406, -13.367619514465332, 4.097387790679932, 47.23792266845703, 27.703100204467773, -13.077930450439453, 7.197212219238281, -31.638427734375, -34.852142333984375, 45.22187423706055, 27.965946197509766, -47.14447784423828, -9.445965766906738, 29.669145584106445, -49.01069641113281, 11.37584114074707, 25.54456901550293, 15.440825462341309, -25.748571395874023, 12.602910995483398, 24.91398811340332, 24.61195945739746, -28.195362091064453, -30.32696533203125, -34.54874801635742, -49.68238830566406, -12.69735050201416, 8.088784217834473, -49.89045715332031, 15.464223861694336, -11.898890495300293, -53.77994155883789, -44.6893196105957, -29.596834182739258, -39.34801483154297, -44.7706298828125, -34.15359878540039, -19.157604217529297, -7.634799480438232, 0.9479321837425232, -9.938639640808105, 7.4364423751831055, -1.112404465675354, -25.993371963500977, 10.779071807861328, -5.666524887084961, -39.50436782836914, 35.40611267089844, -55.23459243774414, 0.255110502243042, -54.03456115722656, 9.698468208312988, 8.114912986755371, 9.10276985168457, 30.221834182739258, -51.688228607177734, -38.5810661315918, 15.805943489074707, 44.204586029052734, -53.36693572998047, -39.59527587890625, -4.72642183303833, 34.9157600402832, 18.74607276916504, -22.732107162475586, 9.703628540039062, 10.173009872436523, -57.56100082397461, -40.204498291015625, 22.5229549407959, -0.3386041224002838, -38.079708099365234, 17.166902542114258, 16.333084106445312, 48.89133834838867, 46.32835006713867, 20.024097442626953, -37.312339782714844, 40.230350494384766, -28.010740280151367, 37.8939323425293, -0.5117602348327637, 45.87004089355469, -16.449861526489258, 36.71345138549805, 21.46208381652832, 27.06071662902832, 0.9929270148277283, 2.47678804397583, -33.72389221191406, -5.703039646148682, -35.23118591308594, 15.977068901062012, -18.004514694213867, -32.16796875, 20.592702865600586, -25.49494743347168, 32.846893310546875, -44.974334716796875, 32.37684631347656, 38.45045471191406, 27.743398666381836, 15.072663307189941, 44.23667526245117, 30.33965492248535, -0.6864250898361206, 1.9156156778335571, 31.79096031188965, -10.573338508605957, 31.25943374633789, 31.78410530090332, 41.82783126831055, 26.096153259277344, 39.207916259765625, -42.09043502807617, 22.567869186401367, 45.77850341796875, -53.351741790771484, -14.024699211120605, 16.95689582824707, -48.96205139160156, 39.396705627441406, 11.319329261779785, 15.804971694946289, -0.8221327066421509, 30.25229835510254, -10.024786949157715, 17.178346633911133, 40.272239685058594, 9.438928604125977, 35.606468200683594, -34.24565505981445, 7.760593891143799, -1.8669064044952393, 14.535579681396484, -4.430801868438721, -29.59308624267578, 0.7483694553375244, 35.34919738769531, -9.30728530883789, 8.640983581542969, 24.177122116088867, -37.181819915771484, 15.183967590332031, -42.52267074584961, -42.140621185302734, -23.00052261352539, -5.67194128036499, 47.91408920288086, -13.653925895690918, 31.117462158203125, -44.3909912109375, 7.453354835510254, 18.208881378173828, -42.1834602355957, 0.09002003073692322, 45.95237731933594, -32.77784729003906, 9.184303283691406, -35.068634033203125, 35.3747444152832, -42.15106964111328, 21.669649124145508, 44.42644119262695, -10.00040054321289, 16.567110061645508, -34.51645278930664, -42.658199310302734, -31.240732192993164, -5.776846408843994, -39.38483428955078, 39.19015121459961, -38.37850570678711, -34.896392822265625, -5.3890485763549805, 32.17789077758789, -36.24336624145508, -1.337266206741333, 27.586435317993164, 16.462636947631836, -50.512611389160156, -24.738283157348633, -31.82047462463379, 42.63460159301758, -42.11256790161133, 3.723346471786499, 21.897262573242188, 19.152511596679688, -33.10282897949219, -30.41400718688965, 19.967905044555664, 45.5793342590332, 5.6378865242004395, 6.862081527709961, 27.280813217163086, -30.672224044799805, -6.0467305183410645, 44.564453125, 20.50865364074707, -25.49491310119629, -43.598793029785156, -25.852022171020508, -49.60429000854492, 43.489105224609375, 20.04734992980957, 1.3430192470550537, 46.74884796142578, 34.22248840332031, -22.51360321044922, 15.465251922607422, -35.433040618896484, 38.26407241821289, 36.48255920410156, -41.994529724121094, -47.2588996887207, 35.82430648803711, 13.568336486816406, 3.6546032428741455, 29.221179962158203, 35.426544189453125, -46.99251937866211, -31.517122268676758, -48.824134826660156, -38.14511489868164, -47.88394546508789, 18.978862762451172, -31.179141998291016, -37.44256591796875, 15.23170280456543, -16.956079483032227, 43.442386627197266, 38.01137161254883, 8.333086013793945, 7.8408966064453125, -34.697052001953125, -4.860164642333984, -18.430858612060547, 3.826587438583374, 6.543499946594238, -8.694391250610352, 38.636287689208984, 8.482277870178223, 44.2563591003418, -36.69873809814453, 15.691632270812988, 7.109944820404053, -45.23954391479492, -29.91490364074707, -24.942344665527344, -8.584075927734375, -30.294252395629883, 14.879203796386719, 20.821996688842773, -25.13460350036621, 26.08847427368164, 26.14783477783203, 9.818292617797852, -48.61641311645508, 16.714431762695312, 38.600379943847656, -0.2128659188747406, -3.495600461959839, 8.20075798034668, 21.24381446838379, 47.639163970947266, -30.648422241210938, 12.10290813446045, 32.541587829589844, 11.718324661254883, -51.380401611328125, 37.60623550415039, -2.893625497817993, -1.2352358102798462, 45.64244079589844, -35.77342987060547, 15.438902854919434, -4.375983238220215, -44.49032211303711, -6.802997589111328, 13.23416519165039, -33.70164108276367, -0.941389799118042, -57.635440826416016, -32.748226165771484, 0.6057524681091309, 32.886688232421875, -6.856642723083496, 8.772916793823242, -25.346529006958008, 33.86422348022461, 5.518034934997559, 14.166531562805176, 15.848603248596191, 10.08108139038086, 17.808486938476562, 40.660057067871094, -24.75244140625, -49.306434631347656, 8.993569374084473, -53.181392669677734, -30.015789031982422, 20.266685485839844, 6.7989678382873535, 7.933637619018555, 9.24487590789795, -46.24660110473633, 16.366758346557617, 36.23824691772461, -53.55504608154297, -18.113798141479492, 39.79109573364258, 41.79462432861328, 29.78622055053711, 40.989620208740234, -32.921241760253906, 46.07221221923828, 45.37933349609375, 20.970476150512695, 17.909683227539062, 37.59148406982422, 15.48009967803955, -38.12772750854492, 35.36063003540039, 33.1192741394043, -51.57783889770508, -32.89385223388672, -29.315568923950195, -47.49833679199219, -45.670536041259766, -54.087120056152344, -42.442535400390625, -9.923100471496582, 1.4216811656951904, -49.189598083496094, 3.687087297439575, -41.90683364868164, 39.647613525390625, -37.08808898925781, -43.41122055053711, 47.28828811645508, 16.693567276000977, 33.53825759887695, 46.06673049926758, -11.702667236328125, -40.331336975097656, 18.48483657836914, -10.621045112609863, 0.7780137062072754, -1.0968084335327148, 7.6822733879089355, 30.576826095581055, -55.8656005859375, 12.809099197387695, -46.18840408325195, -20.509206771850586, 47.929542541503906, -29.97332191467285, 11.230537414550781, 8.180102348327637, 29.570344924926758, -23.387123107910156, -53.2030143737793, 29.342966079711914, 41.01540756225586, 7.478332996368408, -53.952552795410156, 17.676862716674805, 46.74760437011719, -25.083086013793945, 44.56209182739258, 23.847225189208984, 18.982275009155273, 14.740510940551758, -55.42747116088867, 39.427852630615234, -52.79637908935547, 11.186450958251953, -23.867704391479492, 29.26563262939453, 26.380420684814453, 38.720787048339844, 36.567283630371094, -48.5628776550293, -54.92976379394531, -54.8437614440918, 11.186809539794922, 40.708213806152344, -22.070302963256836, 23.5101261138916, 28.45054817199707, -37.62233352661133, 16.69028663635254, 29.543487548828125, 5.765511989593506, 33.72929000854492, 14.588134765625, 4.294524192810059, 7.579492092132568, 20.37017059326172, -50.62491989135742, 40.010372161865234, 47.56303405761719, 43.337547302246094, 43.90333557128906, 14.0359468460083, -18.19317626953125, 8.84179973602295, 17.728801727294922, 16.867460250854492, -7.8951416015625, -46.553550720214844, 29.44676399230957, -28.313703536987305, 16.24580192565918, -29.989822387695312, -45.959144592285156, 17.34275245666504, 16.177902221679688, 40.63798904418945, 33.58024215698242, 16.584978103637695, -5.368724346160889, -5.990850448608398, 28.802804946899414, 34.30197525024414, -33.5810661315918, 23.106054306030273, -37.87388610839844, -33.53797912597656, -30.80130386352539, 44.82918167114258, 26.955293655395508, 28.910940170288086, 12.690295219421387, 27.76837921142578, -30.505929946899414, 10.256221771240234, -32.5828857421875, 19.62315559387207, -45.695438385009766, -58.00141143798828, 37.35238265991211, -30.93185043334961, 30.113018035888672, -10.015140533447266, -26.337953567504883, -34.742164611816406, -36.024436950683594, -7.145005226135254, 27.192102432250977, 46.875213623046875, 46.20537567138672, -0.8595976233482361, 13.523475646972656, 8.342040061950684, 50.64103698730469, 45.95380783081055, 12.832171440124512, 28.82758903503418, 32.04679489135742, -2.2223165035247803, 1.6545493602752686, -30.969669342041016, -48.800167083740234, -36.10516357421875, 34.37948226928711, 21.904956817626953, 7.453495025634766, -0.8752599954605103, 15.478604316711426, 37.5477180480957, 42.78602600097656, 36.9866943359375, -24.996238708496094, -42.16750717163086, -10.549569129943848, -44.662357330322266, 14.521709442138672, 12.632801055908203, -33.390380859375, -1.1293084621429443, 13.703537940979004, -31.757369995117188, 35.06505584716797, 13.548759460449219, -25.140169143676758, -40.31574249267578, -58.59160614013672, 37.0684700012207, -4.248375415802002, -54.44680404663086, -50.25986862182617, 25.815895080566406, 7.885787010192871, -26.848262786865234, 43.97297668457031, 23.8421573638916, 34.91340255737305, -30.358516693115234, 17.945402145385742, 15.256471633911133, 29.58683967590332, -29.926729202270508, 21.247779846191406, -36.120849609375, 36.54578399658203, -48.974334716796875, -9.91269588470459, -33.20103073120117, -29.50008773803711, 8.973540306091309, -5.088664531707764, -2.7114078998565674, -52.27226638793945, 19.18486976623535, 9.728974342346191, 19.37169075012207, 6.446063041687012, -10.039813041687012, 38.85888671875, -7.729885101318359, -38.86949920654297, -31.007118225097656, -1.756620168685913, -2.910485029220581, -2.6993958950042725, 0.21754363179206848, 7.741124153137207, 35.443885803222656, 16.260845184326172, 17.51767921447754, -54.37032699584961, -6.4031476974487305, -48.46159744262695, 10.83549976348877, -37.470619201660156, 11.511807441711426, 48.00312805175781, 21.558319091796875, -32.55675506591797, 31.02398681640625, -28.406633377075195, 1.4466676712036133, -4.829593181610107, 6.658562660217285, -29.15378761291504, -39.46711349487305], \"yaxis\": \"y\"}],\n",
              "                        {\"coloraxis\": {\"colorbar\": {\"title\": {\"text\": \"color\"}}, \"colorscale\": [[0.0, \"#0d0887\"], [0.1111111111111111, \"#46039f\"], [0.2222222222222222, \"#7201a8\"], [0.3333333333333333, \"#9c179e\"], [0.4444444444444444, \"#bd3786\"], [0.5555555555555556, \"#d8576b\"], [0.6666666666666666, \"#ed7953\"], [0.7777777777777778, \"#fb9f3a\"], [0.8888888888888888, \"#fdca26\"], [1.0, \"#f0f921\"]]}, \"legend\": {\"tracegroupgap\": 0}, \"margin\": {\"t\": 60}, \"template\": {\"data\": {\"bar\": [{\"error_x\": {\"color\": \"#2a3f5f\"}, \"error_y\": {\"color\": \"#2a3f5f\"}, \"marker\": {\"line\": {\"color\": \"#E5ECF6\", \"width\": 0.5}}, \"type\": \"bar\"}], \"barpolar\": [{\"marker\": {\"line\": {\"color\": \"#E5ECF6\", \"width\": 0.5}}, \"type\": \"barpolar\"}], \"carpet\": [{\"aaxis\": {\"endlinecolor\": \"#2a3f5f\", \"gridcolor\": \"white\", \"linecolor\": \"white\", \"minorgridcolor\": \"white\", \"startlinecolor\": \"#2a3f5f\"}, \"baxis\": {\"endlinecolor\": \"#2a3f5f\", \"gridcolor\": \"white\", \"linecolor\": \"white\", \"minorgridcolor\": \"white\", \"startlinecolor\": \"#2a3f5f\"}, \"type\": \"carpet\"}], \"choropleth\": [{\"colorbar\": {\"outlinewidth\": 0, \"ticks\": \"\"}, \"type\": \"choropleth\"}], \"contour\": [{\"colorbar\": {\"outlinewidth\": 0, \"ticks\": \"\"}, \"colorscale\": [[0.0, \"#0d0887\"], [0.1111111111111111, \"#46039f\"], [0.2222222222222222, \"#7201a8\"], [0.3333333333333333, \"#9c179e\"], [0.4444444444444444, \"#bd3786\"], [0.5555555555555556, \"#d8576b\"], [0.6666666666666666, \"#ed7953\"], [0.7777777777777778, \"#fb9f3a\"], [0.8888888888888888, \"#fdca26\"], [1.0, \"#f0f921\"]], \"type\": \"contour\"}], \"contourcarpet\": [{\"colorbar\": {\"outlinewidth\": 0, \"ticks\": \"\"}, \"type\": \"contourcarpet\"}], \"heatmap\": [{\"colorbar\": {\"outlinewidth\": 0, \"ticks\": \"\"}, \"colorscale\": [[0.0, \"#0d0887\"], [0.1111111111111111, \"#46039f\"], [0.2222222222222222, \"#7201a8\"], [0.3333333333333333, \"#9c179e\"], [0.4444444444444444, \"#bd3786\"], [0.5555555555555556, \"#d8576b\"], [0.6666666666666666, \"#ed7953\"], [0.7777777777777778, \"#fb9f3a\"], [0.8888888888888888, \"#fdca26\"], [1.0, \"#f0f921\"]], \"type\": \"heatmap\"}], \"heatmapgl\": [{\"colorbar\": {\"outlinewidth\": 0, \"ticks\": \"\"}, \"colorscale\": [[0.0, \"#0d0887\"], [0.1111111111111111, \"#46039f\"], [0.2222222222222222, \"#7201a8\"], [0.3333333333333333, \"#9c179e\"], [0.4444444444444444, \"#bd3786\"], [0.5555555555555556, \"#d8576b\"], [0.6666666666666666, \"#ed7953\"], [0.7777777777777778, \"#fb9f3a\"], [0.8888888888888888, \"#fdca26\"], [1.0, \"#f0f921\"]], \"type\": \"heatmapgl\"}], \"histogram\": [{\"marker\": {\"colorbar\": {\"outlinewidth\": 0, \"ticks\": \"\"}}, \"type\": \"histogram\"}], \"histogram2d\": [{\"colorbar\": {\"outlinewidth\": 0, \"ticks\": \"\"}, \"colorscale\": [[0.0, \"#0d0887\"], [0.1111111111111111, \"#46039f\"], [0.2222222222222222, \"#7201a8\"], [0.3333333333333333, \"#9c179e\"], [0.4444444444444444, \"#bd3786\"], [0.5555555555555556, \"#d8576b\"], [0.6666666666666666, \"#ed7953\"], [0.7777777777777778, \"#fb9f3a\"], [0.8888888888888888, \"#fdca26\"], [1.0, \"#f0f921\"]], \"type\": \"histogram2d\"}], \"histogram2dcontour\": [{\"colorbar\": {\"outlinewidth\": 0, \"ticks\": \"\"}, \"colorscale\": [[0.0, \"#0d0887\"], [0.1111111111111111, \"#46039f\"], [0.2222222222222222, \"#7201a8\"], [0.3333333333333333, \"#9c179e\"], [0.4444444444444444, \"#bd3786\"], [0.5555555555555556, \"#d8576b\"], [0.6666666666666666, \"#ed7953\"], [0.7777777777777778, \"#fb9f3a\"], [0.8888888888888888, \"#fdca26\"], [1.0, \"#f0f921\"]], \"type\": \"histogram2dcontour\"}], \"mesh3d\": [{\"colorbar\": {\"outlinewidth\": 0, \"ticks\": \"\"}, \"type\": \"mesh3d\"}], \"parcoords\": [{\"line\": {\"colorbar\": {\"outlinewidth\": 0, \"ticks\": \"\"}}, \"type\": \"parcoords\"}], \"pie\": [{\"automargin\": true, \"type\": \"pie\"}], \"scatter\": [{\"marker\": {\"colorbar\": {\"outlinewidth\": 0, \"ticks\": \"\"}}, \"type\": \"scatter\"}], \"scatter3d\": [{\"line\": {\"colorbar\": {\"outlinewidth\": 0, \"ticks\": \"\"}}, \"marker\": {\"colorbar\": {\"outlinewidth\": 0, \"ticks\": \"\"}}, \"type\": \"scatter3d\"}], \"scattercarpet\": [{\"marker\": {\"colorbar\": {\"outlinewidth\": 0, \"ticks\": \"\"}}, \"type\": \"scattercarpet\"}], \"scattergeo\": [{\"marker\": {\"colorbar\": {\"outlinewidth\": 0, \"ticks\": \"\"}}, \"type\": \"scattergeo\"}], \"scattergl\": [{\"marker\": {\"colorbar\": {\"outlinewidth\": 0, \"ticks\": \"\"}}, \"type\": \"scattergl\"}], \"scattermapbox\": [{\"marker\": {\"colorbar\": {\"outlinewidth\": 0, \"ticks\": \"\"}}, \"type\": \"scattermapbox\"}], \"scatterpolar\": [{\"marker\": {\"colorbar\": {\"outlinewidth\": 0, \"ticks\": \"\"}}, \"type\": \"scatterpolar\"}], \"scatterpolargl\": [{\"marker\": {\"colorbar\": {\"outlinewidth\": 0, \"ticks\": \"\"}}, \"type\": \"scatterpolargl\"}], \"scatterternary\": [{\"marker\": {\"colorbar\": {\"outlinewidth\": 0, \"ticks\": \"\"}}, \"type\": \"scatterternary\"}], \"surface\": [{\"colorbar\": {\"outlinewidth\": 0, \"ticks\": \"\"}, \"colorscale\": [[0.0, \"#0d0887\"], [0.1111111111111111, \"#46039f\"], [0.2222222222222222, \"#7201a8\"], [0.3333333333333333, \"#9c179e\"], [0.4444444444444444, \"#bd3786\"], [0.5555555555555556, \"#d8576b\"], [0.6666666666666666, \"#ed7953\"], [0.7777777777777778, \"#fb9f3a\"], [0.8888888888888888, \"#fdca26\"], [1.0, \"#f0f921\"]], \"type\": \"surface\"}], \"table\": [{\"cells\": {\"fill\": {\"color\": \"#EBF0F8\"}, \"line\": {\"color\": \"white\"}}, \"header\": {\"fill\": {\"color\": \"#C8D4E3\"}, \"line\": {\"color\": \"white\"}}, \"type\": \"table\"}]}, \"layout\": {\"annotationdefaults\": {\"arrowcolor\": \"#2a3f5f\", \"arrowhead\": 0, \"arrowwidth\": 1}, \"coloraxis\": {\"colorbar\": {\"outlinewidth\": 0, \"ticks\": \"\"}}, \"colorscale\": {\"diverging\": [[0, \"#8e0152\"], [0.1, \"#c51b7d\"], [0.2, \"#de77ae\"], [0.3, \"#f1b6da\"], [0.4, \"#fde0ef\"], [0.5, \"#f7f7f7\"], [0.6, \"#e6f5d0\"], [0.7, \"#b8e186\"], [0.8, \"#7fbc41\"], [0.9, \"#4d9221\"], [1, \"#276419\"]], \"sequential\": [[0.0, \"#0d0887\"], [0.1111111111111111, \"#46039f\"], [0.2222222222222222, \"#7201a8\"], [0.3333333333333333, \"#9c179e\"], [0.4444444444444444, \"#bd3786\"], [0.5555555555555556, \"#d8576b\"], [0.6666666666666666, \"#ed7953\"], [0.7777777777777778, \"#fb9f3a\"], [0.8888888888888888, \"#fdca26\"], [1.0, \"#f0f921\"]], \"sequentialminus\": [[0.0, \"#0d0887\"], [0.1111111111111111, \"#46039f\"], [0.2222222222222222, \"#7201a8\"], [0.3333333333333333, \"#9c179e\"], [0.4444444444444444, \"#bd3786\"], [0.5555555555555556, \"#d8576b\"], [0.6666666666666666, \"#ed7953\"], [0.7777777777777778, \"#fb9f3a\"], [0.8888888888888888, \"#fdca26\"], [1.0, \"#f0f921\"]]}, \"colorway\": [\"#636efa\", \"#EF553B\", \"#00cc96\", \"#ab63fa\", \"#FFA15A\", \"#19d3f3\", \"#FF6692\", \"#B6E880\", \"#FF97FF\", \"#FECB52\"], \"font\": {\"color\": \"#2a3f5f\"}, \"geo\": {\"bgcolor\": \"white\", \"lakecolor\": \"white\", \"landcolor\": \"#E5ECF6\", \"showlakes\": true, \"showland\": true, \"subunitcolor\": \"white\"}, \"hoverlabel\": {\"align\": \"left\"}, \"hovermode\": \"closest\", \"mapbox\": {\"style\": \"light\"}, \"paper_bgcolor\": \"white\", \"plot_bgcolor\": \"#E5ECF6\", \"polar\": {\"angularaxis\": {\"gridcolor\": \"white\", \"linecolor\": \"white\", \"ticks\": \"\"}, \"bgcolor\": \"#E5ECF6\", \"radialaxis\": {\"gridcolor\": \"white\", \"linecolor\": \"white\", \"ticks\": \"\"}}, \"scene\": {\"xaxis\": {\"backgroundcolor\": \"#E5ECF6\", \"gridcolor\": \"white\", \"gridwidth\": 2, \"linecolor\": \"white\", \"showbackground\": true, \"ticks\": \"\", \"zerolinecolor\": \"white\"}, \"yaxis\": {\"backgroundcolor\": \"#E5ECF6\", \"gridcolor\": \"white\", \"gridwidth\": 2, \"linecolor\": \"white\", \"showbackground\": true, \"ticks\": \"\", \"zerolinecolor\": \"white\"}, \"zaxis\": {\"backgroundcolor\": \"#E5ECF6\", \"gridcolor\": \"white\", \"gridwidth\": 2, \"linecolor\": \"white\", \"showbackground\": true, \"ticks\": \"\", \"zerolinecolor\": \"white\"}}, \"shapedefaults\": {\"line\": {\"color\": \"#2a3f5f\"}}, \"ternary\": {\"aaxis\": {\"gridcolor\": \"white\", \"linecolor\": \"white\", \"ticks\": \"\"}, \"baxis\": {\"gridcolor\": \"white\", \"linecolor\": \"white\", \"ticks\": \"\"}, \"bgcolor\": \"#E5ECF6\", \"caxis\": {\"gridcolor\": \"white\", \"linecolor\": \"white\", \"ticks\": \"\"}}, \"title\": {\"x\": 0.05}, \"xaxis\": {\"automargin\": true, \"gridcolor\": \"white\", \"linecolor\": \"white\", \"ticks\": \"\", \"title\": {\"standoff\": 15}, \"zerolinecolor\": \"white\", \"zerolinewidth\": 2}, \"yaxis\": {\"automargin\": true, \"gridcolor\": \"white\", \"linecolor\": \"white\", \"ticks\": \"\", \"title\": {\"standoff\": 15}, \"zerolinecolor\": \"white\", \"zerolinewidth\": 2}}}, \"xaxis\": {\"anchor\": \"y\", \"domain\": [0.0, 1.0], \"title\": {\"text\": \"x\"}}, \"yaxis\": {\"anchor\": \"x\", \"domain\": [0.0, 1.0], \"title\": {\"text\": \"y\"}}},\n",
              "                        {\"responsive\": true}\n",
              "                    ).then(function(){\n",
              "                            \n",
              "var gd = document.getElementById('f61222d0-4925-40e4-ba78-f34f2510dbd6');\n",
              "var x = new MutationObserver(function (mutations, observer) {{\n",
              "        var display = window.getComputedStyle(gd).display;\n",
              "        if (!display || display === 'none') {{\n",
              "            console.log([gd, 'removed!']);\n",
              "            Plotly.purge(gd);\n",
              "            observer.disconnect();\n",
              "        }}\n",
              "}});\n",
              "\n",
              "// Listen for the removal of the full notebook cells\n",
              "var notebookContainer = gd.closest('#notebook-container');\n",
              "if (notebookContainer) {{\n",
              "    x.observe(notebookContainer, {childList: true});\n",
              "}}\n",
              "\n",
              "// Listen for the clearing of the current output cell\n",
              "var outputEl = gd.closest('.output');\n",
              "if (outputEl) {{\n",
              "    x.observe(outputEl, {childList: true});\n",
              "}}\n",
              "\n",
              "                        })\n",
              "                };\n",
              "                \n",
              "            </script>\n",
              "        </div>\n",
              "</body>\n",
              "</html>"
            ]
          },
          "metadata": {}
        }
      ]
    },
    {
      "cell_type": "markdown",
      "metadata": {
        "id": "McCQ_7zgNtgW"
      },
      "source": [
        "tsne-1.png"
      ]
    },
    {
      "cell_type": "code",
      "metadata": {
        "id": "oMGkc9FcFju8"
      },
      "source": [
        "# Супер адекватных результатов не получилось, выделились 3 кластера, соответвующие разным временам"
      ],
      "execution_count": null,
      "outputs": []
    },
    {
      "cell_type": "code",
      "metadata": {
        "id": "og6ut7-EFzm5"
      },
      "source": [
        "# В случае, если использовать предобученные эмбеддинги\n",
        "ft = fasttext.load_model('cc.en.300.bin')"
      ],
      "execution_count": null,
      "outputs": []
    },
    {
      "cell_type": "code",
      "metadata": {
        "colab": {
          "base_uri": "https://localhost:8080/",
          "height": 49,
          "referenced_widgets": [
            "c99ca75009bf4360b53c4c24dcef3a76",
            "f8d67bca0e714a25b0c084a4f04a933a",
            "74ff673393af4ef892d5743cb081dea7",
            "c84151903895439b87e7defed865fbd4",
            "6e78ee098d9349a3b0568fda943d5dbb",
            "b4467e477cc047f4a37a234d78393e6b",
            "9d3b7e9aa41e4bfe9b03694851738518",
            "3714728ed98c4df8bb18bced3d3eb2ae",
            "d3662d925a3346519e174a2f9de9b423",
            "e4194fc566ce48c1a660ae5d93430fb1",
            "e35c0ce2c2bd4ea896f72f237cb18bd7"
          ]
        },
        "id": "WByJq9ydF_Wm",
        "outputId": "ab1544ad-3033-4e1e-a37d-48a315b955d4"
      },
      "source": [
        "embeds = np.zeros((len(unique_events), 300))\n",
        "for i in tqdm(range(len(unique_events))):\n",
        "    embeds[i] = ft.get_word_vector(unique_events[i].lower())"
      ],
      "execution_count": 53,
      "outputs": [
        {
          "output_type": "display_data",
          "data": {
            "application/vnd.jupyter.widget-view+json": {
              "model_id": "c99ca75009bf4360b53c4c24dcef3a76",
              "version_minor": 0,
              "version_major": 2
            },
            "text/plain": [
              "  0%|          | 0/2605 [00:00<?, ?it/s]"
            ]
          },
          "metadata": {}
        }
      ]
    },
    {
      "cell_type": "code",
      "metadata": {
        "colab": {
          "base_uri": "https://localhost:8080/",
          "height": 393
        },
        "id": "A2JnHVSZGH5l",
        "outputId": "2de04fa5-01ce-4e98-aa3d-8a64d21129e2"
      },
      "source": [
        "model = KMeans()\n",
        "visualizer = KElbowVisualizer(model, k=(1, 20))\n",
        "\n",
        "visualizer.fit(embeds)\n",
        "visualizer.show()"
      ],
      "execution_count": 54,
      "outputs": [
        {
          "output_type": "display_data",
          "data": {
            "image/png": "[encoded data removed]",
            "text/plain": [
              "<Figure size 576x396 with 2 Axes>"
            ]
          },
          "metadata": {}
        },
        {
          "output_type": "execute_result",
          "data": {
            "text/plain": [
              "<matplotlib.axes._subplots.AxesSubplot at 0x7f2e7c0834d0>"
            ]
          },
          "metadata": {},
          "execution_count": 54
        }
      ]
    },
    {
      "cell_type": "code",
      "metadata": {
        "colab": {
          "base_uri": "https://localhost:8080/",
          "height": 0
        },
        "id": "7XpEEhKnGKMq",
        "outputId": "e6b20de8-275c-40c8-db04-e3203efacf13"
      },
      "source": [
        "kmeans = KMeans(n_clusters = 6).fit(embeds)\n",
        "centroids = kmeans.cluster_centers_\n",
        "pred_clusters = kmeans.predict(embeds)\n",
        "dist_to_center = np.sum((embeds - centroids[pred_clusters]) ** 2, axis=1)\n",
        "unique_events = np.array(unique_events)\n",
        "for i in range(6):\n",
        "    print(f'Cluster #{i+1}')\n",
        "    idxs = np.where(pred_clusters == i)[0]\n",
        "    nearest_idxs = np.argsort(dist_to_center[idxs])[:10]\n",
        "    idxs = idxs[nearest_idxs]\n",
        "    print(unique_events[idxs])\n",
        "    print('----')"
      ],
      "execution_count": 56,
      "outputs": [
        {
          "output_type": "stream",
          "name": "stdout",
          "text": [
            "Cluster #1\n",
            "['disappearing' 'pretending' 'imagining' 'accumulating' 'stretching'\n",
            " 'Stretching' 'straightening' 'standing' 'screaming' 'exclaiming']\n",
            "----\n",
            "Cluster #2\n",
            "['bring' 'start' 'come' 'leave' 'refuse' 'stand' 'take' 'break' 'begin'\n",
            " 'turn']\n",
            "----\n",
            "Cluster #3\n",
            "['sauntered' 'shuddered' 'wandered' 'stepped' 'whispered' 'looked'\n",
            " 'slipped' 'strolled' 'exclaimed' 'grumbled']\n",
            "----\n",
            "Cluster #4\n",
            "['remembered' 'approached' 'disappeared' 'misinterpreted' 'discovered'\n",
            " 'understood' 'considered' 'determined' 'Disappointed' 'disappointed']\n",
            "----\n",
            "Cluster #5\n",
            "['laughter' 'Laughter' 'whisper' 'thunders' 'gurgling' 'grimace' 'hissing'\n",
            " 'muffled' 'tremble' 'sadness']\n",
            "----\n",
            "Cluster #6\n",
            "['acknowledgment' 'consequence' 'understanding' 'disappointment'\n",
            " 'dissatisfaction' 'introduction' 'down-spirited' 'considering'\n",
            " 'circumstance' 'conversation']\n",
            "----\n"
          ]
        }
      ]
    },
    {
      "cell_type": "code",
      "metadata": {
        "colab": {
          "base_uri": "https://localhost:8080/",
          "height": 712
        },
        "id": "oO0WM5DRGQ5l",
        "outputId": "375de7cc-b4fb-4f6b-a211-7e0b1db50930"
      },
      "source": [
        "%%time\n",
        "tsne = TSNE(n_components=2, random_state=42)\n",
        "embed_tsne = tsne.fit_transform(embeds)\n",
        "fig = px.scatter(x=embed_tsne[:,0], y=embed_tsne[:,1], text=unique_events, color=pred_clusters)\n",
        "fig.update_traces(textfont_size=2)\n",
        "fig.show()"
      ],
      "execution_count": 57,
      "outputs": [
        {
          "output_type": "stream",
          "name": "stderr",
          "text": [
            "/usr/local/lib/python3.7/dist-packages/sklearn/manifold/_t_sne.py:783: FutureWarning:\n",
            "\n",
            "The default initialization in TSNE will change from 'random' to 'pca' in 1.2.\n",
            "\n",
            "/usr/local/lib/python3.7/dist-packages/sklearn/manifold/_t_sne.py:793: FutureWarning:\n",
            "\n",
            "The default learning rate in TSNE will change from 200.0 to 'auto' in 1.2.\n",
            "\n"
          ]
        },
        {
          "output_type": "display_data",
          "data": {
            "text/html": [
              "<html>\n",
              "<head><meta charset=\"utf-8\" /></head>\n",
              "<body>\n",
              "    <div>\n",
              "            <script src=\"https://cdnjs.cloudflare.com/ajax/libs/mathjax/2.7.5/MathJax.js?config=TeX-AMS-MML_SVG\"></script><script type=\"text/javascript\">if (window.MathJax) {MathJax.Hub.Config({SVG: {font: \"STIX-Web\"}});}</script>\n",
              "                <script type=\"text/javascript\">window.PlotlyConfig = {MathJaxConfig: 'local'};</script>\n",
              "        <script src=\"https://cdn.plot.ly/plotly-latest.min.js\"></script>    \n",
              "            <div id=\"2c41614c-1c9b-49b0-ba73-3ef793825458\" class=\"plotly-graph-div\" style=\"height:525px; width:100%;\"></div>\n",
              "            <script type=\"text/javascript\">\n",
              "                \n",
              "                    window.PLOTLYENV=window.PLOTLYENV || {};\n",
              "                    \n",
              "                if (document.getElementById(\"2c41614c-1c9b-49b0-ba73-3ef793825458\")) {\n",
              "                    Plotly.newPlot(\n",
              "                        '2c41614c-1c9b-49b0-ba73-3ef793825458',\n",
              "                        [{\"hoverlabel\": {\"namelength\": 0}, \"hovertemplate\": \"x=%{x}<br>y=%{y}<br>text=%{text}<br>color=%{marker.color}\", \"legendgroup\": \"\", \"marker\": {\"color\": [4, 4, 0, 0, 0, 0, 5, 0, 0, 4, 4, 0, 0, 0, 0, 0, 0, 0, 0, 4, 0, 3, 4, 3, 5, 3, 0, 0, 0, 3, 0, 1, 5, 0, 5, 2, 3, 3, 5, 3, 3, 5, 1, 5, 0, 5, 3, 3, 2, 5, 5, 3, 0, 3, 5, 0, 3, 3, 5, 5, 3, 5, 3, 3, 3, 3, 3, 3, 5, 3, 0, 3, 3, 3, 3, 3, 3, 3, 5, 3, 3, 4, 5, 3, 3, 5, 4, 5, 3, 1, 5, 5, 5, 4, 5, 5, 5, 3, 5, 3, 2, 0, 0, 5, 4, 5, 4, 1, 3, 4, 5, 0, 4, 4, 0, 5, 5, 4, 3, 5, 5, 1, 0, 3, 5, 5, 2, 5, 3, 5, 5, 4, 4, 5, 5, 5, 5, 5, 3, 5, 2, 2, 5, 0, 5, 5, 5, 2, 3, 1, 5, 5, 4, 2, 4, 3, 2, 4, 3, 5, 0, 3, 5, 0, 1, 3, 2, 2, 2, 2, 3, 3, 3, 5, 5, 5, 0, 1, 3, 0, 3, 0, 3, 5, 5, 5, 2, 2, 2, 0, 3, 3, 0, 3, 2, 5, 1, 5, 5, 5, 3, 5, 3, 3, 1, 3, 5, 5, 5, 5, 1, 3, 5, 3, 4, 3, 5, 3, 0, 0, 3, 5, 5, 2, 5, 3, 5, 1, 5, 3, 5, 3, 3, 3, 5, 2, 5, 2, 3, 2, 2, 2, 1, 3, 0, 3, 0, 0, 3, 0, 2, 2, 1, 3, 2, 2, 5, 0, 2, 0, 2, 2, 2, 5, 1, 2, 0, 1, 0, 2, 4, 3, 2, 5, 2, 2, 2, 4, 2, 1, 3, 4, 0, 1, 4, 3, 3, 4, 0, 0, 0, 0, 0, 2, 3, 3, 3, 0, 0, 3, 0, 3, 0, 3, 2, 0, 3, 5, 5, 3, 3, 0, 3, 5, 2, 1, 1, 3, 0, 2, 3, 3, 3, 2, 3, 2, 5, 5, 5, 3, 3, 0, 5, 5, 5, 2, 3, 5, 3, 2, 2, 2, 3, 5, 3, 2, 0, 5, 2, 2, 3, 3, 3, 0, 2, 1, 3, 3, 3, 3, 1, 1, 5, 5, 3, 0, 3, 5, 3, 3, 5, 3, 2, 3, 3, 3, 3, 3, 3, 5, 0, 2, 0, 5, 1, 3, 2, 3, 2, 4, 0, 5, 3, 5, 2, 1, 3, 2, 2, 2, 1, 1, 5, 2, 0, 0, 5, 3, 2, 3, 5, 5, 5, 3, 3, 2, 5, 0, 5, 0, 0, 3, 2, 2, 3, 2, 3, 5, 0, 5, 5, 3, 3, 2, 2, 3, 3, 0, 4, 2, 5, 3, 1, 5, 0, 2, 3, 0, 5, 4, 3, 4, 2, 2, 5, 3, 0, 2, 3, 3, 3, 2, 3, 3, 0, 3, 0, 3, 5, 5, 5, 3, 0, 2, 3, 2, 3, 5, 0, 5, 1, 1, 5, 0, 5, 0, 0, 2, 3, 5, 5, 2, 1, 1, 3, 3, 3, 5, 0, 4, 5, 5, 2, 3, 2, 5, 3, 3, 5, 5, 0, 2, 3, 2, 5, 5, 3, 4, 1, 3, 3, 3, 3, 0, 5, 2, 3, 3, 2, 3, 3, 0, 5, 3, 5, 5, 4, 0, 3, 3, 1, 5, 3, 3, 5, 3, 3, 5, 3, 3, 3, 5, 3, 3, 5, 5, 5, 4, 0, 4, 4, 3, 3, 5, 5, 3, 3, 4, 0, 4, 3, 0, 2, 0, 3, 2, 5, 5, 5, 0, 2, 2, 0, 5, 5, 3, 1, 5, 1, 4, 1, 5, 0, 2, 4, 5, 5, 4, 0, 0, 5, 3, 5, 4, 5, 3, 3, 3, 5, 3, 3, 5, 5, 3, 3, 3, 5, 0, 3, 2, 3, 3, 2, 0, 4, 3, 5, 0, 5, 5, 5, 1, 3, 4, 3, 2, 4, 2, 3, 5, 3, 5, 0, 5, 5, 5, 3, 3, 3, 3, 0, 5, 1, 0, 5, 0, 3, 5, 4, 3, 3, 3, 4, 3, 3, 1, 5, 5, 5, 5, 3, 0, 0, 0, 4, 0, 3, 5, 4, 5, 0, 5, 5, 0, 2, 3, 3, 0, 3, 3, 0, 1, 3, 2, 5, 1, 1, 0, 3, 2, 0, 2, 0, 0, 0, 5, 3, 3, 3, 1, 2, 2, 3, 5, 4, 3, 3, 3, 0, 3, 0, 3, 2, 2, 0, 2, 3, 5, 5, 2, 2, 3, 3, 5, 0, 5, 4, 5, 4, 0, 0, 2, 0, 2, 2, 2, 5, 2, 3, 3, 3, 3, 4, 0, 2, 2, 3, 0, 2, 0, 5, 5, 2, 5, 5, 2, 3, 0, 2, 4, 0, 3, 3, 5, 0, 0, 5, 2, 0, 3, 5, 5, 0, 3, 3, 2, 3, 5, 4, 0, 5, 5, 0, 0, 0, 2, 3, 2, 0, 0, 5, 3, 4, 2, 5, 0, 5, 2, 0, 0, 3, 2, 2, 3, 0, 4, 4, 3, 5, 1, 3, 5, 5, 0, 5, 5, 5, 5, 0, 5, 5, 3, 3, 3, 0, 5, 5, 3, 5, 5, 5, 0, 5, 4, 3, 4, 5, 0, 1, 0, 4, 0, 2, 5, 0, 5, 5, 2, 3, 3, 3, 3, 3, 3, 3, 2, 3, 2, 3, 3, 3, 5, 3, 5, 3, 1, 0, 3, 5, 3, 3, 5, 1, 3, 5, 2, 5, 5, 4, 5, 3, 5, 5, 4, 5, 5, 0, 5, 5, 0, 3, 0, 0, 5, 3, 5, 0, 2, 1, 4, 0, 5, 3, 0, 5, 3, 3, 3, 5, 4, 2, 5, 3, 2, 5, 3, 3, 0, 0, 3, 2, 2, 3, 0, 3, 2, 2, 0, 3, 3, 4, 4, 5, 2, 3, 5, 3, 2, 5, 0, 3, 5, 3, 5, 3, 4, 5, 0, 5, 5, 5, 5, 5, 1, 0, 5, 3, 5, 3, 2, 3, 5, 5, 5, 3, 1, 2, 1, 3, 3, 5, 5, 5, 0, 3, 5, 5, 1, 5, 4, 3, 3, 5, 5, 3, 4, 2, 0, 5, 2, 1, 3, 5, 3, 5, 2, 3, 4, 5, 0, 5, 3, 0, 5, 3, 5, 3, 3, 0, 3, 3, 5, 5, 0, 3, 5, 2, 5, 5, 0, 3, 3, 3, 1, 3, 3, 5, 0, 3, 2, 3, 1, 3, 3, 5, 5, 2, 4, 4, 5, 0, 1, 5, 0, 0, 5, 4, 5, 0, 3, 5, 0, 5, 5, 5, 3, 3, 5, 3, 5, 3, 3, 5, 5, 0, 0, 3, 3, 4, 3, 3, 5, 5, 3, 3, 1, 0, 0, 3, 2, 5, 0, 5, 5, 2, 5, 5, 4, 2, 5, 5, 5, 3, 3, 0, 5, 5, 0, 2, 3, 5, 0, 0, 0, 5, 0, 5, 5, 3, 3, 5, 0, 5, 3, 0, 0, 4, 0, 0, 5, 3, 3, 5, 5, 3, 0, 0, 0, 5, 5, 0, 3, 3, 3, 2, 5, 5, 3, 3, 3, 5, 0, 3, 0, 3, 0, 0, 1, 0, 5, 0, 5, 3, 3, 1, 5, 2, 5, 5, 3, 3, 5, 5, 3, 1, 5, 3, 5, 1, 0, 5, 3, 5, 3, 3, 5, 0, 4, 3, 4, 5, 3, 3, 5, 1, 3, 5, 5, 2, 5, 3, 3, 3, 5, 1, 5, 5, 3, 3, 2, 3, 5, 3, 0, 4, 3, 5, 3, 4, 0, 2, 3, 3, 2, 4, 4, 1, 2, 0, 5, 2, 3, 3, 3, 5, 5, 2, 5, 3, 4, 2, 2, 3, 3, 3, 3, 3, 0, 3, 5, 3, 4, 2, 0, 3, 3, 3, 3, 3, 3, 5, 5, 5, 5, 5, 3, 3, 3, 2, 5, 0, 5, 4, 0, 2, 0, 0, 2, 5, 0, 5, 2, 5, 0, 0, 4, 0, 0, 3, 3, 3, 2, 5, 5, 0, 4, 4, 0, 3, 2, 5, 3, 4, 3, 5, 5, 4, 5, 2, 0, 3, 5, 3, 0, 5, 5, 5, 3, 5, 3, 3, 3, 4, 4, 3, 3, 0, 0, 5, 0, 5, 5, 5, 5, 3, 4, 1, 4, 3, 0, 5, 2, 0, 2, 5, 5, 5, 3, 5, 2, 4, 0, 3, 3, 3, 2, 5, 3, 3, 5, 3, 5, 4, 0, 5, 0, 2, 5, 5, 5, 5, 3, 2, 0, 0, 4, 0, 2, 2, 1, 5, 1, 2, 3, 3, 2, 0, 5, 5, 2, 5, 5, 0, 5, 0, 3, 3, 0, 1, 3, 5, 5, 3, 5, 2, 5, 3, 3, 3, 3, 2, 5, 4, 3, 2, 5, 3, 2, 3, 5, 5, 0, 5, 5, 2, 3, 0, 3, 0, 3, 5, 4, 2, 1, 2, 1, 4, 2, 3, 0, 2, 1, 0, 0, 4, 2, 0, 1, 3, 0, 1, 0, 0, 1, 0, 4, 5, 5, 5, 1, 4, 0, 1, 3, 5, 3, 5, 5, 2, 5, 0, 2, 5, 4, 5, 5, 5, 4, 5, 5, 5, 0, 5, 5, 0, 0, 0, 0, 0, 5, 0, 3, 5, 4, 4, 2, 5, 0, 3, 5, 5, 5, 5, 0, 3, 3, 0, 3, 4, 0, 5, 5, 5, 0, 5, 0, 5, 5, 5, 5, 0, 4, 2, 3, 5, 5, 3, 3, 3, 5, 4, 0, 3, 1, 5, 0, 5, 5, 2, 0, 5, 5, 5, 5, 5, 5, 5, 5, 0, 4, 1, 5, 5, 3, 3, 0, 5, 0, 1, 5, 5, 1, 5, 5, 5, 1, 1, 5, 3, 2, 4, 5, 0, 0, 3, 5, 3, 5, 3, 3, 3, 5, 0, 5, 2, 3, 3, 3, 3, 5, 5, 3, 5, 3, 2, 5, 1, 3, 3, 3, 3, 0, 3, 3, 5, 3, 3, 3, 5, 5, 5, 5, 0, 3, 5, 4, 2, 5, 2, 0, 5, 3, 4, 0, 5, 5, 3, 0, 2, 4, 2, 0, 5, 0, 0, 0, 3, 0, 0, 2, 4, 4, 5, 4, 0, 5, 4, 3, 5, 3, 1, 0, 5, 0, 4, 3, 3, 3, 2, 0, 2, 0, 2, 5, 3, 5, 0, 3, 3, 3, 0, 3, 5, 3, 5, 1, 0, 4, 3, 3, 5, 5, 3, 3, 5, 2, 4, 2, 3, 4, 3, 3, 5, 5, 2, 5, 3, 5, 5, 2, 0, 3, 5, 5, 5, 5, 1, 5, 5, 3, 4, 5, 5, 0, 5, 4, 3, 5, 0, 0, 5, 4, 5, 5, 0, 4, 4, 0, 0, 3, 4, 5, 0, 5, 5, 5, 3, 2, 5, 5, 0, 3, 3, 3, 1, 5, 2, 3, 5, 3, 2, 3, 3, 3, 3, 3, 3, 3, 4, 3, 3, 5, 5, 5, 5, 5, 3, 3, 3, 5, 2, 4, 5, 5, 5, 5, 0, 0, 5, 5, 5, 5, 5, 5, 5, 5, 3, 3, 2, 5, 3, 1, 5, 3, 3, 1, 5, 5, 5, 5, 3, 5, 5, 0, 5, 4, 2, 0, 0, 3, 5, 0, 0, 0, 2, 0, 0, 4, 3, 4, 3, 3, 3, 1, 4, 0, 0, 3, 3, 4, 3, 3, 4, 5, 5, 2, 5, 4, 4, 3, 3, 0, 5, 0, 4, 5, 2, 3, 3, 0, 4, 4, 4, 3, 3, 2, 3, 5, 1, 3, 0, 0, 1, 0, 0, 0, 3, 0, 0, 4, 1, 3, 0, 0, 3, 0, 2, 0, 5, 3, 1, 3, 0, 3, 3, 3, 5, 2, 0, 5, 5, 5, 0, 5, 5, 3, 4, 3, 5, 5, 5, 5, 5, 5, 5, 5, 5, 5, 3, 5, 2, 3, 3, 5, 3, 0, 5, 4, 1, 5, 3, 0, 5, 5, 0, 0, 2, 3, 3, 3, 3, 2, 4, 0, 3, 3, 0, 2, 4, 0, 0, 5, 3, 0, 3, 0, 2, 0, 5, 1, 4, 4, 5, 3, 3, 3, 2, 3, 3, 5, 5, 0, 0, 0, 5, 5, 5, 4, 5, 3, 5, 3, 3, 5, 4, 5, 2, 0, 0, 5, 2, 0, 4, 2, 4, 4, 1, 1, 1, 4, 5, 5, 5, 5, 3, 0, 4, 0, 3, 4, 5, 3, 5, 5, 5, 5, 2, 1, 3, 3, 0, 5, 4, 3, 5, 4, 3, 3, 4, 4, 4, 5, 5, 5, 3, 3, 0, 5, 0, 4, 2, 0, 5, 3, 5, 5, 5, 5, 5, 1, 0, 3, 5, 5, 5, 3, 4, 5, 3, 3, 3, 3, 0, 2, 5, 3, 0, 4, 3, 5, 0, 5, 5, 0, 3, 3, 3, 5, 5, 3, 3, 0, 3, 5, 5, 0, 3, 5, 5, 5, 3, 3, 3, 3, 0, 5, 3, 0, 0, 2, 3, 2, 3, 3, 3, 3, 0, 0, 5, 5, 0, 3, 0, 0, 0, 5, 3, 0, 2, 5, 0, 0, 5, 2, 2, 1, 4, 2, 2, 0, 4, 5, 3, 5, 1, 3, 2, 1, 0, 3, 5, 0, 5, 5, 5, 3, 5, 3, 5, 5, 5, 3, 5, 5, 5, 0, 5, 3, 0, 5, 5, 3, 3, 5, 3, 3, 3, 5, 5, 5, 5, 5, 5, 0, 0, 5, 5, 1, 5, 3, 4, 5, 3, 5, 5, 3, 0, 5, 3, 5, 5, 1, 5, 5, 5, 5, 0, 5, 5, 3, 5, 0, 0, 0, 3, 5, 5, 0, 0, 5, 3, 5, 3, 3, 5, 0, 5, 0, 0, 2, 0, 3, 3, 0, 5, 2, 5, 3, 5, 2, 4, 1, 5, 5, 3, 2, 2, 0, 3, 5, 3, 3, 0, 4, 3, 0, 5, 5, 3, 3, 3, 5, 2, 5, 5, 5, 2, 0, 5, 4, 5, 5, 4, 3, 0, 5, 4, 3, 3, 3, 3, 5, 1, 0, 5, 0, 3, 0, 3, 1, 5, 2, 3, 5, 0, 3, 1, 5, 3, 3, 3, 3, 3, 5, 3, 3, 5, 3, 3, 5, 1, 5, 3, 5, 3, 5, 0, 0, 4, 1, 5, 3, 5, 0, 3, 3, 5, 0, 3, 5, 5, 5, 0, 4, 0, 3, 5, 3, 5, 0, 0, 4, 4, 3, 0, 4, 0, 2, 5, 0, 0, 0, 3, 5, 5, 3, 0, 5, 2, 0, 3, 3, 0, 5, 5, 5, 3, 4, 5, 5, 4, 5, 0, 4, 5, 0, 0, 3, 3, 4, 5, 0, 0, 3, 0, 4, 2, 3, 5, 4, 5, 5, 3, 5, 5, 5, 1, 5, 5, 3, 3, 5, 3, 3, 3, 3, 3, 2, 3, 0, 0, 2, 5, 0, 5, 3, 3, 4, 0, 0, 5, 0, 3, 5, 5, 0, 5, 0, 5, 0, 5, 3, 3, 0, 3, 5, 5, 5, 3, 2, 5, 3, 5, 2, 4, 5, 3, 0, 4, 5, 5, 2, 5, 2, 5, 3, 5, 0, 2, 4, 3, 2, 2, 1, 0, 3, 5, 1, 3, 4, 5, 5, 4, 5, 2, 5, 5, 3, 5, 5, 5, 5, 3, 3, 1, 2, 5, 5, 3, 5, 3, 5, 3, 3, 5, 1, 5, 5, 5, 0, 5, 5, 5, 2, 5, 3, 3, 3, 5, 0, 5, 1, 5, 3, 5, 5, 1, 3, 3, 5, 3, 5, 5, 3, 3, 3, 5, 5, 5, 5, 0, 5, 0, 4, 0, 5, 0, 5, 0, 0, 3, 2, 3, 5, 2, 0, 0, 0, 4, 4, 4, 3, 3, 0, 3, 5, 5, 3, 0, 0, 3, 5, 5, 3, 3, 2, 5, 5, 3, 3, 5, 5, 3, 5, 5, 5, 3, 5, 5, 5, 3, 4, 3, 5, 3, 5, 3, 2, 0, 0, 0, 3, 1, 5, 0, 5, 0, 5, 0, 3, 2, 0, 0, 0, 0, 0, 5, 5, 5, 3, 0, 3, 0, 3, 5, 5, 3, 3, 5, 3, 0, 0, 5, 3, 3], \"coloraxis\": \"coloraxis\", \"symbol\": \"circle\"}, \"mode\": \"markers+text\", \"name\": \"\", \"showlegend\": false, \"text\": [\"Smoke\", \"drizzle\", \"jostling\", \"losing\", \"slipping\", \"sliding\", \"deposits\", \"sticking\", \"accumulating\", \"Fog\", \"fog\", \"flows\", \"rolls\", \"creeping\", \"hovering\", \"drooping\", \"wheezing\", \"pinching\", \"peeping\", \"Gas\", \"looming\", \"lighted\", \"gas\", \"addressed\", \"contemplation\", \"engaged\", \"tripping\", \"groping\", \"running\", \"mentioned\", \"yawning\", \"come\", \"plants\", \"keeps\", \"drones\", \"blew\", \"observed\", \"handled\", \"correcting\", \"tickled\", \"acquired\", \"infection\", \"see\", \"pretence\", \"lowering\", \"temper\", \"born\", \"married\", \"died\", \"issue\", \"still-born\", \"improved\", \"adding\", \"Married\", \"birth\", \"inserting\", \"lost\", \"settled\", \"death\", \"introduction\", \"forced\", \"excursions\", \"found\", \"confirmed\", \"invited\", \"seen\", \"encouraged\", \"expected\", \"tidings\", \"purchased\", \"uniting\", \"summoned\", \"retired\", \"entered\", \"brought\", \"welded\", \"resolved\", \"provisioned\", \"precautions\", \"provided\", \"entertained\", \"ball\", \"masquerade\", \"held\", \"illumined\", \"appearances\", \"fire\", \"projected\", \"streamed\", \"look\", \"f\\u00eate\", \"revel\", \"dreams\", \"glare\", \"glitter\", \"piquancy\", \"phantasm\", \"unsuited\", \"fancies\", \"stalked\", \"writhed\", \"taking\", \"causing\", \"strikes\", \"voice\", \"echoes\", \"chime\", \"die\", \"endured\", \"laughter\", \"depart\", \"floats\", \"swells\", \"writhe\", \"stream\", \"waning\", \"appals\", \"peal\", \"indulged\", \"gaieties\", \"reaches\", \"beat\", \"sounding\", \"ceased\", \"music\", \"evolutions\", \"quieted\", \"cessation\", \"revelled\", \"rumour\", \"presence\", \"buzz\", \"murmur\", \"disapprobation\", \"surprise\", \"terror\", \"horror\", \"disgust\", \"made\", \"assume\", \"looked\", \"smiled\", \"vows\", \"chiming\", \"disconcert\", \"tremulousness\", \"meditation\", \"told\", \"painted\", \"pause\", \"performance\", \"harken\", \"sound\", \"rang\", \"pale\", \"passed\", \"swung\", \"clang\", \"constrained\", \"stiff-frozen\", \"strokes\", \"aware\", \"pestilence\", \"walking\", \"nod\", \"inclined\", \"came\", \"met\", \"rode\", \"hummed\", \"said\", \"halted\", \"turned\", \"reply\", \"hesitation\", \"discovery\", \"hunting\", \"give\", \"concluded\", \"smacking\", \"explained\", \"tracing\", \"asked\", \"Concluding\", \"doubts\", \"retailing\", \"gone\", \"walked\", \"sat\", \"depositing\", \"appeared\", \"pursued\", \"seeing\", \"quickened\", \"frowned\", \"order\", \"call\", \"telling\", \"announcement\", \"declining\", \"stretched\", \"contemplated\", \"continued\", \"been\", \"put\", \"produced\", \"estimate\", \"investigations\", \"admit\", \"record\", \"add\", \"conferred\", \"abrogation\", \"received\", \"hint\", \"insisted\", \"fervid\", \"assured\", \"gesticulating\", \"thrust\", \"intimated\", \"submission\", \"appeal\", \"saw\", \"resolving\", \"presented\", \"declare\", \"act\", \"advent\", \"deemed\", \"favor\", \"sent\", \"handed\", \"awakened\", \"crosser\", \"stammered\", \"passion\", \"kicked\", \"repeated\", \"slunk\", \"hurried\", \"wandered\", \"play\", \"pretended\", \"stuck\", \"angry\", \"muttering\", \"grinding\", \"heard\", \"talking\", \"stared\", \"lifted\", \"say\", \"answered\", \"wrung\", \"cried\", \"party\", \"wailing\", \"clutched\", \"shivering\", \"grew\", \"gasped\", \"ran\", \"cholera\", \"ill\", \"wailed\", \"dead\", \"run\", \"dying\", \"hid\", \"panic\", \"forgotten\", \"slept\", \"sounds\", \"crept\", \"ate\", \"drank\", \"drowsy\", \"went\", \"shut\", \"frightened\", \"cries\", \"sleepy\", \"lay\", \"wails\", \"carried\", \"wondered\", \"noise\", \"hurrying\", \"waiting\", \"rustling\", \"gliding\", \"watching\", \"slipped\", \"watched\", \"talked\", \"opened\", \"frowning\", \"hungry\", \"startled\", \"drawing\", \"thought\", \"asleep\", \"wakened\", \"exclaimed\", \"turning\", \"stayed\", \"saying\", \"footsteps\", \"neglected\", \"struck\", \"sinking\", \"lined\", \"awaiting\", \"clung\", \"start\", \"turn\", \"noticed\", \"looking\", \"muttered\", \"flushed\", \"lowered\", \"proud\", \"took\", \"closed\", \"lain\", \"list\", \"answer\", \"command\", \"greeted\", \"blocked\", \"blocking\", \"unpopular\", \"assenting\", \"anxiety\", \"pounced\", \"declared\", \"persuade\", \"ordered\", \"chuckled\", \"sighed\", \"nodded\", \"hinted\", \"assure\", \"interrupted\", \"led\", \"catching\", \"conversation\", \"murmured\", \"rose\", \"collected\", \"ensconced\", \"added\", \"rousing\", \"poured\", \"bite\", \"helped\", \"left\", \"Promoted\", \"promoted\", \"check\", \"row\", \"meeting\", \"affecting\", \"Reproved\", \"visiting\", \"resumed\", \"success\", \"inquired\", \"confessed\", \"resume\", \"intervened\", \"combed\", \"wounded\", \"demobbed\", \"appealed\", \"launched\", \"chosen\", \"happened\", \"Armistice\", \"tired\", \"peeped\", \"reading\", \"considering\", \"hear\", \"occurred\", \"TOOK\", \"started\", \"flashed\", \"pop\", \"falling\", \"wonder\", \"tried\", \"disappointment\", \"fell\", \"fall\", \"fallen\", \"got\", \"began\", \"spoke\", \"hope\", \"wish\", \"dream\", \"jumped\", \"sight\", \"trying\", \"wondering\", \"fitted\", \"knelt\", \"longed\", \"think\", \"taste\", \"finding\", \"finished\", \"brightened\", \"waited\", \"Adverb\", \"dozing\", \"nervous\", \"Coming\", \"gossiping\", \"returned\", \"pulled\", \"sprang\", \"introduced\", \"drove\", \"followed\", \"measure\", \"glances\", \"disapproval\", \"inspection\", \"sifted\", \"caught\", \"drew\", \"leaned\", \"regarded\", \"smoked\", \"fanning\", \"hot\", \"bellowed\", \"glance\", \"examined\", \"lift\", \"irritating\", \"tickling\", \"sneered\", \"sprinkled\", \"slurred\", \"civility\", \"stare\", \"pronounced\", \"curl\", \"bent\", \"undid\", \"revealing\", \"straightened\", \"ignoring\", \"swore\", \"discovered\", \"scratched\", \"ripped\", \"shook\", \"mounted\", \"disturbed\", \"jingling\", \"discussed\", \"eyeing\", \"stated\", \"gamble\", \"tribute\", \"reminds\", \"remarked\", \"Ambling\", \"laughed\", \"fleered\", \"jerked\", \"agreed\", \"joke\", \"blazing\", \"offense\", \"take\", \"go\", \"remember\", \"plodding\", \"following\", \"whistling\", \"breaking\", \"rapped\", \"called\", \"lingering\", \"says\", \"threw\", \"set\", \"learn\", \"taken\", \"promised\", \"crossed\", \"dinner\", \"observing\", \"pipe\", \"supposed\", \"talk\", \"flapped\", \"stopped\", \"glared\", \"oath\", \"spoken\", \"described\", \"hearing\", \"speaking\", \"pouring\", \"leapt\", \"played\", \"flung\", \"amusement\", \"awkwardness\", \"increased\", \"mist\", \"walk\", \"thickened\", \"reached\", \"suspended\", \"joined\", \"leaning\", \"remarking\", \"broke\", \"cursed\", \"exchanged\", \"glanced\", \"replied\", \"stirred\", \"compressing\", \"danger\", \"reddened\", \"remark\", \"speculation\", \"hits\", \"lying\", \"depicted\", \"written\", \"read\", \"displaying\", \"decided\", \"built\", \"control\", \"attended\", \"checked\", \"dealing\", \"demanded\", \"interposed\", \"announced\", \"rejecting\", \"silenced\", \"detected\", \"controlling\", \"consolation\", \"increase\", \"wind\", \"wandering\", \"clouds\", \"rain\", \"dispensed\", \"possessed\", \"care\", \"gathering\", \"drawn\", \"studied\", \"cloud\", \"sweeping\", \"blast\", \"formed\", \"surveying\", \"paused\", \"calling\", \"wished\", \"trembled\", \"idea\", \"seating\", \"gesture\", \"thrusting\", \"mused\", \"tottered\", \"regaining\", \"impudence\", \"answering\", \"fetched\", \"did\", \"poise\", \"stand\", \"cry\", \"hit\", \"striking\", \"cutting\", \"bled\", \"pain\", \"climax\", \"feelings\", \"sharp\", \"glancing\", \"pinning\", \"newly-risen\", \"retreated\", \"defeat\", \"blows\", \"erection\", \"vanished\", \"emerged\", \"accepted\", \"promise\", \"shrunken\", \"listened\", \"verbiage\", \"resentment\", \"coined\", \"juggled\", \"poised\", \"regard\", \"wrapping\", \"disputed\", \"tossed\", \"raised\", \"disappeared\", \"gave\", \"crashing\", \"gulps\", \"outlined\", \"speech\", \"silent\", \"thoughtful\", \"sensation\", \"sickness\", \"off\", \"buttered\", \"smile\", \"folded\", \"drawled\", \"glint\", \"donned\", \"teased\", \"writing\", \"washed\", \"temptation\", \"shower\", \"enjoy\", \"answers\", \"completing\", \"recorded\", \"travelled\", \"effaced\", \"astonished\", \"Looking\", \"opening\", \"rush\", \"entering\", \"beginning\", \"coming\", \"vowed\", \"delight\", \"breath\", \"consented\", \"blossomed\", \"varnished\", \"burst\", \"flowered\", \"delighted\", \"let\", \"invitation\", \"flatter\", \"abuse\", \"visit\", \"disclosed\", \"Observing\", \"scolding\", \"coughing\", \"tear\", \"adjusting\", \"paid\", \"astonishment\", \"joy\", \"raptures\", \"trimming\", \"sorry\", \"afraid\", \"feeding\", \"growled\", \"seized\", \"pleaded\", \"staring\", \"pointed\", \"emptied\", \"licking\", \"shake\", \"expressed\", \"tilted\", \"question\", \"dip\", \"roll\", \"keeping\", \"faltered\", \"hugged\", \"clasping\", \"limped\", \"picking\", \"going\", \"hugging\", \"impression\", \"soaked\", \"smothered\", \"lamed\", \"cut\", \"stung\", \"torn\", \"gained\", \"sinister\", \"sullen\", \"arose\", \"wheeled\", \"melted\", \"murmuring\", \"dropped\", \"listening\", \"split\", \"whispered\", \"stepped\", \"closing\", \"hung\", \"harkened\", \"starting\", \"fearing\", \"fluttered\", \"danced\", \"hesitated\", \"impelled\", \"power\", \"shrinking\", \"song\", \"fear\", \"note\", \"smoke\", \"shouting\", \"peering\", \"flew\", \"dancing\", \"twined\", \"twirled\", \"flickered\", \"motion\", \"sang\", \"forgot\", \"dazzled\", \"bewildered\", \"fascinated\", \"whirl\", \"panting\", \"awoke\", \"peered\", \"blurred\", \"crowding\", \"fled\", \"stumbling\", \"feeling\", \"voices\", \"toiled\", \"haste\", \"struggling\", \"sank\", \"exhausted\", \"trembling\", \"drifted\", \"sleep\", \"sifting\", \"remembered\", \"bethought\", \"vision\", \"waving\", \"flying\", \"determination\", \"gazed\", \"dreaming\", \"abstracted\", \"alert\", \"quizzical\", \"laughing\", \"challenged\", \"bridled\", \"scoffed\", \"asserted\", \"scornful\", \"soft\", \"waking\", \"daydream\", \"noting\", \"glinting\", \"fumbling\", \"Untying\", \"clapped\", \"bounded\", \"flitted\", \"swaying\", \"dripping\", \"draught\", \"touched\", \"shock\", \"rained\", \"brightening\", \"still\", \"mischief\", \"hopped\", \"nestled\", \"pointing\", \"admitted\", \"faded\", \"crouched\", \"puzzled\", \"supper\", \"warmth\", \"cheer\", \"fared\", \"address\", \"refuse\", \"misinterpreted\", \"request\", \"difference\", \"storming\", \"concerned\", \"assault\", \"event\", \"believe\", \"treating\", \"wrangle\", \"sally\", \"separated\", \"forded\", \"planted\", \"fighting\", \"orders\", \"excesses\", \"loaded\", \"plunder\", \"confusion\", \"conquest\", \"frenzy\", \"slaughter\", \"riot\", \"disgraced\", \"jests\", \"catchwords\", \"plundering\", \"break\", \"yelling\", \"dread\", \"crowded\", \"rushed\", \"attendance\", \"throng\", \"proclamation\", \"words\", \"shouted\", \"stripped\", \"escaped\", \"Preserved\", \"removed\", \"transported\", \"worshipped\", \"completed\", \"breathed\", \"commanded\", \"bowed\", \"predicted\", \"polluted\", \"broken\", \"sacrilege\", \"perished\", \"possession\", \"placed\", \"won\", \"STORMING\", \"Extracted\", \"revert\", \"stored\", \"entrusted\", \"wedding\", \"sit\", \"recalled\", \"marriage\", \"chatted\", \"maintain\", \"exertions\", \"flow\", \"ideas\", \"hoped\", \"animated\", \"inquiries\", \"grief\", \"loss\", \"adverb\", \"repeating\", \"exclamation\", \"Seating\", \"quitting\", \"withdrew\", \"playing\", \"bustling\", \"directions\", \"crinkled\", \"mass\", \"croquet\", \"lit\", \"drag\", \"gaze\", \"advancing\", \"approach\", \"seated\", \"facing\", \"plunge\", \"surveyed\", \"reminded\", \"given\", \"understanding\", \"laugh\", \"sparkled\", \"adventure\", \"realized\", \"yawned\", \"proposed\", \"instructed\", \"prepared\", \"holding\", \"lifting\", \"descended\", \"shrugged\", \"felt\", \"understood\", \"nodding\", \"wanted\", \"kissed\", \"rolled\", \"saving\", \"gathered\", \"reflected\", \"fan\", \"puffs\", \"performing\", \"strolled\", \"amused\", \"entrance\", \"undressed\", \"piled\", \"utterances\", \"leaving\", \"assumed\", \"recommending\", \"submitted\", \"imitation\", \"watered\", \"tears\", \"catastrophe\", \"settling\", \"accident\", \"circumstance\", \"returning\", \"journey\", \"desire\", \"pass\", \"pacing\", \"work\", \"risen\", \"problem\", \"shown\", \"waved\", \"indicated\", \"fancy\", \"observe\", \"deduce\", \"changed\", \"fail\", \"rubbed\", \"tell\", \"scraped\", \"caused\", \"remove\", \"deduction\", \"lighting\", \"throwing\", \"wrote\", \"endeavouring\", \"comes\", \"out\", \"outburst\", \"plumes\", \"covered\", \"ended\", \"signalised\", \"differing\", \"connected\", \"thunders\", \"wagged\", \"sunset\", \"preferred\", \"sauntered\", \"leave\", \"gratified\", \"preparing\", \"attracted\", \"cavalcade\", \"blushed\", \"recollected\", \"blush\", \"recollection\", \"beholding\", \"emotion\", \"witnessed\", \"driving\", \"proceed\", \"determined\", \"designs\", \"Arriving\", \"dismounted\", \"sending\", \"proceeded\", \"illuminated\", \"composure\", \"intention\", \"open\", \"overtook\", \"compliments\", \"begged\", \"ingratiate\", \"parting\", \"marrying\", \"arrived\", \"enquired\", \"tapped\", \"bid\", \"rivetted\", \"fixed\", \"painting\", \"shaking\", \"offered\", \"wiped\", \"cast\", \"drop\", \"blotted\", \"discoloured\", \"addressing\", \"thinking\", \"hushed\", \"odour\", \"scent\", \"perfume\", \"smoking\", \"catch\", \"effect\", \"shouldering\", \"circling\", \"insistence\", \"roar\", \"disappearance\", \"tossing\", \"elevated\", \"whorls\", \"strolling\", \"insist\", \"expression\", \"speak\", \"abducted\", \"discharged\", \"approaching\", \"pressed\", \"shudder\", \"darkened\", \"showed\", \"protest\", \"accents\", \"rising\", \"feigning\", \"protested\", \"belied\", \"sigh\", \"supported\", \"assisted\", \"desirable\", \"leading\", \"declined\", \"proffered\", \"bit\", \"aloof\", \"making\", \"picked\", \"lurked\", \"cluttered\", \"clutching\", \"seizure\", \"listen\", \"moved\", \"filtering\", \"place\", \"chord\", \"roamed\", \"thrill\", \"shattering\", \"regarding\", \"offended\", \"resented\", \"eating\", \"irritability\", \"anticipated\", \"shot\", \"grunted\", \"celebrated\", \"victory\", \"putting\", \"sniffing\", \"Smoking\", \"helplessness\", \"recoiling\", \"researches\", \"draft\", \"infuriated\", \"cleared\", \"mount\", \"tapping\", \"approval\", \"arranged\", \"whirring\", \"rippling\", \"breeze\", \"working\", \"Reaching\", \"partial\", \"begun\", \"swayed\", \"pretend\", \"alluding\", \"learned\", \"waxing\", \"smelling\", \"knocking\", \"learning\", \"breakfast\", \"drinking\", \"served\", \"selected\", \"buried\", \"poked\", \"pronouncing\", \"perceived\", \"counted\", \"rejoined\", \"thanked\", \"compliment\", \"astride\", \"attacked\", \"straightening\", \"converted\", \"springing\", \"kicking\", \"jump\", \"scattering\", \"acquaintance\", \"standing\", \"observation\", \"bought\", \"responded\", \"write\", \"claim\", \"betook\", \"attention\", \"gratification\", \"escorted\", \"inherited\", \"sale\", \"lamentations\", \"sold\", \"step\", \"appearance\", \"commenced\", \"bidding\", \"hold\", \"breathless\", \"visitation\", \"shaken\", \"consequence\", \"scattered\", \"appearing\", \"present\", \"asking\", \"grimace\", \"faced\", \"groan\", \"reproach\", \"charmed\", \"adjured\", \"inference\", \"fix\", \"quitted\", \"handshook\", \"communicative\", \"had\", \"wonders\", \"committed\", \"departed\", \"professed\", \"apparition\", \"kick\", \"episode\", \"organizing\", \"imagined\", \"arrive\", \"chinked\", \"doubled\", \"affirmative\", \"tightened\", \"shutting\", \"rage\", \"grappled\", \"twist\", \"struggled\", \"fury\", \"lolling\", \"ebbed\", \"glazed\", \"flagged\", \"jolted\", \"shriek\", \"anger\", \"quick\", \"choked\", \"hiding\", \"struggle\", \"grumbled\", \"calculated\", \"attempted\", \"thrown\", \"filing\", \"nursing\", \"rattled\", \"expecting\", \"twisted\", \"growl\", \"stormed\", \"raged\", \"assailed\", \"allowed\", \"carted\", \"trucked\", \"deposited\", \"mauling\", \"headed\", \"deposition\", \"cheated\", \"fever\", \"trekked\", \"spending\", \"overcharged\", \"weighed\", \"transhipped\", \"excited\", \"suspected\", \"ascertained\", \"referring\", \"mistake\", \"anticipating\", \"trip\", \"excitement\", \"burned\", \"cleansed\", \"erected\", \"shrank\", \"contact\", \"wakes\", \"fair\", \"whine\", \"rushing\", \"stood\", \"tooting\", \"braying\", \"quivered\", \"wrong\", \"whining\", \"wizzening\", \"trudged\", \"pistol-shots\", \"cracks\", \"screeching\", \"shouts\", \"screeches\", \"gazing\", \"killed\", \"spent\", \"lamented\", \"smelled\", \"change\", \"rest\", \"drifting\", \"flood\", \"haze\", \"toying\", \"satisfied\", \"shone\", \"sombre\", \"appear\", \"stir\", \"boarded\", \"regret\", \"thoughts\", \"kiss\", \"touch\", \"clacked\", \"passing\", \"replaced\", \"conjectures\", \"termed\", \"pulling\", \"conscious\", \"fidgetting\", \"intuition\", \"prevailed\", \"agreeable\", \"sprung\", \"marked\", \"aroused\", \"clew\", \"ache\", \"affected\", \"realised\", \"smiling\", \"mingling\", \"interest\", \"growing\", \"amazement\", \"offer\", \"decline\", \"acknowledge\", \"planned\", \"dash\", \"ask\", \"flutter\", \"reassured\", \"studying\", \"witticism\", \"dragged\", \"whimpering\", \"tucked\", \"deploring\", \"escapade\", \"longing\", \"fought\", \"objections\", \"woke\", \"gong\", \"racket\", \"dressed\", \"explored\", \"sought\", \"plunged\", \"persuasive\", \"hypnotized\", \"aghas\", \"consider\", \"clashed\", \"intend\", \"snowy\", \"sunny\", \"sparkling\", \"grumbling\", \"tiptoed\", \"accept\", \"return\", \"receiving\", \"deliberate\", \"drowned\", \"shivered\", \"crying\", \"wringing\", \"mewing\", \"clinging\", \"chased\", \"stooped\", \"wipe\", \"projecting\", \"tease\", \"mewed\", \"unwound\", \"tied\", \"bared\", \"blowing\", \"severity\", \"predicament\", \"darted\", \"ascent\", \"colder\", \"tearing\", \"tearful\", \"tying\", \"stabbed\", \"saddened\", \"laying\", \"do\", \"meant\", \"generosity\", \"peevish\", \"wrangled\", \"guise\", \"leant\", \"repressing\", \"shocked\", \"sympathized\", \"repressed\", \"persisted\", \"thumped\", \"displeasure\", \"toy\", \"censured\", \"mumbled\", \"decision\", \"reversed\", \"parted\", \"revealed\", \"apologizing\", \"lateness\", \"exclaiming\", \"expect\", \"forward\", \"beckoned\", \"glad\", \"filling\", \"appointed\", \"enjoying\", \"informed\", \"advice\", \"bow\", \"whinnied\", \"box\", \"trotted\", \"chase\", \"frost\", \"pricked\", \"cantered\", \"galloping\", \"snorted\", \"away\", \"barking\", \"straight\", \"fright\", \"leaped\", \"dashing\", \"end\", \"whipped\", \"bleeding\", \"down\", \"groaning\", \"getting\", \"raise\", \"riding\", \"bang\", \"imprisonment\", \"swear\", \"deaths\", \"send\", \"hissing\", \"clenching\", \"drive\", \"spoilt\", \"puzzle\", \"reported\", \"INCIDENT\", \"bearing\", \"beheld\", \"standstill\", \"hopping\", \"untied\", \"survey\", \"glow\", \"lustre\", \"reflection\", \"deed\", \"smiles\", \"conjecture\", \"actions\", \"steps\", \"descending\", \"espial\", \"dispute\", \"reverie\", \"stepping\", \"handing\", \"gaining\", \"retreating\", \"indifference\", \"trail\", \"exhorted\", \"prayer\", \"weep\", \"cower\", \"sprawled\", \"lengthening\", \"spurring\", \"flogged\", \"emerge\", \"unbarring\", \"fastening\", \"wishing\", \"Locking\", \"refilled\", \"ridden\", \"flocking\", \"encountered\", \"tilt\", \"busy\", \"warranted\", \"testify\", \"grant\", \"rowing\", \"errand\", \"pace\", \"dissatisfaction\", \"exchange\", \"recount\", \"stroke\", \"ladling\", \"puff\", \"spat\", \"crammed\", \"desired\", \"confess\", \"approached\", \"persuaded\", \"annoyed\", \"discovering\", \"toil\", \"beckon\", \"sounded\", \"miss\", \"excel\", \"pushing\", \"pleasure\", \"apply\", \"laid\", \"carrying\", \"conclusions\", \"suggest\", \"supposing\", \"conclusion\", \"presentation\", \"vanishes\", \"emerges\", \"inferences\", \"paced\", \"ring\", \"beg\", \"occupation\", \"becomes\", \"mastered\", \"earned\", \"stretching\", \"practising\", \"sneezing\", \"stop\", \"clicketing\", \"exercises\", \"goes\", \"reappears\", \"inflict\", \"amuse\", \"watch\", \"keep\", \"setting\", \"knocked\", \"pushed\", \"hush\", \"expedition\", \"wasted\", \"stopping\", \"liked\", \"insisting\", \"ruined\", \"restoration\", \"prevented\", \"disengaged\", \"adapted\", \"excuse\", \"dropping\", \"interested\", \"blazed\", \"judged\", \"urged\", \"suggested\", \"breakfasted\", \"word\", \"marking\", \"skirted\", \"advanced\", \"hunted\", \"squatted\", \"investigate\", \"Look\", \"scrambled\", \"foamed\", \"boiled\", \"searched\", \"lunch\", \"pumped\", \"assembled\", \"settlement\", \"borne\", \"occupied\", \"fastened\", \"sentence\", \"scandal\", \"warrant\", \"shame\", \"Stretching\", \"repelled\", \"action\", \"bore\", \"winked\", \"judging\", \"glided\", \"disappearing\", \"blight\", \"pierced\", \"yelp\", \"twittering\", \"calls\", \"afterglow\", \"flooded\", \"flaring\", \"swept\", \"moan\", \"strode\", \"fading\", \"brewing\", \"trotting\", \"Peering\", \"moving\", \"deadened\", \"loom\", \"clinking\", \"jingled\", \"curses\", \"thuds\", \"strain\", \"heaves\", \"Rustlings\", \"footstep\", \"wave\", \"became\", \"crash\", \"attested\", \"click\", \"sputtering\", \"efforts\", \"crackling\", \"flame\", \"shuffled\", \"glittered\", \"queried\", \"heerd\", \"comin\", \"moaned\", \"raindrops\", \"pattered\", \"Silence\", \"cracked\", \"query\", \"showing\", \"backed\", \"Sent\", \"ejaculated\", \"hoof-beats\", \"Left\", \"glimpse\", \"visited\", \"search\", \"find\", \"howling\", \"drink\", \"refused\", \"mixed\", \"follow\", \"questions\", \"implored\", \"dried\", \"happy\", \"cuddled\", \"sob\", \"sobbed\", \"guessed\", \"pulse\", \"ready\", \"deprived\", \"anxious\", \"opportunity\", \"bade\", \"permission\", \"enjoyed\", \"funeral\", \"luncheon\", \"raced\", \"lurking\", \"landed\", \"agreement\", \"display\", \"affectionate\", \"expressions\", \"know\", \"fragrance\", \"pride\", \"confronted\", \"storm\", \"opposition\", \"outbreak\", \"palpitating\", \"invisible\", \"jet\", \"compared\", \"eruption\", \"vigil\", \"vibrating\", \"activity\", \"flash\", \"projection\", \"streamer\", \"swimming\", \"gleam\", \"blaze\", \"flaming\", \"jetting\", \"established\", \"dapple\", \"intoxicating\", \"whispering\", \"heightened\", \"heat-haze\", \"sun-sparkles\", \"transplanted\", \"plucked\", \"substitution\", \"suffering\", \"typing\", \"inserted\", \"altered\", \"appended\", \"snap\", \"whimperings\", \"tramped\", \"planked\", \"re-addressing\", \"recognised\", \"tore\", \"inspected\", \"tackled\", \"despatched\", \"scented\", \"sorted\", \"phrased\", \"absent\", \"sadness\", \"re-entered\", \"revolved\", \"enlightened\", \"situation\", \"resolutions\", \"outbreaks\", \"apparent\", \"sketched\", \"solaced\", \"rehearsed\", \"forgetting\", \"sped\", \"sorrow\", \"inspiration\", \"reversal\", \"hopes\", \"arrival\", \"weeping\", \"reposing\", \"troublesome\", \"lessening\", \"ceremony\", \"crisis\", \"heaviness\", \"indignation\", \"tea-service\", \"overthrow\", \"suffered\", \"dismissed\", \"wept\", \"mingle\", \"lessened\", \"eat\", \"grievance\", \"avenged\", \"swallowed\", \"draw\", \"embarrassment\", \"figurative usage\", \"recollect\", \"exploit\", \"bewitched\", \"battle\", \"mention\", \"swarming\", \"charge\", \"thud\", \"kept\", \"runs\", \"fluttering\", \"driven\", \"scrimmage\", \"flashing\", \"rubbing\", \"stamping\", \"dodged\", \"shoulder\", \"sitting\", \"smell\", \"taught\", \"cold\", \"chilled\", \"confused\", \"worked\", \"nap\", \"brood\", \"brooding\", \"dining\", \"objected\", \"contented\", \"mots\", \"staid\", \"overheard\", \"whisper\", \"presentiment\", \"engagement\", \"coaxed\", \"exertion\", \"bark\", \"pity\", \"exhibited\", \"bidden\", \"quietly\", \"newly-seen\", \"sleeping\", \"sobs\", \"familiar\", \"intoned\", \"Halted\", \"blessed\", \"crosses\", \"gurgling\", \"whistle\", \"whistles\", \"skipped\", \"propped\", \"dipped\", \"lathered\", \"Ceasing\", \"shave\", \"shaved\", \"raving\", \"moaning\", \"pull\", \"stirring\", \"Leaning\", \"clearing\", \"fretted\", \"giving\", \"kills\", \"Laughter\", \"asks\", \"pinched\", \"Laughing\", \"Drawing\", \"linked\", \"clacking\", \"Parried\", \"begging\", \"postpone\", \"prompted\", \"feel\", \"disembarked\", \"nearing\", \"stolen\", \"invoked\", \"consorted\", \"evasion\", \"winced\", \"touching\", \"delay\", \"Recognition\", \"enquiry\", \"wound\", \"rejoinder\", \"qualification\", \"shirked\", \"muffled\", \"forsaken\", \"protection\", \"appointment\", \"presenting\", \"preparation\", \"impulse\", \"sense\", \"response\", \"comparison\", \"recognition\", \"case\", \"deserted\", \"madness\", \"snapped\", \"compromised\", \"forged\", \"fragrant\", \"showered\", \"chirping\", \"down-spirited\", \"chirp\", \"scrape\", \"engaging\", \"rented\", \"pool\", \"tattoo\", \"Hearing\", \"echoing\", \"snapping\", \"coughed\", \"contracted\", \"threatened\", \"controlled\", \"shoveled\", \"whistled\", \"cough\", \"producing\", \"soothed\", \"cosseted\", \"breathing\", \"dusted\", \"breaths\", \"bending\", \"swinging\", \"brisker\", \"Surprised\", \"sowing\", \"spoiled\", \"knitting\", \"twitched\", \"jaunting\", \"headache\", \"dumb\", \"tea\", \"jolt\", \"distinguish\", \"registered\", \"traversed\", \"recognized\", \"rung\", \"sentenced\", \"pardoned\", \"serving\", \"misdemeanor\", \"Leaving\", \"paces\", \"Retracing\", \"varnishing\", \"task\", \"effusion\", \"air\", \"gravity\", \"quoted\", \"remarks\", \"retraced\", \"converged\", \"seeking\", \"light\", \"punishment\", \"hovered\", \"flickering\", \"campfire\", \"reflections\", \"fanned\", \"paling\", \"sparks\", \"echoed\", \"clink\", \"pads\", \"reach\", \"move\", \"halt\", \"vigi\", \"preparations\", \"movements\", \"grateful\", \"solitude\", \"traveled\", \"digging\", \"crack\", \"halting\", \"packed\", \"slaps\", \"march\", \"camped\", \"travel\", \"reserve\", \"respond\", \"realization\", \"dug\", \"bring\", \"grasped\", \"amazed\", \"pitying\", \"curious\", \"quiver\", \"astounded\", \"force\", \"seep\", \"complied\", \"filled\", \"moist\", \"dark\", \"sniff\", \"agree\", \"examining\", \"complaining\", \"advised\", \"softened\", \"pecking\", \"lecture\", \"stroking\", \"snow\", \"crackled\", \"lecturing\", \"counsel\", \"expostulated\", \"persuasions\", \"discourse\", \"resolution\", \"concern\", \"prompting\", \"rise\", \"sick\", \"terrified\", \"reflect\", \"abandoning\", \"entreaties\", \"reproached\", \"blow\", \"snowfall\", \"staggered\", \"stamped\", \"brisked\", \"surprised\", \"melting\", \"dripped\", \"advances\", \"whisked\", \"mixing\", \"stabs\", \"cooked\", \"delaying\", \"gaping\", \"rigid\", \"recover\", \"messing\", \"done\", \"unfolded\", \"extended\", \"Talkin '\", \"tangent\", \"smouldered\", \"eaten\", \"drunk\", \"warmed\", \"explanation\", \"acknowledgment\", \"snatching\", \"upsettled\", \"animation\", \"ARRIVAL\", \"fortune\", \"embarrassed\", \"INTRODUCED\", \"reposed\", \"dumped\", \"Getting\", \"flourishing\", \"directed\", \"hitching\", \"singing\", \"dined\", \"lingered\", \"dawdled\", \"scanned\", \"thrilled\", \"mantled\", \"suffused\", \"wooing\", \"flitting\", \"confusing\", \"guess\", \"leaping\", \"pictured\", \"blinking\", \"meditating\", \"bellied\", \"wistfulness\", \"flared\", \"fleeing\", \"arched\", \"love\", \"giggling\", \"Trailing\", \"indignant\", \"glowed\", \"rammed\", \"rid\", \"yawn\", \"patted\", \"stroked\", \"fidgeting\", \"bell\", \"apologize\", \"averred\", \"mole-catching\", \"fit\", \"cured\", \"uncurled\", \"up\", \"packing\", \"extracted\", \"inscription\", \"blushing\", \"tipsify\", \"imputes\", \"tells\", \"detained\", \"apprehend\", \"bequeathed\", \"abandon\", \"applying\", \"aims\", \"discontinued\", \"perplexity\", \"uneasiness\", \"remorse\", \"detaining\", \"complying\", \"infatuated\", \"conjuring\", \"recommended\", \"instigation\", \"endeavoured\", \"enraged\", \"unkindness\", \"Disappointed\", \"burnt\", \"denied\", \"anguish\", \"illness\", \"recovery\", \"remind\", \"foresee\", \"elopement\", \"surging\", \"seething\", \"carnage\", \"allowing\", \"slip\", \"escape\", \"aghast\", \"howl\", \"blunder\", \"located\", \"departure\", \"glimpses\", \"topped\", \"arming\", \"suspense\", \"strapped\", \"darkness\", \"await\", \"trot\", \"pursuing\", \"positive\", \"hoping\", \"report\", \"shots\", \"consternation\", \"dismay\", \"riveted\", \"narration\", \"charging\", \"shooting\", \"whooping\", \"convinced\", \"routing\", \"apprehension\", \"Riding\", \"grasping\", \"BIRTH\", \"condescended\", \"provision\", \"named\", \"adhered\", \"premised\", \"burying\", \"chuses\", \"Going\", \"dreary\", \"beamed\", \"placing\", \"BORN\", \"ushered\", \"gasping\", \"struggles\", \"sneezed\", \"advertise\", \"imposed\", \"proof\", \"rustled\", \"warm\", \"rub\", \"tasting\", \"perspective\", \"imprinted\", \"shuddered\", \"chafed\", \"pausing\", \"applied\", \"dress\", \"badged\", \"ticketed\", \"retiring\", \"tremble\", \"adopted\", \"arguing\", \"encouragement\", \"debate\", \"opposed\", \"advocated\", \"clamored\", \"bids\", \"bustled\", \"disdaining\", \"comments\", \"discussions\", \"crawled\", \"wreathed\", \"rebellion\", \"winds\", \"clangoring\", \"rejoicing\", \"shiver\", \"enlisted\", \"milking\", \"silence\", \"milk\", \"disappointed\", \"primed\", \"destroyed\", \"peeled\", \"plan\", \"fill\", \"beating\", \"ecstasy\", \"trails\", \"discouraged\", \"punching\", \"resurrected\", \"seize\", \"arrest\", \"whirled\", \"snatched\", \"through\", \"stealing\", \"Said\", \"scare\", \"suspicion\", \"flattered\", \"forestalled\", \"vexed\", \"overlooked\", \"missed\", \"forgive\", \"miscarried\", \"stumbled\", \"strike\", \"advertised\", \"withdrawn\", \"raffle\", \"pay\", \"separation\", \"affronted\", \"desponding\", \"welcomed\", \"foreboding\", \"glowing\", \"pressing\", \"frown\", \"begin\", \"withdraw\", \"sheltered\", \"express\", \"wincing\", \"uttered\", \"preceded\", \"soliloquised\", \"relieving\", \"conjectured\", \"ejaculation\", \"admire\", \"distinguished\", \"chatter\", \"clatter\", \"squealing\", \"haunted\", \"bestow\", \"decamp\", \"attempting\", \"sneaking\", \"watering\", \"caress\", \"gnarl\", \"provoked\", \"checking\", \"punch\", \"striding\", \"dived\", \"guardianship\", \"imagining\", \"winking\", \"faces\", \"irritated\", \"interpose\", \"proceeding\", \"issued\", \"parrying\", \"demand\", \"climbed\", \"yelping\", \"used\", \"subsided\", \"heaving\", \"treatment\", \"restoring\", \"doubt\", \"overwhelmed\", \"tempest\", \"a-bothering\", \"ease\", \"mad\", \"tiresome\", \"lonesome\", \"shivers\", \"down-hearted\", \"scared\", \"crawling\", \"flipped\", \"shriveled\", \"licks\", \"Says\", \"tiptoeing\", \"stooping\", \"scrouched\", \"itching\", \"itch\", \"itched\", \"reckoned\", \"breathe\", \"snore\", \"comfortable\", \"build\", \"executed\", \"prophecy\", \"grasp\", \"operations\", \"hard\", \"brackish\", \"execution\", \"wrested\", \"trodden\", \"crime\", \"blasted\", \"unearthed\", \"commissioned\", \"elated\", \"appalled\", \"sailed\", \"chartered\", \"scouring\", \"washing\", \"tripped\", \"overturning\", \"drenched\", \"oaths\", \"regained\", \"felled\", \"snarl\", \"crushing\", \"white\", \"mutiny\", \"firing\", \"lodged\", \"Words\", \"assisting\", \"limping\", \"wounding\", \"glowering\", \"breakdown\", \"bored\", \"consumption\", \"sampled\", \"pleased\", \"tipsy\", \"essayed\", \"exaltation\", \"reaction\", \"incident\", \"rejoiced\", \"hunched\", \"dreamy\", \"bound\", \"operation\", \"curled\", \"KISS\", \"gives\", \"shipwrecked\", \"swims\", \"sail\", \"voyage\", \"inform\", \"spied\", \"shift\", \"rowed\", \"computation\", \"trusted\", \"overset\", \"flurry\", \"swam\", \"tide\", \"abated\", \"awaked\", \"roared\", \"hurt\", \"falls\", \"ventured\", \"wrench\", \"bind\", \"loosened\", \"shout\", \"flight\", \"striving\", \"volley\", \"design\", \"knew\", \"oration\", \"support\", \"acted\", \"threatenings\", \"promises\", \"demands\", \"signify\", \"learnt\", \"supplied\", \"sign\", \"slung\", \"signs\", \"warning\", \"tempted\", \"remembrance\", \"interpreted\", \"imaginations\", \"considered\", \"treated\", \"posture\", \"show\", \"blisters\", \"tokens\", \"repetitions\", \"relaxing\", \"conjecturing\", \"torrent\", \"violence\", \"daubed\", \"smart\", \"disposed\", \"mingled\", \"consulted\", \"passage\", \"over\", \"marks\", \"Gets\", \"commencement\", \"dispelled\", \"agitation\", \"dedicated\", \"own\", \"entreated\", \"hired\", \"complaints\", \"acquainted\", \"secure\", \"confessing\", \"abandoned\", \"bestowed\", \"solicited\", \"undertaking\", \"enterprise\", \"enthusiasm\", \"stifles\", \"puffing\", \"detect\", \"dragging\", \"chirps\", \"drags\", \"notion\", \"float\", \"choose\", \"steadying\", \"inclining\", \"pacified\", \"groped\", \"kindled\", \"glimmer\", \"trod\", \"Placing\", \"skinning\", \"munching\", \"smells\", \"vapor\", \"gloom\", \"unnerved\", \"pondered\", \"acting\", \"reined\", \"thrilling\", \"experiment\", \"uplifted\", \"Shaking\", \"Noticing\", \"conducted\", \"heighten\", \"sentiments\", \"accosted\", \"doubted\", \"awed\", \"deepen\", \"speculating\", \"routed\", \"saved\", \"disaster\", \"admonishing\", \"diminished\", \"spread\", \"certainty\", \"objects\", \"shelved\", \"discussion\", \"premise\", \"duel\", \"smuggled\", \"chill\", \"ascended\", \"curiosity\", \"clinched\", \"declaring\", \"propitiated\", \"plodded\", \"cheering\", \"rebuking\", \"ascending\", \"collared\", \"whack\", \"directing\", \"ploughing\", \"account\", \"pretending\", \"summons\", \"bursting\", \"inhabited\", \"shrieked\", \"carving\", \"snorting\", \"choking\", \"screaming\", \"demolishing\", \"discuss\", \"misadventure\", \"explosion\", \"warned\", \"letting\", \"stampeded\", \"rolling\", \"obtained\", \"confession\", \"tales\", \"wrought\", \"charged\", \"attack\", \"christened\", \"sweating\", \"grunting\", \"purchasing\", \"graduated\", \"dallied\"], \"textfont\": {\"size\": 2}, \"type\": \"scattergl\", \"x\": [37.53529739379883, 39.83208084106445, -23.716583251953125, 42.610042572021484, 42.14667892456055, 41.33771896362305, -1.899903416633606, 27.733659744262695, 1.6821401119232178, 42.15311813354492, 42.15318298339844, -37.817420959472656, 46.09916687011719, 43.84497833251953, 25.956966400146484, 10.740817070007324, 25.24566078186035, 34.632381439208984, 23.465259552001953, -56.029266357421875, 22.270597457885742, 24.277530670166016, -56.029441833496094, 7.138004779815674, -17.384817123413086, -29.155776977539062, 29.941560745239258, -27.071910858154297, -17.952957153320312, 1.4058328866958618, 3.191180944442749, 20.353303909301758, 16.836530685424805, 25.596378326416016, -25.19834327697754, 31.012300491333008, -4.048022747039795, 7.355990409851074, 5.308552265167236, -6.367993354797363, 4.1367292404174805, 34.041446685791016, 8.707474708557129, -3.9329419136047363, 40.18089294433594, 8.365160942077637, 6.811324119567871, -37.5508918762207, 34.654083251953125, 9.847757339477539, 15.530156135559082, 40.67669677734375, 22.79945182800293, -37.55119323730469, -37.27134323120117, 19.960224151611328, 42.27546691894531, 29.394073486328125, 35.66110610961914, -16.57419776916504, 14.219528198242188, -32.95180892944336, -0.7282438278198242, -2.5017268657684326, -29.978256225585938, 20.175933837890625, 9.525873184204102, -5.991298198699951, -12.013206481933594, 2.9192309379577637, -14.526507377624512, 11.505121231079102, -13.327707290649414, -10.191585540771484, 17.75824546813965, 13.734244346618652, 9.143027305603027, 6.755858421325684, -17.236984252929688, 5.927481651306152, 0.7058733105659485, -32.9051628112793, -32.444122314453125, 30.151851654052734, 23.181001663208008, -22.651491165161133, 23.921123504638672, -19.91120147705078, -2.766476631164551, -40.30474090576172, 17.06376838684082, -34.58534622192383, -2.012382745742798, 1.6986769437789917, 29.886096954345703, 11.433358192443848, -9.269036293029785, 9.320962905883789, -5.683197975158691, 19.852161407470703, 7.0951313972473145, 25.921079635620117, 52.90434265136719, -46.28217697143555, -40.167640686035156, -19.674253463745117, -18.583147048950195, 34.73350524902344, 30.965133666992188, -7.360161304473877, -12.273473739624023, -32.93302536010742, 54.527923583984375, 6.6519365310668945, -2.8541126251220703, 42.54484939575195, -52.298614501953125, -16.194931030273438, 1.8096635341644287, 16.10007667541504, -26.088481903076172, 27.568775177001953, -52.850341796875, 22.730361938476562, -43.470699310302734, -35.40083694458008, 37.977813720703125, 21.025522232055664, 2.1051695346832275, -7.8753533363342285, -17.64748764038086, 26.10779571533203, -2.741328239440918, -13.306135177612305, -7.574995517730713, -23.614511489868164, -20.529077529907227, -12.142196655273438, -6.565255641937256, 7.272372722625732, 11.190481185913086, 6.537467956542969, -37.09400939941406, -18.40934944152832, -8.835667610168457, 10.366453170776367, -24.333812713623047, 11.174112319946289, -31.906396865844727, 7.915781497955322, -17.15383529663086, 5.218093395233154, -53.693016052246094, -17.66423225402832, 19.498594284057617, 3.7277798652648926, 3.134761095046997, -10.959769248962402, 9.623421669006348, -21.735557556152344, -49.357120513916016, 2.164590358734131, 37.63816452026367, -12.617424011230469, -0.9179737567901611, 9.1768159866333, -15.366449356079102, -18.653194427490234, -53.02764129638672, 10.668201446533203, 48.283260345458984, 29.830852508544922, 31.93366813659668, -32.024169921875, -7.945092678070068, -10.475950241088867, -51.79097366333008, -2.5188395977020264, -3.9852004051208496, 28.678403854370117, 2.5919699668884277, -59.25590133666992, 10.724569320678711, -10.719757080078125, -6.983708381652832, -15.535277366638184, 21.65635871887207, -11.0966157913208, -7.118958473205566, -1.7883354425430298, -4.980405330657959, 8.183098793029785, -0.24499768018722534, 11.559228897094727, 3.1419551372528076, -9.423689842224121, -39.3179931640625, 0.30086472630500793, -18.59748649597168, 44.263668060302734, 37.44034194946289, -2.4333009719848633, 14.270098686218262, 20.295452117919922, 27.46796989440918, -3.6917686462402344, -5.959122180938721, -12.592684745788574, -1.6897026300430298, -2.68742299079895, 23.4163761138916, -7.73723840713501, -20.43768310546875, -4.9237060546875, -19.357728958129883, 13.162389755249023, 7.133482456207275, 5.212109088897705, -0.5669222474098206, 40.95236587524414, -1.7708169221878052, -13.520814895629883, 13.178271293640137, 12.580302238464355, 8.52273178100586, -6.637426853179932, -17.141326904296875, -6.624200344085693, 59.19438552856445, 1.1325865983963013, 3.30143404006958, -7.208885669708252, -4.7073187828063965, 35.08211898803711, -43.265804290771484, 9.584457397460938, -17.479284286499023, 31.3839111328125, 44.7037353515625, -8.915700912475586, -19.030344009399414, -11.709928512573242, -34.760215759277344, -0.24522311985492706, 27.77684783935547, 3.9917097091674805, -2.028308868408203, 36.887142181396484, -39.39311599731445, -0.9280770421028137, 4.474090099334717, 41.445430755615234, 7.2092671394348145, -33.43391799926758, 41.674720764160156, 14.118837356567383, -32.011287689208984, -1.3010989427566528, 15.874052047729492, 9.044222831726074, 47.754207611083984, 5.931797027587891, -15.82913875579834, 36.125160217285156, 33.664608001708984, 5.836226463317871, 35.939849853515625, -18.663715362548828, 34.7045783996582, 24.643531799316406, 8.653812408447266, 2.1204564571380615, 32.54214859008789, -53.15876388549805, 43.27764892578125, -46.25236892700195, -42.797698974609375, 36.17718505859375, -15.38021469116211, -21.11716079711914, 7.145312309265137, 0.4442088305950165, 36.1819953918457, 29.94998550415039, -0.3540826439857483, -7.194451808929443, 4.635771751403809, -7.909387111663818, -18.874906539916992, -27.377685546875, -10.080934524536133, 26.470788955688477, -41.44145202636719, 42.537235260009766, -41.372318267822266, -19.309246063232422, -23.220121383666992, 1.2579345703125, 9.873618125915527, 4.246307849884033, -37.11249542236328, 5.096749782562256, 33.99454879760742, 35.08570098876953, 4.189666748046875, 31.469409942626953, -38.39003372192383, -0.5131625533103943, -51.477394104003906, 15.838047981262207, -44.405879974365234, 45.481048583984375, -16.62371253967285, -27.780378341674805, 53.99346160888672, -13.753284454345703, 31.654842376708984, 1.2795028686523438, -0.26291653513908386, 8.164649963378906, -3.212109088897705, 40.203006744384766, -4.748530864715576, 26.945594787597656, -23.43989372253418, 24.00818634033203, -22.059349060058594, -35.17454147338867, -8.584829330444336, -4.395388603210449, 26.178428649902344, 26.02960968017578, 4.732309341430664, -5.561443328857422, 8.959718704223633, 21.426095962524414, -17.005088806152344, 8.820144653320312, -9.165067672729492, 6.568448543548584, 7.5102314949035645, 7.183514595031738, -1.762287974357605, 4.817474842071533, 14.420063972473145, -9.833057403564453, 21.217464447021484, -12.962400436401367, 8.378838539123535, 46.22477340698242, 0.1462603062391281, -5.61674165725708, 22.694887161254883, -20.13706398010254, 29.471328735351562, -47.94038772583008, 14.272453308105469, -2.866239309310913, 8.648666381835938, 8.648664474487305, -22.429412841796875, -50.603084564208984, 16.02922821044922, 51.41139602661133, 13.864034652709961, -36.03761291503906, 21.622133255004883, -22.06807518005371, -35.6495361328125, -0.08966859430074692, 20.888134002685547, 15.350212097167969, -23.379470825195312, 38.20396423339844, -4.292020797729492, 13.05733871459961, 4.3091230392456055, 0.26928237080574036, 13.78869915008545, -20.023012161254883, 8.36430549621582, 5.102518081665039, -26.873565673828125, -4.034787654876709, -38.98007583618164, 13.65780258178711, 26.945575714111328, -12.784907341003418, 25.43279457092285, -43.70817184448242, 41.87934875488281, 4.448801517486572, 7.979055404663086, -12.454206466674805, 43.27323532104492, 41.60308074951172, 42.47459411621094, -15.282120704650879, -11.906078338623047, -19.840923309326172, -4.152033805847168, 11.069770812988281, -2.0166523456573486, -5.596458435058594, 8.260782241821289, 6.6026930809021, 3.451667308807373, 7.29991340637207, 14.388089179992676, 15.945199012756348, 7.065574645996094, -32.367225646972656, -0.2502177655696869, -12.090038299560547, 20.163782119750977, -26.794570922851562, -26.71588134765625, 33.990543365478516, 7.812483787536621, 21.37151527404785, -2.126591205596924, -10.55756950378418, 38.83220291137695, 33.37797927856445, 4.988112449645996, -14.723511695861816, -10.291694641113281, 3.935774564743042, 7.159732341766357, -13.21971607208252, -23.160205841064453, -47.25132369995117, 21.31359100341797, -38.550567626953125, 16.702484130859375, 1.6400291919708252, -51.54008483886719, 30.48674964904785, 48.440818786621094, 3.948009967803955, 7.501770496368408, -5.280186653137207, 41.48763656616211, 5.7430243492126465, -6.472894191741943, 9.229631423950195, -18.4130802154541, 11.094969749450684, -13.236162185668945, 3.3417108058929443, -5.892813205718994, 18.58402442932129, 39.83087921142578, 43.57659149169922, -3.251504898071289, 35.18949508666992, -0.28800898790359497, 16.158456802368164, -0.18924397230148315, 32.74509048461914, 32.465919494628906, 10.725007057189941, -9.41567611694336, 6.114906311035156, -14.20810317993164, 1.2206213474273682, -0.30815210938453674, 2.4369726181030273, -21.209035873413086, -25.381593704223633, 2.6369290351867676, 3.2587625980377197, -12.021758079528809, 5.352173805236816, -24.439828872680664, 9.627193450927734, 12.533345222473145, -6.249298572540283, 24.949724197387695, -26.596920013427734, 26.31111717224121, 14.761764526367188, 3.1226682662963867, -14.722485542297363, -16.116443634033203, -5.897109031677246, 36.71519088745117, 24.12980842590332, 3.436892032623291, 23.518299102783203, 60.150901794433594, 33.41516876220703, 8.714795112609863, 17.79615592956543, 25.414836883544922, -6.150243282318115, -42.5835075378418, -43.57963943481445, -8.191328048706055, -52.70025634765625, 3.347095251083374, -6.891628265380859, 6.843550205230713, 17.39914321899414, 5.696924209594727, -34.57844924926758, 25.249670028686523, 1.045295000076294, -37.42707061767578, 25.486705780029297, 29.544763565063477, -5.723042011260986, -34.43392562866211, 2.337340831756592, -10.88587474822998, -11.480752944946289, 40.292091369628906, 40.355308532714844, -12.28875732421875, 45.52546310424805, -26.84183692932129, 15.599820137023926, -8.727334022521973, 18.444183349609375, 2.897672176361084, 35.77003860473633, 30.428386688232422, 0.7814761400222778, 6.337766647338867, -33.0898323059082, 51.9911994934082, 38.85564041137695, -19.782535552978516, 18.65289878845215, -28.120464324951172, -7.799678802490234, -46.358699798583984, 0.39128848910331726, 0.2762089669704437, 4.544347763061523, -27.72673988342285, -8.71324348449707, 12.759419441223145, 9.883893013000488, -11.719265937805176, -8.240614891052246, -22.212589263916016, 7.751500606536865, 14.508910179138184, 10.079726219177246, -4.6007466316223145, 3.7150840759277344, 16.091598510742188, -3.2290124893188477, -10.915273666381836, -18.313753128051758, 40.21200942993164, 46.15369415283203, -11.819889068603516, 39.5736083984375, 41.3989372253418, 8.126128196716309, -0.4650821089744568, 8.21602725982666, -14.403611183166504, -37.81287384033203, -6.172491073608398, 39.392608642578125, 54.61148452758789, -20.90349006652832, 0.1513456404209137, -8.15458869934082, 7.8978681564331055, -38.80502700805664, 11.943273544311523, 9.692602157592773, -8.829663276672363, -48.544254302978516, -21.107778549194336, 40.46893310546875, 11.239927291870117, -9.423727035522461, 41.328758239746094, -11.881269454956055, -33.85237121582031, 5.950313568115234, 13.828728675842285, 6.775909423828125, -5.494143962860107, 13.474430084228516, -46.39348220825195, -43.890174865722656, -33.97229766845703, 40.479000091552734, 24.068180084228516, -21.40205955505371, -15.574702262878418, -43.28764343261719, 6.784765720367432, 28.699365615844727, -21.666608810424805, 20.16045570373535, -43.69207763671875, 30.056015014648438, -29.63784408569336, 20.862367630004883, 19.216999053955078, 1.3132370710372925, -6.4149322509765625, 45.16930389404297, -40.904109954833984, 17.748422622680664, -13.054546356201172, 4.163088321685791, 16.94480323791504, 34.813865661621094, -8.802095413208008, -17.193267822265625, 10.808670043945312, 33.99869918823242, 40.39689254760742, 20.57217025756836, -1.7163888216018677, 38.35039520263672, 21.1989688873291, 2.1091794967651367, 61.718265533447266, -21.79308319091797, -21.103015899658203, -8.619357109069824, 34.02692794799805, -21.000734329223633, -27.39976692199707, -3.7761192321777344, 15.033082962036133, 9.750919342041016, 29.19049835205078, -47.12136459350586, -27.87052345275879, -26.518476486206055, 27.889930725097656, -13.689326286315918, -43.49251937866211, -34.98584747314453, -35.334102630615234, -11.627002716064453, -2.6957902908325195, -37.17024230957031, 20.350122451782227, -0.18169452250003815, -0.26291322708129883, -22.15282440185547, -21.149303436279297, -10.56192684173584, -14.762187004089355, 21.371536254882812, 14.903491973876953, -15.144290924072266, 22.639368057250977, 9.797922134399414, 17.843809127807617, -33.79243087768555, 18.24339485168457, 17.289627075195312, -3.2661495208740234, 8.742830276489258, -29.63901710510254, -23.115793228149414, -25.626426696777344, -35.62178421020508, -1.2340996265411377, -8.19135856628418, -3.8692378997802734, 25.110158920288086, 34.20896530151367, -10.015963554382324, -1.410674810409546, -10.991874694824219, 20.766611099243164, -42.13779067993164, -33.991458892822266, -3.571928024291992, 8.943807601928711, -38.259273529052734, 6.837743282318115, 26.3146915435791, 16.88512420654297, 3.124108076095581, 4.169223308563232, 10.169921875, -49.13975524902344, 12.822582244873047, 7.2393479347229, 19.61907196044922, -34.5084114074707, 46.420719146728516, 46.215110778808594, 25.887903213500977, 15.435649871826172, -7.379859924316406, 16.573415756225586, -16.49831199645996, 27.232450485229492, 21.150041580200195, -7.0675787925720215, -17.358278274536133, 41.03947067260742, 27.642396926879883, -7.487993240356445, -34.053497314453125, 5.9036431312561035, 33.191017150878906, 40.723182678222656, 13.612910270690918, 0.7795815467834473, 18.285932540893555, -39.470706939697266, 49.02507400512695, -2.8321421146392822, 38.43463897705078, -41.12803268432617, 0.5092989206314087, 8.430252075195312, 25.169647216796875, -22.06873893737793, -8.885322570800781, 5.208603382110596, -14.487507820129395, 8.475358009338379, 7.010618209838867, -42.79263687133789, 9.68045425415039, 8.263916969299316, -12.4502534866333, 45.621559143066406, -43.849063873291016, 10.523436546325684, -23.540996551513672, 37.53463363647461, 0.10428056865930557, 2.903613805770874, -14.626813888549805, -42.933799743652344, 30.082233428955078, 3.995805025100708, 24.123144149780273, -39.9481315612793, -43.957149505615234, 1.7696255445480347, 0.3224544823169708, 3.550964593887329, 1.3656128644943237, 4.45121955871582, 7.696019172668457, 33.662811279296875, 4.3271636962890625, 34.69255828857422, -23.861522674560547, 21.500263214111328, -11.67863941192627, 9.365729331970215, -40.165645599365234, 30.532991409301758, -19.252235412597656, 15.394878387451172, 46.05854034423828, 9.128594398498535, 9.906632423400879, 41.25712585449219, 32.45564651489258, -46.969051361083984, 3.3010499477386475, 16.420825958251953, -13.303328514099121, -2.5967631340026855, -15.692208290100098, -14.936851501464844, 4.403557777404785, -0.4999648630619049, 7.642880439758301, -6.068955898284912, 2.5418972969055176, -4.386772632598877, 12.367308616638184, 47.63771057128906, 9.24271297454834, 9.282962799072266, 0.17202608287334442, 45.81058120727539, 34.80453872680664, -0.18768297135829926, 2.3099777698516846, 28.846956253051758, -6.645076751708984, 53.862857818603516, 4.378873825073242, 9.528895378112793, 4.967342853546143, 10.695226669311523, 41.41794204711914, 38.97271728515625, -2.7663378715515137, -7.857665538787842, 41.278499603271484, 20.147558212280273, 6.394683361053467, -22.118925094604492, -8.515377044677734, 10.358107566833496, 4.1892242431640625, 0.3519287407398224, 41.19211196899414, -2.2151360511779785, 2.94866943359375, -43.56816482543945, 14.229568481445312, -15.372869491577148, 29.276758193969727, 6.3945722579956055, 12.41597843170166, 4.868108749389648, -29.43699836730957, -24.849382400512695, -23.920759201049805, 1.6506215333938599, -27.246061325073242, 18.230388641357422, 6.871755599975586, 11.916975021362305, 18.571063995361328, 13.867993354797363, 0.15736445784568787, -39.70643615722656, 15.998132705688477, 17.157163619995117, -9.650542259216309, -13.555811882019043, 3.503626585006714, -31.147228240966797, -10.440592765808105, -30.446083068847656, -17.167503356933594, -22.77696990966797, -23.657621383666992, 2.3648364543914795, -29.137685775756836, -29.075851440429688, -31.022640228271484, 37.095436096191406, 0.07301954180002213, 11.29869270324707, -23.761960983276367, -19.98088264465332, -17.902847290039062, -21.94008445739746, -20.874431610107422, -63.64731979370117, 3.8281497955322266, 22.504405975341797, 26.288158416748047, 1.912360668182373, 22.333444595336914, 4.399385929107666, 12.961813926696777, -11.818123817443848, 24.348369598388672, -8.392156600952148, 14.276845932006836, -5.932497501373291, 33.43034362792969, 35.66754913330078, -12.316181182861328, 34.093841552734375, -27.02470588684082, 16.664993286132812, 20.92512321472168, -23.920759201049805, 1.368509292602539, 52.12789535522461, 2.1967175006866455, -3.805964469909668, -35.14329528808594, -5.9395952224731445, 4.423147678375244, -37.06396484375, -19.08608055114746, 11.821917533874512, 39.20152282714844, -37.8189582824707, -15.442800521850586, 12.207976341247559, -41.37511444091797, -34.60285568237305, 22.130508422851562, 43.41312026977539, -26.71595001220703, 44.78322982788086, -29.21638298034668, -48.54417419433594, 5.459866046905518, 18.396484375, -34.39081954956055, -13.464643478393555, -15.599279403686523, 32.71640396118164, 44.962669372558594, -33.42036819458008, 25.009580612182617, 37.382747650146484, 2.9460082054138184, -13.268847465515137, -13.845710754394531, -4.309484481811523, -37.04480743408203, 46.169532775878906, -19.700437545776367, 2.756261110305786, 5.214970588684082, -14.627837181091309, -5.862259387969971, 28.433801651000977, -32.022953033447266, 5.408327102661133, 8.261962890625, 6.591462135314941, 9.805913925170898, -15.179882049560547, 29.596538543701172, 41.05965042114258, -30.87928581237793, 6.895612716674805, 10.102899551391602, 3.1769254207611084, -0.9691044092178345, 12.682852745056152, -7.3533220291137695, 44.98965072631836, -41.95535659790039, -14.29403305053711, 5.665236473083496, -2.738508939743042, 27.448877334594727, -16.67414665222168, -10.636327743530273, 0.3925415277481079, -26.895145416259766, -45.747291564941406, 35.396697998046875, -27.580860137939453, -15.834327697753906, 7.237058162689209, -3.970182418823242, -13.343368530273438, -19.803659439086914, 10.503206253051758, 16.290145874023438, -21.08170509338379, 29.420269012451172, -26.655508041381836, -14.66257095336914, -10.954319953918457, -32.81737518310547, -16.57048797607422, 3.7883071899414062, 14.270145416259766, -15.625456809997559, 45.88145065307617, 10.149273872375488, -0.9033495187759399, -2.574957847595215, -0.9568905830383301, -5.328806400299072, -8.686212539672852, -3.004664182662964, 35.0528450012207, 11.883485794067383, 24.125404357910156, 8.324784278869629, 31.5806827545166, 52.90945816040039, 23.086437225341797, -16.253297805786133, 23.265954971313477, 32.28492736816406, 4.359121322631836, -3.606872797012329, 22.855878829956055, -21.951278686523438, -13.361174583435059, -21.015541076660156, 0.7024424076080322, -13.205503463745117, -3.844818115234375, -26.824726104736328, 2.049376964569092, -5.636560916900635, 11.392410278320312, -18.01692008972168, 2.6769649982452393, -10.059106826782227, -15.766465187072754, -2.3859169483184814, -15.610878944396973, 2.600013494491577, -16.367752075195312, 10.724164962768555, 3.7212235927581787, 11.467559814453125, -10.723722457885742, 16.681026458740234, -16.048471450805664, 11.116541862487793, -10.496074676513672, -10.031159400939941, -1.214211106300354, -31.47043800354004, -12.196229934692383, -9.1349458694458, -5.6720499992370605, 9.423199653625488, 23.42372703552246, 7.143885612487793, -5.405770778656006, -23.913270950317383, 16.61602020263672, -23.01487922668457, 18.121444702148438, -5.6793532371521, -15.510663032531738, -37.193546295166016, -12.154285430908203, -35.600982666015625, 34.63593292236328, -35.65426254272461, 14.32768440246582, 10.801708221435547, -32.42970657348633, 12.257221221923828, 4.650498390197754, 28.71739959716797, -4.264334201812744, 38.80844497680664, 26.325651168823242, 32.09611129760742, 6.814094543457031, -0.7926926016807556, -5.097550868988037, -58.85763168334961, -57.788875579833984, -57.112552642822266, -51.7502326965332, 20.783397674560547, 2.931016445159912, -8.297752380371094, 24.680421829223633, -2.305682420730591, 0.11387213319540024, -11.515517234802246, 32.32536315917969, 38.320831298828125, 11.22944164276123, -12.677314758300781, -1.5136560201644897, -26.415863037109375, 25.816173553466797, 18.272884368896484, 5.360701560974121, -7.610891819000244, 12.286214828491211, 7.3632121086120605, 21.035987854003906, -7.498642921447754, -22.587425231933594, -24.554237365722656, 45.67543029785156, -1.004689335823059, 14.354804039001465, 11.129515647888184, 3.7146410942077637, 4.567704200744629, -12.021977424621582, 3.029374599456787, -2.507963180541992, 44.74915313720703, 4.496490001678467, 8.046272277832031, 0.66953045129776, -6.380601406097412, 27.008895874023438, 53.920475006103516, 7.353127956390381, 15.904802322387695, -27.7675724029541, -41.00605010986328, 31.494524002075195, 25.068891525268555, -16.16758155822754, -46.57222366333008, -11.050969123840332, -18.779285430908203, 36.932064056396484, -8.681340217590332, 1.946594476699829, 9.705768585205078, -46.86806869506836, 9.745478630065918, -6.35820198059082, -55.10984802246094, 7.1811957359313965, -0.9965080618858337, -43.6828727722168, 27.718080520629883, -55.74163818359375, -51.75019454956055, -14.151981353759766, -9.3997163772583, -12.626363754272461, 7.052797794342041, 3.435577154159546, 28.362565994262695, -9.709288597106934, 34.63434600830078, -29.84593391418457, 2.5158753395080566, -10.141921997070312, 9.015632629394531, 7.220086574554443, -15.204204559326172, -26.553163528442383, -17.17237091064453, -11.891654968261719, 10.983043670654297, -0.38607069849967957, 2.3157923221588135, 17.45223045349121, -34.4739875793457, -57.0130500793457, 29.264965057373047, 17.131502151489258, -45.197139739990234, -41.972869873046875, 2.5691211223602295, 0.3553954064846039, 3.266590118408203, 35.639259338378906, -5.917520999908447, 4.238609790802002, -0.08672148734331131, -8.94300365447998, -5.231571674346924, -23.056852340698242, -9.10404109954834, 20.73125648498535, 35.43621063232422, 13.957477569580078, 21.471567153930664, 31.296171188354492, -4.560941696166992, -19.68114471435547, -11.420916557312012, -4.589859962463379, -13.917511940002441, 2.7783007621765137, -32.2454948425293, -26.714096069335938, 9.620992660522461, 16.88449478149414, -22.220600128173828, -16.94316864013672, -11.664544105529785, 5.5384721755981445, 1.5528302192687988, -13.540312767028809, 2.586217164993286, -55.439205169677734, -22.59705924987793, -10.757055282592773, -19.932771682739258, 29.421743392944336, 7.77964973449707, -25.01766014099121, 5.929041385650635, -14.85378646850586, -19.329809188842773, -5.138304710388184, -7.415589332580566, 1.297052264213562, 0.9077145457267761, -36.85194778442383, 2.9866390228271484, -14.070054054260254, 0.6017974019050598, 15.807183265686035, -11.312275886535645, 11.190255165100098, 15.180879592895508, -24.50357437133789, -21.11912727355957, 20.16865348815918, 4.0836896896362305, -1.7732036113739014, -10.688298225402832, 0.331610769033432, -9.595922470092773, 31.90270233154297, 61.52141571044922, -15.122368812561035, -1.3746585845947266, -12.799924850463867, 27.127296447753906, 41.25259017944336, -18.760007858276367, 44.81694030761719, -20.961467742919922, 25.166851043701172, 13.28515338897705, 39.95829391479492, 15.277753829956055, 25.33220672607422, -1.852557897567749, 39.46800994873047, -30.517139434814453, 1.52333664894104, 4.178986072540283, -1.5232491493225098, 24.696086883544922, -20.480655670166016, 19.96657943725586, 24.221559524536133, 15.98965835571289, 7.63094425201416, -1.5843576192855835, 7.397816181182861, 33.94404602050781, 7.471485614776611, -24.503671646118164, 5.321552276611328, -5.800530910491943, 39.73262023925781, -0.5876070857048035, -23.835693359375, 18.403371810913086, 19.747787475585938, 8.758516311645508, 5.753492832183838, 5.282158851623535, -1.7772698402404785, 25.400253295898438, -12.924504280090332, 12.471427917480469, 1.4392943382263184, 33.36366653442383, -13.52501106262207, -32.80432891845703, -24.200838088989258, -5.369974136352539, 4.149181842803955, -3.7430107593536377, -0.31036797165870667, -1.2878148555755615, 2.3532187938690186, -27.908283233642578, -6.446140766143799, -34.515113830566406, -17.335987091064453, 31.580486297607422, 25.760915756225586, 9.293806076049805, 45.278770446777344, -3.5615322589874268, 35.30461502075195, -27.419925689697266, 0.6979022026062012, -20.550325393676758, -7.713321208953857, -6.649237632751465, -2.5273096561431885, 9.805326461791992, -35.285587310791016, 0.34978756308555603, -23.194278717041016, -14.288719177246094, -22.439128875732422, 35.240211486816406, -4.1438398361206055, 1.2174819707870483, -4.485950946807861, 2.3802649974823, 36.18357849121094, -32.86489486694336, 3.9002702236175537, -57.08837127685547, 35.124969482421875, 6.432897090911865, 41.20353698730469, 26.52962303161621, 39.10938262939453, -0.08775084465742111, -1.3838093280792236, 27.79764747619629, 14.150114059448242, -5.441417694091797, 52.515167236328125, -10.531848907470703, -7.706798553466797, -15.553653717041016, 12.845388412475586, -3.4586706161499023, -11.576986312866211, 3.7349815368652344, 21.846298217773438, -8.759612083435059, 3.435567855834961, 38.660377502441406, -15.76754379272461, -22.185588836669922, -13.071501731872559, 15.449616432189941, -19.465028762817383, 33.37617492675781, -60.056175231933594, 3.9171695709228516, 55.388771057128906, 24.37553596496582, 51.407142639160156, 5.481886386871338, -3.4077208042144775, -47.402259826660156, -17.53386688232422, 46.979209899902344, -10.840350151062012, 4.166754722595215, 44.1392936706543, -17.624021530151367, -7.512353897094727, -29.829383850097656, 10.13695240020752, 7.735393047332764, 5.683338165283203, -6.752292633056641, -28.89243507385254, 36.35029983520508, -1.2073670625686646, 10.362561225891113, -3.8621909618377686, -23.60763168334961, 15.442493438720703, 17.66055679321289, -13.859643936157227, 33.44772720336914, -16.491634368896484, -29.94060516357422, -46.53174591064453, 0.47111865878105164, 1.7706375122070312, 46.004154205322266, 42.15570831298828, 2.410609006881714, 12.318812370300293, -3.8692305088043213, 17.766340255737305, -5.094263553619385, 45.84669876098633, 17.366037368774414, 28.1153564453125, -0.8609474301338196, -6.480616092681885, 11.682682991027832, -11.263318061828613, -5.139749526977539, -16.497385025024414, 33.44042205810547, 8.489355087280273, 15.106423377990723, 41.56206512451172, -3.9391074180603027, 54.39207077026367, -5.245692729949951, 0.12017221003770828, 28.76664161682129, -20.09842872619629, -27.876720428466797, 8.328192710876465, 36.94582748413086, 52.486515045166016, 27.28182029724121, 30.506067276000977, 50.995601654052734, -13.844305992126465, -7.762717247009277, -32.57681655883789, 47.026588439941406, 34.01116180419922, 4.484358310699463, 52.629608154296875, 22.497798919677734, -2.559673547744751, 29.330259323120117, 14.519413948059082, 3.665485382080078, -19.990814208984375, 0.9379653334617615, 18.515962600708008, -3.923849582672119, 16.54947853088379, 21.9152889251709, -1.7215008735656738, 8.684314727783203, 21.91907501220703, 14.852859497070312, 4.544039249420166, -12.667977333068848, -32.64138412475586, 12.771435737609863, 8.89772891998291, -14.657623291015625, 32.610206604003906, -15.192959785461426, -2.827299118041992, -3.2147738933563232, -25.22445297241211, 3.6689159870147705, -5.128025054931641, -1.0087898969650269, -7.613792896270752, -4.406774997711182, -15.46220588684082, -2.3799519538879395, -35.14979934692383, 6.2043023109436035, -20.209712982177734, 13.74770736694336, 8.357770919799805, -20.225980758666992, -12.091179847717285, -5.265373706817627, 44.49757766723633, 36.740142822265625, -11.211282730102539, -10.598974227905273, 6.264214038848877, -19.923019409179688, -4.423515796661377, -20.185089111328125, 7.184797286987305, -5.628809452056885, -16.41641616821289, -15.87960433959961, 27.462581634521484, 40.023414611816406, -21.39790916442871, 0.283665269613266, 24.154470443725586, 40.49784851074219, -53.40324783325195, 30.141281127929688, -24.29116439819336, 16.229646682739258, 35.97222137451172, -6.4810404777526855, -4.22998571395874, 15.206613540649414, -10.582619667053223, -38.668609619140625, -31.862201690673828, -2.7303617000579834, -25.98604393005371, 16.76618194580078, 16.776351928710938, -8.707158088684082, 18.65239715576172, 53.93320846557617, -19.965328216552734, 25.632661819458008, 31.086233139038086, -16.99092674255371, -22.790569305419922, -3.740549087524414, -8.968657493591309, -30.08034324645996, -55.44105911254883, -31.86181640625, 56.13397979736328, 10.962944984436035, 0.11352840065956116, 25.302858352661133, -4.696069240570068, 40.829925537109375, 20.24675178527832, -13.80031681060791, -57.31510925292969, 15.508949279785156, -24.656478881835938, 14.406720161437988, 11.050538063049316, -2.064636707305908, 36.9178466796875, -8.409762382507324, 26.87183380126953, 20.05414581298828, -20.19552230834961, 12.776419639587402, -1.8721953630447388, 32.73298645019531, 9.951147079467773, -53.65822219848633, -23.096818923950195, 10.693511962890625, 20.04957389831543, -13.150466918945312, 10.016884803771973, 7.482583522796631, -29.362316131591797, -47.266845703125, -18.50908660888672, 13.313597679138184, -12.844460487365723, 0.7832949757575989, -10.87631893157959, -49.35684585571289, 29.841781616210938, 27.463430404663086, 18.47081756591797, -18.27140998840332, 3.524604558944702, -1.4298523664474487, 10.2352294921875, 8.679468154907227, 4.933624267578125, -0.2524416744709015, 30.570213317871094, -7.500001907348633, -52.852298736572266, -43.64472579956055, -15.206527709960938, 37.884010314941406, -15.464310646057129, 13.013799667358398, 29.622364044189453, -7.630770206451416, -11.282156944274902, -0.6110367774963379, -6.716424465179443, -11.13693904876709, -17.220022201538086, 21.367090225219727, 20.987689971923828, -11.299860954284668, 14.26958179473877, -22.146623611450195, 18.478479385375977, -15.100495338439941, 21.47031021118164, 15.88517951965332, -4.110881328582764, 38.6717529296875, -10.506328582763672, 24.843244552612305, 17.833602905273438, -22.36415672302246, 43.001976013183594, 23.258155822753906, 21.332378387451172, 32.44792175292969, -7.588277816772461, -42.00028610229492, 25.343151092529297, 8.6758394241333, 29.372922897338867, 37.72241973876953, -5.606434345245361, -31.51520347595215, -33.663299560546875, 17.84213638305664, -36.71805191040039, -1.8103352785110474, 24.243885040283203, -28.450838088989258, 13.554519653320312, -29.504606246948242, 5.786805629730225, -5.6400933265686035, 38.389244079589844, -2.7952065467834473, 25.201295852661133, -26.411611557006836, 15.426301002502441, -0.3830290734767914, -45.11709976196289, -64.24285125732422, -60.27317428588867, -8.217413902282715, -14.084364891052246, -51.7173957824707, -1.337194800376892, -12.150176048278809, -40.30479431152344, -28.23699188232422, 45.43485641479492, -48.144203186035156, -1.5152584314346313, -43.04328155517578, 10.25475788116455, -3.5855133533477783, -18.64069366455078, 15.334381103515625, 13.052393913269043, 12.760053634643555, -24.19074058532715, -24.295137405395508, 10.039742469787598, -10.02825927734375, 38.67148208618164, 19.929285049438477, -30.170696258544922, 17.029294967651367, 6.182476043701172, -26.626848220825195, -9.142489433288574, 20.659893035888672, 37.48946762084961, 37.09196472167969, -2.260044574737549, -7.280102729797363, -38.79963684082031, -18.61617660522461, 26.13604164123535, 50.09910583496094, 54.62529754638672, 2.2655227184295654, -9.801799774169922, 41.20756912231445, -17.671680450439453, -12.019885063171387, 2.903867483139038, 30.25047492980957, 37.19997787475586, 22.34126091003418, -13.244125366210938, -14.50101375579834, 30.480131149291992, -9.076371192932129, 49.343048095703125, 5.102189540863037, -9.743919372558594, -51.467159271240234, 54.726627349853516, 21.187885284423828, -27.71765899658203, -1.3637906312942505, -22.581214904785156, 1.0889464616775513, -12.124011993408203, 22.2074031829834, 22.74376678466797, 34.7170295715332, 29.703197479248047, -36.32209014892578, 13.342035293579102, 22.11097526550293, 6.867170333862305, 39.97829055786133, 31.161685943603516, -21.41177749633789, 34.895179748535156, -36.72465896606445, -8.425046920776367, 5.261547565460205, -7.208885669708252, -30.458646774291992, -10.186775207519531, -2.8664052486419678, -20.576541900634766, -36.302242279052734, -1.9854191541671753, -0.24614116549491882, -2.3227624893188477, -42.37014389038086, 13.394272804260254, -48.215660095214844, -11.055832862854004, -34.495880126953125, 16.166378021240234, 29.20654296875, -3.6918435096740723, -9.035049438476562, 16.41561508178711, 14.269058227539062, 4.603034019470215, 10.783447265625, -31.598318099975586, 36.451751708984375, 7.5684919357299805, -16.29935073852539, 17.467031478881836, -28.995941162109375, -35.52289962768555, -25.921276092529297, 14.456031799316406, -17.568477630615234, 53.917354583740234, -12.30597972869873, -19.43462562561035, -9.19715404510498, -21.124069213867188, -26.570072174072266, 7.848038673400879, -56.97451400756836, -15.799836158752441, 11.176788330078125, -18.45646858215332, -13.832900047302246, 35.84397506713867, 8.809112548828125, 20.10361099243164, -16.20707893371582, -26.073177337646484, -19.65754508972168, -27.001035690307617, 9.496700286865234, -13.793137550354004, 25.534883499145508, -20.074081420898438, -0.8724105358123779, -46.6480827331543, 29.174575805664062, 24.889617919921875, 23.08869171142578, -12.729188919067383, -0.3037576675415039, 19.13465690612793, -20.257110595703125, -3.6437668800354004, 19.628829956054688, -22.44046401977539, -23.33602523803711, 15.845183372497559, 25.717554092407227, -17.648221969604492, 32.064205169677734, -25.937416076660156, 19.910655975341797, 35.048152923583984, 4.198286533355713, 31.674423217773438, -22.23118782043457, -13.737955093383789, 33.75264358520508, 6.2254743576049805, 0.11984070390462875, 33.110286712646484, -23.15437889099121, 9.67352294921875, -6.3387346267700195, -56.09225845336914, 9.505541801452637, 5.278835773468018, 33.82929611206055, 21.794565200805664, -9.95053768157959, 16.950944900512695, -14.300176620483398, -13.806686401367188, -38.3027458190918, 35.829803466796875, 20.1805419921875, 3.097625970840454, 13.378836631774902, -14.17951488494873, 1.2646098136901855, -17.98880386352539, 21.83099365234375, -19.28907585144043, 32.6123046875, -4.771160125732422, -31.161945343017578, 15.04323673248291, -9.978506088256836, 5.542712211608887, 39.23918914794922, -19.173377990722656, -21.828338623046875, 13.049880027770996, -12.814665794372559, -21.76114273071289, -25.274181365966797, 31.49721908569336, 7.846290111541748, 13.883135795593262, -47.421485900878906, 38.67324447631836, -46.48033142089844, -28.486465454101562, 31.446008682250977, 22.725332260131836, -38.09272003173828, -11.917669296264648, -21.717937469482422, 3.3809237480163574, 49.75079345703125, 1.784556269645691, -40.23304748535156, -22.94427490234375, -24.72183609008789, -25.39740753173828, -9.08705997467041, 25.416114807128906, -18.42627716064453, 7.375982284545898, -3.0177056789398193, -33.73152542114258, 25.077993392944336, 23.96866798400879, -28.02617645263672, 23.687942504882812, -29.432771682739258, -4.3801493644714355, -58.17270278930664, 18.047815322875977, 47.86123275756836, -31.904748916625977, 5.941433906555176, -14.599419593811035, 33.088748931884766, 15.720356941223145, 14.922894477844238, -46.39720916748047, 14.180305480957031, -1.9446784257888794, -27.62755012512207, 15.529449462890625, -8.235620498657227, -4.0911760330200195, 11.241660118103027, -22.140727996826172, 10.411276817321777, 39.19902038574219, -4.9422454833984375, -9.878512382507324, -5.734441757202148, 17.005359649658203, -4.24803352355957, -20.850875854492188, 32.924381256103516, 16.02679443359375, -10.301308631896973, 9.184274673461914, 29.830551147460938, -5.505190849304199, -42.60382080078125, -3.535681962966919, -55.06916427612305, -55.06869125366211, -42.66787338256836, -4.3868207931518555, 46.15886688232422, -43.93523406982422, 22.592445373535156, -45.093955993652344, -45.09920120239258, -3.3887548446655273, 0.2187284678220749, 39.45058822631836, 52.05341720581055, 18.444496154785156, 28.36836051940918, 4.783113956451416, -3.0143725872039795, 36.430240631103516, -7.360161304473877, -32.57904052734375, 34.72403335571289, -4.386528968811035, -37.11245346069336, 2.3030707836151123, -11.38443374633789, -30.800302505493164, 19.368396759033203, -32.788780212402344, -7.64730978012085, 9.852309226989746, -11.008475303649902, -16.596155166625977, 24.076210021972656, 6.562500476837158, -11.93448543548584, -22.923051834106445, 3.4928009510040283, -2.9238224029541016, -33.232357025146484, -22.304431915283203, -34.68895721435547, 39.41420364379883, -29.299053192138672, -16.651941299438477, 2.022671699523926, -7.548683166503906, 17.577688217163086, -16.149930953979492, -19.010700225830078, -7.43692684173584, -16.28011131286621, -15.735899925231934, -10.728653907775879, -30.31090545654297, -26.163768768310547, -22.304759979248047, -12.848747253417969, 18.486989974975586, -18.089590072631836, 31.64766502380371, 10.161773681640625, -2.3033535480499268, -55.55922317504883, -43.788028717041016, -7.688368320465088, -21.222187042236328, -8.496411323547363, 31.330411911010742, -28.99193572998047, 2.9270055294036865, -45.929527282714844, -32.21858596801758, -37.42707061767578, -19.725419998168945, 31.669160842895508, 23.603254318237305, -1.500032901763916, 15.491532325744629, -10.99367904663086, 23.579832077026367, -5.877861022949219, 26.007131576538086, -4.349246501922607, 6.4975152015686035, -6.002412796020508, 23.81470489501953, -18.09701919555664, 22.31981086730957, 39.4148063659668, 3.377462387084961, 12.161394119262695, -0.784660279750824, -41.22361755371094, -38.62941360473633, 22.013181686401367, 10.071152687072754, -13.756872177124023, 25.97643280029297, -22.319543838500977, -42.29717254638672, 3.945518970489502, -2.7787234783172607, -7.492490112781525e-07, -39.80315017700195, 0.03618350997567177, -30.962013244628906, 17.952003479003906, 18.305694580078125, 2.5642051696777344, -25.900121688842773, -15.833978652954102, -12.889877319335938, -58.5775260925293, -33.40266036987305, -10.846517562866211, 9.50319766998291, 22.982646942138672, 44.755123138427734, 2.524824380874634, -28.114646911621094, -58.482444763183594, -5.502222537994385, 1.0444425344467163, 22.38021469116211, -24.152132034301758, 25.962434768676758, 23.91413688659668, 21.45223045349121, -16.853307723999023, 30.47873306274414, -27.073850631713867, -17.4385986328125, -20.048696517944336, -13.049901008605957, -29.81300926208496, -26.34008026123047, 30.47734260559082, 30.41231918334961, 21.327096939086914, -16.4859676361084, -36.00037384033203, -5.092424392700195, -17.6675968170166, -37.117095947265625, 1.6619117259979248, 35.32482147216797, 15.576149940490723, -18.310503005981445, 28.202682495117188, -22.226179122924805, -39.204776763916016, -35.822017669677734, -18.097274780273438, -31.582555770874023, -13.780007362365723, 2.044783592224121, 18.382539749145508, 56.540550231933594, -1.2221415042877197, -0.42439529299736023, 3.0986244678497314, 11.679925918579102, -0.44249969720840454, 9.682990074157715, 42.233333587646484, 13.501985549926758, -15.774561882019043, -54.64710235595703, 20.368999481201172, -55.5532341003418, 7.854687690734863, -6.8027143478393555, -1.9228429794311523, 10.314727783203125, 46.2165412902832, -32.29551696777344, 24.45392608642578, 21.096271514892578, 45.80641174316406, 22.077638626098633, 24.356182098388672, -23.54511260986328, 13.841170310974121, -26.970623016357422, -13.225441932678223, -38.33339309692383, -8.107427597045898, -7.750857830047607, 45.085182189941406, 33.601016998291016, 7.515753269195557, 5.877572536468506, 4.519521713256836, -13.927845001220703, 13.56875228881836, 29.689037322998047, 45.1268424987793, 34.191829681396484, -28.001300811767578, -22.621999740600586, -0.7842938899993896, 49.08700180053711, 41.513702392578125, -13.12478256225586, -12.185884475708008, -46.52223205566406, 22.90471076965332, -47.820125579833984, -32.88046646118164, 3.1451165676116943, 10.242904663085938, -43.36546325683594, 0.5212802886962891, -13.61673641204834, 14.48711109161377, 7.438551902770996, -19.77418327331543, -11.179207801818848, 26.317373275756836, -47.12291717529297, -37.39299774169922, 47.103271484375, -15.177124977111816, -18.120019912719727, 24.476842880249023, -23.537322998046875, -41.273834228515625, -31.161945343017578, -15.310295104980469, 1.4216232299804688, 4.988118648529053, -9.97252082824707, 35.1024169921875, 24.15439224243164, -13.6823091506958, -5.472280979156494, 26.23847770690918, -43.36777877807617, -45.135597229003906, 23.602054595947266, -16.515047073364258, -4.31130313873291, -3.541635274887085, 28.23943328857422, 13.659085273742676, -5.870429992675781, 5.0332536697387695, 6.279529571533203, 6.722088813781738, -4.1200785636901855, 1.0177561044692993, 24.48914909362793, -24.321269989013672, -8.50301456451416, 14.128608703613281, 50.09703063964844, 21.128917694091797, 35.44847869873047, -18.171785354614258, -3.7904767990112305, -17.441524505615234, 1.2777483463287354, 27.00151252746582, 25.448183059692383, 23.57890510559082, 3.63879656791687, 5.270041465759277, 21.16750144958496, -1.3504185676574707, -54.740596771240234, -3.2353925704956055, 9.461383819580078, -21.227643966674805, 7.617342948913574, 13.0224027633667, 17.657733917236328, -21.261127471923828, -16.563901901245117, 1.3683769702911377, -20.8719425201416, 11.14090633392334, -20.619403839111328, -32.107425689697266, 0.9169439673423767, 33.54043197631836, -9.809002876281738, 5.540744781494141, 4.777544021606445, 12.730024337768555, -4.377378940582275, 17.002643585205078, -9.882078170776367, -10.418042182922363, -8.320518493652344, 33.542266845703125, 13.494551658630371, 1.7714879512786865, -2.0523388385772705, -3.8393454551696777, -15.063006401062012, -3.621854066848755, 3.4496095180511475, -14.374370574951172, -0.04800073057413101, 31.59812355041504, 13.990203857421875, 23.040597915649414, 34.02554702758789, -43.35517501831055, 2.6640350818634033, -14.885730743408203, -35.10282516479492, 46.218971252441406, -2.320380687713623, -22.75535011291504, 7.564194679260254, 42.936492919921875, 26.300701141357422, -1.223622441291809, -1.9618333578109741, -27.896875381469727, 0.7850887775421143, -20.46483612060547, -20.533096313476562, -16.97299575805664, -13.143695831298828, -19.84100341796875, 13.042132377624512, 21.06815528869629, -28.356801986694336, -12.753450393676758, 8.093873977661133, -17.88031005859375, -4.291831016540527, -2.9085991382598877, -55.108795166015625, -11.423491477966309, -37.43060302734375, 14.355154037475586, 15.325518608093262, -25.498525619506836, -52.726322174072266, -20.07146453857422, 7.751537799835205, 21.956499099731445, -10.471468925476074, -53.402435302734375, 56.007633209228516, -37.27058792114258, 3.005016326904297, 20.76873207092285, 2.885117769241333, 2.6632533073425293, -8.772871017456055, 3.292351722717285, 15.346893310546875, 21.150054931640625, 16.656400680541992, 4.774115562438965, 17.16796875, 6.811329364776611, 16.838668823242188, 7.287741661071777, 15.871326446533203, 23.663057327270508, -0.6128906011581421, 8.824610710144043, -9.975895881652832, -10.516158103942871, 47.7976188659668, 24.693727493286133, -32.31687545776367, -14.492918014526367, -26.83121109008789, 8.226737022399902, 10.193100929260254, 7.901336669921875, 12.621764183044434, -46.64936065673828, 7.104773998260498, 5.286003112792969, -13.333745002746582, 10.406965255737305, 5.5868120193481445, -1.8070850372314453, -19.45930290222168, -12.591181755065918, 5.702610969543457, 5.717166900634766, 15.267855644226074, -35.6355094909668, -17.126201629638672, -3.869055986404419, -14.74390983581543, -13.339570999145508, -3.1114211082458496, 28.60175895690918, -24.98036003112793, 46.155517578125, -24.09210205078125, -11.471983909606934, 7.009440898895264, -3.6751132011413574, -38.87255859375, -21.411026000976562, -39.459312438964844, -0.04734286293387413, -32.09575653076172, 24.425853729248047, 32.15705108642578, -7.999878883361816, -14.83485221862793, 27.765949249267578, 3.043426513671875, -57.31344223022461, 9.671481132507324, 28.21101188659668, 15.04172134399414, 26.36685562133789, -25.26571273803711, 4.0163092613220215, 24.393415451049805, -21.909740447998047, 24.200733184814453, 48.283267974853516, 9.832484245300293, -9.773528099060059, 0.19345110654830933, 13.516677856445312, 2.5821175575256348, 15.59300422668457, -43.46910858154297, -2.581583023071289, 15.567246437072754, -10.584793090820312, -46.315879821777344, -0.49110397696495056, 18.188220977783203, 14.233990669250488, -1.416927695274353, -0.4373677372932434, 1.784464955329895, 13.028617858886719, -4.321918487548828, 13.706467628479004, 25.288599014282227, 12.253562927246094, 1.083170771598816, -13.397396087646484, 18.30410385131836, -12.327595710754395, 7.793597221374512, 1.8960554599761963, -28.332963943481445, -9.998251914978027, -23.003116607666016, 49.465084075927734, -8.094731330871582, -30.249710083007812, -18.917875289916992, -2.293768882751465, 26.002241134643555, -10.672701835632324, -3.467573881149292, 12.45317554473877, -8.074902534484863, 5.896097183227539, 7.010614395141602, 23.642803192138672, 10.499134063720703, 20.452964782714844, 13.698700904846191, 4.0431365966796875, -22.261186599731445, 27.8250675201416, -11.520081520080566, 47.692138671875, -24.424821853637695, -1.3564343452453613, -2.27384877204895, -37.801025390625, 5.233044624328613, 10.183866500854492, -10.313057899475098, -5.40925407409668, -31.06846809387207, 55.32155227661133, -30.587242126464844, -3.418344736099243, 12.033844947814941, 38.64218521118164, 5.253032684326172, -15.196114540100098, -28.488027572631836, 5.39292573928833, 8.551281929016113, -18.135089874267578, -20.554502487182617, 50.90652084350586, 4.347912788391113, 6.283117294311523, 13.060988426208496, 6.992973804473877, 12.594143867492676, 9.172857284545898, -3.1001853942871094, 32.49794006347656, 45.15447998046875, -49.29678726196289, 60.15019226074219, -6.389087677001953, 0.12392393499612808, -23.446866989135742, 29.017318725585938, 29.523908615112305, 28.868844985961914, 9.297616004943848, 23.81339454650879, 31.620098114013672, -19.973058700561523, 10.98122787475586, -26.03125762939453, -21.458250045776367, 56.97719955444336, -17.117935180664062, 6.2994256019592285, 33.892513275146484, -26.024211883544922, 23.75084686279297, -41.02389907836914, -25.498231887817383, 24.31781005859375, 0.7111371159553528, -2.630234479904175, -3.043510913848877, -1.267438530921936, -10.211441040039062, -0.8137941360473633, -46.3588752746582, 27.96930503845215, 29.93497085571289, 5.293659210205078, 41.111724853515625, -34.57952880859375, 41.220619201660156, 24.31153678894043, -0.09371765702962875, 36.877723693847656, 27.435951232910156, -24.631677627563477, -52.579139709472656, 12.792176246643066, -63.650238037109375, -12.100102424621582, -16.482725143432617, 38.4321174621582, 1.3675040006637573, 35.52867126464844, 7.7765607833862305, -18.005937576293945, -0.718289852142334, -3.5297293663024902, -37.391353607177734, 4.893872261047363, -18.38516616821289, -29.7684383392334, -25.985794067382812, -10.817648887634277, -2.6328725814819336, 0.7436147332191467, 11.238042831420898, -17.15189552307129, 18.123157501220703, 12.845218658447266, -2.949026107788086, -8.60045337677002, -47.21910858154297, -10.060111045837402, -32.437923431396484, 6.448956489562988, -10.1380033493042, 35.22039794921875, -47.58264923095703, -15.893253326416016, 1.0241090059280396, 19.874547958374023, -16.748517990112305, -47.60884094238281, 54.69432067871094, 38.69024658203125, 35.38967514038086, 2.951892137527466, 10.183019638061523, 41.310333251953125, -12.237666130065918, 32.89741134643555, 11.606291770935059, 44.73643112182617, 1.8033708333969116, -16.060155868530273, -3.209350347518921, -31.73988914489746, -31.484642028808594, 13.369275093078613, 61.300968170166016, 4.34600305557251, -6.506828784942627, -11.969348907470703, -6.400153636932373, 55.30694580078125, -3.958935499191284, 17.24765396118164, 6.3051371574401855, -37.31198501586914, -0.05374607816338539, -37.30986785888672, -5.7919111251831055, -0.7257939577102661, -25.434757232666016, 4.83233642578125, -9.641849517822266, 1.7544176578521729, 12.242585182189941, -36.493709564208984, -8.505729675292969, 30.307432174682617, -23.74981689453125, 44.0599250793457, -34.132049560546875, -8.03870677947998, -11.756430625915527, -25.26207160949707, -30.937496185302734, -21.91565704345703, 9.345751762390137, -47.65147399902344, 0.585867702960968, 20.414487838745117, -22.314510345458984, -60.50942611694336, 24.138193130493164, -18.30022621154785, 7.685969829559326, -11.134303092956543, -1.78497314453125, 3.507808208465576, 16.12594223022461, -2.226555585861206, -27.95765495300293, -10.914430618286133, 12.96971321105957, -1.0192742347717285, 18.199480056762695, -7.828720569610596, -12.601317405700684, -10.658802032470703, -15.115009307861328, -17.087825775146484, -8.928191184997559, 0.3536926209926605, -3.5737221240997314, 36.56343460083008, -8.364241600036621, 37.00385284423828, -9.22602367401123, -32.932151794433594, -0.3360663056373596, 27.994991302490234, 9.49849796295166, 13.434099197387695, -27.077224731445312, 25.73113441467285, -19.54254913330078, -41.37034225463867, 17.16809844970703, 35.67057418823242, -47.10177993774414, -57.58681869506836, 37.45044708251953, 17.49209976196289, 5.178597927093506, 4.881825923919678, -6.3322930335998535, 47.47245407104492, -19.938459396362305, -13.23015308380127, -13.801856994628906, 12.257222175598145, 1.0686546564102173, -6.151966571807861, 20.051258087158203, -15.68398666381836, 19.123615264892578, 7.040212154388428, -1.416059970855713, 20.580795288085938, -7.560084819793701, 21.839698791503906, -41.971012115478516, -21.188934326171875, -3.837719202041626, 38.44492721557617, 38.34321975708008, -11.845161437988281, -26.73101806640625, 17.640871047973633, -13.16352367401123, -9.870935440063477, -40.2820930480957, 3.685753583908081, -31.92070198059082, -31.049901962280273, -16.15540313720703, 22.529094696044922, -17.014564514160156, 13.095520973205566, -14.592962265014648, -15.2025728225708, -4.026484489440918, -32.00099182128906, -19.857553482055664, 30.736818313598633, -5.735875606536865, -41.19499588012695, -15.753253936767578, -0.531802773475647, 11.811566352844238, 18.1908016204834, 13.070137023925781, 5.168665409088135, -32.53861999511719, -4.092828273773193, 20.052993774414062, -0.9973359704017639, 4.578742027282715, -7.150224208831787, -23.285966873168945, -20.559825897216797, 10.637410163879395, 7.380270481109619, 6.408059597015381, 45.03744888305664, 0.9774694442749023, -1.345399260520935, -23.316526412963867, -6.172307968139648, -25.172618865966797, -27.719951629638672, 3.0368688106536865, 9.129501342773438, -1.6972181797027588, -19.5562744140625, -8.231396675109863, -16.721303939819336], \"xaxis\": \"x\", \"y\": [-27.171606063842773, -21.985681533813477, -35.36550521850586, 37.68254852294922, 11.20469856262207, 11.166335105895996, 57.03583526611328, 10.623724937438965, 8.391888618469238, -27.8198299407959, -27.819812774658203, 47.1151123046875, -0.1235351487994194, 8.252113342285156, -12.369476318359375, -33.40285873413086, -54.459022521972656, -5.421302318572998, -8.100444793701172, 27.907575607299805, -13.372937202453613, -24.817258834838867, 27.905441284179688, 12.130484580993652, -3.389122724533081, 32.38329315185547, -2.992913246154785, -45.79762268066406, 29.161893844604492, 15.397625923156738, -45.95979309082031, 13.8399019241333, 31.362892150878906, 10.593823432922363, -32.010536193847656, 5.850985527038574, 16.66552734375, 13.5943021774292, 10.88833999633789, -23.01287269592285, 42.996585845947266, -34.37204360961914, -6.418275356292725, -0.005894006229937077, 29.99507713317871, -30.904590606689453, 52.318031311035156, 16.287105560302734, -11.635108947753906, 10.714228630065918, 24.901506423950195, 26.106889724731445, 32.05091094970703, 16.28676414489746, 41.30099868774414, 33.40201187133789, 37.03956604003906, 31.205368041992188, -15.572402954101562, 9.092156410217285, 0.6543021202087402, -1.0308916568756104, 10.146608352661133, 14.887861251831055, 9.922919273376465, -6.3254499435424805, 1.5634760856628418, 9.35900592803955, -22.76397132873535, 42.5853385925293, 20.708303451538086, 5.225527763366699, 49.596561431884766, 36.76205062866211, 14.197958946228027, 47.33596420288086, 12.405720710754395, 30.16289520263672, 16.898244857788086, 32.144378662109375, -13.379837989807129, -28.864049911499023, 8.048376083374023, 8.602180480957031, -24.209224700927734, 9.276566505432129, -19.61705207824707, 25.833515167236328, 36.52000045776367, 19.539398193359375, -33.710601806640625, -12.60228157043457, -29.790985107421875, -62.55792999267578, -25.51677131652832, -30.800029754638672, -3.497812509536743, 21.132139205932617, -1.4267692565917969, -2.9123876094818115, -50.414249420166016, 13.83476448059082, 23.26768684387207, 29.819236755371094, -43.896034240722656, -54.149986267089844, -56.36522674560547, -13.793612480163574, -14.259559631347656, -59.40000915527344, 40.814815521240234, 46.01072692871094, -21.624103546142578, -50.337005615234375, 36.93169021606445, 23.92034149169922, 1.1999037265777588, -55.297950744628906, -12.025773048400879, -33.23287582397461, 38.78605651855469, 3.422234058380127, -3.1052494049072266, 36.93113327026367, -31.67154884338379, -5.168344974517822, 22.082063674926758, 36.575130462646484, -11.904522895812988, -1.8009352684020996, 2.8095755577087402, -62.718379974365234, -46.6778450012207, -15.119608879089355, -18.550893783569336, -18.220979690551758, -16.82129669189453, -16.099580764770508, 32.11497497558594, 8.65391731262207, -10.599372863769531, -60.55491256713867, 13.806557655334473, -56.0407600402832, -15.908005714416504, -32.192440032958984, -3.709467649459839, -4.789520740509033, 26.373985290527344, -73.30674743652344, 12.083166122436523, 1.6872869729995728, -3.490145206451416, -50.80400085449219, -27.965967178344727, 55.75981521606445, -35.14635467529297, -54.0361442565918, 23.097318649291992, 15.987397193908691, -24.420862197875977, -6.899709224700928, -32.75611114501953, -37.406986236572266, -63.44773483276367, -3.3977131843566895, -28.840415954589844, -28.742712020874023, -29.742660522460938, -55.54315185546875, -37.93916320800781, 42.29444885253906, 10.623106002807617, -21.74653434753418, -12.154406547546387, 7.677948474884033, -11.083853721618652, 49.1847038269043, 15.330911636352539, -0.36053594946861267, 15.752551078796387, -13.407642364501953, -5.4259467124938965, 5.292296409606934, -10.765721321105957, 13.906744956970215, 18.530771255493164, -35.87165451049805, -41.057437896728516, 56.40897750854492, 20.090129852294922, 7.0144758224487305, 3.0795159339904785, -36.27751159667969, -60.77355194091797, 51.37914276123047, 31.60233497619629, -3.739964485168457, 8.588069915771484, 23.237268447875977, -2.602395534515381, 11.698410034179688, 8.523715019226074, -7.084947109222412, 12.441411018371582, 33.216712951660156, 11.251959800720215, 8.122523307800293, -11.62040901184082, 34.71324920654297, 31.89247703552246, 56.277740478515625, 4.440946578979492, 45.05670928955078, -8.541053771972656, -3.0026073455810547, -34.827911376953125, -12.027246475219727, -44.7323112487793, -1.24219810962677, 12.411561012268066, 33.51047897338867, 2.4777615070343018, -10.387450218200684, 11.955645561218262, 22.10935401916504, 23.705577850341797, 36.6587028503418, -11.720440864562988, 21.434093475341797, 7.3878092765808105, 48.04646301269531, 52.36684799194336, -47.25021743774414, 36.32701873779297, -57.59468460083008, -13.663228988647461, 0.5463096499443054, -5.540494441986084, -37.25877380371094, -38.76152038574219, -33.860633850097656, 5.288650989532471, -6.291092872619629, 10.044650077819824, -21.626420974731445, -47.92359924316406, 13.497262001037598, -29.681692123413086, -4.0379204750061035, -65.52435302734375, 2.814683675765991, -7.519259929656982, -19.898378372192383, -37.14166259765625, -54.29575729370117, 8.874271392822266, -52.3053092956543, -42.723533630371094, -45.239532470703125, 26.566043853759766, -54.9509162902832, -29.93558692932129, -34.529781341552734, -29.293371200561523, -53.317569732666016, -12.802562713623047, 29.733287811279297, -13.660655975341797, -6.094242095947266, -28.198043823242188, -0.24285946786403656, -50.55537414550781, -3.237213134765625, 9.185725212097168, 8.54028034210205, 7.117100715637207, -53.98013687133789, -28.926910400390625, 37.390708923339844, -23.845550537109375, -53.28931427001953, -53.984439849853516, 14.137688636779785, -53.21263885498047, 17.552736282348633, -4.843749523162842, -52.41748809814453, -38.98347473144531, -39.31986618041992, -47.120262145996094, -13.727252006530762, -24.9708251953125, 10.984878540039062, -25.00946617126465, -27.884502410888672, 50.31376647949219, -61.27626037597656, -20.137786865234375, -26.1077938079834, 25.447834014892578, -3.217149496078491, -51.83382797241211, -47.173641204833984, -52.69780349731445, 11.079524040222168, -0.9791167974472046, -3.3581833839416504, -16.489999771118164, 18.361581802368164, 28.827381134033203, 10.304658889770508, 56.2752799987793, -39.12612533569336, 8.81158447265625, 25.70145606994629, 11.546731948852539, 3.1580095291137695, 5.543914794921875, -57.70024108886719, 41.018550872802734, 30.173309326171875, -17.681053161621094, 16.163833618164062, 50.01050567626953, 15.958640098571777, 21.03545379638672, -19.26747703552246, 30.158227920532227, -24.636493682861328, 49.89632034301758, 49.96454620361328, -14.897066116333008, 1.0842621326446533, -28.25545310974121, 0.5352763533592224, 23.660640716552734, -1.6746670007705688, 51.07491683959961, -58.67640686035156, -60.01005554199219, -60.578392028808594, 13.74891185760498, -11.703495979309082, 10.801308631896973, 26.077024459838867, 8.064143180847168, -1.9434804916381836, -57.047203063964844, 18.685871124267578, 34.33241271972656, 26.978055953979492, 32.08649444580078, -13.870078086853027, 17.97532081604004, 4.6971516609191895, 5.381011486053467, 62.649574279785156, 39.42930603027344, 39.428924560546875, 29.509811401367188, 17.069957733154297, 51.605079650878906, 20.97457504272461, -14.750895500183105, 1.090558409690857, 39.60300064086914, 4.38179874420166, -23.566987991333008, -10.221616744995117, 40.6888427734375, 2.0424692630767822, 26.400766372680664, -11.779182434082031, 28.838083267211914, 2.6454854011535645, 26.456424713134766, 30.539093017578125, 14.428452491760254, 6.079224109649658, -19.601972579956055, -69.24970245361328, 28.266605377197266, 9.511345863342285, -29.822982788085938, 14.347272872924805, 16.16388702392578, 27.219690322875977, -29.81861686706543, -31.29479217529297, 14.02977466583252, -6.089707374572754, 4.21597146987915, -12.437150955200195, 13.917764663696289, 14.913721084594727, 14.107206344604492, -27.80884552001953, 26.97956657409668, -27.375289916992188, -11.269481658935547, -7.867318153381348, -29.792015075683594, -32.98255920410156, 63.32948684692383, 4.09639310836792, -4.914876937866211, 33.524417877197266, -62.06538391113281, -29.894794464111328, -5.914768695831299, 2.509099006652832, 8.42967700958252, 30.32054328918457, -23.24930191040039, -39.57685852050781, 58.75421905517578, -51.82887268066406, -22.03822898864746, 14.060717582702637, -5.33711051940918, 39.1298713684082, 4.97885799407959, 39.06336212158203, 25.406190872192383, -31.58732795715332, 23.977201461791992, 47.752750396728516, -67.15591430664062, -14.821369171142578, 23.896100997924805, -11.455669403076172, 8.023696899414062, 25.872854232788086, -63.501556396484375, 21.8387393951416, 36.448402404785156, -8.946853637695312, -19.332271575927734, -54.205467224121094, -66.39958953857422, 15.788666725158691, 2.0061864852905273, -15.629827499389648, -23.159589767456055, -60.98310470581055, 33.7674560546875, -57.55849838256836, -3.5957348346710205, -65.05807495117188, 24.532976150512695, -46.31890869140625, -4.0443434715271, 5.63697624206543, 13.402766227722168, -0.8960729837417603, -1.5271971225738525, -6.426305770874023, 10.130754470825195, 19.95291519165039, 16.03784942626953, -53.15840530395508, 33.198158264160156, -22.562963485717773, -53.18255615234375, 15.582597732543945, 4.739748954772949, 14.696969032287598, -10.02755355834961, 2.896916151046753, -2.4234158992767334, -9.406472206115723, -38.356136322021484, -58.07817077636719, 16.154916763305664, -50.79319763183594, -3.230563163757324, -61.09140396118164, -21.26390266418457, -6.088010787963867, 14.239007949829102, -9.02347469329834, -0.9925604462623596, -36.2379264831543, 10.212361335754395, -48.80938720703125, 15.966650009155273, 0.05025837570428848, 24.29047966003418, -15.559907913208008, 17.051517486572266, 5.209561347961426, 42.73618698120117, 45.15131759643555, 14.203624725341797, 6.118342399597168, 36.2336311340332, 11.445685386657715, 13.637206077575684, 34.297637939453125, 3.149583339691162, 2.7736570835113525, -40.01987838745117, 10.729846000671387, -63.22233200073242, -46.49515151977539, 40.04926300048828, 17.417449951171875, -31.93384552001953, 40.587120056152344, 17.787790298461914, -33.54656219482422, 5.795775890350342, -39.51662826538086, -15.168802261352539, -12.989812850952148, 26.938167572021484, -25.057205200195312, -36.6960563659668, -11.241397857666016, 39.14482879638672, 21.019786834716797, 39.64985656738281, -64.13184356689453, -9.283193588256836, 17.363298416137695, -41.280189514160156, 46.887420654296875, -66.09564971923828, -21.34383773803711, -30.247678756713867, -0.9072810411453247, -18.451231002807617, -28.28301239013672, -26.90714454650879, -1.2246686220169067, 31.295326232910156, -7.9452433586120605, 17.560718536376953, 15.628597259521484, 28.093223571777344, 21.124170303344727, -5.877838611602783, 36.2202033996582, 17.901336669921875, 27.4830265045166, 28.72102165222168, 10.665101051330566, -2.280625343322754, 29.406055450439453, 13.648792266845703, 7.01423454284668, 0.6453140377998352, 18.119779586791992, 18.104717254638672, -6.716491222381592, 27.10259437561035, -29.99553108215332, -34.20182418823242, -24.84650421142578, -21.08384132385254, 31.708087921142578, 21.16688346862793, -10.815563201904297, 22.40910530090332, 25.836915969848633, 15.021270751953125, -24.73200225830078, -17.81491470336914, -21.63637351989746, 27.7799129486084, 12.507208824157715, -72.47522735595703, 31.39293098449707, -7.435276985168457, -48.58254623413086, 2.7488150596618652, 15.72735595703125, 2.2260475158691406, -1.3376773595809937, -60.458984375, -35.93016052246094, 38.180824279785156, -17.791528701782227, -19.132549285888672, 14.886350631713867, -7.801391124725342, -31.692358016967773, -39.944515228271484, -52.40736389160156, 31.714324951171875, 28.396995544433594, 30.773452758789062, -15.20673656463623, -35.90452194213867, -14.578418731689453, -11.077484130859375, 27.94989013671875, -66.37186431884766, 11.402336120605469, 14.757278442382812, 4.222225666046143, -0.4547269940376282, 5.396268367767334, 52.19532012939453, 18.668397903442383, 26.70374870300293, 23.002370834350586, 5.838298797607422, 28.743343353271484, -29.41802978515625, -8.421717643737793, -13.532397270202637, 23.363605499267578, 6.201374053955078, -39.90800094604492, 6.4283528327941895, 20.92662239074707, 17.262062072753906, 4.701866149902344, 31.401165008544922, 18.562238693237305, 49.32913589477539, 15.047240257263184, -51.16750717163086, 17.172441482543945, -5.481915473937988, -46.8430061340332, -4.132180213928223, -24.018314361572266, -31.6057186126709, 42.84224319458008, 17.87852668762207, -62.98126220703125, 15.598464012145996, -58.565696716308594, -29.438156127929688, -20.206153869628906, -51.77442169189453, 28.001447677612305, 24.488435745239258, -7.911448955535889, 15.105246543884277, -11.503427505493164, -19.106670379638672, 30.678203582763672, 34.53257751464844, -1.6911404132843018, 19.92898178100586, -19.101049423217773, 5.543932914733887, 50.28944778442383, -39.8560905456543, 36.4542236328125, 26.1152400970459, 14.060471534729004, -5.4367194175720215, -17.495817184448242, -50.29643249511719, -0.5500105023384094, 28.8393497467041, 25.96943473815918, -38.65184783935547, 29.733976364135742, -17.59884262084961, -8.110063552856445, 9.204038619995117, -1.2629503011703491, -17.262731552124023, 1.2782379388809204, 17.679044723510742, 13.637275695800781, -5.709439277648926, -54.82945251464844, 14.5892333984375, 18.169870376586914, 44.20893859863281, -15.909890174865723, -36.40621566772461, 40.304100036621094, 30.604480743408203, -8.404842376708984, -23.695215225219727, 10.55975341796875, -56.584129333496094, 28.71038246154785, -11.863597869873047, -65.05254364013672, 12.647943496704102, 32.688350677490234, 3.050426959991455, -43.2297477722168, 18.576526641845703, -64.76054382324219, -18.484159469604492, 15.13026237487793, -0.15451249480247498, 10.368966102600098, 6.639001846313477, -66.12020111083984, -42.4289665222168, -43.4763298034668, 7.086694240570068, 11.883498191833496, -65.18602752685547, 0.7251488566398621, -18.873313903808594, -9.489681243896484, 25.131309509277344, 31.485857009887695, -19.998857498168945, 16.432880401611328, 39.616310119628906, -25.773473739624023, -26.7269344329834, 26.568824768066406, -7.648870468139648, -13.344133377075195, -47.57597732543945, 10.597743034362793, -29.468050003051758, 38.60087585449219, -56.42466354370117, 1.0880407094955444, 50.23166275024414, -39.636356353759766, 1.6642805337905884, 26.186904907226562, -25.22494125366211, -39.263755798339844, -34.964107513427734, -9.695857048034668, -0.030480273067951202, 17.42654037475586, 26.19879722595215, -33.110076904296875, -26.545679092407227, 20.22698402404785, -27.172462463378906, -51.45819854736328, -68.98263549804688, 46.169246673583984, -34.3007698059082, -20.42322540283203, -40.78565216064453, -28.73665428161621, 2.8142008781433105, -35.01321792602539, -0.9001340270042419, -19.871932983398438, -23.756519317626953, -17.861722946166992, -39.525508880615234, -43.851993560791016, -46.747711181640625, -67.74519348144531, 24.321496963500977, -34.38288497924805, 2.920125961303711, -29.75063133239746, -16.35061264038086, -43.896663665771484, -17.111059188842773, -37.915775299072266, 5.2116241455078125, 10.688365936279297, -18.976964950561523, -46.71615219116211, 8.458287239074707, -51.848960876464844, -11.277689933776855, -0.46516892313957214, -16.262802124023438, 3.149585247039795, -68.52227783203125, 45.94956588745117, 6.973991394042969, -66.21703338623047, -30.282297134399414, 20.90861701965332, -5.919060707092285, -25.246437072753906, -60.04481887817383, 3.634251594543457, 4.15335750579834, -61.01716232299805, 16.25449562072754, -24.70998191833496, -13.854231834411621, -49.05287551879883, -30.509204864501953, -8.803692817687988, -27.315406799316406, -14.875658988952637, 2.5089399814605713, -56.53749465942383, 24.111587524414062, -37.507911682128906, -40.793853759765625, -17.666399002075195, -32.866878509521484, 7.38519287109375, -20.181541442871094, -20.15846824645996, -23.202701568603516, -0.21985292434692383, -12.609627723693848, -33.04609680175781, 55.59988021850586, 12.54513931274414, -10.50763988494873, 18.95627784729004, -39.25098419189453, -23.957950592041016, 11.315309524536133, -31.383607864379883, -47.76948547363281, -12.762495994567871, 12.192817687988281, -0.6437181830406189, 16.636232376098633, 7.323453903198242, 9.621292114257812, -26.93968391418457, -6.334896087646484, -16.870290756225586, -34.18516159057617, -4.640554428100586, 20.9736385345459, 6.421939373016357, -16.88966941833496, 38.26987075805664, -3.3776066303253174, 30.60671615600586, 3.6926116943359375, 51.57394790649414, -11.388716697692871, 35.834224700927734, -14.351153373718262, -13.730778694152832, -14.904434204101562, -19.248497009277344, -16.47378158569336, -23.885725021362305, -15.555147171020508, -24.657062530517578, 12.400517463684082, -14.445843696594238, 16.517974853515625, -51.36345672607422, -26.708240509033203, -34.21641159057617, -39.06406021118164, 11.425267219543457, -35.57313537597656, 6.8354058265686035, 2.0145788192749023, -54.0449333190918, 20.862598419189453, 33.081298828125, 32.51291275024414, 21.79386329650879, 36.974952697753906, 18.75901222229004, 30.51780891418457, -50.38272476196289, 30.21954345703125, -47.321834564208984, 10.15536880493164, -21.38265037536621, 17.643314361572266, -10.635889053344727, -10.791219711303711, -5.355175018310547, 39.02907180786133, 10.51193618774414, -26.93968391418457, 34.88143539428711, 15.471342086791992, 34.12022018432617, 26.13684844970703, 13.397255897521973, -41.2953987121582, -0.1435278207063675, 15.301642417907715, -28.181493759155273, 36.49390411376953, -41.13380432128906, 47.1193733215332, -3.232560396194458, -7.89675235748291, 2.6352174282073975, -16.543041229248047, -37.41339874267578, 37.75537109375, 58.75371170043945, -5.609616756439209, -7.262227535247803, 15.72740364074707, 7.495767116546631, 23.367816925048828, 5.827395439147949, 14.628765106201172, 10.716192245483398, -24.572906494140625, -44.223121643066406, 7.055247783660889, -24.667409896850586, 8.10599136352539, -66.3343734741211, 11.609360694885254, 4.580925464630127, -41.08637619018555, 53.67417907714844, 13.113860130310059, 22.547155380249023, -2.252124071121216, 33.47703170776367, 4.26975679397583, -60.56669998168945, -26.297632217407227, -4.408915042877197, -2.209908962249756, -59.190555572509766, 23.193174362182617, 4.521347522735596, 18.045886993408203, 8.742034912109375, 2.1577274799346924, 37.9630241394043, -58.936485290527344, -15.467552185058594, 15.99600887298584, -62.893798828125, -6.40736198425293, -66.37873840332031, 0.24675863981246948, 23.1356143951416, 22.619596481323242, 19.094013214111328, -12.754762649536133, -47.05593490600586, 12.541316032409668, -35.78166198730469, -21.642330169677734, 13.445196151733398, -19.972490310668945, 2.989485025405884, -1.9551267623901367, 39.728336334228516, 8.829123497009277, 11.19491195678711, 33.61349105834961, 3.0361387729644775, 50.35966873168945, -51.98903274536133, -18.926973342895508, 31.109073638916016, -13.517997741699219, 1.4609452486038208, 39.043766021728516, -3.718425989151001, -12.964506149291992, 56.460693359375, -37.743141174316406, 30.13039779663086, 19.503353118896484, 10.67326831817627, 16.570043563842773, -68.52709197998047, 15.653199195861816, -1.5640418529510498, 14.10194206237793, 21.40215492248535, 32.24412155151367, 0.5569292306900024, -43.81197738647461, -7.468494892120361, 20.580276489257812, 23.275737762451172, 22.49761390686035, 6.391234874725342, -25.804807662963867, 3.666614532470703, 14.434162139892578, 2.2113161087036133, 26.218860626220703, 42.12474060058594, -17.5952205657959, 33.55498123168945, 16.088293075561523, 27.94780731201172, 24.126392364501953, 8.19198989868164, 27.992950439453125, -51.64356231689453, -50.746925354003906, -1.6918634176254272, 20.7894344329834, -35.95280456542969, 40.4000244140625, -17.41750717163086, 18.571195602416992, -17.14350128173828, -21.24370765686035, -63.46354675292969, 0.32790809869766235, -64.44120788574219, -2.6101794242858887, -19.868602752685547, -11.485618591308594, 7.754907131195068, 15.883927345275879, 9.989255905151367, 19.472890853881836, 21.418081283569336, 42.246788024902344, 32.5938606262207, 46.276084899902344, 4.911409854888916, -25.083234786987305, -31.5930118560791, 3.691767454147339, 50.634334564208984, 8.571706771850586, -0.32021626830101013, -11.104159355163574, -8.362935066223145, 37.415035247802734, 15.655484199523926, 42.448055267333984, -23.701589584350586, 11.45855712890625, 20.952877044677734, 48.06560516357422, 12.4808988571167, 26.439586639404297, -43.294273376464844, 31.842832565307617, 21.5882625579834, 30.98055076599121, 10.979533195495605, 22.60199546813965, -22.55988883972168, 11.553154945373535, 0.25058427453041077, -45.90678787231445, 9.13274097442627, 10.48859691619873, 11.592081069946289, 35.86968994140625, 8.06737995147705, 61.57557678222656, 16.671524047851562, -11.082296371459961, -1.9987558126449585, -55.201210021972656, 6.579338073730469, 3.827331781387329, 27.67996597290039, -32.3433837890625, -37.69211196899414, -1.6932293176651, -1.3892943859100342, 40.81511688232422, 16.954740524291992, 35.85124206542969, 8.449803352355957, 9.58436107635498, -48.683040618896484, -25.132034301757812, 19.65345001220703, -24.171518325805664, -0.020069289952516556, 20.48436164855957, -6.977782249450684, -3.6893210411071777, 14.949000358581543, -48.89907455444336, 28.675460815429688, 21.068355560302734, 21.445676803588867, 24.160545349121094, 23.52564811706543, 31.001047134399414, -15.112019538879395, -26.984773635864258, 32.16543960571289, 6.862757205963135, -10.740084648132324, -17.335529327392578, -42.584686279296875, -4.946966171264648, -29.035327911376953, 30.52663230895996, 50.40573501586914, 0.7560775876045227, 28.99232292175293, -33.52772521972656, -14.958473205566406, 15.34040641784668, 6.324126720428467, -21.59830665588379, -12.903717994689941, 6.629740238189697, -31.427085876464844, 9.37585163116455, -8.83608341217041, -56.64225769042969, 23.651569366455078, -0.45278048515319824, 11.606389045715332, 6.925107955932617, 35.86970901489258, -12.443438529968262, -20.74073028564453, 8.518537521362305, 23.502016067504883, -20.142208099365234, 36.35711669921875, 33.51509475708008, 11.447395324707031, 4.008058547973633, 30.625688552856445, -51.733375549316406, -38.516075134277344, -37.78868865966797, 30.098182678222656, 39.0806999206543, 5.057033538818359, 26.81683921813965, -40.51071548461914, -5.824935436248779, 12.569357872009277, 44.14881134033203, 28.035560607910156, 8.649518966674805, 2.178992509841919, -1.5346155166625977, 12.82953929901123, 7.161858081817627, 50.99446105957031, 30.456844329833984, 10.060739517211914, -7.270163059234619, 24.499897003173828, 19.895401000976562, 19.981870651245117, 39.66950988769531, -20.772401809692383, -0.43143853545188904, -42.61709213256836, -0.8330137133598328, -0.8153615593910217, 23.666372299194336, 16.215166091918945, 0.5433049201965332, -32.385292053222656, 33.33803939819336, -4.272150993347168, -40.0225830078125, 5.71837854385376, 42.77754211425781, -20.063980102539062, 27.227073669433594, 16.989727020263672, -16.53366470336914, 1.1952871084213257, -7.981915473937988, -26.3499755859375, 44.58060836791992, 43.14632797241211, -19.879432678222656, 43.451053619384766, -17.283557891845703, 9.234617233276367, 28.32638168334961, 19.636789321899414, 8.70634937286377, -35.56482696533203, 5.889203071594238, -27.428264617919922, 1.9199674129486084, 33.409027099609375, 20.122360229492188, 22.5739803314209, -4.55811071395874, -58.79689025878906, 53.6860466003418, -49.07714080810547, -15.934208869934082, -18.383983612060547, -14.06145191192627, 2.573183536529541, 12.371487617492676, 27.549264907836914, 14.804874420166016, -2.944077968597412, -7.692783355712891, -6.537412166595459, 25.60161018371582, 40.90827178955078, -9.569252014160156, -3.3015835285186768, 0.15129075944423676, 4.978404521942139, 20.477357864379883, 1.6031646728515625, 42.101078033447266, -18.417564392089844, 27.459897994995117, 3.744865894317627, 4.610222816467285, 37.318214416503906, -39.7430419921875, 6.470912933349609, -6.218738555908203, 5.574340343475342, -39.8746337890625, -41.29484558105469, 22.200227737426758, 25.18037223815918, 19.85771942138672, -27.98653221130371, -54.75784683227539, -39.37392807006836, -4.5883941650390625, -56.5965576171875, -6.574512481689453, 4.288679599761963, -58.12922668457031, 19.70624351501465, 4.794668674468994, 4.702602386474609, 59.07931137084961, 7.038104057312012, -27.11123275756836, 7.9981160163879395, -5.8023576736450195, -57.16135025024414, -27.749967575073242, 2.470327138900757, 0.16552092134952545, 2.0581414699554443, 38.074195861816406, 37.701541900634766, 56.398746490478516, 3.723649024963379, -31.52732276916504, -12.33537769317627, -14.343385696411133, -34.097084045410156, -33.408443450927734, 17.882648468017578, 33.109039306640625, 16.442489624023438, 37.2315788269043, -18.341089248657227, 11.4747953414917, 19.029157638549805, 12.659625053405762, -10.028301239013672, 8.501084327697754, -2.2256648540496826, -15.118925094604492, 24.36204719543457, 23.55489730834961, 36.01945877075195, 26.94965934753418, 5.462491035461426, -49.07252883911133, 22.615232467651367, -47.39639663696289, -39.71065139770508, -39.837127685546875, -47.93214416503906, -51.60709762573242, -49.134361267089844, 9.408123016357422, -47.539306640625, 14.010087966918945, -35.283599853515625, 12.8085355758667, 19.700115203857422, -51.379634857177734, -52.70655059814453, -51.57867431640625, -65.45549774169922, -11.343016624450684, 18.033042907714844, -9.520998001098633, 8.601469993591309, 32.87547302246094, 48.5101432800293, 8.448434829711914, 19.509191513061523, -26.690401077270508, 1.0985982418060303, -15.042247772216797, -26.7890682220459, -26.92213249206543, 19.861116409301758, -30.633647918701172, 42.826698303222656, -13.377533912658691, -2.7273852825164795, -70.15851593017578, 6.572434425354004, -51.97405242919922, 55.90009307861328, 21.550512313842773, 0.4501621127128601, 23.42061424255371, 4.819274425506592, -5.185520648956299, 15.018539428710938, 5.143673419952393, 8.632142066955566, -3.104130506515503, 39.066123962402344, -3.580491304397583, -18.0836238861084, 1.2801451683044434, -35.7572021484375, 20.970256805419922, -1.9384875297546387, -61.88844299316406, 21.79063606262207, -9.936348915100098, 26.02698516845703, -16.303409576416016, 32.148677825927734, 23.096435546875, 3.8159189224243164, 10.297110557556152, -7.703104496002197, -6.196097373962402, -38.98012161254883, -12.309822082519531, 14.329376220703125, -23.613910675048828, 7.311212539672852, -50.51217269897461, 55.60540008544922, -3.348909378051758, -12.740551948547363, -29.964271545410156, 3.185235023498535, -9.573344230651855, -46.75434494018555, -57.754920959472656, -11.698553085327148, -19.701831817626953, 14.825005531311035, 5.796470642089844, 12.949362754821777, -9.476036071777344, -18.759735107421875, -16.919944763183594, 9.51782512664795, 0.9368847608566284, 4.2775163650512695, -24.557212829589844, -23.189098358154297, -25.319374084472656, -47.58610534667969, -36.905826568603516, -0.7634240984916687, 38.9549446105957, 45.48406982421875, -5.4463300704956055, -9.95478343963623, -49.49974822998047, -52.23036193847656, -37.199031829833984, -53.1862907409668, 8.866961479187012, -27.885839462280273, -35.38152313232422, 21.6325626373291, 25.637710571289062, -51.77360153198242, -54.2493896484375, -3.0228092670440674, 3.5676791667938232, -16.490503311157227, 5.327266693115234, 31.07318687438965, 0.698899507522583, -35.407493591308594, 38.57146072387695, -19.099245071411133, 14.936084747314453, -24.10348129272461, 3.457720994949341, -3.5240654945373535, -21.460018157958984, 13.484450340270996, -8.793623924255371, 3.0738465785980225, 1.0413507223129272, -23.994062423706055, 6.401545524597168, -0.18632309138774872, -63.468116760253906, 58.05593490600586, -21.126596450805664, -12.649626731872559, 58.056514739990234, 8.71971607208252, -30.735206604003906, -14.727560043334961, -6.563937664031982, -14.813642501831055, -57.71600341796875, 7.446357727050781, 35.296165466308594, 37.21550369262695, 14.147031784057617, -7.194646835327148, -10.94095230102539, -52.313385009765625, 8.047426223754883, 6.123140335083008, -30.577791213989258, -15.742349624633789, 55.90642166137695, 27.229856491088867, -10.708388328552246, -10.033921241760254, -0.2829861044883728, -47.30765151977539, -52.71371078491211, 51.91822814941406, -42.08967590332031, -27.910783767700195, -23.188629150390625, -6.5379414558410645, -43.16331100463867, -43.32729721069336, -58.05939865112305, 41.44841766357422, -54.535518646240234, 40.73516082763672, -25.329715728759766, -33.39613723754883, -40.25847244262695, 26.869983673095703, -8.69770622253418, -14.414895057678223, 42.11183547973633, -49.146724700927734, 12.04922866821289, 31.737781524658203, -28.652433395385742, 0.113833948969841, -7.757767200469971, -6.490840911865234, -15.770111083984375, 47.34295654296875, -50.24165344238281, -41.50845718383789, 15.68808364868164, -15.27197265625, -5.210116863250732, 15.842260360717773, -14.204273223876953, 35.40823745727539, -19.78691864013672, 8.34225845336914, 9.986526489257812, 2.452169418334961, 22.55594825744629, -27.02212142944336, -23.098102569580078, -2.1223247051239014, 6.7202301025390625, -62.77745056152344, 0.524638295173645, -0.05619169399142265, -17.266069412231445, 37.666648864746094, 0.39903202652931213, 17.293031692504883, -31.77570343017578, 1.1701629161834717, 52.333038330078125, 39.44829559326172, 4.118831634521484, -12.873034477233887, 1.009745717048645, -12.44195556640625, -3.002469539642334, -51.26533889770508, -46.087886810302734, -40.36287307739258, -0.7034193277359009, -7.681013107299805, -7.888332843780518, 26.553974151611328, 13.04349422454834, 30.398311614990234, 3.9649486541748047, 8.026687622070312, 32.62409973144531, -29.22743034362793, -30.872325897216797, 7.222921371459961, -64.99073028564453, 15.414224624633789, 45.89215850830078, -1.4371241331100464, 5.5582966804504395, -3.1362855434417725, -39.91194152832031, -37.56592559814453, -12.259588241577148, 46.9146728515625, -2.3252174854278564, -24.419971466064453, 17.12664031982422, -47.05324935913086, -58.04106903076172, 53.68757629394531, 21.3083438873291, -11.09306526184082, 6.106344699859619, -1.845075249671936, -20.5140438079834, 9.295148849487305, -17.339879989624023, -30.30672836303711, -3.1127395629882812, -15.099525451660156, 15.843742370605469, 4.243226528167725, -17.493989944458008, 41.748233795166016, 13.812265396118164, 17.33768081665039, 4.29692268371582, 13.124750137329102, 0.31807035207748413, 4.501927852630615, 9.79399585723877, 24.818675994873047, 26.395458221435547, 2.6248412132263184, -38.23038101196289, 46.49653625488281, -10.743510246276855, 2.4192848205566406, 27.237764358520508, 43.482261657714844, 44.6124382019043, -1.8410401344299316, 13.593518257141113, -55.029056549072266, 11.28869915008545, 14.018088340759277, -4.15024471282959, 26.246702194213867, 25.117456436157227, -15.261280059814453, -16.654550552368164, -24.821514129638672, 10.11380672454834, 42.69977951049805, 2.2042744159698486, 4.179792881011963, -45.745182037353516, -2.9459521770477295, 16.992137908935547, 10.63872241973877, -10.38000774383545, -2.217496633529663, 19.592628479003906, 15.764291763305664, 12.178972244262695, 32.98368835449219, 26.253509521484375, -3.9401936531066895, 10.591238021850586, 5.06589412689209, -21.33159828186035, 23.725391387939453, -11.397893905639648, 13.895866394042969, 12.782783508300781, 2.0815629959106445, -4.064418792724609, -26.666357040405273, 11.394206047058105, -11.2528657913208, -39.03911209106445, 7.967528820037842, 19.539403915405273, -33.20310974121094, -10.768299102783203, 10.767664909362793, 9.804396629333496, 11.915271759033203, -18.53631019592285, 30.654800415039062, 5.029858589172363, 35.051509857177734, 33.41621017456055, 30.317655563354492, -6.819180011749268, -14.618813514709473, 45.98419952392578, -18.11203384399414, -1.8410176038742065, -1.0224730968475342, -0.03658613562583923, 35.497135162353516, -61.2257080078125, 23.395965576171875, -34.72788619995117, 17.25193214416504, -32.44268798828125, -6.0243916511535645, -55.385799407958984, -3.2019453048706055, 31.374418258666992, 2.153818368911743, 19.4504337310791, 7.903975963592529, -17.336456298828125, -49.365516662597656, -37.26951217651367, 18.912336349487305, 18.44328498840332, -42.261329650878906, -68.98226928710938, 29.78957176208496, 25.490001678466797, -13.100552558898926, -53.59453201293945, -52.986412048339844, -41.3450927734375, -55.34944534301758, -4.503022193908691, -43.627845764160156, -47.089847564697266, -16.49123764038086, -19.508304595947266, 28.450105667114258, -13.271896362304688, 21.869447708129883, 30.548070907592773, -42.33631134033203, 9.773802757263184, -29.888742446899414, -20.74882698059082, 0.6217802166938782, -25.741697311401367, -22.66864013671875, -58.48738098144531, 14.045258522033691, -54.81306457519531, -22.950376510620117, -26.108489990234375, -46.32514190673828, 19.22907829284668, -21.81897735595703, 20.443572998046875, 28.766244888305664, 48.04646301269531, 51.80135726928711, -44.348445892333984, 62.649600982666016, -7.340553283691406, 0.8231426477432251, 9.500531196594238, 7.7451605796813965, -52.904563903808594, 7.497342586517334, -1.5727872848510742, 22.895517349243164, 23.589160919189453, -18.43498992919922, -12.510407447814941, 25.982913970947266, -16.05756950378418, -66.69115447998047, -54.27741622924805, -54.318626403808594, -3.2713961601257324, -36.47377395629883, -40.73984146118164, 27.200138092041016, -22.38859748840332, 1.7730122804641724, -14.530534744262695, 5.535677909851074, -10.640120506286621, 4.739469528198242, 53.39015579223633, -31.718534469604492, -10.73914623260498, 44.287940979003906, 5.676740646362305, 21.413698196411133, -1.965651512145996, -1.3169182538986206, -7.064743518829346, 11.538429260253906, -15.543807029724121, 6.415978908538818, -23.572128295898438, -9.843341827392578, -35.50596618652344, -35.66730880737305, 16.97745132446289, 45.034584045410156, 10.739974975585938, -20.711366653442383, 3.5949738025665283, -35.40037155151367, 8.912162780761719, -30.923730850219727, 25.67676544189453, 52.6139030456543, -4.096346855163574, -29.411758422851562, -20.343887329101562, -20.737937927246094, 38.4662971496582, 26.233705520629883, -31.186901092529297, -11.994808197021484, -47.384979248046875, -18.592369079589844, 11.710050582885742, 12.531786918640137, 30.85374641418457, 5.625307559967041, 6.585760593414307, -14.39065933227539, 28.830242156982422, 33.412879943847656, 31.761838912963867, 18.29615592956543, -6.055568218231201, 13.565335273742676, -34.52745056152344, -2.807722568511963, 11.047722816467285, 23.529647827148438, 16.07185935974121, 23.95600700378418, 8.732604026794434, 40.49177551269531, 11.206649780273438, 13.580099105834961, 17.20134735107422, 27.208229064941406, -36.717891693115234, 37.19328689575195, 15.373164176940918, -4.975556373596191, 0.8910874128341675, 4.325928211212158, -35.4803466796875, 30.02802848815918, 17.349557876586914, -19.74565887451172, 17.429628372192383, -0.42048409581184387, -36.39967727661133, -36.73057556152344, -0.05901153385639191, 35.317378997802734, -10.44725513458252, 14.502542495727539, -51.61506652832031, 61.53562927246094, -15.385875701904297, 25.667861938476562, 9.88870906829834, -19.520862579345703, -31.923725128173828, -16.579360961914062, 12.752355575561523, -21.102344512939453, -14.05927562713623, 16.458139419555664, -54.914588928222656, 21.110980987548828, 25.709531784057617, 7.869987964630127, 1.6972272396087646, -12.303238868713379, 9.98373794555664, 25.072729110717773, -13.35352897644043, 13.153834342956543, 0.5902785658836365, -8.070340156555176, -19.195892333984375, -10.960660934448242, 20.387048721313477, -32.305625915527344, 34.406272888183594, -55.42775344848633, 9.521051406860352, 29.55779266357422, -38.81718826293945, 19.976165771484375, -27.876375198364258, -30.143720626831055, -43.788848876953125, 46.18090057373047, -1.5802242755889893, 19.695873260498047, -40.3041877746582, 9.075360298156738, 43.57168197631836, -19.221424102783203, -9.757528305053711, -18.035194396972656, 30.377485275268555, -52.84654998779297, -26.779876708984375, -26.682531356811523, 13.74978256225586, -3.6300559043884277, -14.894457817077637, -23.58751678466797, -23.178537368774414, -4.946479320526123, -46.92258071899414, -28.909975051879883, 46.31671142578125, -1.995209813117981, -41.134521484375, -54.982303619384766, -18.453777313232422, 22.199176788330078, -14.240038871765137, -44.40170669555664, 15.153684616088867, -51.14218521118164, -54.12968444824219, -5.359071731567383, -55.620330810546875, 42.295928955078125, -19.379505157470703, 36.23735427856445, -49.462310791015625, 20.23629379272461, 20.226457595825195, -13.638969421386719, -39.00008773803711, 14.955182075500488, 16.61665153503418, 36.86326599121094, 43.821590423583984, 43.82322311401367, -13.415539741516113, -49.22054672241211, 5.173193454742432, -30.292848587036133, -64.1351089477539, 36.36343765258789, -8.474320411682129, 48.663394927978516, -10.778289794921875, -59.40000915527344, -24.914438247680664, -5.532257080078125, -60.04477310180664, 25.447755813598633, 28.29232406616211, -52.11438751220703, -30.5033016204834, -11.295021057128906, -35.061885833740234, -7.052652835845947, -15.832245826721191, 42.77400588989258, 26.766733169555664, 7.393730163574219, 16.81645393371582, -5.4807658195495605, -8.108227729797363, -58.076778411865234, 7.309958457946777, -35.653709411621094, 2.7085790634155273, -16.062658309936523, -12.640196800231934, -23.019046783447266, 8.084755897521973, 1.732385516166687, -53.3016242980957, 19.018396377563477, 3.2654776573181152, 8.228118896484375, 21.717023849487305, 17.951709747314453, -8.060341835021973, -7.68447208404541, -20.16817283630371, 10.65384292602539, 2.708460569381714, 1.3411905765533447, 19.26469612121582, -18.562414169311523, -5.430388450622559, 19.472627639770508, 32.247249603271484, 11.41695785522461, 15.334126472473145, -50.13771057128906, 13.699363708496094, -49.90831756591797, 20.479106903076172, 32.106529235839844, 41.67340850830078, -4.091792106628418, 23.373205184936523, -31.93384552001953, -54.1839485168457, -5.479325294494629, -56.18216323852539, 28.65778923034668, 1.212648868560791, 18.22008514404297, 2.1554758548736572, -48.91426467895508, -55.267738342285156, 33.10354232788086, -13.132535934448242, 27.093624114990234, -50.73607635498047, 34.528175354003906, -50.608009338378906, -3.0789220333099365, -35.110191345214844, -35.681453704833984, -17.301721572875977, -18.929893493652344, -15.26966667175293, -10.724672317504883, -49.93358612060547, -38.36520767211914, -34.980045318603516, -5.265081882476807, 8.370348930358887, -28.487537384033203, 22.844444274902344, 25.46738052368164, -3.617293119430542, 23.584402084350586, 40.64153289794922, -4.536197185516357, -5.129138469696045, 51.00129318237305, -7.142063617706299, 39.726539611816406, -40.076377868652344, -14.128458023071289, 26.40506362915039, 11.968146324157715, -32.69228744506836, -49.2887077331543, -43.94903564453125, 14.216699600219727, -26.909181594848633, -14.23192024230957, -12.869684219360352, 5.793300151824951, -26.27191925048828, -8.020870208740234, -12.329316139221191, -28.80223274230957, -32.2093391418457, -2.076992988586426, -8.950416564941406, 10.711273193359375, -16.35662078857422, -54.03386306762695, -53.99330520629883, 19.969619750976562, 39.74954605102539, 29.397737503051758, 42.827728271484375, -1.2667431831359863, 17.83219337463379, -5.780213832855225, -19.279664993286133, -3.8135406970977783, -1.7243962287902832, 9.95475959777832, 19.813688278198242, 11.639341354370117, 53.64716720581055, -1.1225793361663818, -24.454641342163086, -0.6838733553886414, -2.0652661323547363, 6.849944591522217, -19.979175567626953, 3.141439199447632, 10.212039947509766, 14.112954139709473, 9.342025756835938, -19.512155532836914, -25.000839233398438, -5.301021099090576, -47.5557746887207, -19.24186897277832, 26.775501251220703, -16.797855377197266, 60.00526428222656, 55.956756591796875, 11.668442726135254, -26.06600570678711, 6.634068965911865, -4.9860148429870605, 13.377433776855469, -4.407557964324951, 3.2200396060943604, -13.2553129196167, 36.46644973754883, 44.53984832763672, -43.48285675048828, -23.762939453125, -29.930700302124023, 43.989959716796875, 4.913631439208984, -16.051836013793945, 7.2440667152404785, -2.666680335998535, 4.295948028564453, -10.247025489807129, -7.144442081451416, 20.49040412902832, -29.414833068847656, -24.00436019897461, 19.383220672607422, 7.252513408660889, -20.916522979736328, -15.242714881896973, 5.442927360534668, -23.602540969848633, -1.9099390506744385, 46.149105072021484, 16.92294692993164, -17.30158805847168, -13.338075637817383, -17.34527015686035, 11.50800609588623, -26.54348373413086, 22.530105590820312, -3.7833492755889893, 10.643891334533691, -35.18751907348633, -45.367401123046875, 22.79708480834961, -8.05807113647461, 0.5766284465789795, 30.841278076171875, 15.095573425292969, 25.7242488861084, 14.620345115661621, -0.13044898211956024, -18.25397300720215, 8.467369079589844, -39.394500732421875, -17.21369171142578, 5.076963901519775, 3.6851959228515625, 5.6143574714660645, 16.88456916809082, 2.651906728744507, 14.502542495727539, -0.17146973311901093, -15.742044448852539, 25.40593147277832, 61.53516387939453, 6.923714637756348, 12.048527717590332, 13.977986335754395, 34.38093948364258, -3.889988422393799, -33.87367630004883, 11.05924129486084, -15.552062034606934, -34.64751434326172, 38.89439392089844, -17.91001319885254, -21.297245025634766, -29.46250343322754, -8.61411190032959, -37.50712585449219, -17.4873104095459, -6.0653510093688965, -33.17521667480469, 17.958450317382812, -30.00074577331543, -3.838212490081787, -27.40913200378418, -30.05164337158203, 7.903306484222412, 3.270040988922119, -2.7470169067382812, -12.547162055969238, -59.81355285644531, 39.146419525146484, -23.131589889526367, -26.828344345092773, -1.6519744396209717, 22.779531478881836, -47.08566665649414, -59.585994720458984, -43.59127426147461, -44.017330169677734, 21.96780014038086, -7.695476531982422, 15.61865234375, 14.075249671936035, 33.962127685546875, 21.335453033447266, -45.86726379394531, 43.467594146728516, 20.391145706176758, 34.8814697265625, 7.882412433624268, -64.01326751708984, 12.064452171325684, 11.6306791305542, -3.4067366123199463, 47.486083984375, -10.018003463745117, 44.58810043334961, 6.577076435089111, 41.18816375732422, 2.830467462539673, 21.854944229125977, -14.292102813720703, -12.531454086303711, -13.754987716674805, 47.488773345947266, 60.005767822265625, -17.920024871826172, 0.5895776748657227, 11.534579277038574, -6.791843891143799, 2.1375226974487305, -20.83991050720215, -13.510212898254395, -14.804071426391602, 24.37459373474121, -0.9875669479370117, -36.43397903442383, -31.5794734954834, -8.046141624450684, -2.7251644134521484, -23.92128562927246, 13.361745834350586, 21.193307876586914, -26.81150245666504, -17.939409255981445, 2.0052061080932617, 11.319262504577637, 33.135921478271484, -22.26767349243164, -53.90848159790039, -10.05788516998291, 26.64383316040039, 9.579991340637207, -7.368341445922852, 33.252620697021484, 19.53978729248047, -15.842239379882812, 28.756494522094727, -25.69072151184082, -38.806251525878906, -42.60338592529297, 7.0165696144104, 0.3427082896232605, -10.785786628723145, 16.195898056030273, -8.832399368286133, -14.29010009765625, 6.869034767150879, 48.101890563964844, -36.8271369934082, 34.38348388671875, -9.227980613708496, -32.887081146240234, -2.6020901203155518, 51.70105743408203, -12.034589767456055, -28.65277099609375, 9.182050704956055, 41.30089569091797, -14.241737365722656, 46.462242126464844, 24.88087272644043, 18.642044067382812, 4.488363742828369, 9.707600593566895, -17.136598587036133, 11.883617401123047, -23.62775230407715, -51.55133819580078, 39.21272277832031, 52.317813873291016, 13.638996124267578, -43.10323715209961, 4.31902551651001, -56.190834045410156, 41.37821960449219, 22.814577102661133, 0.9614802598953247, -47.13663101196289, -17.869937896728516, -43.933799743652344, 2.561354875564575, 4.230684280395508, 44.150306701660156, -49.635536193847656, -13.046171188354492, -72.8309097290039, 41.04347229003906, -18.937639236450195, 27.84099769592285, 40.97838592529297, 49.59617233276367, -47.042911529541016, 24.78853988647461, -3.064429759979248, 0.09324755519628525, -1.0269793272018433, 21.58893394470215, 21.72295379638672, -2.275869846343994, 20.954208374023438, -38.36339569091797, -2.33504319190979, -1.9496396780014038, -1.5361874103546143, -35.85329818725586, -21.743799209594727, -21.318689346313477, -29.986225128173828, 13.382521629333496, -22.74422836303711, -46.71030807495117, 28.489805221557617, 10.214137077331543, -46.32353210449219, 9.872775077819824, -14.80408000946045, -40.976985931396484, 19.326311111450195, 21.29408836364746, 10.547643661499023, 55.86466598510742, 3.2117137908935547, -32.32762908935547, 1.0103273391723633, 1.3455729484558105, 1.2874199151992798, 23.292320251464844, 28.831836700439453, -8.88746452331543, -40.51820373535156, 5.466485023498535, 40.45654296875, 6.865063190460205, -37.93917465209961, -24.20451545715332, -11.65383243560791, -16.358856201171875, 12.083246231079102, -23.58485221862793, 18.294313430786133, -14.852407455444336, -8.145055770874023, 25.02430534362793, -29.61501693725586, 29.69890785217285, 41.34782791137695, 23.176265716552734, 54.45233917236328, 44.35079574584961, 38.19369888305664, -22.249881744384766, -20.405420303344727, -24.32188606262207, -26.182861328125, -26.717588424682617, 9.614937782287598, -60.48487854003906, 25.521549224853516, 23.310754776000977, 13.638777732849121, 18.76275634765625, -58.1490478515625, -2.4250009059906006, 24.085359573364258, 15.168428421020508, -3.41271710395813, 0.7293997406959534, 51.896148681640625, -10.955049514770508, 23.61780548095703, -62.64292526245117, -53.55176544189453, -51.31112289428711, -24.53466033935547, 56.84263610839844, 6.065873146057129, 4.7564568519592285, -7.429771900177002, 50.36199188232422, -42.98154830932617, -33.88743209838867, -18.921842575073242, 28.796194076538086, 1.0969287157058716, -39.15742874145508, 11.839017868041992, 6.405362606048584, 0.8089865446090698, -60.89633560180664, 53.63896942138672, -20.281673431396484, 29.296245574951172, 9.969619750976562, 43.063358306884766, -30.219512939453125, -5.055054187774658, 39.82115936279297, -53.651710510253906, 40.23627853393555, 22.675918579101562, -43.69182205200195, 8.965079307556152, 15.800432205200195, -6.543683052062988, -18.257465362548828, -23.237022399902344, 13.801121711730957, -1.5469814538955688, -22.0012264251709, -15.753340721130371, -22.00665283203125, -46.673614501953125, -21.13711929321289, -23.749380111694336, -35.84481430053711, 10.092903137207031, 28.81925392150879, 2.848419666290283, 17.05200958251953, -36.91316604614258, -35.32384490966797, 15.769811630249023, -36.18609619140625, -36.44121551513672, -36.56321716308594, 26.657737731933594, -50.519264221191406, -52.1403923034668, -2.410069227218628, 36.48728942871094, 19.982799530029297, 6.552624702453613, 9.47706413269043, 14.807673454284668, 3.58605694770813, -21.693981170654297, 19.951648712158203, 4.840365886688232, -4.641073703765869, -18.466083526611328, -1.3121049404144287, 10.332930564880371, 28.051353454589844, -18.927364349365234, -21.596431732177734, 44.34794616699219, 26.88676643371582, -10.879759788513184, 24.55589485168457, -2.9805033206939697, 9.137140274047852, -18.87110137939453, -46.49412536621094, 38.075340270996094, 17.901927947998047, -57.80234909057617, 14.014228820800781, -24.219696044921875, -21.80332374572754, -8.879972457885742, 26.614662170410156, 2.014915943145752, 20.989395141601562, -43.489234924316406, -11.782256126403809, -61.73541259765625, -18.965606689453125, -19.879776000976562, 12.84900188446045, 34.09504318237305, -17.006649017333984, -39.3969612121582, 4.370769500732422, -5.053466796875, -20.001646041870117, -14.204092979431152, -22.991548538208008, -38.91148376464844, -30.25571632385254, 24.367921829223633, 14.83996868133545, -46.09100341796875, -70.15856170654297, 49.07809066772461, 43.22934341430664, -4.961805820465088, 44.859256744384766, -2.7989916801452637, -9.879857063293457, -31.63597869873047, 33.60586166381836, -2.728118896484375, 6.467373371124268, 24.52566909790039, -15.180018424987793, -19.9495849609375, -5.4188923835754395, -22.055267333984375, 23.009231567382812, -46.44309997558594, -54.74886703491211, -22.71247673034668, 14.284852027893066, -32.85539627075195, 2.8431460857391357, 24.647865295410156, 4.648346900939941, -52.37650680541992, 45.99516296386719, 3.0448291301727295, -29.569686889648438, 21.395402908325195, -7.203220844268799, -5.371140003204346, 28.742630004882812, 36.15187454223633, -20.102357864379883, 5.864327430725098, -5.061028480529785, 22.440263748168945, 44.200653076171875, 32.294960021972656, 36.08517074584961, -37.24463653564453, 36.08525848388672, -5.798765659332275, -13.258527755737305, 3.369061231613159, 16.94768714904785, -1.016274094581604, 21.349699020385742, 21.13634490966797, -6.898753643035889, 19.892520904541016, -33.819766998291016, 2.1575636863708496, -5.010892868041992, -9.96501636505127, -0.020202642306685448, -9.244749069213867, -17.983489990234375, 26.93343162536621, -4.797529220581055, 30.145963668823242, 21.943206787109375, 13.252442359924316, 47.84003829956055, 40.15311813354492, -4.512667655944824, 26.695999145507812, 9.909737586975098, 15.21456241607666, -11.080606460571289, 25.588685989379883, 5.2996087074279785, -13.370872497558594, 29.456233978271484, 1.3342455625534058, -4.844073295593262, 36.90773010253906, -9.997785568237305, 19.456607818603516, 56.43265151977539, 34.64080047607422, 11.626227378845215, 13.585328102111816, -14.639521598815918, -8.158845901489258, -44.94929885864258, 18.331327438354492, 7.610539436340332, -49.951656341552734, 7.020285606384277, 2.900007724761963, 46.0167236328125, 31.12084197998047, -5.465995788574219, -3.624896764755249, 17.19065284729004, -45.79672622680664, -18.12026023864746, -7.991763591766357, -4.915461540222168, 39.21274185180664, 9.091784477233887, 6.039979934692383, 8.815730094909668, -25.69455337524414, -25.144794464111328, -25.648059844970703, -4.680477619171143, 35.74310302734375, 4.193258762359619, -14.378517150878906, 6.751778602600098, -5.637671947479248, -43.29446792602539, 3.112539052963257, 17.597890853881836, -18.31264877319336, -10.096390724182129, -2.5871338844299316, -3.396530866622925, -19.998491287231445, -17.919139862060547, -0.9382070899009705, 51.747806549072266, 23.146461486816406, -18.95274543762207, -5.259711265563965, 26.079681396484375, 0.6377415060997009, -7.2818450927734375, -0.2192268967628479, 20.71127700805664, -1.512194275856018, 4.121426582336426, -10.994523048400879, 37.9230842590332, -9.811519622802734, 38.90102767944336, -14.19930648803711, 6.019747734069824, 23.5963191986084, 18.409643173217773, -35.71849060058594, -47.773590087890625, -4.988888263702393, 37.828269958496094, 17.26640510559082, 2.7761759757995605, 34.61788558959961, -18.880035400390625, 4.579039573669434, -5.925301551818848, 5.169551849365234, -38.598087310791016, 33.41220474243164, -53.54106140136719, 28.210229873657227, -58.62731170654297, -56.515228271484375, -51.12556838989258, 8.610648155212402, 3.449023485183716, -12.80241584777832, -20.792055130004883, 2.9125537872314453, 1.9248641729354858, -24.08920669555664, 0.22608742117881775, 35.751625061035156, -9.995397567749023, -10.979959487915039, 29.679475784301758, 34.36762237548828, -16.87923812866211, 26.03971290588379, -44.74623489379883, -49.84164047241211, 19.70326042175293, 27.559553146362305, -34.46189880371094], \"yaxis\": \"y\"}],\n",
              "                        {\"coloraxis\": {\"colorbar\": {\"title\": {\"text\": \"color\"}}, \"colorscale\": [[0.0, \"#0d0887\"], [0.1111111111111111, \"#46039f\"], [0.2222222222222222, \"#7201a8\"], [0.3333333333333333, \"#9c179e\"], [0.4444444444444444, \"#bd3786\"], [0.5555555555555556, \"#d8576b\"], [0.6666666666666666, \"#ed7953\"], [0.7777777777777778, \"#fb9f3a\"], [0.8888888888888888, \"#fdca26\"], [1.0, \"#f0f921\"]]}, \"legend\": {\"tracegroupgap\": 0}, \"margin\": {\"t\": 60}, \"template\": {\"data\": {\"bar\": [{\"error_x\": {\"color\": \"#2a3f5f\"}, \"error_y\": {\"color\": \"#2a3f5f\"}, \"marker\": {\"line\": {\"color\": \"#E5ECF6\", \"width\": 0.5}}, \"type\": \"bar\"}], \"barpolar\": [{\"marker\": {\"line\": {\"color\": \"#E5ECF6\", \"width\": 0.5}}, \"type\": \"barpolar\"}], \"carpet\": [{\"aaxis\": {\"endlinecolor\": \"#2a3f5f\", \"gridcolor\": \"white\", \"linecolor\": \"white\", \"minorgridcolor\": \"white\", \"startlinecolor\": \"#2a3f5f\"}, \"baxis\": {\"endlinecolor\": \"#2a3f5f\", \"gridcolor\": \"white\", \"linecolor\": \"white\", \"minorgridcolor\": \"white\", \"startlinecolor\": \"#2a3f5f\"}, \"type\": \"carpet\"}], \"choropleth\": [{\"colorbar\": {\"outlinewidth\": 0, \"ticks\": \"\"}, \"type\": \"choropleth\"}], \"contour\": [{\"colorbar\": {\"outlinewidth\": 0, \"ticks\": \"\"}, \"colorscale\": [[0.0, \"#0d0887\"], [0.1111111111111111, \"#46039f\"], [0.2222222222222222, \"#7201a8\"], [0.3333333333333333, \"#9c179e\"], [0.4444444444444444, \"#bd3786\"], [0.5555555555555556, \"#d8576b\"], [0.6666666666666666, \"#ed7953\"], [0.7777777777777778, \"#fb9f3a\"], [0.8888888888888888, \"#fdca26\"], [1.0, \"#f0f921\"]], \"type\": \"contour\"}], \"contourcarpet\": [{\"colorbar\": {\"outlinewidth\": 0, \"ticks\": \"\"}, \"type\": \"contourcarpet\"}], \"heatmap\": [{\"colorbar\": {\"outlinewidth\": 0, \"ticks\": \"\"}, \"colorscale\": [[0.0, \"#0d0887\"], [0.1111111111111111, \"#46039f\"], [0.2222222222222222, \"#7201a8\"], [0.3333333333333333, \"#9c179e\"], [0.4444444444444444, \"#bd3786\"], [0.5555555555555556, \"#d8576b\"], [0.6666666666666666, \"#ed7953\"], [0.7777777777777778, \"#fb9f3a\"], [0.8888888888888888, \"#fdca26\"], [1.0, \"#f0f921\"]], \"type\": \"heatmap\"}], \"heatmapgl\": [{\"colorbar\": {\"outlinewidth\": 0, \"ticks\": \"\"}, \"colorscale\": [[0.0, \"#0d0887\"], [0.1111111111111111, \"#46039f\"], [0.2222222222222222, \"#7201a8\"], [0.3333333333333333, \"#9c179e\"], [0.4444444444444444, \"#bd3786\"], [0.5555555555555556, \"#d8576b\"], [0.6666666666666666, \"#ed7953\"], [0.7777777777777778, \"#fb9f3a\"], [0.8888888888888888, \"#fdca26\"], [1.0, \"#f0f921\"]], \"type\": \"heatmapgl\"}], \"histogram\": [{\"marker\": {\"colorbar\": {\"outlinewidth\": 0, \"ticks\": \"\"}}, \"type\": \"histogram\"}], \"histogram2d\": [{\"colorbar\": {\"outlinewidth\": 0, \"ticks\": \"\"}, \"colorscale\": [[0.0, \"#0d0887\"], [0.1111111111111111, \"#46039f\"], [0.2222222222222222, \"#7201a8\"], [0.3333333333333333, \"#9c179e\"], [0.4444444444444444, \"#bd3786\"], [0.5555555555555556, \"#d8576b\"], [0.6666666666666666, \"#ed7953\"], [0.7777777777777778, \"#fb9f3a\"], [0.8888888888888888, \"#fdca26\"], [1.0, \"#f0f921\"]], \"type\": \"histogram2d\"}], \"histogram2dcontour\": [{\"colorbar\": {\"outlinewidth\": 0, \"ticks\": \"\"}, \"colorscale\": [[0.0, \"#0d0887\"], [0.1111111111111111, \"#46039f\"], [0.2222222222222222, \"#7201a8\"], [0.3333333333333333, \"#9c179e\"], [0.4444444444444444, \"#bd3786\"], [0.5555555555555556, \"#d8576b\"], [0.6666666666666666, \"#ed7953\"], [0.7777777777777778, \"#fb9f3a\"], [0.8888888888888888, \"#fdca26\"], [1.0, \"#f0f921\"]], \"type\": \"histogram2dcontour\"}], \"mesh3d\": [{\"colorbar\": {\"outlinewidth\": 0, \"ticks\": \"\"}, \"type\": \"mesh3d\"}], \"parcoords\": [{\"line\": {\"colorbar\": {\"outlinewidth\": 0, \"ticks\": \"\"}}, \"type\": \"parcoords\"}], \"pie\": [{\"automargin\": true, \"type\": \"pie\"}], \"scatter\": [{\"marker\": {\"colorbar\": {\"outlinewidth\": 0, \"ticks\": \"\"}}, \"type\": \"scatter\"}], \"scatter3d\": [{\"line\": {\"colorbar\": {\"outlinewidth\": 0, \"ticks\": \"\"}}, \"marker\": {\"colorbar\": {\"outlinewidth\": 0, \"ticks\": \"\"}}, \"type\": \"scatter3d\"}], \"scattercarpet\": [{\"marker\": {\"colorbar\": {\"outlinewidth\": 0, \"ticks\": \"\"}}, \"type\": \"scattercarpet\"}], \"scattergeo\": [{\"marker\": {\"colorbar\": {\"outlinewidth\": 0, \"ticks\": \"\"}}, \"type\": \"scattergeo\"}], \"scattergl\": [{\"marker\": {\"colorbar\": {\"outlinewidth\": 0, \"ticks\": \"\"}}, \"type\": \"scattergl\"}], \"scattermapbox\": [{\"marker\": {\"colorbar\": {\"outlinewidth\": 0, \"ticks\": \"\"}}, \"type\": \"scattermapbox\"}], \"scatterpolar\": [{\"marker\": {\"colorbar\": {\"outlinewidth\": 0, \"ticks\": \"\"}}, \"type\": \"scatterpolar\"}], \"scatterpolargl\": [{\"marker\": {\"colorbar\": {\"outlinewidth\": 0, \"ticks\": \"\"}}, \"type\": \"scatterpolargl\"}], \"scatterternary\": [{\"marker\": {\"colorbar\": {\"outlinewidth\": 0, \"ticks\": \"\"}}, \"type\": \"scatterternary\"}], \"surface\": [{\"colorbar\": {\"outlinewidth\": 0, \"ticks\": \"\"}, \"colorscale\": [[0.0, \"#0d0887\"], [0.1111111111111111, \"#46039f\"], [0.2222222222222222, \"#7201a8\"], [0.3333333333333333, \"#9c179e\"], [0.4444444444444444, \"#bd3786\"], [0.5555555555555556, \"#d8576b\"], [0.6666666666666666, \"#ed7953\"], [0.7777777777777778, \"#fb9f3a\"], [0.8888888888888888, \"#fdca26\"], [1.0, \"#f0f921\"]], \"type\": \"surface\"}], \"table\": [{\"cells\": {\"fill\": {\"color\": \"#EBF0F8\"}, \"line\": {\"color\": \"white\"}}, \"header\": {\"fill\": {\"color\": \"#C8D4E3\"}, \"line\": {\"color\": \"white\"}}, \"type\": \"table\"}]}, \"layout\": {\"annotationdefaults\": {\"arrowcolor\": \"#2a3f5f\", \"arrowhead\": 0, \"arrowwidth\": 1}, \"coloraxis\": {\"colorbar\": {\"outlinewidth\": 0, \"ticks\": \"\"}}, \"colorscale\": {\"diverging\": [[0, \"#8e0152\"], [0.1, \"#c51b7d\"], [0.2, \"#de77ae\"], [0.3, \"#f1b6da\"], [0.4, \"#fde0ef\"], [0.5, \"#f7f7f7\"], [0.6, \"#e6f5d0\"], [0.7, \"#b8e186\"], [0.8, \"#7fbc41\"], [0.9, \"#4d9221\"], [1, \"#276419\"]], \"sequential\": [[0.0, \"#0d0887\"], [0.1111111111111111, \"#46039f\"], [0.2222222222222222, \"#7201a8\"], [0.3333333333333333, \"#9c179e\"], [0.4444444444444444, \"#bd3786\"], [0.5555555555555556, \"#d8576b\"], [0.6666666666666666, \"#ed7953\"], [0.7777777777777778, \"#fb9f3a\"], [0.8888888888888888, \"#fdca26\"], [1.0, \"#f0f921\"]], \"sequentialminus\": [[0.0, \"#0d0887\"], [0.1111111111111111, \"#46039f\"], [0.2222222222222222, \"#7201a8\"], [0.3333333333333333, \"#9c179e\"], [0.4444444444444444, \"#bd3786\"], [0.5555555555555556, \"#d8576b\"], [0.6666666666666666, \"#ed7953\"], [0.7777777777777778, \"#fb9f3a\"], [0.8888888888888888, \"#fdca26\"], [1.0, \"#f0f921\"]]}, \"colorway\": [\"#636efa\", \"#EF553B\", \"#00cc96\", \"#ab63fa\", \"#FFA15A\", \"#19d3f3\", \"#FF6692\", \"#B6E880\", \"#FF97FF\", \"#FECB52\"], \"font\": {\"color\": \"#2a3f5f\"}, \"geo\": {\"bgcolor\": \"white\", \"lakecolor\": \"white\", \"landcolor\": \"#E5ECF6\", \"showlakes\": true, \"showland\": true, \"subunitcolor\": \"white\"}, \"hoverlabel\": {\"align\": \"left\"}, \"hovermode\": \"closest\", \"mapbox\": {\"style\": \"light\"}, \"paper_bgcolor\": \"white\", \"plot_bgcolor\": \"#E5ECF6\", \"polar\": {\"angularaxis\": {\"gridcolor\": \"white\", \"linecolor\": \"white\", \"ticks\": \"\"}, \"bgcolor\": \"#E5ECF6\", \"radialaxis\": {\"gridcolor\": \"white\", \"linecolor\": \"white\", \"ticks\": \"\"}}, \"scene\": {\"xaxis\": {\"backgroundcolor\": \"#E5ECF6\", \"gridcolor\": \"white\", \"gridwidth\": 2, \"linecolor\": \"white\", \"showbackground\": true, \"ticks\": \"\", \"zerolinecolor\": \"white\"}, \"yaxis\": {\"backgroundcolor\": \"#E5ECF6\", \"gridcolor\": \"white\", \"gridwidth\": 2, \"linecolor\": \"white\", \"showbackground\": true, \"ticks\": \"\", \"zerolinecolor\": \"white\"}, \"zaxis\": {\"backgroundcolor\": \"#E5ECF6\", \"gridcolor\": \"white\", \"gridwidth\": 2, \"linecolor\": \"white\", \"showbackground\": true, \"ticks\": \"\", \"zerolinecolor\": \"white\"}}, \"shapedefaults\": {\"line\": {\"color\": \"#2a3f5f\"}}, \"ternary\": {\"aaxis\": {\"gridcolor\": \"white\", \"linecolor\": \"white\", \"ticks\": \"\"}, \"baxis\": {\"gridcolor\": \"white\", \"linecolor\": \"white\", \"ticks\": \"\"}, \"bgcolor\": \"#E5ECF6\", \"caxis\": {\"gridcolor\": \"white\", \"linecolor\": \"white\", \"ticks\": \"\"}}, \"title\": {\"x\": 0.05}, \"xaxis\": {\"automargin\": true, \"gridcolor\": \"white\", \"linecolor\": \"white\", \"ticks\": \"\", \"title\": {\"standoff\": 15}, \"zerolinecolor\": \"white\", \"zerolinewidth\": 2}, \"yaxis\": {\"automargin\": true, \"gridcolor\": \"white\", \"linecolor\": \"white\", \"ticks\": \"\", \"title\": {\"standoff\": 15}, \"zerolinecolor\": \"white\", \"zerolinewidth\": 2}}}, \"xaxis\": {\"anchor\": \"y\", \"domain\": [0.0, 1.0], \"title\": {\"text\": \"x\"}}, \"yaxis\": {\"anchor\": \"x\", \"domain\": [0.0, 1.0], \"title\": {\"text\": \"y\"}}},\n",
              "                        {\"responsive\": true}\n",
              "                    ).then(function(){\n",
              "                            \n",
              "var gd = document.getElementById('2c41614c-1c9b-49b0-ba73-3ef793825458');\n",
              "var x = new MutationObserver(function (mutations, observer) {{\n",
              "        var display = window.getComputedStyle(gd).display;\n",
              "        if (!display || display === 'none') {{\n",
              "            console.log([gd, 'removed!']);\n",
              "            Plotly.purge(gd);\n",
              "            observer.disconnect();\n",
              "        }}\n",
              "}});\n",
              "\n",
              "// Listen for the removal of the full notebook cells\n",
              "var notebookContainer = gd.closest('#notebook-container');\n",
              "if (notebookContainer) {{\n",
              "    x.observe(notebookContainer, {childList: true});\n",
              "}}\n",
              "\n",
              "// Listen for the clearing of the current output cell\n",
              "var outputEl = gd.closest('.output');\n",
              "if (outputEl) {{\n",
              "    x.observe(outputEl, {childList: true});\n",
              "}}\n",
              "\n",
              "                        })\n",
              "                };\n",
              "                \n",
              "            </script>\n",
              "        </div>\n",
              "</body>\n",
              "</html>"
            ]
          },
          "metadata": {}
        },
        {
          "output_type": "stream",
          "name": "stdout",
          "text": [
            "CPU times: user 54.5 s, sys: 443 ms, total: 54.9 s\n",
            "Wall time: 14.2 s\n"
          ]
        }
      ]
    },
    {
      "cell_type": "markdown",
      "metadata": {
        "id": "mobo5KWWN5wg"
      },
      "source": [
        "tsne-2.png"
      ]
    },
    {
      "cell_type": "code",
      "metadata": {
        "id": "40R_wKIKG9um"
      },
      "source": [
        "# Визуализация получается не очень, зато если по смотреть на примеры действий из каждого кластера можно выделить сущности свзанные с физической активностью, связанные с речью"
      ],
      "execution_count": null,
      "outputs": []
    },
    {
      "cell_type": "markdown",
      "metadata": {
        "id": "lXNCQ0vWHmNg"
      },
      "source": [
        "### Часть 2"
      ]
    },
    {
      "cell_type": "markdown",
      "metadata": {
        "id": "GZaOyQmPHol8"
      },
      "source": [
        "Не доделал CRF, кусок кода CNN-BiLSTM в блокноте part-2.ipynb"
      ]
    },
    {
      "cell_type": "markdown",
      "metadata": {
        "id": "1XZws3r_JmVF"
      },
      "source": [
        "## Часть 3"
      ]
    },
    {
      "cell_type": "markdown",
      "metadata": {
        "id": "gdkwiTELHj7G"
      },
      "source": [
        "В блокнотах part-3-*.ipynb"
      ]
    },
    {
      "cell_type": "markdown",
      "metadata": {
        "id": "ka6lYSU1H8pr"
      },
      "source": [
        "### Часть 5"
      ]
    },
    {
      "cell_type": "markdown",
      "metadata": {
        "id": "uJeYw1fUH-5H"
      },
      "source": [
        "Резюме: Провел эксплоративный анализ данных, реализовал BiLSTM, Bert+BiLSTM  для извлечения действий от BiLSTM получилось добиться лучших результатов, хотя и ее качество оставляет желать лучшего. Долго пришлось разбираться с LSTM и ее переобучением. Также попытался сделать модель CNN+BILSTM+CRF для извлечения сущностей, но не дописал модуль CRF, поэтому результатов получить не удалось.\n",
        "Помгли гугл и семинары, не хватило свободного времени и опыта работы с LSTM."
      ]
    }
  ]
}